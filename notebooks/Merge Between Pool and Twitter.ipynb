{
 "cells": [
  {
   "cell_type": "code",
   "execution_count": 1,
   "id": "e5c5d4ca",
   "metadata": {},
   "outputs": [],
   "source": [
    "import pandas as pd\n",
    "import numpy as np"
   ]
  },
  {
   "cell_type": "code",
   "execution_count": 2,
   "id": "7b8ad436",
   "metadata": {},
   "outputs": [],
   "source": [
    "df = pd.read_csv(\"df_rnn.csv\")\n",
    "df[\"created_at\"] = pd.to_datetime(df[\"created_at\"])"
   ]
  },
  {
   "cell_type": "code",
   "execution_count": 3,
   "id": "c790e51d",
   "metadata": {},
   "outputs": [],
   "source": [
    "df_pools = pd.read_csv(\"polls_data_updated.csv\")"
   ]
  },
  {
   "cell_type": "code",
   "execution_count": 4,
   "id": "488d4c3f",
   "metadata": {},
   "outputs": [],
   "source": [
    "df_twitter = df.groupby([pd.Grouper(key='created_at',freq='D'), \"party\"]).agg({\n",
    "    \"replies_count\": \"sum\", \n",
    "    \"retweets_count\": \"sum\",\n",
    "    \"likes_count\": \"sum\",\n",
    "    \"avg_len_of_tweet\": \"mean\" ,\n",
    "    \"share_of_tweets\" :\"mean\",\n",
    "    \"share_unique_users\": \"mean\",\n",
    "    \"weighted_sentiment\" : \"mean\",\n",
    "    \"share_of_positive_tweets\": \"mean\",\n",
    "    \"share_of_negative_tweets\" : \"mean\"}) "
   ]
  },
  {
   "cell_type": "code",
   "execution_count": 53,
   "id": "9f85cce7",
   "metadata": {
    "scrolled": true
   },
   "outputs": [],
   "source": [
    "df_pool = df_pools.drop(columns = \"Surveyed_Persons\")\n",
    "df_pool = df_pool.rename(columns = {\"Date\": \"created_at\", \"Linke\": \"LINKE\", \"AfD\" : \"AFD\", \"Grüne\" : \"GRUENE\", \"CDU/CSU\":\"CDU\"})\n",
    "df_pool[\"created_at\"] = pd.to_datetime(df_pool[\"created_at\"])\n",
    "df_pool = df_pool.set_index(\"created_at\")"
   ]
  },
  {
   "cell_type": "code",
   "execution_count": 54,
   "id": "e4bda71c",
   "metadata": {},
   "outputs": [],
   "source": [
    "df_pool = pd.DataFrame(df_pool.T.unstack(level = 0))"
   ]
  },
  {
   "cell_type": "code",
   "execution_count": 55,
   "id": "b56cbc15",
   "metadata": {
    "scrolled": true
   },
   "outputs": [],
   "source": [
    "df_pool.index = df_pool.index.set_names(['created_at', 'party'])"
   ]
  },
  {
   "cell_type": "code",
   "execution_count": 56,
   "id": "d1a7c23c",
   "metadata": {},
   "outputs": [],
   "source": [
    "df_final = df_pool.join(df_twitter, how = \"outer\")"
   ]
  },
  {
   "cell_type": "code",
   "execution_count": 69,
   "id": "f2e4dd93",
   "metadata": {},
   "outputs": [],
   "source": [
    "df_final = df_final.rename(columns = {0: \"Polls\"})"
   ]
  },
  {
   "cell_type": "code",
   "execution_count": 70,
   "id": "6641801f",
   "metadata": {},
   "outputs": [],
   "source": [
    "df_final.to_csv(\"df_merged.csv\")"
   ]
  },
  {
   "cell_type": "code",
   "execution_count": null,
   "id": "75f45635",
   "metadata": {},
   "outputs": [],
   "source": []
  }
 ],
 "metadata": {
  "kernelspec": {
   "display_name": "Python 3 (ipykernel)",
   "language": "python",
   "name": "python3"
  },
  "language_info": {
   "codemirror_mode": {
    "name": "ipython",
    "version": 3
   },
   "file_extension": ".py",
   "mimetype": "text/x-python",
   "name": "python",
   "nbconvert_exporter": "python",
   "pygments_lexer": "ipython3",
   "version": "3.8.6"
  },
  "toc": {
   "base_numbering": 1,
   "nav_menu": {},
   "number_sections": true,
   "sideBar": true,
   "skip_h1_title": false,
   "title_cell": "Table of Contents",
   "title_sidebar": "Contents",
   "toc_cell": false,
   "toc_position": {},
   "toc_section_display": true,
   "toc_window_display": false
  }
 },
 "nbformat": 4,
 "nbformat_minor": 5
}
