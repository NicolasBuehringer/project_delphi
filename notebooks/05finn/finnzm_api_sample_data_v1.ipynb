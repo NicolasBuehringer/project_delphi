{
 "cells": [
  {
   "cell_type": "code",
   "execution_count": 1,
   "id": "aab07b70",
   "metadata": {},
   "outputs": [],
   "source": [
    "import pandas as pd\n",
    "import numpy as np"
   ]
  },
  {
   "cell_type": "code",
   "execution_count": 5,
   "id": "8c072856",
   "metadata": {},
   "outputs": [],
   "source": [
    "pd.set_option(\"display.max_columns\", None)"
   ]
  },
  {
   "cell_type": "markdown",
   "id": "8d06de3e",
   "metadata": {},
   "source": [
    "# Load and Clean CSV with API Data"
   ]
  },
  {
   "cell_type": "markdown",
   "id": "e0554e75",
   "metadata": {},
   "source": [
    "## Function"
   ]
  },
  {
   "cell_type": "code",
   "execution_count": null,
   "id": "e1646823",
   "metadata": {},
   "outputs": [],
   "source": [
    "def cleaning(party, csv_path):\n",
    "    df = pd.read_csv(csv_path)\n",
    "    df = df.drop(columns=['Unnamed: 0',\n",
    "                              \"username\", \n",
    "                              \"name\", \n",
    "                              \"place\", \n",
    "                              \"urls\", \n",
    "                              \"photos\", \n",
    "                              \"cashtags\", \n",
    "                              \"retweet\", \n",
    "                              \"quote_url\",\n",
    "                              \"video\",\n",
    "                              \"thumbnail\", \n",
    "                              \"near\", \n",
    "                              \"source\", \n",
    "                              \"user_rt_id\", \n",
    "                              \"user_rt\", \n",
    "                              \"retweet_id\", \n",
    "                              \"reply_to\",  \n",
    "                              \"retweet_date\", \n",
    "                              \"translate\", \n",
    "                              \"trans_src\", \n",
    "                              \"trans_dest\",\n",
    "                              \"link\",\n",
    "                              \"geo\",\n",
    "                              \"time\",\n",
    "                              \"mentions\",\n",
    "                                 ])\n",
    "    df_party_name = df_party_name[(df_party_name.created_at.str.len() == 23) | (df_party_name.created_at.str.len() == 24)]\n",
    "    df_party_name['created_at'] = df_party_name['created_at'].str.replace('CEST','')\n",
    "    df_party_name['created_at'] = df_party_name['created_at'].str.replace('UTC','')\n",
    "    df_party_name[\"created_at\"] = pd.to_datetime(df_party_name[\"created_at\"])\n",
    "    df_party_name[\"date\"] = pd.to_datetime(df_party_name[\"date\"])\n",
    "    df_party_name = df_party_name.loc[(df_party_name['date'] >= \"2021-08-15 00:00:00\")]\n",
    "    df_party_name = df_party_name[(df_party_name.language == \"de\")]\n",
    "    df_party_name = df_party_name.drop_duplicates()\n",
    "    df_party_name.insert(loc=0, column=\"party\", value=party)\n",
    "    df_party_name = df_party_name.reset_index(drop=True)\n",
    "\n",
    "    return df_party_name"
   ]
  },
  {
   "cell_type": "code",
   "execution_count": 2,
   "id": "6e85e059",
   "metadata": {},
   "outputs": [],
   "source": [
    "df = pd.read_csv('/Users/finnzurmuehlen/Downloads/api_sample.csv')"
   ]
  },
  {
   "cell_type": "code",
   "execution_count": 4,
   "id": "415d9828",
   "metadata": {},
   "outputs": [
    {
     "data": {
      "text/html": [
       "<div>\n",
       "<style scoped>\n",
       "    .dataframe tbody tr th:only-of-type {\n",
       "        vertical-align: middle;\n",
       "    }\n",
       "\n",
       "    .dataframe tbody tr th {\n",
       "        vertical-align: top;\n",
       "    }\n",
       "\n",
       "    .dataframe thead th {\n",
       "        text-align: right;\n",
       "    }\n",
       "</style>\n",
       "<table border=\"1\" class=\"dataframe\">\n",
       "  <thead>\n",
       "    <tr style=\"text-align: right;\">\n",
       "      <th></th>\n",
       "      <th>Unnamed: 0</th>\n",
       "      <th>lang</th>\n",
       "      <th>created_at_x</th>\n",
       "      <th>text</th>\n",
       "      <th>source</th>\n",
       "      <th>author_id</th>\n",
       "      <th>tweet_id</th>\n",
       "      <th>retweet_count</th>\n",
       "      <th>reply_count</th>\n",
       "      <th>like_count</th>\n",
       "      <th>quote_count</th>\n",
       "      <th>followers_count</th>\n",
       "      <th>following_count</th>\n",
       "      <th>tweet_count</th>\n",
       "      <th>listed_count</th>\n",
       "      <th>user_id</th>\n",
       "      <th>created_at_y</th>\n",
       "      <th>username</th>\n",
       "      <th>name</th>\n",
       "    </tr>\n",
       "  </thead>\n",
       "  <tbody>\n",
       "    <tr>\n",
       "      <th>0</th>\n",
       "      <td>0</td>\n",
       "      <td>de</td>\n",
       "      <td>2021-08-24T23:51:34.000Z</td>\n",
       "      <td>RT @Der_Postillon: Glück gehabt: CDU muss nich...</td>\n",
       "      <td>Twitter for iPhone</td>\n",
       "      <td>1213365713533988865</td>\n",
       "      <td>1430316886303064065</td>\n",
       "      <td>791</td>\n",
       "      <td>0</td>\n",
       "      <td>0</td>\n",
       "      <td>0</td>\n",
       "      <td>138</td>\n",
       "      <td>325</td>\n",
       "      <td>17351</td>\n",
       "      <td>5</td>\n",
       "      <td>1263393503956078592</td>\n",
       "      <td>2020-05-21T08:58:58.000Z</td>\n",
       "      <td>kotzlpotzl</td>\n",
       "      <td>Kotzlpotzl</td>\n",
       "    </tr>\n",
       "  </tbody>\n",
       "</table>\n",
       "</div>"
      ],
      "text/plain": [
       "   Unnamed: 0 lang              created_at_x  \\\n",
       "0           0   de  2021-08-24T23:51:34.000Z   \n",
       "\n",
       "                                                text              source  \\\n",
       "0  RT @Der_Postillon: Glück gehabt: CDU muss nich...  Twitter for iPhone   \n",
       "\n",
       "             author_id             tweet_id  retweet_count  reply_count  \\\n",
       "0  1213365713533988865  1430316886303064065            791            0   \n",
       "\n",
       "   like_count  quote_count  followers_count  following_count  tweet_count  \\\n",
       "0           0            0              138              325        17351   \n",
       "\n",
       "   listed_count              user_id              created_at_y    username  \\\n",
       "0             5  1263393503956078592  2020-05-21T08:58:58.000Z  kotzlpotzl   \n",
       "\n",
       "         name  \n",
       "0  Kotzlpotzl  "
      ]
     },
     "execution_count": 4,
     "metadata": {},
     "output_type": "execute_result"
    }
   ],
   "source": [
    "df"
   ]
  },
  {
   "cell_type": "markdown",
   "id": "9666c0a9",
   "metadata": {},
   "source": []
  },
  {
   "cell_type": "code",
   "execution_count": 6,
   "id": "5ace54f6",
   "metadata": {},
   "outputs": [
    {
     "data": {
      "text/plain": [
       "542"
      ]
     },
     "execution_count": 6,
     "metadata": {},
     "output_type": "execute_result"
    }
   ],
   "source": [
    "len(\"\"\"query = (@cducsubt OR @CDU OR @ArminLaschet OR #Laschet OR #laschet OR #cdu OR #CDU OR CDU/CSU OR Laschet OR ) \n",
    "lang:de -is:retweet \n",
    "-#GRUENEN -@Die_Gruenen -Baerbock -@ABaerbock\n",
    "-#SPD -@spdde -Scholz -@OlafScholz\n",
    "-#AFD -@AfD -Weidel -@Alice_Weidel -Chrupalla -@Tino_Chrupalla\n",
    "-#FDP -@fdp -Lindner -@c_lindner\n",
    "-#DieLinke -@dieLinke -Wissler -@Janine_Wissler -Bartsch -@DietmarBartsch\n",
    "-#FreieWaehler -@FREIEWAEHLER_BV\n",
    "-#diePARTEI -@DiePARTEI\n",
    "-@Tierschutzparte -NPD -@Piratenpartei -#Piraten -#dieBasis -@diebasispartei -#Volt -@VoltDeutschland\"\"\")"
   ]
  },
  {
   "cell_type": "code",
   "execution_count": null,
   "id": "532ba7af",
   "metadata": {},
   "outputs": [],
   "source": []
  }
 ],
 "metadata": {
  "kernelspec": {
   "display_name": "Python 3 (ipykernel)",
   "language": "python",
   "name": "python3"
  },
  "language_info": {
   "codemirror_mode": {
    "name": "ipython",
    "version": 3
   },
   "file_extension": ".py",
   "mimetype": "text/x-python",
   "name": "python",
   "nbconvert_exporter": "python",
   "pygments_lexer": "ipython3",
   "version": "3.8.6"
  },
  "toc": {
   "base_numbering": 1,
   "nav_menu": {},
   "number_sections": true,
   "sideBar": true,
   "skip_h1_title": false,
   "title_cell": "Table of Contents",
   "title_sidebar": "Contents",
   "toc_cell": false,
   "toc_position": {},
   "toc_section_display": true,
   "toc_window_display": false
  }
 },
 "nbformat": 4,
 "nbformat_minor": 5
}
