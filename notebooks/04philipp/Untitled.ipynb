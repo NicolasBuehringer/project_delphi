{
 "cells": [
  {
   "cell_type": "code",
   "execution_count": 1,
   "id": "f2ab2f0e",
   "metadata": {},
   "outputs": [],
   "source": [
    "import pandas as pd\n",
    "import numpy as np"
   ]
  },
  {
   "cell_type": "code",
   "execution_count": null,
   "id": "744274d1",
   "metadata": {},
   "outputs": [],
   "source": [
    "def most_popular_tweets(df, tweet_date):\n",
    "    ''' Find and return the most liked/ most retweeted positive and negative tweets overall and per party\n",
    "    --> returns two df most_liked_tweets, most_retweeted_tweets '''\n",
    "\n",
    "    #Create empty dataframe for most likes and most retweeted tweets\n",
    "    most_liked_tweets = pd.DataFrame()\n",
    "    most_retweeted_tweets = pd.DataFrame()\n",
    "\n",
    "    # Create lists for iterations for party and sentiment\n",
    "    parties = ['CDU', 'SPD', 'GRUENE', 'FDP', 'LINKE', 'AFD', 'OTHER']\n",
    "    sentiments = [-2, 2]  #-2: negative, +2: positive\n",
    "\n",
    "    #Columns to keep\n",
    "    columns = [\n",
    "        'username', 'text', 'tweet_date', 'retweet_count', 'reply_count', 'like_count',\n",
    "        'sentiment', \"party\"\n",
    "    ]\n",
    "    #'username'\n",
    "\n",
    "    #Only keep relevant columns of Twitter dataframe\n",
    "    df = df[columns]\n",
    "\n",
    "    #Change to datemtime\n",
    "    df[\"tweet_date\"] = pd.to_datetime(df[\"tweet_date\"])\n",
    "\n",
    "    #Change format of datetime to 2021-08-25\n",
    "    df[\"tweet_date\"] = df[\"tweet_date\"].dt.strftime('%Y-%m-%d')\n",
    "\n",
    "    # Filter df for day of tweet\n",
    "    df = df[df[\"tweet_date\"] == tweet_date]\n",
    "\n",
    "    #Get most liked/ retweeted Tweets over all parties\n",
    "    for sentiment in sentiments:\n",
    "\n",
    "        #Filter for sentiment\n",
    "        tweets_tmp = df[df[\"sentiment\"] == sentiment].reset_index()\n",
    "\n",
    "        # Find tweet with most likes and concatenate to final df\n",
    "        most_liked_tweet = tweets_tmp.iloc[[tweets_tmp[\"like_count\"].idxmax()]]\n",
    "        most_liked_tweets = pd.concat([most_liked_tweets, most_liked_tweet],\n",
    "                                      ignore_index=True)\n",
    "        most_liked_tweets[\"party\"] = \"OVERALL\"\n",
    "\n",
    "        # Find tweet with most retweets and concatenate to final df\n",
    "        most_retweeted_tweet = tweets_tmp.iloc[[\n",
    "            tweets_tmp[\"retweet_count\"].idxmax()\n",
    "        ]]\n",
    "        most_retweeted_tweets = pd.concat(\n",
    "            [most_retweeted_tweets, most_retweeted_tweet], ignore_index=True)\n",
    "        most_retweeted_tweets[\"party\"] = \"OVERALL\"\n",
    "\n",
    "    #Get most liked/ retweeted Tweets for each party\n",
    "    for party in parties:\n",
    "\n",
    "        tweets_party_df = df[df[\"party\"] == party]\n",
    "\n",
    "        #Find tweets with most likes & most retweets per party and concatenate them to the final dfs\n",
    "        for sentiment in sentiments:\n",
    "\n",
    "            #Filter for sentiment\n",
    "            tweets_tmp = pd.DataFrame(tweets_party_df[\n",
    "                tweets_party_df[\"sentiment\"] == sentiment].reset_index())\n",
    "            \n",
    "            if party == \"OTHERS\" and sentiment == 2:\n",
    "                import ipdb\n",
    "                ipdb.set_trace()\n",
    "            \n",
    "            # Find tweet with most likes and concatenate to final df\n",
    "            most_liked_tweet = tweets_tmp.iloc[[\n",
    "                tweets_tmp[\"like_count\"].idxmax()\n",
    "            ]]\n",
    "            most_liked_tweets = pd.concat(\n",
    "                [most_liked_tweets, most_liked_tweet], ignore_index=True)\n",
    "\n",
    "            # Find tweet with most retweets and concatenate to final df\n",
    "            most_retweeted_tweet = tweets_tmp.iloc[[\n",
    "                tweets_tmp[\"retweet_count\"].idxmax()\n",
    "            ]]\n",
    "            most_retweeted_tweets = pd.concat(\n",
    "                [most_retweeted_tweets, most_retweeted_tweet],\n",
    "                ignore_index=True)\n",
    "\n",
    "    return most_liked_tweets, most_retweeted_tweets\n"
   ]
  },
  {
   "cell_type": "code",
   "execution_count": 3,
   "id": "e950bd42",
   "metadata": {},
   "outputs": [],
   "source": [
    "tweet_date = \"2021-08-31\""
   ]
  },
  {
   "cell_type": "code",
   "execution_count": 12,
   "id": "94652244",
   "metadata": {},
   "outputs": [],
   "source": [
    "data = pd.read_csv(\"/Users/philippheitmann/Downloads/fixing_bug.csv\" , lineterminator=\"\\n\")"
   ]
  },
  {
   "cell_type": "code",
   "execution_count": 19,
   "id": "1f5d4c69",
   "metadata": {
    "scrolled": true
   },
   "outputs": [
    {
     "data": {
      "text/html": [
       "<div>\n",
       "<style scoped>\n",
       "    .dataframe tbody tr th:only-of-type {\n",
       "        vertical-align: middle;\n",
       "    }\n",
       "\n",
       "    .dataframe tbody tr th {\n",
       "        vertical-align: top;\n",
       "    }\n",
       "\n",
       "    .dataframe thead th {\n",
       "        text-align: right;\n",
       "    }\n",
       "</style>\n",
       "<table border=\"1\" class=\"dataframe\">\n",
       "  <thead>\n",
       "    <tr style=\"text-align: right;\">\n",
       "      <th></th>\n",
       "      <th>index</th>\n",
       "      <th>party</th>\n",
       "      <th>tweet_date</th>\n",
       "      <th>author_id</th>\n",
       "      <th>tweet_id</th>\n",
       "      <th>text</th>\n",
       "      <th>source</th>\n",
       "      <th>retweet_count</th>\n",
       "      <th>reply_count</th>\n",
       "      <th>like_count</th>\n",
       "      <th>profile_creation_date</th>\n",
       "      <th>followers_count</th>\n",
       "      <th>following_count</th>\n",
       "      <th>user_tweet_count</th>\n",
       "      <th>location</th>\n",
       "      <th>sentiment</th>\n",
       "      <th>username</th>\n",
       "    </tr>\n",
       "  </thead>\n",
       "  <tbody>\n",
       "    <tr>\n",
       "      <th>155</th>\n",
       "      <td>269258</td>\n",
       "      <td>OTHERS</td>\n",
       "      <td>2021-08-30 21:59:53</td>\n",
       "      <td>1420778202952355840</td>\n",
       "      <td>1432463108908462084</td>\n",
       "      <td>Wtf ich liebe die NPD ??? https://t.co/i1aT9tz2sx</td>\n",
       "      <td>Twitter for iPhone</td>\n",
       "      <td>53</td>\n",
       "      <td>12</td>\n",
       "      <td>1020</td>\n",
       "      <td>2021-07-29 16:08:28</td>\n",
       "      <td>244</td>\n",
       "      <td>292</td>\n",
       "      <td>1370</td>\n",
       "      <td>Harbarnsen, Deutschland</td>\n",
       "      <td>2</td>\n",
       "      <td>Gaymer27714353</td>\n",
       "    </tr>\n",
       "  </tbody>\n",
       "</table>\n",
       "</div>"
      ],
      "text/plain": [
       "      index   party           tweet_date            author_id  \\\n",
       "155  269258  OTHERS  2021-08-30 21:59:53  1420778202952355840   \n",
       "\n",
       "                tweet_id                                               text  \\\n",
       "155  1432463108908462084  Wtf ich liebe die NPD ??? https://t.co/i1aT9tz2sx   \n",
       "\n",
       "                 source  retweet_count  reply_count  like_count  \\\n",
       "155  Twitter for iPhone             53           12        1020   \n",
       "\n",
       "    profile_creation_date  followers_count  following_count  user_tweet_count  \\\n",
       "155   2021-07-29 16:08:28              244              292              1370   \n",
       "\n",
       "                    location  sentiment        username  \n",
       "155  Harbarnsen, Deutschland          2  Gaymer27714353  "
      ]
     },
     "execution_count": 19,
     "metadata": {},
     "output_type": "execute_result"
    }
   ],
   "source": [
    "tweets_tmp = data[(data[\"sentiment\"]==2) & (data[\"party\"]==\"OTHERS\")].reset_index()\n",
    "tweets_tmp.iloc[[tweets_tmp[\"like_count\"].idxmax()]]"
   ]
  },
  {
   "cell_type": "code",
   "execution_count": null,
   "id": "d1e1a272",
   "metadata": {},
   "outputs": [
    {
     "name": "stderr",
     "output_type": "stream",
     "text": [
      "/var/folders/r8/ml9zphbs05z5wx9ykw9g7r_40000gn/T/ipykernel_4383/3449032246.py:24: SettingWithCopyWarning: \n",
      "A value is trying to be set on a copy of a slice from a DataFrame.\n",
      "Try using .loc[row_indexer,col_indexer] = value instead\n",
      "\n",
      "See the caveats in the documentation: https://pandas.pydata.org/pandas-docs/stable/user_guide/indexing.html#returning-a-view-versus-a-copy\n",
      "  df[\"tweet_date\"] = pd.to_datetime(df[\"tweet_date\"])\n",
      "/var/folders/r8/ml9zphbs05z5wx9ykw9g7r_40000gn/T/ipykernel_4383/3449032246.py:27: SettingWithCopyWarning: \n",
      "A value is trying to be set on a copy of a slice from a DataFrame.\n",
      "Try using .loc[row_indexer,col_indexer] = value instead\n",
      "\n",
      "See the caveats in the documentation: https://pandas.pydata.org/pandas-docs/stable/user_guide/indexing.html#returning-a-view-versus-a-copy\n",
      "  df[\"tweet_date\"] = df[\"tweet_date\"].dt.strftime('%Y-%m-%d')\n"
     ]
    },
    {
     "name": "stdout",
     "output_type": "stream",
     "text": [
      "> \u001b[0;32m/var/folders/r8/ml9zphbs05z5wx9ykw9g7r_40000gn/T/ipykernel_4383/3449032246.py\u001b[0m(68)\u001b[0;36mmost_popular_tweets\u001b[0;34m()\u001b[0m\n",
      "\u001b[0;32m     67 \u001b[0;31m            \u001b[0;31m# Find tweet with most likes and concatenate to final df\u001b[0m\u001b[0;34m\u001b[0m\u001b[0;34m\u001b[0m\u001b[0;34m\u001b[0m\u001b[0m\n",
      "\u001b[0m\u001b[0;32m---> 68 \u001b[0;31m            most_liked_tweet = tweets_tmp.iloc[[\n",
      "\u001b[0m\u001b[0;32m     69 \u001b[0;31m                \u001b[0mtweets_tmp\u001b[0m\u001b[0;34m[\u001b[0m\u001b[0;34m\"like_count\"\u001b[0m\u001b[0;34m]\u001b[0m\u001b[0;34m.\u001b[0m\u001b[0midxmax\u001b[0m\u001b[0;34m(\u001b[0m\u001b[0;34m)\u001b[0m\u001b[0;34m\u001b[0m\u001b[0;34m\u001b[0m\u001b[0m\n",
      "\u001b[0m\n"
     ]
    }
   ],
   "source": [
    "most_popular_tweets(data, tweet_date)"
   ]
  },
  {
   "cell_type": "code",
   "execution_count": null,
   "id": "8aeb0463",
   "metadata": {},
   "outputs": [],
   "source": []
  }
 ],
 "metadata": {
  "kernelspec": {
   "display_name": "Python 3 (ipykernel)",
   "language": "python",
   "name": "python3"
  },
  "language_info": {
   "codemirror_mode": {
    "name": "ipython",
    "version": 3
   },
   "file_extension": ".py",
   "mimetype": "text/x-python",
   "name": "python",
   "nbconvert_exporter": "python",
   "pygments_lexer": "ipython3",
   "version": "3.8.6"
  },
  "toc": {
   "base_numbering": 1,
   "nav_menu": {},
   "number_sections": true,
   "sideBar": true,
   "skip_h1_title": false,
   "title_cell": "Table of Contents",
   "title_sidebar": "Contents",
   "toc_cell": false,
   "toc_position": {},
   "toc_section_display": true,
   "toc_window_display": false
  }
 },
 "nbformat": 4,
 "nbformat_minor": 5
}
