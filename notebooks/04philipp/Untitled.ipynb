{
 "cells": [
  {
   "cell_type": "code",
   "execution_count": 1,
   "id": "b9eeebab",
   "metadata": {},
   "outputs": [],
   "source": [
    "import pandas as pd\n",
    "import numpy as np"
   ]
  },
  {
   "cell_type": "code",
   "execution_count": 30,
   "id": "dc2651aa",
   "metadata": {},
   "outputs": [],
   "source": [
    "test = pd.read_csv(\"/Users/philippheitmann/Downloads/streamlit_prediction_database_prediciton_2021_09_02.csv\")"
   ]
  },
  {
   "cell_type": "code",
   "execution_count": 31,
   "id": "84b85e4b",
   "metadata": {},
   "outputs": [
    {
     "data": {
      "text/html": [
       "<div>\n",
       "<style scoped>\n",
       "    .dataframe tbody tr th:only-of-type {\n",
       "        vertical-align: middle;\n",
       "    }\n",
       "\n",
       "    .dataframe tbody tr th {\n",
       "        vertical-align: top;\n",
       "    }\n",
       "\n",
       "    .dataframe thead th {\n",
       "        text-align: right;\n",
       "    }\n",
       "</style>\n",
       "<table border=\"1\" class=\"dataframe\">\n",
       "  <thead>\n",
       "    <tr style=\"text-align: right;\">\n",
       "      <th></th>\n",
       "      <th>Unnamed: 0</th>\n",
       "      <th>Unnamed: 0.1</th>\n",
       "      <th>AFD</th>\n",
       "      <th>CDU</th>\n",
       "      <th>GRUENE</th>\n",
       "      <th>FDP</th>\n",
       "      <th>SPD</th>\n",
       "      <th>LINKE</th>\n",
       "      <th>OTHER</th>\n",
       "    </tr>\n",
       "  </thead>\n",
       "  <tbody>\n",
       "    <tr>\n",
       "      <th>0</th>\n",
       "      <td>0</td>\n",
       "      <td>0</td>\n",
       "      <td>0.24</td>\n",
       "      <td>0.11</td>\n",
       "      <td>0.13</td>\n",
       "      <td>0.17</td>\n",
       "      <td>0.08</td>\n",
       "      <td>0.07</td>\n",
       "      <td>0.20</td>\n",
       "    </tr>\n",
       "    <tr>\n",
       "      <th>1</th>\n",
       "      <td>1</td>\n",
       "      <td>2021-09-01</td>\n",
       "      <td>0.10</td>\n",
       "      <td>0.25</td>\n",
       "      <td>0.18</td>\n",
       "      <td>0.12</td>\n",
       "      <td>0.21</td>\n",
       "      <td>0.06</td>\n",
       "      <td>0.07</td>\n",
       "    </tr>\n",
       "    <tr>\n",
       "      <th>2</th>\n",
       "      <td>2021-09-02</td>\n",
       "      <td>NaN</td>\n",
       "      <td>0.11</td>\n",
       "      <td>0.25</td>\n",
       "      <td>0.19</td>\n",
       "      <td>0.11</td>\n",
       "      <td>0.20</td>\n",
       "      <td>0.07</td>\n",
       "      <td>0.07</td>\n",
       "    </tr>\n",
       "  </tbody>\n",
       "</table>\n",
       "</div>"
      ],
      "text/plain": [
       "   Unnamed: 0 Unnamed: 0.1   AFD   CDU  GRUENE   FDP   SPD  LINKE  OTHER\n",
       "0           0            0  0.24  0.11    0.13  0.17  0.08   0.07   0.20\n",
       "1           1   2021-09-01  0.10  0.25    0.18  0.12  0.21   0.06   0.07\n",
       "2  2021-09-02          NaN  0.11  0.25    0.19  0.11  0.20   0.07   0.07"
      ]
     },
     "execution_count": 31,
     "metadata": {},
     "output_type": "execute_result"
    }
   ],
   "source": [
    "test"
   ]
  },
  {
   "cell_type": "code",
   "execution_count": 5,
   "id": "61143ee5",
   "metadata": {},
   "outputs": [
    {
     "data": {
      "text/plain": [
       "'2021-09-01'"
      ]
     },
     "execution_count": 5,
     "metadata": {},
     "output_type": "execute_result"
    }
   ],
   "source": [
    "test = test.iloc[1][\"Unnamed: 0.1\"]"
   ]
  },
  {
   "cell_type": "code",
   "execution_count": 6,
   "id": "83e0c7e0",
   "metadata": {},
   "outputs": [
    {
     "data": {
      "text/html": [
       "<div>\n",
       "<style scoped>\n",
       "    .dataframe tbody tr th:only-of-type {\n",
       "        vertical-align: middle;\n",
       "    }\n",
       "\n",
       "    .dataframe tbody tr th {\n",
       "        vertical-align: top;\n",
       "    }\n",
       "\n",
       "    .dataframe thead th {\n",
       "        text-align: right;\n",
       "    }\n",
       "</style>\n",
       "<table border=\"1\" class=\"dataframe\">\n",
       "  <thead>\n",
       "    <tr style=\"text-align: right;\">\n",
       "      <th></th>\n",
       "      <th>Unnamed: 0</th>\n",
       "      <th>Unnamed: 0.1</th>\n",
       "      <th>AFD</th>\n",
       "      <th>CDU</th>\n",
       "      <th>GRUENE</th>\n",
       "      <th>FDP</th>\n",
       "      <th>SPD</th>\n",
       "      <th>LINKE</th>\n",
       "      <th>OTHER</th>\n",
       "    </tr>\n",
       "  </thead>\n",
       "  <tbody>\n",
       "    <tr>\n",
       "      <th>0</th>\n",
       "      <td>0</td>\n",
       "      <td>0</td>\n",
       "      <td>0.24</td>\n",
       "      <td>0.11</td>\n",
       "      <td>0.13</td>\n",
       "      <td>0.17</td>\n",
       "      <td>0.08</td>\n",
       "      <td>0.07</td>\n",
       "      <td>0.20</td>\n",
       "    </tr>\n",
       "    <tr>\n",
       "      <th>1</th>\n",
       "      <td>1</td>\n",
       "      <td>2021-09-01</td>\n",
       "      <td>0.10</td>\n",
       "      <td>0.25</td>\n",
       "      <td>0.18</td>\n",
       "      <td>0.12</td>\n",
       "      <td>0.21</td>\n",
       "      <td>0.06</td>\n",
       "      <td>0.07</td>\n",
       "    </tr>\n",
       "    <tr>\n",
       "      <th>2</th>\n",
       "      <td>2021-09-02</td>\n",
       "      <td>NaN</td>\n",
       "      <td>0.11</td>\n",
       "      <td>0.25</td>\n",
       "      <td>0.19</td>\n",
       "      <td>0.11</td>\n",
       "      <td>0.20</td>\n",
       "      <td>0.07</td>\n",
       "      <td>0.07</td>\n",
       "    </tr>\n",
       "  </tbody>\n",
       "</table>\n",
       "</div>"
      ],
      "text/plain": [
       "   Unnamed: 0 Unnamed: 0.1   AFD   CDU  GRUENE   FDP   SPD  LINKE  OTHER\n",
       "0           0            0  0.24  0.11    0.13  0.17  0.08   0.07   0.20\n",
       "1           1   2021-09-01  0.10  0.25    0.18  0.12  0.21   0.06   0.07\n",
       "2  2021-09-02          NaN  0.11  0.25    0.19  0.11  0.20   0.07   0.07"
      ]
     },
     "execution_count": 6,
     "metadata": {},
     "output_type": "execute_result"
    }
   ],
   "source": [
    "test"
   ]
  },
  {
   "cell_type": "code",
   "execution_count": null,
   "id": "dc1042b1",
   "metadata": {},
   "outputs": [],
   "source": []
  },
  {
   "cell_type": "code",
   "execution_count": 7,
   "id": "a28f97bb",
   "metadata": {},
   "outputs": [],
   "source": [
    "def merge_date(df_prediction_2):\n",
    "\n",
    "    prediction_date = get_date_n_days_ago().replace(\"_\",\"-\")\n",
    "\n",
    "    #df_prediction_2.index = [prediction_date]\n",
    "    df_prediction_2[\"Unnamed: 0\"] = prediction_date\n",
    "\n",
    "    return df_prediction_2"
   ]
  },
  {
   "cell_type": "code",
   "execution_count": 9,
   "id": "f498b066",
   "metadata": {},
   "outputs": [],
   "source": [
    "test.drop(columns=[\"Unnamed: 0\", \"Unnamed: 0.1\"], inplace = True)"
   ]
  },
  {
   "cell_type": "code",
   "execution_count": 11,
   "id": "f87e8160",
   "metadata": {},
   "outputs": [],
   "source": [
    "prediction = test"
   ]
  },
  {
   "cell_type": "code",
   "execution_count": 18,
   "id": "b52f86c0",
   "metadata": {},
   "outputs": [
    {
     "data": {
      "text/html": [
       "<div>\n",
       "<style scoped>\n",
       "    .dataframe tbody tr th:only-of-type {\n",
       "        vertical-align: middle;\n",
       "    }\n",
       "\n",
       "    .dataframe tbody tr th {\n",
       "        vertical-align: top;\n",
       "    }\n",
       "\n",
       "    .dataframe thead th {\n",
       "        text-align: right;\n",
       "    }\n",
       "</style>\n",
       "<table border=\"1\" class=\"dataframe\">\n",
       "  <thead>\n",
       "    <tr style=\"text-align: right;\">\n",
       "      <th></th>\n",
       "      <th>AFD</th>\n",
       "      <th>CDU</th>\n",
       "      <th>GRUENE</th>\n",
       "      <th>FDP</th>\n",
       "      <th>SPD</th>\n",
       "      <th>LINKE</th>\n",
       "      <th>OTHER</th>\n",
       "    </tr>\n",
       "  </thead>\n",
       "  <tbody>\n",
       "    <tr>\n",
       "      <th>2021-09-01</th>\n",
       "      <td>0.1</td>\n",
       "      <td>0.25</td>\n",
       "      <td>0.18</td>\n",
       "      <td>0.12</td>\n",
       "      <td>0.21</td>\n",
       "      <td>0.06</td>\n",
       "      <td>0.07</td>\n",
       "    </tr>\n",
       "  </tbody>\n",
       "</table>\n",
       "</div>"
      ],
      "text/plain": [
       "            AFD   CDU  GRUENE   FDP   SPD  LINKE  OTHER\n",
       "2021-09-01  0.1  0.25    0.18  0.12  0.21   0.06   0.07"
      ]
     },
     "execution_count": 18,
     "metadata": {},
     "output_type": "execute_result"
    }
   ],
   "source": [
    "yes = prediction.iloc[[1]]\n",
    "yes.index = [\"2021-09-01\"]\n",
    "yes"
   ]
  },
  {
   "cell_type": "code",
   "execution_count": 19,
   "id": "6fe431f6",
   "metadata": {},
   "outputs": [
    {
     "data": {
      "text/html": [
       "<div>\n",
       "<style scoped>\n",
       "    .dataframe tbody tr th:only-of-type {\n",
       "        vertical-align: middle;\n",
       "    }\n",
       "\n",
       "    .dataframe tbody tr th {\n",
       "        vertical-align: top;\n",
       "    }\n",
       "\n",
       "    .dataframe thead th {\n",
       "        text-align: right;\n",
       "    }\n",
       "</style>\n",
       "<table border=\"1\" class=\"dataframe\">\n",
       "  <thead>\n",
       "    <tr style=\"text-align: right;\">\n",
       "      <th></th>\n",
       "      <th>AFD</th>\n",
       "      <th>CDU</th>\n",
       "      <th>GRUENE</th>\n",
       "      <th>FDP</th>\n",
       "      <th>SPD</th>\n",
       "      <th>LINKE</th>\n",
       "      <th>OTHER</th>\n",
       "    </tr>\n",
       "  </thead>\n",
       "  <tbody>\n",
       "    <tr>\n",
       "      <th>2021-09-02</th>\n",
       "      <td>0.11</td>\n",
       "      <td>0.25</td>\n",
       "      <td>0.19</td>\n",
       "      <td>0.11</td>\n",
       "      <td>0.2</td>\n",
       "      <td>0.07</td>\n",
       "      <td>0.07</td>\n",
       "    </tr>\n",
       "  </tbody>\n",
       "</table>\n",
       "</div>"
      ],
      "text/plain": [
       "             AFD   CDU  GRUENE   FDP  SPD  LINKE  OTHER\n",
       "2021-09-02  0.11  0.25    0.19  0.11  0.2   0.07   0.07"
      ]
     },
     "execution_count": 19,
     "metadata": {},
     "output_type": "execute_result"
    }
   ],
   "source": [
    "today = prediction.iloc[[2]]\n",
    "today.index = [\"2021-09-02\"]\n",
    "today"
   ]
  },
  {
   "cell_type": "code",
   "execution_count": 25,
   "id": "3e3a82d1",
   "metadata": {},
   "outputs": [],
   "source": [
    "today.index.name = \"Date\""
   ]
  },
  {
   "cell_type": "code",
   "execution_count": 26,
   "id": "7b0071fd",
   "metadata": {},
   "outputs": [
    {
     "data": {
      "text/html": [
       "<div>\n",
       "<style scoped>\n",
       "    .dataframe tbody tr th:only-of-type {\n",
       "        vertical-align: middle;\n",
       "    }\n",
       "\n",
       "    .dataframe tbody tr th {\n",
       "        vertical-align: top;\n",
       "    }\n",
       "\n",
       "    .dataframe thead th {\n",
       "        text-align: right;\n",
       "    }\n",
       "</style>\n",
       "<table border=\"1\" class=\"dataframe\">\n",
       "  <thead>\n",
       "    <tr style=\"text-align: right;\">\n",
       "      <th></th>\n",
       "      <th>AFD</th>\n",
       "      <th>CDU</th>\n",
       "      <th>GRUENE</th>\n",
       "      <th>FDP</th>\n",
       "      <th>SPD</th>\n",
       "      <th>LINKE</th>\n",
       "      <th>OTHER</th>\n",
       "    </tr>\n",
       "    <tr>\n",
       "      <th>Date</th>\n",
       "      <th></th>\n",
       "      <th></th>\n",
       "      <th></th>\n",
       "      <th></th>\n",
       "      <th></th>\n",
       "      <th></th>\n",
       "      <th></th>\n",
       "    </tr>\n",
       "  </thead>\n",
       "  <tbody>\n",
       "    <tr>\n",
       "      <th>2021-09-02</th>\n",
       "      <td>0.11</td>\n",
       "      <td>0.25</td>\n",
       "      <td>0.19</td>\n",
       "      <td>0.11</td>\n",
       "      <td>0.2</td>\n",
       "      <td>0.07</td>\n",
       "      <td>0.07</td>\n",
       "    </tr>\n",
       "  </tbody>\n",
       "</table>\n",
       "</div>"
      ],
      "text/plain": [
       "             AFD   CDU  GRUENE   FDP  SPD  LINKE  OTHER\n",
       "Date                                                   \n",
       "2021-09-02  0.11  0.25    0.19  0.11  0.2   0.07   0.07"
      ]
     },
     "execution_count": 26,
     "metadata": {},
     "output_type": "execute_result"
    }
   ],
   "source": [
    "today"
   ]
  },
  {
   "cell_type": "code",
   "execution_count": 27,
   "id": "50cdb8bc",
   "metadata": {},
   "outputs": [],
   "source": [
    "yes.to_csv(\"/Users/philippheitmann/Downloads/yesterday.csv\")"
   ]
  },
  {
   "cell_type": "code",
   "execution_count": 28,
   "id": "7b2b19f5",
   "metadata": {},
   "outputs": [],
   "source": [
    "today.to_csv(\"/Users/philippheitmann/Downloads/today.csv\")"
   ]
  },
  {
   "cell_type": "code",
   "execution_count": 29,
   "id": "3224634a",
   "metadata": {},
   "outputs": [
    {
     "data": {
      "text/html": [
       "<div>\n",
       "<style scoped>\n",
       "    .dataframe tbody tr th:only-of-type {\n",
       "        vertical-align: middle;\n",
       "    }\n",
       "\n",
       "    .dataframe tbody tr th {\n",
       "        vertical-align: top;\n",
       "    }\n",
       "\n",
       "    .dataframe thead th {\n",
       "        text-align: right;\n",
       "    }\n",
       "</style>\n",
       "<table border=\"1\" class=\"dataframe\">\n",
       "  <thead>\n",
       "    <tr style=\"text-align: right;\">\n",
       "      <th></th>\n",
       "      <th>AFD</th>\n",
       "      <th>CDU</th>\n",
       "      <th>GRUENE</th>\n",
       "      <th>FDP</th>\n",
       "      <th>SPD</th>\n",
       "      <th>LINKE</th>\n",
       "      <th>OTHER</th>\n",
       "    </tr>\n",
       "    <tr>\n",
       "      <th>Date</th>\n",
       "      <th></th>\n",
       "      <th></th>\n",
       "      <th></th>\n",
       "      <th></th>\n",
       "      <th></th>\n",
       "      <th></th>\n",
       "      <th></th>\n",
       "    </tr>\n",
       "  </thead>\n",
       "  <tbody>\n",
       "    <tr>\n",
       "      <th>2021-09-01</th>\n",
       "      <td>0.1</td>\n",
       "      <td>0.25</td>\n",
       "      <td>0.18</td>\n",
       "      <td>0.12</td>\n",
       "      <td>0.21</td>\n",
       "      <td>0.06</td>\n",
       "      <td>0.07</td>\n",
       "    </tr>\n",
       "  </tbody>\n",
       "</table>\n",
       "</div>"
      ],
      "text/plain": [
       "            AFD   CDU  GRUENE   FDP   SPD  LINKE  OTHER\n",
       "Date                                                   \n",
       "2021-09-01  0.1  0.25    0.18  0.12  0.21   0.06   0.07"
      ]
     },
     "execution_count": 29,
     "metadata": {},
     "output_type": "execute_result"
    }
   ],
   "source": [
    "pd.read_csv(\"/Users/philippheitmann/Downloads/yesterday.csv\", index_col=\"Date\" )"
   ]
  },
  {
   "cell_type": "code",
   "execution_count": null,
   "id": "0ab1f9d1",
   "metadata": {},
   "outputs": [],
   "source": []
  },
  {
   "cell_type": "code",
   "execution_count": null,
   "id": "c0317396",
   "metadata": {},
   "outputs": [],
   "source": []
  },
  {
   "cell_type": "code",
   "execution_count": null,
   "id": "9209419e",
   "metadata": {},
   "outputs": [],
   "source": []
  },
  {
   "cell_type": "code",
   "execution_count": null,
   "id": "0efe51c5",
   "metadata": {},
   "outputs": [],
   "source": []
  },
  {
   "cell_type": "code",
   "execution_count": 55,
   "id": "d97240d3",
   "metadata": {},
   "outputs": [
    {
     "data": {
      "text/html": [
       "<div>\n",
       "<style scoped>\n",
       "    .dataframe tbody tr th:only-of-type {\n",
       "        vertical-align: middle;\n",
       "    }\n",
       "\n",
       "    .dataframe tbody tr th {\n",
       "        vertical-align: top;\n",
       "    }\n",
       "\n",
       "    .dataframe thead th {\n",
       "        text-align: right;\n",
       "    }\n",
       "</style>\n",
       "<table border=\"1\" class=\"dataframe\">\n",
       "  <thead>\n",
       "    <tr style=\"text-align: right;\">\n",
       "      <th></th>\n",
       "      <th>AFD</th>\n",
       "      <th>CDU</th>\n",
       "      <th>GRUENE</th>\n",
       "      <th>FDP</th>\n",
       "      <th>SPD</th>\n",
       "      <th>LINKE</th>\n",
       "      <th>OTHER</th>\n",
       "    </tr>\n",
       "  </thead>\n",
       "  <tbody>\n",
       "    <tr>\n",
       "      <th>0</th>\n",
       "      <td>0.24</td>\n",
       "      <td>0.11</td>\n",
       "      <td>0.13</td>\n",
       "      <td>0.17</td>\n",
       "      <td>0.08</td>\n",
       "      <td>0.07</td>\n",
       "      <td>0.20</td>\n",
       "    </tr>\n",
       "    <tr>\n",
       "      <th>2021-09-01</th>\n",
       "      <td>0.10</td>\n",
       "      <td>0.25</td>\n",
       "      <td>0.18</td>\n",
       "      <td>0.12</td>\n",
       "      <td>0.21</td>\n",
       "      <td>0.06</td>\n",
       "      <td>0.07</td>\n",
       "    </tr>\n",
       "  </tbody>\n",
       "</table>\n",
       "</div>"
      ],
      "text/plain": [
       "             AFD   CDU  GRUENE   FDP   SPD  LINKE  OTHER\n",
       "0           0.24  0.11    0.13  0.17  0.08   0.07   0.20\n",
       "2021-09-01  0.10  0.25    0.18  0.12  0.21   0.06   0.07"
      ]
     },
     "execution_count": 55,
     "metadata": {},
     "output_type": "execute_result"
    }
   ],
   "source": [
    "test = pd.read_csv(\"/Users/philippheitmann/Downloads/streamlit_prediction_database_prediciton_2021_09_01 (4).csv\", index_col=\"Unnamed: 0\")\n",
    "test"
   ]
  },
  {
   "cell_type": "code",
   "execution_count": 59,
   "id": "604cf58f",
   "metadata": {},
   "outputs": [
    {
     "data": {
      "text/plain": [
       "0             24.0\n",
       "2021-09-01    10.0\n",
       "Name: AFD, dtype: float64"
      ]
     },
     "execution_count": 59,
     "metadata": {},
     "output_type": "execute_result"
    }
   ],
   "source": [
    "test[\"AFD\"]*100"
   ]
  },
  {
   "cell_type": "code",
   "execution_count": 53,
   "id": "41978b75",
   "metadata": {},
   "outputs": [
    {
     "data": {
      "text/plain": [
       "16"
      ]
     },
     "execution_count": 53,
     "metadata": {},
     "output_type": "execute_result"
    }
   ],
   "source": [
    "len([\"black\" for i in range(8)] + [\"white\" for i in range(8)])\n"
   ]
  },
  {
   "cell_type": "code",
   "execution_count": 50,
   "id": "3eef05ec",
   "metadata": {},
   "outputs": [
    {
     "data": {
      "text/plain": [
       "16"
      ]
     },
     "execution_count": 50,
     "metadata": {},
     "output_type": "execute_result"
    }
   ],
   "source": [
    "len([\n",
    "    \"gold\",\n",
    "    \"gold\",\n",
    "    \"gold\",\n",
    "    \"gold\",\n",
    "    \"gold\",\n",
    "    \"gold\",\n",
    "    \"gold\",\n",
    "    \"gold\",\n",
    "    \"black\",\n",
    "    \"black\",\n",
    "    \"black\",\n",
    "    \"black\",\n",
    "    \"black\",\n",
    "    \"black\",\n",
    "    \"black\",\n",
    "    \"black\",\n",
    "])"
   ]
  },
  {
   "cell_type": "code",
   "execution_count": 2,
   "id": "d05da68d",
   "metadata": {},
   "outputs": [],
   "source": [
    "def most_popular_tweets(df, tweet_date):\n",
    "    ''' Find and return the most liked/ most retweeted positive and negative tweets overall and per party\n",
    "    --> returns two df most_liked_tweets, most_retweeted_tweets '''\n",
    "\n",
    "    #Create empty dataframe for most likes and most retweeted tweets\n",
    "    most_liked_tweets = pd.DataFrame()\n",
    "    most_retweeted_tweets = pd.DataFrame()\n",
    "\n",
    "    # Create lists for iterations for party and sentiment\n",
    "    parties = ['CDU', 'SPD', 'GRUENE', 'FDP', 'LINKE', 'AFD', 'OTHER']\n",
    "    sentiments = [-2, 2]  #-2: negative, +2: positive\n",
    "\n",
    "    #Columns to keep\n",
    "    columns = [\n",
    "        'username', 'text', 'tweet_date', 'retweet_count', 'reply_count', 'like_count',\n",
    "        'sentiment', \"party\"\n",
    "    ]\n",
    "    #'username'\n",
    "    \n",
    "    # Clean dataset columns:\n",
    "    df[\"retweet_count\"] = df[\"retweet_count\"].astype(int)\n",
    "    df[\"reply_count\"] = df[\"reply_count\"].astype(int)\n",
    "    df[\"like_count\"] = df[\"like_count\"].astype(int)\n",
    "    df[\"sentiment\"] = df[\"sentiment\"].astype(int)\n",
    "    \n",
    "    #Only keep relevant columns of Twitter dataframe\n",
    "    df = df[columns]\n",
    "\n",
    "    #Change to datemtime\n",
    "    df[\"tweet_date\"] = pd.to_datetime(df[\"tweet_date\"])\n",
    "\n",
    "    #Change format of datetime to 2021-08-25\n",
    "    df[\"tweet_date\"] = df[\"tweet_date\"].dt.strftime('%Y-%m-%d')\n",
    "\n",
    "    # Filter df for day of tweet\n",
    "    df = df[df[\"tweet_date\"] == tweet_date]\n",
    "\n",
    "    #Get most liked/ retweeted Tweets over all parties\n",
    "    for sentiment in sentiments:\n",
    "\n",
    "        #Filter for sentiment\n",
    "        tweets_tmp = df[df[\"sentiment\"] == sentiment].reset_index()\n",
    "\n",
    "        # Find tweet with most likes and concatenate to final df\n",
    "        most_liked_tweet = tweets_tmp.iloc[[tweets_tmp[\"like_count\"].idxmax()]]\n",
    "        most_liked_tweets = pd.concat([most_liked_tweets, most_liked_tweet],\n",
    "                                      ignore_index=True)\n",
    "        most_liked_tweets[\"party\"] = \"OVERALL\"\n",
    "\n",
    "        # Find tweet with most retweets and concatenate to final df\n",
    "        most_retweeted_tweet = tweets_tmp.iloc[[\n",
    "            tweets_tmp[\"retweet_count\"].idxmax()\n",
    "        ]]\n",
    "        most_retweeted_tweets = pd.concat(\n",
    "            [most_retweeted_tweets, most_retweeted_tweet], ignore_index=True)\n",
    "        most_retweeted_tweets[\"party\"] = \"OVERALL\"\n",
    "\n",
    "    #Get most liked/ retweeted Tweets for each party\n",
    "    for party in parties:\n",
    "        \n",
    "        #if party == \"OTHER\":\n",
    "        #    import ipdb\n",
    "        #    ipdb.set_trace()\n",
    "\n",
    "        tweets_party_df = df[df[\"party\"] == party]\n",
    "\n",
    "        #Find tweets with most likes & most retweets per party and concatenate them to the final dfs\n",
    "        for sentiment in sentiments:\n",
    "            \n",
    "            \n",
    "            #Filter for sentiment\n",
    "            tweets_tmp = pd.DataFrame(tweets_party_df[\n",
    "                tweets_party_df[\"sentiment\"] == sentiment].reset_index())\n",
    "            \n",
    "\n",
    "            \n",
    "            # Find tweet with most likes and concatenate to final df\n",
    "            most_liked_tweet = tweets_tmp.iloc[[\n",
    "                tweets_tmp[\"like_count\"].idxmax()\n",
    "            ]]\n",
    "            most_liked_tweets = pd.concat(\n",
    "                [most_liked_tweets, most_liked_tweet], ignore_index=True)\n",
    "\n",
    "            # Find tweet with most retweets and concatenate to final df\n",
    "            most_retweeted_tweet = tweets_tmp.iloc[[\n",
    "                tweets_tmp[\"retweet_count\"].idxmax()\n",
    "            ]]\n",
    "            most_retweeted_tweets = pd.concat(\n",
    "                [most_retweeted_tweets, most_retweeted_tweet],\n",
    "                ignore_index=True)\n",
    "\n",
    "    return most_liked_tweets, most_retweeted_tweets\n"
   ]
  },
  {
   "cell_type": "code",
   "execution_count": 8,
   "id": "68c2bd6a",
   "metadata": {},
   "outputs": [],
   "source": [
    "def load_and_clean_csv(df):\n",
    "    '''\n",
    "    Function loads DF data from the Twitter API+Sentiment and returns a cleaned DF\n",
    "    '''\n",
    "    #import ipdb\n",
    "    #ipdb.set_trace()\n",
    "    # rename columns\n",
    "    df = df.rename(columns={\"tweet_created_at\": \"tweet_date\",\n",
    "                                \"public_metrics.retweet_count\": \"retweet_count\",\n",
    "                                \"public_metrics.reply_count\": \"reply_count\",\n",
    "                                \"public_metrics.like_count\": \"like_count\",\n",
    "                                \"profile_created_at\": \"profile_creation_date\",\n",
    "                                \"public_metrics.followers_count\": \"followers_count\",\n",
    "                                \"public_metrics.following_count\": \"following_count\",\n",
    "                                \"public_metrics.tweet_count\": \"user_tweet_count\"\n",
    "                                })\n",
    "\n",
    "    # Including only columns that we want to use in the future\n",
    "    df = df[['party',\n",
    "                'tweet_date',\n",
    "                'author_id',\n",
    "                'tweet_id',\n",
    "                'text',\n",
    "                'source',\n",
    "                'retweet_count',\n",
    "                'reply_count',\n",
    "                'like_count',\n",
    "                'profile_creation_date',\n",
    "                'followers_count',\n",
    "                'following_count',\n",
    "                'user_tweet_count',\n",
    "                'location',\n",
    "                'sentiment',\n",
    "                'username'\n",
    "                ]]\n",
    "\n",
    "    # Clean dataset columns:\n",
    "    # Change dtype\n",
    "    df[\"tweet_date\"] = df[\"tweet_date\"].astype(str)\n",
    "    #df = df[df.tweet_date.str.match('(\\d{4}-\\d{2}-\\d{2}.\\d{2}:\\d{2}:\\d{2})')]\n",
    "    #df = df[(df.tweet_date.str.len() == 23) | (df.tweet_date.str.len() == 24)]\n",
    "    df['tweet_date'] = df['tweet_date'].str.slice(0,19)\n",
    "    df[\"tweet_date\"] = pd.to_datetime(df[\"tweet_date\"])\n",
    "\n",
    "    df[\"party\"] = df[\"party\"].astype(str)\n",
    "    df[\"profile_creation_date\"] = df[\"profile_creation_date\"].astype(str)\n",
    "    df = df[df.profile_creation_date.str.match(\n",
    "        '(\\d{4}-\\d{2}-\\d{2}.\\d{2}:\\d{2}:\\d{2})')]\n",
    "    df['profile_creation_date'] = df['profile_creation_date'].str.slice(0,19)\n",
    "    df[\"profile_creation_date\"] = pd.to_datetime(df[\"profile_creation_date\"])\n",
    "    # Drop duplicates\n",
    "    #df = df.drop_duplicates()\n",
    "    # Transform sentiment to numeric type\n",
    "    dict_to_numeric = {\"negative\": -2, \"neutral\": 1, \"positive\": 2}\n",
    "    df[\"sentiment\"].replace(dict_to_numeric, inplace=True)\n",
    "\n",
    "    return df"
   ]
  },
  {
   "cell_type": "code",
   "execution_count": 9,
   "id": "22d09441",
   "metadata": {},
   "outputs": [],
   "source": [
    "tweet_date = \"2021-08-31\""
   ]
  },
  {
   "cell_type": "code",
   "execution_count": 10,
   "id": "320284d1",
   "metadata": {},
   "outputs": [],
   "source": [
    "data1 = pd.read_csv(\"/Users/philippheitmann/Downloads/tweet_database_08_31.csv\" , lineterminator=\"\\n\")"
   ]
  },
  {
   "cell_type": "code",
   "execution_count": 11,
   "id": "c1a1d227",
   "metadata": {},
   "outputs": [],
   "source": [
    "#from project_delphi.features import load_and_clean_csv"
   ]
  },
  {
   "cell_type": "code",
   "execution_count": 62,
   "id": "41886cd3",
   "metadata": {},
   "outputs": [
    {
     "data": {
      "text/plain": [
       "276129"
      ]
     },
     "execution_count": 62,
     "metadata": {},
     "output_type": "execute_result"
    }
   ],
   "source": [
    "data1.shape[0]"
   ]
  },
  {
   "cell_type": "code",
   "execution_count": 76,
   "id": "6ce3bba6",
   "metadata": {},
   "outputs": [],
   "source": [
    "tdata = pd.DataFrame({\"no_tweets_today\": data1.shape[0], \"no_tweets_total\":1_000_000}, index=[0])"
   ]
  },
  {
   "cell_type": "code",
   "execution_count": 79,
   "id": "221c26d8",
   "metadata": {},
   "outputs": [],
   "source": [
    "tdata.to_csv(\"../../raw_data/no_of_tweets.csv\", index=False)"
   ]
  },
  {
   "cell_type": "code",
   "execution_count": 89,
   "id": "ddec4987",
   "metadata": {},
   "outputs": [
    {
     "data": {
      "text/html": [
       "<div>\n",
       "<style scoped>\n",
       "    .dataframe tbody tr th:only-of-type {\n",
       "        vertical-align: middle;\n",
       "    }\n",
       "\n",
       "    .dataframe tbody tr th {\n",
       "        vertical-align: top;\n",
       "    }\n",
       "\n",
       "    .dataframe thead th {\n",
       "        text-align: right;\n",
       "    }\n",
       "</style>\n",
       "<table border=\"1\" class=\"dataframe\">\n",
       "  <thead>\n",
       "    <tr style=\"text-align: right;\">\n",
       "      <th></th>\n",
       "      <th>no_tweets_today</th>\n",
       "      <th>no_tweets_total</th>\n",
       "    </tr>\n",
       "  </thead>\n",
       "  <tbody>\n",
       "    <tr>\n",
       "      <th>0</th>\n",
       "      <td>276129</td>\n",
       "      <td>1000000</td>\n",
       "    </tr>\n",
       "  </tbody>\n",
       "</table>\n",
       "</div>"
      ],
      "text/plain": [
       "   no_tweets_today  no_tweets_total\n",
       "0           276129          1000000"
      ]
     },
     "execution_count": 89,
     "metadata": {},
     "output_type": "execute_result"
    }
   ],
   "source": [
    "pd.read_csv(\"../../raw_data/no_of_tweets.csv\")"
   ]
  },
  {
   "cell_type": "code",
   "execution_count": 12,
   "id": "e7ba13eb",
   "metadata": {},
   "outputs": [
    {
     "ename": "ParserError",
     "evalue": "Unknown string format: OTHER",
     "output_type": "error",
     "traceback": [
      "\u001b[0;31m---------------------------------------------------------------------------\u001b[0m",
      "\u001b[0;31mTypeError\u001b[0m                                 Traceback (most recent call last)",
      "\u001b[0;32m~/.pyenv/versions/3.8.6/envs/project_delphi/lib/python3.8/site-packages/pandas/core/arrays/datetimes.py\u001b[0m in \u001b[0;36mobjects_to_datetime64ns\u001b[0;34m(data, dayfirst, yearfirst, utc, errors, require_iso8601, allow_object, allow_mixed)\u001b[0m\n\u001b[1;32m   2186\u001b[0m         \u001b[0;32mtry\u001b[0m\u001b[0;34m:\u001b[0m\u001b[0;34m\u001b[0m\u001b[0;34m\u001b[0m\u001b[0m\n\u001b[0;32m-> 2187\u001b[0;31m             \u001b[0mvalues\u001b[0m\u001b[0;34m,\u001b[0m \u001b[0mtz_parsed\u001b[0m \u001b[0;34m=\u001b[0m \u001b[0mconversion\u001b[0m\u001b[0;34m.\u001b[0m\u001b[0mdatetime_to_datetime64\u001b[0m\u001b[0;34m(\u001b[0m\u001b[0mdata\u001b[0m\u001b[0;34m.\u001b[0m\u001b[0mravel\u001b[0m\u001b[0;34m(\u001b[0m\u001b[0;34m\"K\"\u001b[0m\u001b[0;34m)\u001b[0m\u001b[0;34m)\u001b[0m\u001b[0;34m\u001b[0m\u001b[0;34m\u001b[0m\u001b[0m\n\u001b[0m\u001b[1;32m   2188\u001b[0m             \u001b[0;31m# If tzaware, these values represent unix timestamps, so we\u001b[0m\u001b[0;34m\u001b[0m\u001b[0;34m\u001b[0m\u001b[0;34m\u001b[0m\u001b[0m\n",
      "\u001b[0;32m~/.pyenv/versions/3.8.6/envs/project_delphi/lib/python3.8/site-packages/pandas/_libs/tslibs/conversion.pyx\u001b[0m in \u001b[0;36mpandas._libs.tslibs.conversion.datetime_to_datetime64\u001b[0;34m()\u001b[0m\n",
      "\u001b[0;31mTypeError\u001b[0m: Unrecognized value type: <class 'str'>",
      "\nDuring handling of the above exception, another exception occurred:\n",
      "\u001b[0;31mParserError\u001b[0m                               Traceback (most recent call last)",
      "\u001b[0;32m/var/folders/r8/ml9zphbs05z5wx9ykw9g7r_40000gn/T/ipykernel_8766/717932206.py\u001b[0m in \u001b[0;36m<module>\u001b[0;34m\u001b[0m\n\u001b[0;32m----> 1\u001b[0;31m \u001b[0mdata\u001b[0m \u001b[0;34m=\u001b[0m \u001b[0mload_and_clean_csv\u001b[0m\u001b[0;34m(\u001b[0m\u001b[0mdata1\u001b[0m\u001b[0;34m)\u001b[0m\u001b[0;34m\u001b[0m\u001b[0;34m\u001b[0m\u001b[0m\n\u001b[0m",
      "\u001b[0;32m/var/folders/r8/ml9zphbs05z5wx9ykw9g7r_40000gn/T/ipykernel_8766/1137657416.py\u001b[0m in \u001b[0;36mload_and_clean_csv\u001b[0;34m(df)\u001b[0m\n\u001b[1;32m     41\u001b[0m     \u001b[0;31m#df = df[(df.tweet_date.str.len() == 23) | (df.tweet_date.str.len() == 24)]\u001b[0m\u001b[0;34m\u001b[0m\u001b[0;34m\u001b[0m\u001b[0;34m\u001b[0m\u001b[0m\n\u001b[1;32m     42\u001b[0m     \u001b[0mdf\u001b[0m\u001b[0;34m[\u001b[0m\u001b[0;34m'tweet_date'\u001b[0m\u001b[0;34m]\u001b[0m \u001b[0;34m=\u001b[0m \u001b[0mdf\u001b[0m\u001b[0;34m[\u001b[0m\u001b[0;34m'tweet_date'\u001b[0m\u001b[0;34m]\u001b[0m\u001b[0;34m.\u001b[0m\u001b[0mstr\u001b[0m\u001b[0;34m.\u001b[0m\u001b[0mslice\u001b[0m\u001b[0;34m(\u001b[0m\u001b[0;36m0\u001b[0m\u001b[0;34m,\u001b[0m\u001b[0;36m19\u001b[0m\u001b[0;34m)\u001b[0m\u001b[0;34m\u001b[0m\u001b[0;34m\u001b[0m\u001b[0m\n\u001b[0;32m---> 43\u001b[0;31m     \u001b[0mdf\u001b[0m\u001b[0;34m[\u001b[0m\u001b[0;34m\"tweet_date\"\u001b[0m\u001b[0;34m]\u001b[0m \u001b[0;34m=\u001b[0m \u001b[0mpd\u001b[0m\u001b[0;34m.\u001b[0m\u001b[0mto_datetime\u001b[0m\u001b[0;34m(\u001b[0m\u001b[0mdf\u001b[0m\u001b[0;34m[\u001b[0m\u001b[0;34m\"tweet_date\"\u001b[0m\u001b[0;34m]\u001b[0m\u001b[0;34m)\u001b[0m\u001b[0;34m\u001b[0m\u001b[0;34m\u001b[0m\u001b[0m\n\u001b[0m\u001b[1;32m     44\u001b[0m \u001b[0;34m\u001b[0m\u001b[0m\n\u001b[1;32m     45\u001b[0m     \u001b[0mdf\u001b[0m\u001b[0;34m[\u001b[0m\u001b[0;34m\"party\"\u001b[0m\u001b[0;34m]\u001b[0m \u001b[0;34m=\u001b[0m \u001b[0mdf\u001b[0m\u001b[0;34m[\u001b[0m\u001b[0;34m\"party\"\u001b[0m\u001b[0;34m]\u001b[0m\u001b[0;34m.\u001b[0m\u001b[0mastype\u001b[0m\u001b[0;34m(\u001b[0m\u001b[0mstr\u001b[0m\u001b[0;34m)\u001b[0m\u001b[0;34m\u001b[0m\u001b[0;34m\u001b[0m\u001b[0m\n",
      "\u001b[0;32m~/.pyenv/versions/3.8.6/envs/project_delphi/lib/python3.8/site-packages/pandas/core/tools/datetimes.py\u001b[0m in \u001b[0;36mto_datetime\u001b[0;34m(arg, errors, dayfirst, yearfirst, utc, format, exact, unit, infer_datetime_format, origin, cache)\u001b[0m\n\u001b[1;32m    885\u001b[0m             \u001b[0mresult\u001b[0m \u001b[0;34m=\u001b[0m \u001b[0marg\u001b[0m\u001b[0;34m.\u001b[0m\u001b[0mmap\u001b[0m\u001b[0;34m(\u001b[0m\u001b[0mcache_array\u001b[0m\u001b[0;34m)\u001b[0m\u001b[0;34m\u001b[0m\u001b[0;34m\u001b[0m\u001b[0m\n\u001b[1;32m    886\u001b[0m         \u001b[0;32melse\u001b[0m\u001b[0;34m:\u001b[0m\u001b[0;34m\u001b[0m\u001b[0;34m\u001b[0m\u001b[0m\n\u001b[0;32m--> 887\u001b[0;31m             \u001b[0mvalues\u001b[0m \u001b[0;34m=\u001b[0m \u001b[0mconvert_listlike\u001b[0m\u001b[0;34m(\u001b[0m\u001b[0marg\u001b[0m\u001b[0;34m.\u001b[0m\u001b[0m_values\u001b[0m\u001b[0;34m,\u001b[0m \u001b[0mformat\u001b[0m\u001b[0;34m)\u001b[0m\u001b[0;34m\u001b[0m\u001b[0;34m\u001b[0m\u001b[0m\n\u001b[0m\u001b[1;32m    888\u001b[0m             \u001b[0mresult\u001b[0m \u001b[0;34m=\u001b[0m \u001b[0marg\u001b[0m\u001b[0;34m.\u001b[0m\u001b[0m_constructor\u001b[0m\u001b[0;34m(\u001b[0m\u001b[0mvalues\u001b[0m\u001b[0;34m,\u001b[0m \u001b[0mindex\u001b[0m\u001b[0;34m=\u001b[0m\u001b[0marg\u001b[0m\u001b[0;34m.\u001b[0m\u001b[0mindex\u001b[0m\u001b[0;34m,\u001b[0m \u001b[0mname\u001b[0m\u001b[0;34m=\u001b[0m\u001b[0marg\u001b[0m\u001b[0;34m.\u001b[0m\u001b[0mname\u001b[0m\u001b[0;34m)\u001b[0m\u001b[0;34m\u001b[0m\u001b[0;34m\u001b[0m\u001b[0m\n\u001b[1;32m    889\u001b[0m     \u001b[0;32melif\u001b[0m \u001b[0misinstance\u001b[0m\u001b[0;34m(\u001b[0m\u001b[0marg\u001b[0m\u001b[0;34m,\u001b[0m \u001b[0;34m(\u001b[0m\u001b[0mABCDataFrame\u001b[0m\u001b[0;34m,\u001b[0m \u001b[0mabc\u001b[0m\u001b[0;34m.\u001b[0m\u001b[0mMutableMapping\u001b[0m\u001b[0;34m)\u001b[0m\u001b[0;34m)\u001b[0m\u001b[0;34m:\u001b[0m\u001b[0;34m\u001b[0m\u001b[0;34m\u001b[0m\u001b[0m\n",
      "\u001b[0;32m~/.pyenv/versions/3.8.6/envs/project_delphi/lib/python3.8/site-packages/pandas/core/tools/datetimes.py\u001b[0m in \u001b[0;36m_convert_listlike_datetimes\u001b[0;34m(arg, format, name, tz, unit, errors, infer_datetime_format, dayfirst, yearfirst, exact)\u001b[0m\n\u001b[1;32m    399\u001b[0m     \u001b[0;32massert\u001b[0m \u001b[0mformat\u001b[0m \u001b[0;32mis\u001b[0m \u001b[0;32mNone\u001b[0m \u001b[0;32mor\u001b[0m \u001b[0minfer_datetime_format\u001b[0m\u001b[0;34m\u001b[0m\u001b[0;34m\u001b[0m\u001b[0m\n\u001b[1;32m    400\u001b[0m     \u001b[0mutc\u001b[0m \u001b[0;34m=\u001b[0m \u001b[0mtz\u001b[0m \u001b[0;34m==\u001b[0m \u001b[0;34m\"utc\"\u001b[0m\u001b[0;34m\u001b[0m\u001b[0;34m\u001b[0m\u001b[0m\n\u001b[0;32m--> 401\u001b[0;31m     result, tz_parsed = objects_to_datetime64ns(\n\u001b[0m\u001b[1;32m    402\u001b[0m         \u001b[0marg\u001b[0m\u001b[0;34m,\u001b[0m\u001b[0;34m\u001b[0m\u001b[0;34m\u001b[0m\u001b[0m\n\u001b[1;32m    403\u001b[0m         \u001b[0mdayfirst\u001b[0m\u001b[0;34m=\u001b[0m\u001b[0mdayfirst\u001b[0m\u001b[0;34m,\u001b[0m\u001b[0;34m\u001b[0m\u001b[0;34m\u001b[0m\u001b[0m\n",
      "\u001b[0;32m~/.pyenv/versions/3.8.6/envs/project_delphi/lib/python3.8/site-packages/pandas/core/arrays/datetimes.py\u001b[0m in \u001b[0;36mobjects_to_datetime64ns\u001b[0;34m(data, dayfirst, yearfirst, utc, errors, require_iso8601, allow_object, allow_mixed)\u001b[0m\n\u001b[1;32m   2191\u001b[0m             \u001b[0;32mreturn\u001b[0m \u001b[0mvalues\u001b[0m\u001b[0;34m.\u001b[0m\u001b[0mview\u001b[0m\u001b[0;34m(\u001b[0m\u001b[0;34m\"i8\"\u001b[0m\u001b[0;34m)\u001b[0m\u001b[0;34m,\u001b[0m \u001b[0mtz_parsed\u001b[0m\u001b[0;34m\u001b[0m\u001b[0;34m\u001b[0m\u001b[0m\n\u001b[1;32m   2192\u001b[0m         \u001b[0;32mexcept\u001b[0m \u001b[0;34m(\u001b[0m\u001b[0mValueError\u001b[0m\u001b[0;34m,\u001b[0m \u001b[0mTypeError\u001b[0m\u001b[0;34m)\u001b[0m\u001b[0;34m:\u001b[0m\u001b[0;34m\u001b[0m\u001b[0;34m\u001b[0m\u001b[0m\n\u001b[0;32m-> 2193\u001b[0;31m             \u001b[0;32mraise\u001b[0m \u001b[0merr\u001b[0m\u001b[0;34m\u001b[0m\u001b[0;34m\u001b[0m\u001b[0m\n\u001b[0m\u001b[1;32m   2194\u001b[0m \u001b[0;34m\u001b[0m\u001b[0m\n\u001b[1;32m   2195\u001b[0m     \u001b[0;32mif\u001b[0m \u001b[0mtz_parsed\u001b[0m \u001b[0;32mis\u001b[0m \u001b[0;32mnot\u001b[0m \u001b[0;32mNone\u001b[0m\u001b[0;34m:\u001b[0m\u001b[0;34m\u001b[0m\u001b[0;34m\u001b[0m\u001b[0m\n",
      "\u001b[0;32m~/.pyenv/versions/3.8.6/envs/project_delphi/lib/python3.8/site-packages/pandas/core/arrays/datetimes.py\u001b[0m in \u001b[0;36mobjects_to_datetime64ns\u001b[0;34m(data, dayfirst, yearfirst, utc, errors, require_iso8601, allow_object, allow_mixed)\u001b[0m\n\u001b[1;32m   2173\u001b[0m     \u001b[0morder\u001b[0m\u001b[0;34m:\u001b[0m \u001b[0mLiteral\u001b[0m\u001b[0;34m[\u001b[0m\u001b[0;34m\"F\"\u001b[0m\u001b[0;34m,\u001b[0m \u001b[0;34m\"C\"\u001b[0m\u001b[0;34m]\u001b[0m \u001b[0;34m=\u001b[0m \u001b[0;34m\"F\"\u001b[0m \u001b[0;32mif\u001b[0m \u001b[0mflags\u001b[0m\u001b[0;34m.\u001b[0m\u001b[0mf_contiguous\u001b[0m \u001b[0;32melse\u001b[0m \u001b[0;34m\"C\"\u001b[0m\u001b[0;34m\u001b[0m\u001b[0;34m\u001b[0m\u001b[0m\n\u001b[1;32m   2174\u001b[0m     \u001b[0;32mtry\u001b[0m\u001b[0;34m:\u001b[0m\u001b[0;34m\u001b[0m\u001b[0;34m\u001b[0m\u001b[0m\n\u001b[0;32m-> 2175\u001b[0;31m         result, tz_parsed = tslib.array_to_datetime(\n\u001b[0m\u001b[1;32m   2176\u001b[0m             \u001b[0mdata\u001b[0m\u001b[0;34m.\u001b[0m\u001b[0mravel\u001b[0m\u001b[0;34m(\u001b[0m\u001b[0;34m\"K\"\u001b[0m\u001b[0;34m)\u001b[0m\u001b[0;34m,\u001b[0m\u001b[0;34m\u001b[0m\u001b[0;34m\u001b[0m\u001b[0m\n\u001b[1;32m   2177\u001b[0m             \u001b[0merrors\u001b[0m\u001b[0;34m=\u001b[0m\u001b[0merrors\u001b[0m\u001b[0;34m,\u001b[0m\u001b[0;34m\u001b[0m\u001b[0;34m\u001b[0m\u001b[0m\n",
      "\u001b[0;32m~/.pyenv/versions/3.8.6/envs/project_delphi/lib/python3.8/site-packages/pandas/_libs/tslib.pyx\u001b[0m in \u001b[0;36mpandas._libs.tslib.array_to_datetime\u001b[0;34m()\u001b[0m\n",
      "\u001b[0;32m~/.pyenv/versions/3.8.6/envs/project_delphi/lib/python3.8/site-packages/pandas/_libs/tslib.pyx\u001b[0m in \u001b[0;36mpandas._libs.tslib.array_to_datetime\u001b[0;34m()\u001b[0m\n",
      "\u001b[0;32m~/.pyenv/versions/3.8.6/envs/project_delphi/lib/python3.8/site-packages/pandas/_libs/tslib.pyx\u001b[0m in \u001b[0;36mpandas._libs.tslib._array_to_datetime_object\u001b[0;34m()\u001b[0m\n",
      "\u001b[0;32m~/.pyenv/versions/3.8.6/envs/project_delphi/lib/python3.8/site-packages/pandas/_libs/tslib.pyx\u001b[0m in \u001b[0;36mpandas._libs.tslib._array_to_datetime_object\u001b[0;34m()\u001b[0m\n",
      "\u001b[0;32m~/.pyenv/versions/3.8.6/envs/project_delphi/lib/python3.8/site-packages/pandas/_libs/tslibs/parsing.pyx\u001b[0m in \u001b[0;36mpandas._libs.tslibs.parsing.parse_datetime_string\u001b[0;34m()\u001b[0m\n",
      "\u001b[0;32m~/.pyenv/versions/3.8.6/envs/project_delphi/lib/python3.8/site-packages/dateutil/parser/_parser.py\u001b[0m in \u001b[0;36mparse\u001b[0;34m(timestr, parserinfo, **kwargs)\u001b[0m\n\u001b[1;32m   1366\u001b[0m         \u001b[0;32mreturn\u001b[0m \u001b[0mparser\u001b[0m\u001b[0;34m(\u001b[0m\u001b[0mparserinfo\u001b[0m\u001b[0;34m)\u001b[0m\u001b[0;34m.\u001b[0m\u001b[0mparse\u001b[0m\u001b[0;34m(\u001b[0m\u001b[0mtimestr\u001b[0m\u001b[0;34m,\u001b[0m \u001b[0;34m**\u001b[0m\u001b[0mkwargs\u001b[0m\u001b[0;34m)\u001b[0m\u001b[0;34m\u001b[0m\u001b[0;34m\u001b[0m\u001b[0m\n\u001b[1;32m   1367\u001b[0m     \u001b[0;32melse\u001b[0m\u001b[0;34m:\u001b[0m\u001b[0;34m\u001b[0m\u001b[0;34m\u001b[0m\u001b[0m\n\u001b[0;32m-> 1368\u001b[0;31m         \u001b[0;32mreturn\u001b[0m \u001b[0mDEFAULTPARSER\u001b[0m\u001b[0;34m.\u001b[0m\u001b[0mparse\u001b[0m\u001b[0;34m(\u001b[0m\u001b[0mtimestr\u001b[0m\u001b[0;34m,\u001b[0m \u001b[0;34m**\u001b[0m\u001b[0mkwargs\u001b[0m\u001b[0;34m)\u001b[0m\u001b[0;34m\u001b[0m\u001b[0;34m\u001b[0m\u001b[0m\n\u001b[0m\u001b[1;32m   1369\u001b[0m \u001b[0;34m\u001b[0m\u001b[0m\n\u001b[1;32m   1370\u001b[0m \u001b[0;34m\u001b[0m\u001b[0m\n",
      "\u001b[0;32m~/.pyenv/versions/3.8.6/envs/project_delphi/lib/python3.8/site-packages/dateutil/parser/_parser.py\u001b[0m in \u001b[0;36mparse\u001b[0;34m(self, timestr, default, ignoretz, tzinfos, **kwargs)\u001b[0m\n\u001b[1;32m    641\u001b[0m \u001b[0;34m\u001b[0m\u001b[0m\n\u001b[1;32m    642\u001b[0m         \u001b[0;32mif\u001b[0m \u001b[0mres\u001b[0m \u001b[0;32mis\u001b[0m \u001b[0;32mNone\u001b[0m\u001b[0;34m:\u001b[0m\u001b[0;34m\u001b[0m\u001b[0;34m\u001b[0m\u001b[0m\n\u001b[0;32m--> 643\u001b[0;31m             \u001b[0;32mraise\u001b[0m \u001b[0mParserError\u001b[0m\u001b[0;34m(\u001b[0m\u001b[0;34m\"Unknown string format: %s\"\u001b[0m\u001b[0;34m,\u001b[0m \u001b[0mtimestr\u001b[0m\u001b[0;34m)\u001b[0m\u001b[0;34m\u001b[0m\u001b[0;34m\u001b[0m\u001b[0m\n\u001b[0m\u001b[1;32m    644\u001b[0m \u001b[0;34m\u001b[0m\u001b[0m\n\u001b[1;32m    645\u001b[0m         \u001b[0;32mif\u001b[0m \u001b[0mlen\u001b[0m\u001b[0;34m(\u001b[0m\u001b[0mres\u001b[0m\u001b[0;34m)\u001b[0m \u001b[0;34m==\u001b[0m \u001b[0;36m0\u001b[0m\u001b[0;34m:\u001b[0m\u001b[0;34m\u001b[0m\u001b[0;34m\u001b[0m\u001b[0m\n",
      "\u001b[0;31mParserError\u001b[0m: Unknown string format: OTHER"
     ]
    }
   ],
   "source": [
    "data = load_and_clean_csv(data1)"
   ]
  },
  {
   "cell_type": "code",
   "execution_count": null,
   "id": "c990f8e1",
   "metadata": {},
   "outputs": [],
   "source": [
    "data.party.unique()"
   ]
  },
  {
   "cell_type": "code",
   "execution_count": 75,
   "id": "56790be8",
   "metadata": {},
   "outputs": [
    {
     "name": "stderr",
     "output_type": "stream",
     "text": [
      "/Users/philippheitmann/.pyenv/versions/3.8.6/envs/project_delphi/lib/python3.8/site-packages/IPython/core/interactiveshell.py:3441: DtypeWarning: Columns (8,10) have mixed types.Specify dtype option on import or set low_memory=False.\n",
      "  exec(code_obj, self.user_global_ns, self.user_ns)\n"
     ]
    },
    {
     "data": {
      "text/html": [
       "<div>\n",
       "<style scoped>\n",
       "    .dataframe tbody tr th:only-of-type {\n",
       "        vertical-align: middle;\n",
       "    }\n",
       "\n",
       "    .dataframe tbody tr th {\n",
       "        vertical-align: top;\n",
       "    }\n",
       "\n",
       "    .dataframe thead th {\n",
       "        text-align: right;\n",
       "    }\n",
       "</style>\n",
       "<table border=\"1\" class=\"dataframe\">\n",
       "  <thead>\n",
       "    <tr style=\"text-align: right;\">\n",
       "      <th></th>\n",
       "      <th>party</th>\n",
       "      <th>tweet_date</th>\n",
       "      <th>author_id</th>\n",
       "      <th>tweet_id</th>\n",
       "      <th>text</th>\n",
       "      <th>source</th>\n",
       "      <th>retweet_count</th>\n",
       "      <th>reply_count</th>\n",
       "      <th>like_count</th>\n",
       "      <th>profile_creation_date</th>\n",
       "      <th>followers_count</th>\n",
       "      <th>following_count</th>\n",
       "      <th>user_tweet_count</th>\n",
       "      <th>location</th>\n",
       "      <th>sentiment</th>\n",
       "      <th>username</th>\n",
       "    </tr>\n",
       "  </thead>\n",
       "  <tbody>\n",
       "    <tr>\n",
       "      <th>0</th>\n",
       "      <td>SPD</td>\n",
       "      <td>2021-08-31 23:59:24</td>\n",
       "      <td>229106593</td>\n",
       "      <td>1432855573284937730</td>\n",
       "      <td>Heftige Merkel-Attacke - ist Olaf Scholz eine ...</td>\n",
       "      <td>Twitter Web App</td>\n",
       "      <td>1.0</td>\n",
       "      <td>0.0</td>\n",
       "      <td>0.0</td>\n",
       "      <td>2010-12-21 14:55:20</td>\n",
       "      <td>56.0</td>\n",
       "      <td>118.0</td>\n",
       "      <td>7921.0</td>\n",
       "      <td>Cuxhaven</td>\n",
       "      <td>1.0</td>\n",
       "      <td>13und13</td>\n",
       "    </tr>\n",
       "    <tr>\n",
       "      <th>1</th>\n",
       "      <td>SPD</td>\n",
       "      <td>2021-08-31 23:58:48</td>\n",
       "      <td>3625766896</td>\n",
       "      <td>1432855420482334725</td>\n",
       "      <td>@larsklingbeil Klingbeil und was ist mit der S...</td>\n",
       "      <td>Twitter for iPhone</td>\n",
       "      <td>0.0</td>\n",
       "      <td>0.0</td>\n",
       "      <td>0.0</td>\n",
       "      <td>2015-09-12 00:29:18</td>\n",
       "      <td>3.0</td>\n",
       "      <td>174.0</td>\n",
       "      <td>326.0</td>\n",
       "      <td>Wilder Süden</td>\n",
       "      <td>1.0</td>\n",
       "      <td>RitschF</td>\n",
       "    </tr>\n",
       "    <tr>\n",
       "      <th>2</th>\n",
       "      <td>SPD</td>\n",
       "      <td>2021-08-31 23:58:42</td>\n",
       "      <td>1170234519951159296</td>\n",
       "      <td>1432855397963083780</td>\n",
       "      <td>Hauptsächlich Esken das ref, spielt sich vor d...</td>\n",
       "      <td>Twitter Web App</td>\n",
       "      <td>0.0</td>\n",
       "      <td>0.0</td>\n",
       "      <td>1.0</td>\n",
       "      <td>2019-09-07 07:17:17</td>\n",
       "      <td>1680.0</td>\n",
       "      <td>1434.0</td>\n",
       "      <td>43503.0</td>\n",
       "      <td>irgendwo bei Lummerland</td>\n",
       "      <td>1.0</td>\n",
       "      <td>dummchens</td>\n",
       "    </tr>\n",
       "    <tr>\n",
       "      <th>3</th>\n",
       "      <td>SPD</td>\n",
       "      <td>2021-08-31 23:52:45</td>\n",
       "      <td>1170234519951159296</td>\n",
       "      <td>1432853899514421248</td>\n",
       "      <td>Scholz ist blöder als lang..\\nMister Teflon.,\\...</td>\n",
       "      <td>Twitter Web App</td>\n",
       "      <td>1.0</td>\n",
       "      <td>1.0</td>\n",
       "      <td>1.0</td>\n",
       "      <td>2019-09-07 07:17:17</td>\n",
       "      <td>1680.0</td>\n",
       "      <td>1434.0</td>\n",
       "      <td>43503.0</td>\n",
       "      <td>irgendwo bei Lummerland</td>\n",
       "      <td>1.0</td>\n",
       "      <td>dummchens</td>\n",
       "    </tr>\n",
       "    <tr>\n",
       "      <th>4</th>\n",
       "      <td>SPD</td>\n",
       "      <td>2021-08-31 23:58:12</td>\n",
       "      <td>1730034720</td>\n",
       "      <td>1432855271869661184</td>\n",
       "      <td>\"Menschen dürfen nicht GEGENEINANDER ausgespie...</td>\n",
       "      <td>Twitter Web App</td>\n",
       "      <td>0.0</td>\n",
       "      <td>0.0</td>\n",
       "      <td>0.0</td>\n",
       "      <td>2013-09-04 22:24:43</td>\n",
       "      <td>7.0</td>\n",
       "      <td>46.0</td>\n",
       "      <td>5377.0</td>\n",
       "      <td>NaN</td>\n",
       "      <td>1.0</td>\n",
       "      <td>HmmelinkReinhol</td>\n",
       "    </tr>\n",
       "    <tr>\n",
       "      <th>...</th>\n",
       "      <td>...</td>\n",
       "      <td>...</td>\n",
       "      <td>...</td>\n",
       "      <td>...</td>\n",
       "      <td>...</td>\n",
       "      <td>...</td>\n",
       "      <td>...</td>\n",
       "      <td>...</td>\n",
       "      <td>...</td>\n",
       "      <td>...</td>\n",
       "      <td>...</td>\n",
       "      <td>...</td>\n",
       "      <td>...</td>\n",
       "      <td>...</td>\n",
       "      <td>...</td>\n",
       "      <td>...</td>\n",
       "    </tr>\n",
       "    <tr>\n",
       "      <th>422182</th>\n",
       "      <td>CDU</td>\n",
       "      <td>2021-08-27 00:01:20</td>\n",
       "      <td>18309034</td>\n",
       "      <td>1431044121393836034</td>\n",
       "      <td>@abendblatt Herr Röhse hat jahrelang  den ÖPNV...</td>\n",
       "      <td>Twitter Web App</td>\n",
       "      <td>0.0</td>\n",
       "      <td>0.0</td>\n",
       "      <td>0</td>\n",
       "      <td>2008-12-22 15:42:26</td>\n",
       "      <td>309</td>\n",
       "      <td>1505.0</td>\n",
       "      <td>14250.0</td>\n",
       "      <td>Planet Erde</td>\n",
       "      <td>-2.0</td>\n",
       "      <td>kickahh</td>\n",
       "    </tr>\n",
       "    <tr>\n",
       "      <th>422183</th>\n",
       "      <td>CDU</td>\n",
       "      <td>2021-08-27 00:03:59</td>\n",
       "      <td>49985382</td>\n",
       "      <td>1431044787705090048</td>\n",
       "      <td>Auch bei #Illner gab es also #KeineUnion #Wege...</td>\n",
       "      <td>Twitter for Android</td>\n",
       "      <td>1.0</td>\n",
       "      <td>0.0</td>\n",
       "      <td>6</td>\n",
       "      <td>2009-06-23 14:13:04</td>\n",
       "      <td>1619</td>\n",
       "      <td>563.0</td>\n",
       "      <td>26867.0</td>\n",
       "      <td>Ruhrgebiet</td>\n",
       "      <td>1.0</td>\n",
       "      <td>4therecords</td>\n",
       "    </tr>\n",
       "    <tr>\n",
       "      <th>422184</th>\n",
       "      <td>CDU</td>\n",
       "      <td>2021-08-27 00:03:08</td>\n",
       "      <td>1381013960917409800</td>\n",
       "      <td>1431044573481086982</td>\n",
       "      <td>@akk @cducsubt Man sollte sich langsam Fragen,...</td>\n",
       "      <td>Twitter Web App</td>\n",
       "      <td>0.0</td>\n",
       "      <td>0.0</td>\n",
       "      <td>0</td>\n",
       "      <td>2021-04-10 22:40:34</td>\n",
       "      <td>2</td>\n",
       "      <td>15.0</td>\n",
       "      <td>494.0</td>\n",
       "      <td>NaN</td>\n",
       "      <td>1.0</td>\n",
       "      <td>1K4tMqqn0KLzpVw</td>\n",
       "    </tr>\n",
       "    <tr>\n",
       "      <th>422185</th>\n",
       "      <td>CDU</td>\n",
       "      <td>2021-08-27 00:03:08</td>\n",
       "      <td>502657567</td>\n",
       "      <td>1431044571606179845</td>\n",
       "      <td>Foto: Armin Laschet, über dts Nachrichtenagent...</td>\n",
       "      <td>Blog2Social APP</td>\n",
       "      <td>0.0</td>\n",
       "      <td>0.0</td>\n",
       "      <td>0</td>\n",
       "      <td>2012-02-25 07:51:40</td>\n",
       "      <td>544</td>\n",
       "      <td>101.0</td>\n",
       "      <td>59881.0</td>\n",
       "      <td>Günzburg</td>\n",
       "      <td>1.0</td>\n",
       "      <td>BSAktuell</td>\n",
       "    </tr>\n",
       "    <tr>\n",
       "      <th>422186</th>\n",
       "      <td>CDU</td>\n",
       "      <td>2021-08-27 00:01:53</td>\n",
       "      <td>1385631762592763904</td>\n",
       "      <td>1431044259562639361</td>\n",
       "      <td>@Charlot90485714 @OlliLuksic Und dieses für mi...</td>\n",
       "      <td>Twitter Web App</td>\n",
       "      <td>0.0</td>\n",
       "      <td>1.0</td>\n",
       "      <td>1</td>\n",
       "      <td>2021-04-23 16:29:01</td>\n",
       "      <td>116</td>\n",
       "      <td>213.0</td>\n",
       "      <td>3263.0</td>\n",
       "      <td>NaN</td>\n",
       "      <td>-2.0</td>\n",
       "      <td>dd_tomtom</td>\n",
       "    </tr>\n",
       "  </tbody>\n",
       "</table>\n",
       "<p>422187 rows × 16 columns</p>\n",
       "</div>"
      ],
      "text/plain": [
       "       party           tweet_date            author_id             tweet_id  \\\n",
       "0        SPD  2021-08-31 23:59:24            229106593  1432855573284937730   \n",
       "1        SPD  2021-08-31 23:58:48           3625766896  1432855420482334725   \n",
       "2        SPD  2021-08-31 23:58:42  1170234519951159296  1432855397963083780   \n",
       "3        SPD  2021-08-31 23:52:45  1170234519951159296  1432853899514421248   \n",
       "4        SPD  2021-08-31 23:58:12           1730034720  1432855271869661184   \n",
       "...      ...                  ...                  ...                  ...   \n",
       "422182   CDU  2021-08-27 00:01:20             18309034  1431044121393836034   \n",
       "422183   CDU  2021-08-27 00:03:59             49985382  1431044787705090048   \n",
       "422184   CDU  2021-08-27 00:03:08  1381013960917409800  1431044573481086982   \n",
       "422185   CDU  2021-08-27 00:03:08            502657567  1431044571606179845   \n",
       "422186   CDU  2021-08-27 00:01:53  1385631762592763904  1431044259562639361   \n",
       "\n",
       "                                                     text  \\\n",
       "0       Heftige Merkel-Attacke - ist Olaf Scholz eine ...   \n",
       "1       @larsklingbeil Klingbeil und was ist mit der S...   \n",
       "2       Hauptsächlich Esken das ref, spielt sich vor d...   \n",
       "3       Scholz ist blöder als lang..\\nMister Teflon.,\\...   \n",
       "4       \"Menschen dürfen nicht GEGENEINANDER ausgespie...   \n",
       "...                                                   ...   \n",
       "422182  @abendblatt Herr Röhse hat jahrelang  den ÖPNV...   \n",
       "422183  Auch bei #Illner gab es also #KeineUnion #Wege...   \n",
       "422184  @akk @cducsubt Man sollte sich langsam Fragen,...   \n",
       "422185  Foto: Armin Laschet, über dts Nachrichtenagent...   \n",
       "422186  @Charlot90485714 @OlliLuksic Und dieses für mi...   \n",
       "\n",
       "                     source  retweet_count  reply_count like_count  \\\n",
       "0           Twitter Web App            1.0          0.0        0.0   \n",
       "1        Twitter for iPhone            0.0          0.0        0.0   \n",
       "2           Twitter Web App            0.0          0.0        1.0   \n",
       "3           Twitter Web App            1.0          1.0        1.0   \n",
       "4           Twitter Web App            0.0          0.0        0.0   \n",
       "...                     ...            ...          ...        ...   \n",
       "422182      Twitter Web App            0.0          0.0          0   \n",
       "422183  Twitter for Android            1.0          0.0          6   \n",
       "422184      Twitter Web App            0.0          0.0          0   \n",
       "422185      Blog2Social APP            0.0          0.0          0   \n",
       "422186      Twitter Web App            0.0          1.0          1   \n",
       "\n",
       "       profile_creation_date followers_count  following_count  \\\n",
       "0        2010-12-21 14:55:20            56.0            118.0   \n",
       "1        2015-09-12 00:29:18             3.0            174.0   \n",
       "2        2019-09-07 07:17:17          1680.0           1434.0   \n",
       "3        2019-09-07 07:17:17          1680.0           1434.0   \n",
       "4        2013-09-04 22:24:43             7.0             46.0   \n",
       "...                      ...             ...              ...   \n",
       "422182   2008-12-22 15:42:26             309           1505.0   \n",
       "422183   2009-06-23 14:13:04            1619            563.0   \n",
       "422184   2021-04-10 22:40:34               2             15.0   \n",
       "422185   2012-02-25 07:51:40             544            101.0   \n",
       "422186   2021-04-23 16:29:01             116            213.0   \n",
       "\n",
       "        user_tweet_count                 location  sentiment         username  \n",
       "0                 7921.0                 Cuxhaven        1.0          13und13  \n",
       "1                  326.0             Wilder Süden        1.0          RitschF  \n",
       "2                43503.0  irgendwo bei Lummerland        1.0        dummchens  \n",
       "3                43503.0  irgendwo bei Lummerland        1.0        dummchens  \n",
       "4                 5377.0                      NaN        1.0  HmmelinkReinhol  \n",
       "...                  ...                      ...        ...              ...  \n",
       "422182           14250.0              Planet Erde       -2.0          kickahh  \n",
       "422183           26867.0               Ruhrgebiet        1.0      4therecords  \n",
       "422184             494.0                      NaN        1.0  1K4tMqqn0KLzpVw  \n",
       "422185           59881.0                 Günzburg        1.0        BSAktuell  \n",
       "422186            3263.0                      NaN       -2.0        dd_tomtom  \n",
       "\n",
       "[422187 rows x 16 columns]"
      ]
     },
     "execution_count": 75,
     "metadata": {},
     "output_type": "execute_result"
    }
   ],
   "source": [
    "pd.read_csv(\"../../raw_data/test_tweets.csv\")"
   ]
  },
  {
   "cell_type": "code",
   "execution_count": 72,
   "id": "ba8a0f89",
   "metadata": {},
   "outputs": [
    {
     "name": "stderr",
     "output_type": "stream",
     "text": [
      "/Users/philippheitmann/.pyenv/versions/3.8.6/envs/project_delphi/lib/python3.8/site-packages/IPython/core/interactiveshell.py:3441: DtypeWarning: Columns (0,9,11) have mixed types.Specify dtype option on import or set low_memory=False.\n",
      "  exec(code_obj, self.user_global_ns, self.user_ns)\n"
     ]
    }
   ],
   "source": [
    "pd.read_csv(\"../../raw_data/test_tweets.csv\").drop(columns=[\"Unnamed: 0\"]).to_csv(\"../../raw_data/test_tweets.csv\", index=False)"
   ]
  },
  {
   "cell_type": "code",
   "execution_count": null,
   "id": "00a674e5",
   "metadata": {},
   "outputs": [],
   "source": [
    "data.dtypes"
   ]
  },
  {
   "cell_type": "code",
   "execution_count": null,
   "id": "8fc11568",
   "metadata": {
    "scrolled": true
   },
   "outputs": [],
   "source": [
    "tweets_tmp = data[(data[\"sentiment\"]==-2) & (data[\"party\"]==\"OTHER\")].reset_index()\n",
    "tweets_tmp.iloc[[tweets_tmp[\"like_count\"].idxmax()]]"
   ]
  },
  {
   "cell_type": "code",
   "execution_count": null,
   "id": "3a1f8fd0",
   "metadata": {},
   "outputs": [],
   "source": [
    "data"
   ]
  },
  {
   "cell_type": "code",
   "execution_count": null,
   "id": "d74ea6ee",
   "metadata": {},
   "outputs": [],
   "source": [
    "most_popular_tweets(data, tweet_date)"
   ]
  },
  {
   "cell_type": "code",
   "execution_count": null,
   "id": "202ac9ca",
   "metadata": {},
   "outputs": [],
   "source": [
    "data1.party.unique()"
   ]
  },
  {
   "cell_type": "code",
   "execution_count": null,
   "id": "e5db8cff",
   "metadata": {},
   "outputs": [],
   "source": []
  }
 ],
 "metadata": {
  "kernelspec": {
   "display_name": "Python 3 (ipykernel)",
   "language": "python",
   "name": "python3"
  },
  "language_info": {
   "codemirror_mode": {
    "name": "ipython",
    "version": 3
   },
   "file_extension": ".py",
   "mimetype": "text/x-python",
   "name": "python",
   "nbconvert_exporter": "python",
   "pygments_lexer": "ipython3",
   "version": "3.8.6"
  },
  "toc": {
   "base_numbering": 1,
   "nav_menu": {},
   "number_sections": true,
   "sideBar": true,
   "skip_h1_title": false,
   "title_cell": "Table of Contents",
   "title_sidebar": "Contents",
   "toc_cell": false,
   "toc_position": {},
   "toc_section_display": true,
   "toc_window_display": false
  }
 },
 "nbformat": 4,
 "nbformat_minor": 5
}
