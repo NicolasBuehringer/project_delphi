{
 "cells": [
  {
   "cell_type": "markdown",
   "id": "59f15b12",
   "metadata": {},
   "source": [
    "# Streamlit"
   ]
  },
  {
   "cell_type": "code",
   "execution_count": null,
   "id": "d4aa877c",
   "metadata": {},
   "outputs": [],
   "source": [
    "import pandas as pd"
   ]
  },
  {
   "cell_type": "code",
   "execution_count": null,
   "id": "2750604a",
   "metadata": {},
   "outputs": [],
   "source": [
    "AFD_poll = 10.61\n",
    "CDU_poll = 21.97\n",
    "FDP_poll = 10.33\n",
    "GRUENE_poll = 19.69\n",
    "LINKE_poll = 7.11\n",
    "SPD_poll = 19.59\n",
    "OTHER_poll = 10.7"
   ]
  },
  {
   "cell_type": "code",
   "execution_count": null,
   "id": "5e272d70",
   "metadata": {},
   "outputs": [],
   "source": [
    "AFD_poll + CDU_poll + FDP_poll + GRUENE_poll + LINKE_poll + SPD_poll + OTHER_poll"
   ]
  },
  {
   "cell_type": "code",
   "execution_count": null,
   "id": "4db6bc9c",
   "metadata": {},
   "outputs": [],
   "source": [
    "df = pd.read_csv(\"../../raw_data/df_merged.csv\")"
   ]
  },
  {
   "cell_type": "code",
   "execution_count": null,
   "id": "5cd6b567",
   "metadata": {},
   "outputs": [],
   "source": [
    "df = df[df[\"created_at\"]==\"2021-08-23\"]"
   ]
  },
  {
   "cell_type": "code",
   "execution_count": null,
   "id": "c45840f9",
   "metadata": {},
   "outputs": [],
   "source": [
    "df.drop(columns=[\"created_at\", \"Polls\"], inplace=True)"
   ]
  },
  {
   "cell_type": "code",
   "execution_count": null,
   "id": "0bfda1e9",
   "metadata": {},
   "outputs": [],
   "source": [
    "df = df[['party', 'replies_count', 'retweets_count',\n",
    "       'likes_count', 'avg_len_of_tweet', 'share_of_tweets',\n",
    "       'share_unique_users']]"
   ]
  },
  {
   "cell_type": "code",
   "execution_count": null,
   "id": "8b0a0a63",
   "metadata": {},
   "outputs": [],
   "source": [
    "df.iloc[[0]][['replies_count', 'retweets_count',\n",
    "       'likes_count', 'avg_len_of_tweet', 'share_of_tweets',\n",
    "       'share_unique_users']]"
   ]
  },
  {
   "cell_type": "code",
   "execution_count": null,
   "id": "8571fa9e",
   "metadata": {},
   "outputs": [],
   "source": [
    "twitter_kpis = df.to_dict('r')"
   ]
  },
  {
   "cell_type": "code",
   "execution_count": null,
   "id": "ee6d1965",
   "metadata": {},
   "outputs": [],
   "source": [
    "tweets = pd.read_csv(\"/Users/philippheitmann/Downloads/2021_0723-0826_Tweets_Linken_sentiment.csv\")"
   ]
  },
  {
   "cell_type": "code",
   "execution_count": null,
   "id": "0b2ed97c",
   "metadata": {},
   "outputs": [],
   "source": [
    "tweets.columns"
   ]
  },
  {
   "cell_type": "code",
   "execution_count": null,
   "id": "8f65c644",
   "metadata": {},
   "outputs": [],
   "source": [
    "test = tweets[['text',\"tweet_created_at\",'public_metrics.retweet_count','public_metrics.reply_count', 'public_metrics.like_count', 'sentiment']]"
   ]
  },
  {
   "cell_type": "code",
   "execution_count": null,
   "id": "435cfcb5",
   "metadata": {},
   "outputs": [],
   "source": [
    "test.iloc[[test[\"public_metrics.retweet_count\"].idxmax()]]"
   ]
  },
  {
   "cell_type": "markdown",
   "id": "499c0fa8",
   "metadata": {},
   "source": [
    "## Get most popular tweets (negative and positive per party)"
   ]
  },
  {
   "cell_type": "markdown",
   "id": "2d30704a",
   "metadata": {},
   "source": [
    "## Get Twitter KPIs"
   ]
  },
  {
   "cell_type": "code",
   "execution_count": null,
   "id": "b6086f05",
   "metadata": {},
   "outputs": [],
   "source": [
    "# Get share of tweets per party \n",
    "shares = df[[\"party\", \"share_of_tweets\"]]"
   ]
  },
  {
   "cell_type": "code",
   "execution_count": null,
   "id": "d59e7af2",
   "metadata": {},
   "outputs": [],
   "source": [
    "df.party.to_list()"
   ]
  },
  {
   "cell_type": "code",
   "execution_count": null,
   "id": "f6fd42f6",
   "metadata": {},
   "outputs": [],
   "source": [
    "df.share_of_tweets.to_list()"
   ]
  },
  {
   "cell_type": "code",
   "execution_count": null,
   "id": "872bab3b",
   "metadata": {},
   "outputs": [],
   "source": [
    "shares"
   ]
  },
  {
   "cell_type": "code",
   "execution_count": null,
   "id": "d32e161e",
   "metadata": {},
   "outputs": [],
   "source": [
    "import numpy as np"
   ]
  },
  {
   "cell_type": "code",
   "execution_count": null,
   "id": "8fcf322a",
   "metadata": {},
   "outputs": [],
   "source": [
    "pd.DataFrame(np.random.uniform(5, 20, size=(2,7)), columns=[\"CSU\", \"SPD\", \"Grünen\", \"FDP\", \"Linken\", \"AFD\", \"Others\"]).plot()"
   ]
  },
  {
   "cell_type": "code",
   "execution_count": null,
   "id": "139104c7",
   "metadata": {},
   "outputs": [],
   "source": [
    "np.random.seed(2021)\n",
    "N = 10\n",
    "rng = pd.date_range(start='2021-08-16', end='2021-08-25')\n",
    "df = pd.DataFrame(np.random.uniform(5, 20, size=(10,14)), columns=[\"CSU\", \"SPD\", \"Grünen\", \"FDP\", \"Linken\", \"AFD\", \"Others\", \"CSU_poll\", \"SPD_poll\", \"Grünen_poll\", \"FDP_poll\", \"Linken_poll\", \"AFD_poll\", \"Others_poll\"], index=rng)"
   ]
  },
  {
   "cell_type": "code",
   "execution_count": null,
   "id": "a5f5f8cc",
   "metadata": {},
   "outputs": [],
   "source": [
    "df"
   ]
  },
  {
   "cell_type": "code",
   "execution_count": null,
   "id": "fbe81fb5",
   "metadata": {},
   "outputs": [],
   "source": [
    "import matplotlib.pyplot as plt"
   ]
  },
  {
   "cell_type": "code",
   "execution_count": null,
   "id": "3cf1888b",
   "metadata": {},
   "outputs": [],
   "source": [
    "chart_data = pd.DataFrame(np.random.randn(20,3))"
   ]
  },
  {
   "cell_type": "code",
   "execution_count": null,
   "id": "e4ca822c",
   "metadata": {},
   "outputs": [],
   "source": [
    "plt.bar(chart_data)"
   ]
  },
  {
   "cell_type": "code",
   "execution_count": null,
   "id": "fc5f014c",
   "metadata": {},
   "outputs": [],
   "source": []
  },
  {
   "cell_type": "code",
   "execution_count": null,
   "id": "627562df",
   "metadata": {},
   "outputs": [],
   "source": []
  },
  {
   "cell_type": "markdown",
   "id": "e61f0584",
   "metadata": {},
   "source": [
    "## Python script for loading required data for website "
   ]
  },
  {
   "cell_type": "code",
   "execution_count": null,
   "id": "725f1eeb",
   "metadata": {},
   "outputs": [],
   "source": [
    "import pandas as pd\n",
    "import datetime"
   ]
  },
  {
   "cell_type": "markdown",
   "id": "6162f967",
   "metadata": {},
   "source": [
    "### Tweet KPIs"
   ]
  },
  {
   "cell_type": "code",
   "execution_count": null,
   "id": "63791687",
   "metadata": {},
   "outputs": [],
   "source": [
    "tweet_kpis = pd.read_csv(\"../../raw_data/cdu_linke_engineered.csv\")"
   ]
  },
  {
   "cell_type": "code",
   "execution_count": null,
   "id": "9fa05216",
   "metadata": {},
   "outputs": [],
   "source": [
    "def tweet_kpis_for_streamlit(tweet_kpis):\n",
    "    \n",
    "    # Get latest tweets date\n",
    "    latest_tweet_date = tweet_kpis[\"tweet_date\"].max()\n",
    "    \n",
    "    # Slice Dataframe for most recent Twitter KPIs \n",
    "    tweet_kpis = tweet_kpis[tweet_kpis[\"tweet_date\"] == latest_tweet_date]\n",
    "    \n",
    "    return tweet_kpis"
   ]
  },
  {
   "cell_type": "code",
   "execution_count": null,
   "id": "ca6fa344",
   "metadata": {},
   "outputs": [],
   "source": [
    "tweet_kpis_for_streamlit(tweet_kpis)"
   ]
  },
  {
   "cell_type": "code",
   "execution_count": null,
   "id": "a13f34c8",
   "metadata": {},
   "outputs": [],
   "source": [
    "latest_tweet_date = tweet_kpis[\"tweet_date\"].max()"
   ]
  },
  {
   "cell_type": "code",
   "execution_count": null,
   "id": "a1497258",
   "metadata": {},
   "outputs": [],
   "source": [
    "# Slice Dataframe for most recent Twitter KPIs \n",
    "tweet_kpis = tweet_kpis[tweet_kpis[\"tweet_date\"] == latest_tweet_date]"
   ]
  },
  {
   "cell_type": "code",
   "execution_count": null,
   "id": "d1539f88",
   "metadata": {},
   "outputs": [],
   "source": [
    "tweet_kpis"
   ]
  },
  {
   "cell_type": "markdown",
   "id": "d04fd48f",
   "metadata": {},
   "source": [
    "### Most popular tweets "
   ]
  },
  {
   "cell_type": "code",
   "execution_count": 1,
   "id": "ccebe77a",
   "metadata": {},
   "outputs": [
    {
     "name": "stderr",
     "output_type": "stream",
     "text": [
      "/Users/philippheitmann/.pyenv/versions/3.8.6/envs/project_delphi/lib/python3.8/site-packages/IPython/core/interactiveshell.py:3441: DtypeWarning: Columns (1,2,10,11,20,21,22,23,24,25,26) have mixed types.Specify dtype option on import or set low_memory=False.\n",
      "  exec(code_obj, self.user_global_ns, self.user_ns)\n"
     ]
    }
   ],
   "source": [
    "import pandas as pd\n",
    "test = pd.read_csv(\"../../raw_data/2021_spd_with_sentiment.csv\")"
   ]
  },
  {
   "cell_type": "code",
   "execution_count": null,
   "id": "39f79724",
   "metadata": {},
   "outputs": [],
   "source": [
    "tweets = pd.read_csv(\"../../raw_data/2021_fdp_with_sentiment.csv\")"
   ]
  },
  {
   "cell_type": "code",
   "execution_count": 2,
   "id": "ce1c244d",
   "metadata": {},
   "outputs": [],
   "source": [
    "def transform_date(tweets):\n",
    "    # Filter out rows which do not have a date in the tweet_created_at colomn\n",
    "    tweets = tweets[tweets[\"tweet_created_at\"].str[:4] ==\"2021\"]\n",
    "\n",
    "    #Change to datemtime\n",
    "    tweets[\"tweet_created_at\"] = pd.to_datetime(tweets[\"tweet_created_at\"])\n",
    "\n",
    "    #Change format of datetime to 2021-08-25\n",
    "    tweets[\"tweet_created_at\"]=tweets[\"tweet_created_at\"].dt.strftime('%Y-%m-%d')\n",
    "    \n",
    "    return tweets"
   ]
  },
  {
   "cell_type": "code",
   "execution_count": null,
   "id": "1c3fd461",
   "metadata": {},
   "outputs": [],
   "source": []
  },
  {
   "cell_type": "code",
   "execution_count": 3,
   "id": "54252557",
   "metadata": {
    "scrolled": true
   },
   "outputs": [],
   "source": [
    "test[\"party\"]=\"SPD\""
   ]
  },
  {
   "cell_type": "code",
   "execution_count": 4,
   "id": "4f21e35e",
   "metadata": {},
   "outputs": [],
   "source": [
    "parties = [\"CDU\", \"SPD\", \"LINKE\", \"GRUENE\", \"FDP\", \"AFD\", \"OTHERS\"]\n",
    "\n",
    "i=0\n",
    "\n",
    "for party in parties:\n",
    "    test.loc[i, \"party\"] = party\n",
    "    test.loc[i, \"sentiment\"] = \"positive\"\n",
    "    i +=1\n",
    "    test.loc[i, \"party\"] = party\n",
    "    test.loc[i, \"sentiment\"] = \"negative\"\n",
    "    i +=1"
   ]
  },
  {
   "cell_type": "code",
   "execution_count": 14,
   "id": "7335ea67",
   "metadata": {},
   "outputs": [],
   "source": [
    "test.to_csv(\"../../raw_data/test.csv\", index=False)"
   ]
  },
  {
   "cell_type": "code",
   "execution_count": 15,
   "id": "ae6a0998",
   "metadata": {},
   "outputs": [
    {
     "name": "stderr",
     "output_type": "stream",
     "text": [
      "/Users/philippheitmann/.pyenv/versions/3.8.6/envs/project_delphi/lib/python3.8/site-packages/IPython/core/interactiveshell.py:3441: DtypeWarning: Columns (20,21,22,23,24,25,26) have mixed types.Specify dtype option on import or set low_memory=False.\n",
      "  exec(code_obj, self.user_global_ns, self.user_ns)\n"
     ]
    },
    {
     "data": {
      "text/html": [
       "<div>\n",
       "<style scoped>\n",
       "    .dataframe tbody tr th:only-of-type {\n",
       "        vertical-align: middle;\n",
       "    }\n",
       "\n",
       "    .dataframe tbody tr th {\n",
       "        vertical-align: top;\n",
       "    }\n",
       "\n",
       "    .dataframe thead th {\n",
       "        text-align: right;\n",
       "    }\n",
       "</style>\n",
       "<table border=\"1\" class=\"dataframe\">\n",
       "  <thead>\n",
       "    <tr style=\"text-align: right;\">\n",
       "      <th></th>\n",
       "      <th>Unnamed: 0</th>\n",
       "      <th>Unnamed: 0.1</th>\n",
       "      <th>tweet_id</th>\n",
       "      <th>text</th>\n",
       "      <th>source</th>\n",
       "      <th>tweet_created_at</th>\n",
       "      <th>lang</th>\n",
       "      <th>author_id</th>\n",
       "      <th>public_metrics.retweet_count</th>\n",
       "      <th>public_metrics.reply_count</th>\n",
       "      <th>...</th>\n",
       "      <th>public_metrics.listed_count</th>\n",
       "      <th>withheld.copyright</th>\n",
       "      <th>withheld.country_codes</th>\n",
       "      <th>withheld.scope</th>\n",
       "      <th>withheld.country_codes_x</th>\n",
       "      <th>withheld.scope_x</th>\n",
       "      <th>withheld.country_codes_y</th>\n",
       "      <th>withheld.scope_y</th>\n",
       "      <th>sentiment</th>\n",
       "      <th>party</th>\n",
       "    </tr>\n",
       "  </thead>\n",
       "  <tbody>\n",
       "    <tr>\n",
       "      <th>0</th>\n",
       "      <td>0</td>\n",
       "      <td>0</td>\n",
       "      <td>1431043493338750977</td>\n",
       "      <td>@susan_d7 @FabioDeMasi Ich will mit der SPD ni...</td>\n",
       "      <td>Twitter Web App</td>\n",
       "      <td>2021-08-26</td>\n",
       "      <td>de</td>\n",
       "      <td>1.941500e+09</td>\n",
       "      <td>0.0</td>\n",
       "      <td>0.0</td>\n",
       "      <td>...</td>\n",
       "      <td>0.0</td>\n",
       "      <td>NaN</td>\n",
       "      <td>NaN</td>\n",
       "      <td>NaN</td>\n",
       "      <td>NaN</td>\n",
       "      <td>NaN</td>\n",
       "      <td>NaN</td>\n",
       "      <td>NaN</td>\n",
       "      <td>positive</td>\n",
       "      <td>CDU</td>\n",
       "    </tr>\n",
       "    <tr>\n",
       "      <th>1</th>\n",
       "      <td>1</td>\n",
       "      <td>1</td>\n",
       "      <td>1431042979431649285</td>\n",
       "      <td>@michael_breuer1 Die SPD kann noch ein paar wi...</td>\n",
       "      <td>Twitter Web App</td>\n",
       "      <td>2021-08-26</td>\n",
       "      <td>de</td>\n",
       "      <td>1.061389e+18</td>\n",
       "      <td>0.0</td>\n",
       "      <td>0.0</td>\n",
       "      <td>...</td>\n",
       "      <td>10.0</td>\n",
       "      <td>NaN</td>\n",
       "      <td>NaN</td>\n",
       "      <td>NaN</td>\n",
       "      <td>NaN</td>\n",
       "      <td>NaN</td>\n",
       "      <td>NaN</td>\n",
       "      <td>NaN</td>\n",
       "      <td>negative</td>\n",
       "      <td>CDU</td>\n",
       "    </tr>\n",
       "    <tr>\n",
       "      <th>2</th>\n",
       "      <td>2</td>\n",
       "      <td>2</td>\n",
       "      <td>1431042900192899072</td>\n",
       "      <td>@Christoph_Br1 Helmut Schmidt wäre mutmaßlich ...</td>\n",
       "      <td>Twitter for iPhone</td>\n",
       "      <td>2021-08-26</td>\n",
       "      <td>de</td>\n",
       "      <td>1.175749e+18</td>\n",
       "      <td>0.0</td>\n",
       "      <td>1.0</td>\n",
       "      <td>...</td>\n",
       "      <td>1.0</td>\n",
       "      <td>NaN</td>\n",
       "      <td>NaN</td>\n",
       "      <td>NaN</td>\n",
       "      <td>NaN</td>\n",
       "      <td>NaN</td>\n",
       "      <td>NaN</td>\n",
       "      <td>NaN</td>\n",
       "      <td>positive</td>\n",
       "      <td>SPD</td>\n",
       "    </tr>\n",
       "    <tr>\n",
       "      <th>3</th>\n",
       "      <td>3</td>\n",
       "      <td>3</td>\n",
       "      <td>1431042788259414018</td>\n",
       "      <td>Hat das nicht eine Bezeichnung? \\n#bigott? \\n#...</td>\n",
       "      <td>Twitter Web App</td>\n",
       "      <td>2021-08-26</td>\n",
       "      <td>de</td>\n",
       "      <td>1.379948e+18</td>\n",
       "      <td>0.0</td>\n",
       "      <td>0.0</td>\n",
       "      <td>...</td>\n",
       "      <td>2.0</td>\n",
       "      <td>NaN</td>\n",
       "      <td>NaN</td>\n",
       "      <td>NaN</td>\n",
       "      <td>NaN</td>\n",
       "      <td>NaN</td>\n",
       "      <td>NaN</td>\n",
       "      <td>NaN</td>\n",
       "      <td>negative</td>\n",
       "      <td>SPD</td>\n",
       "    </tr>\n",
       "    <tr>\n",
       "      <th>4</th>\n",
       "      <td>4</td>\n",
       "      <td>4</td>\n",
       "      <td>1431027227362201607</td>\n",
       "      <td>Liebe @JuSosBerlin, @spdberlin, #SPD, \\nEure S...</td>\n",
       "      <td>Twitter Web App</td>\n",
       "      <td>2021-08-26</td>\n",
       "      <td>de</td>\n",
       "      <td>1.379948e+18</td>\n",
       "      <td>0.0</td>\n",
       "      <td>0.0</td>\n",
       "      <td>...</td>\n",
       "      <td>2.0</td>\n",
       "      <td>NaN</td>\n",
       "      <td>NaN</td>\n",
       "      <td>NaN</td>\n",
       "      <td>NaN</td>\n",
       "      <td>NaN</td>\n",
       "      <td>NaN</td>\n",
       "      <td>NaN</td>\n",
       "      <td>positive</td>\n",
       "      <td>LINKE</td>\n",
       "    </tr>\n",
       "    <tr>\n",
       "      <th>...</th>\n",
       "      <td>...</td>\n",
       "      <td>...</td>\n",
       "      <td>...</td>\n",
       "      <td>...</td>\n",
       "      <td>...</td>\n",
       "      <td>...</td>\n",
       "      <td>...</td>\n",
       "      <td>...</td>\n",
       "      <td>...</td>\n",
       "      <td>...</td>\n",
       "      <td>...</td>\n",
       "      <td>...</td>\n",
       "      <td>...</td>\n",
       "      <td>...</td>\n",
       "      <td>...</td>\n",
       "      <td>...</td>\n",
       "      <td>...</td>\n",
       "      <td>...</td>\n",
       "      <td>...</td>\n",
       "      <td>...</td>\n",
       "      <td>...</td>\n",
       "    </tr>\n",
       "    <tr>\n",
       "      <th>192116</th>\n",
       "      <td>342803</td>\n",
       "      <td>192123</td>\n",
       "      <td>1418364561158295552</td>\n",
       "      <td>@Standpunkt4 @Ganymed_62 @spdde Ja, das sieht ...</td>\n",
       "      <td>Twitter Web App</td>\n",
       "      <td>2021-07-23</td>\n",
       "      <td>de</td>\n",
       "      <td>1.169733e+18</td>\n",
       "      <td>0.0</td>\n",
       "      <td>0.0</td>\n",
       "      <td>...</td>\n",
       "      <td>0.0</td>\n",
       "      <td>NaN</td>\n",
       "      <td>NaN</td>\n",
       "      <td>NaN</td>\n",
       "      <td>NaN</td>\n",
       "      <td>NaN</td>\n",
       "      <td>NaN</td>\n",
       "      <td>NaN</td>\n",
       "      <td>negative</td>\n",
       "      <td>SPD</td>\n",
       "    </tr>\n",
       "    <tr>\n",
       "      <th>192117</th>\n",
       "      <td>342804</td>\n",
       "      <td>192124</td>\n",
       "      <td>1418362337048858634</td>\n",
       "      <td>@VioLaBlubber @BenPro239 Ist nen langer Weg. M...</td>\n",
       "      <td>Twitter Web App</td>\n",
       "      <td>2021-07-23</td>\n",
       "      <td>de</td>\n",
       "      <td>1.370015e+18</td>\n",
       "      <td>0.0</td>\n",
       "      <td>0.0</td>\n",
       "      <td>...</td>\n",
       "      <td>6.0</td>\n",
       "      <td>NaN</td>\n",
       "      <td>NaN</td>\n",
       "      <td>NaN</td>\n",
       "      <td>NaN</td>\n",
       "      <td>NaN</td>\n",
       "      <td>NaN</td>\n",
       "      <td>NaN</td>\n",
       "      <td>negative</td>\n",
       "      <td>SPD</td>\n",
       "    </tr>\n",
       "    <tr>\n",
       "      <th>192118</th>\n",
       "      <td>342805</td>\n",
       "      <td>192125</td>\n",
       "      <td>1418361049670197248</td>\n",
       "      <td>@sanktionsfrei @BambiTango @spdbt Einen Apfel....</td>\n",
       "      <td>Twitter for Android</td>\n",
       "      <td>2021-07-23</td>\n",
       "      <td>de</td>\n",
       "      <td>4.493653e+08</td>\n",
       "      <td>0.0</td>\n",
       "      <td>0.0</td>\n",
       "      <td>...</td>\n",
       "      <td>28.0</td>\n",
       "      <td>NaN</td>\n",
       "      <td>NaN</td>\n",
       "      <td>NaN</td>\n",
       "      <td>NaN</td>\n",
       "      <td>NaN</td>\n",
       "      <td>NaN</td>\n",
       "      <td>NaN</td>\n",
       "      <td>neutral</td>\n",
       "      <td>SPD</td>\n",
       "    </tr>\n",
       "    <tr>\n",
       "      <th>192119</th>\n",
       "      <td>342806</td>\n",
       "      <td>192126</td>\n",
       "      <td>1418360831675441153</td>\n",
       "      <td>@Rolando28927284 @Markus__Lanz @KEigendorf @la...</td>\n",
       "      <td>Twitter for Android</td>\n",
       "      <td>2021-07-23</td>\n",
       "      <td>de</td>\n",
       "      <td>1.279723e+18</td>\n",
       "      <td>0.0</td>\n",
       "      <td>1.0</td>\n",
       "      <td>...</td>\n",
       "      <td>0.0</td>\n",
       "      <td>NaN</td>\n",
       "      <td>NaN</td>\n",
       "      <td>NaN</td>\n",
       "      <td>NaN</td>\n",
       "      <td>NaN</td>\n",
       "      <td>NaN</td>\n",
       "      <td>NaN</td>\n",
       "      <td>neutral</td>\n",
       "      <td>SPD</td>\n",
       "    </tr>\n",
       "    <tr>\n",
       "      <th>192120</th>\n",
       "      <td>342807</td>\n",
       "      <td>192127</td>\n",
       "      <td>1418360298386477059</td>\n",
       "      <td>SITZVERTEILUNG IM THÜRINGER LANDTAG\\nDIE LINKE...</td>\n",
       "      <td>Twitter Web App</td>\n",
       "      <td>2021-07-23</td>\n",
       "      <td>de</td>\n",
       "      <td>1.595492e+08</td>\n",
       "      <td>0.0</td>\n",
       "      <td>0.0</td>\n",
       "      <td>...</td>\n",
       "      <td>23.0</td>\n",
       "      <td>NaN</td>\n",
       "      <td>NaN</td>\n",
       "      <td>NaN</td>\n",
       "      <td>NaN</td>\n",
       "      <td>NaN</td>\n",
       "      <td>NaN</td>\n",
       "      <td>NaN</td>\n",
       "      <td>neutral</td>\n",
       "      <td>SPD</td>\n",
       "    </tr>\n",
       "  </tbody>\n",
       "</table>\n",
       "<p>192121 rows × 29 columns</p>\n",
       "</div>"
      ],
      "text/plain": [
       "        Unnamed: 0  Unnamed: 0.1             tweet_id  \\\n",
       "0                0             0  1431043493338750977   \n",
       "1                1             1  1431042979431649285   \n",
       "2                2             2  1431042900192899072   \n",
       "3                3             3  1431042788259414018   \n",
       "4                4             4  1431027227362201607   \n",
       "...            ...           ...                  ...   \n",
       "192116      342803        192123  1418364561158295552   \n",
       "192117      342804        192124  1418362337048858634   \n",
       "192118      342805        192125  1418361049670197248   \n",
       "192119      342806        192126  1418360831675441153   \n",
       "192120      342807        192127  1418360298386477059   \n",
       "\n",
       "                                                     text  \\\n",
       "0       @susan_d7 @FabioDeMasi Ich will mit der SPD ni...   \n",
       "1       @michael_breuer1 Die SPD kann noch ein paar wi...   \n",
       "2       @Christoph_Br1 Helmut Schmidt wäre mutmaßlich ...   \n",
       "3       Hat das nicht eine Bezeichnung? \\n#bigott? \\n#...   \n",
       "4       Liebe @JuSosBerlin, @spdberlin, #SPD, \\nEure S...   \n",
       "...                                                   ...   \n",
       "192116  @Standpunkt4 @Ganymed_62 @spdde Ja, das sieht ...   \n",
       "192117  @VioLaBlubber @BenPro239 Ist nen langer Weg. M...   \n",
       "192118  @sanktionsfrei @BambiTango @spdbt Einen Apfel....   \n",
       "192119  @Rolando28927284 @Markus__Lanz @KEigendorf @la...   \n",
       "192120  SITZVERTEILUNG IM THÜRINGER LANDTAG\\nDIE LINKE...   \n",
       "\n",
       "                     source tweet_created_at lang     author_id  \\\n",
       "0           Twitter Web App       2021-08-26   de  1.941500e+09   \n",
       "1           Twitter Web App       2021-08-26   de  1.061389e+18   \n",
       "2        Twitter for iPhone       2021-08-26   de  1.175749e+18   \n",
       "3           Twitter Web App       2021-08-26   de  1.379948e+18   \n",
       "4           Twitter Web App       2021-08-26   de  1.379948e+18   \n",
       "...                     ...              ...  ...           ...   \n",
       "192116      Twitter Web App       2021-07-23   de  1.169733e+18   \n",
       "192117      Twitter Web App       2021-07-23   de  1.370015e+18   \n",
       "192118  Twitter for Android       2021-07-23   de  4.493653e+08   \n",
       "192119  Twitter for Android       2021-07-23   de  1.279723e+18   \n",
       "192120      Twitter Web App       2021-07-23   de  1.595492e+08   \n",
       "\n",
       "        public_metrics.retweet_count  public_metrics.reply_count  ...  \\\n",
       "0                                0.0                         0.0  ...   \n",
       "1                                0.0                         0.0  ...   \n",
       "2                                0.0                         1.0  ...   \n",
       "3                                0.0                         0.0  ...   \n",
       "4                                0.0                         0.0  ...   \n",
       "...                              ...                         ...  ...   \n",
       "192116                           0.0                         0.0  ...   \n",
       "192117                           0.0                         0.0  ...   \n",
       "192118                           0.0                         0.0  ...   \n",
       "192119                           0.0                         1.0  ...   \n",
       "192120                           0.0                         0.0  ...   \n",
       "\n",
       "        public_metrics.listed_count  withheld.copyright  \\\n",
       "0                               0.0                 NaN   \n",
       "1                              10.0                 NaN   \n",
       "2                               1.0                 NaN   \n",
       "3                               2.0                 NaN   \n",
       "4                               2.0                 NaN   \n",
       "...                             ...                 ...   \n",
       "192116                          0.0                 NaN   \n",
       "192117                          6.0                 NaN   \n",
       "192118                         28.0                 NaN   \n",
       "192119                          0.0                 NaN   \n",
       "192120                         23.0                 NaN   \n",
       "\n",
       "       withheld.country_codes withheld.scope withheld.country_codes_x  \\\n",
       "0                         NaN            NaN                      NaN   \n",
       "1                         NaN            NaN                      NaN   \n",
       "2                         NaN            NaN                      NaN   \n",
       "3                         NaN            NaN                      NaN   \n",
       "4                         NaN            NaN                      NaN   \n",
       "...                       ...            ...                      ...   \n",
       "192116                    NaN            NaN                      NaN   \n",
       "192117                    NaN            NaN                      NaN   \n",
       "192118                    NaN            NaN                      NaN   \n",
       "192119                    NaN            NaN                      NaN   \n",
       "192120                    NaN            NaN                      NaN   \n",
       "\n",
       "       withheld.scope_x  withheld.country_codes_y  withheld.scope_y  \\\n",
       "0                   NaN                       NaN               NaN   \n",
       "1                   NaN                       NaN               NaN   \n",
       "2                   NaN                       NaN               NaN   \n",
       "3                   NaN                       NaN               NaN   \n",
       "4                   NaN                       NaN               NaN   \n",
       "...                 ...                       ...               ...   \n",
       "192116              NaN                       NaN               NaN   \n",
       "192117              NaN                       NaN               NaN   \n",
       "192118              NaN                       NaN               NaN   \n",
       "192119              NaN                       NaN               NaN   \n",
       "192120              NaN                       NaN               NaN   \n",
       "\n",
       "        sentiment  party  \n",
       "0        positive    CDU  \n",
       "1        negative    CDU  \n",
       "2        positive    SPD  \n",
       "3        negative    SPD  \n",
       "4        positive  LINKE  \n",
       "...           ...    ...  \n",
       "192116   negative    SPD  \n",
       "192117   negative    SPD  \n",
       "192118    neutral    SPD  \n",
       "192119    neutral    SPD  \n",
       "192120    neutral    SPD  \n",
       "\n",
       "[192121 rows x 29 columns]"
      ]
     },
     "execution_count": 15,
     "metadata": {},
     "output_type": "execute_result"
    }
   ],
   "source": [
    "pd.read_csv(\"../../raw_data/test.csv\")"
   ]
  },
  {
   "cell_type": "code",
   "execution_count": 5,
   "id": "c142f15b",
   "metadata": {
    "scrolled": true
   },
   "outputs": [
    {
     "name": "stderr",
     "output_type": "stream",
     "text": [
      "/var/folders/r8/ml9zphbs05z5wx9ykw9g7r_40000gn/T/ipykernel_7464/1953417072.py:6: SettingWithCopyWarning: \n",
      "A value is trying to be set on a copy of a slice from a DataFrame.\n",
      "Try using .loc[row_indexer,col_indexer] = value instead\n",
      "\n",
      "See the caveats in the documentation: https://pandas.pydata.org/pandas-docs/stable/user_guide/indexing.html#returning-a-view-versus-a-copy\n",
      "  tweets[\"tweet_created_at\"] = pd.to_datetime(tweets[\"tweet_created_at\"])\n",
      "/var/folders/r8/ml9zphbs05z5wx9ykw9g7r_40000gn/T/ipykernel_7464/1953417072.py:9: SettingWithCopyWarning: \n",
      "A value is trying to be set on a copy of a slice from a DataFrame.\n",
      "Try using .loc[row_indexer,col_indexer] = value instead\n",
      "\n",
      "See the caveats in the documentation: https://pandas.pydata.org/pandas-docs/stable/user_guide/indexing.html#returning-a-view-versus-a-copy\n",
      "  tweets[\"tweet_created_at\"]=tweets[\"tweet_created_at\"].dt.strftime('%Y-%m-%d')\n"
     ]
    }
   ],
   "source": [
    "test = transform_date(test)"
   ]
  },
  {
   "cell_type": "code",
   "execution_count": 18,
   "id": "48e8939f",
   "metadata": {},
   "outputs": [],
   "source": [
    "def most_popular_tweets(df, tweet_date):\n",
    "    ''' Find and return the most liked/ most retweets positive and negative tweets per party'''\n",
    "    \n",
    "    #Create empty dataframe for most likes and most retweeted tweets\n",
    "    most_liked_tweets = pd.DataFrame()\n",
    "    most_retweeted_tweets = pd.DataFrame()\n",
    "    \n",
    "    # Create lists for iterations for party and sentiment\n",
    "    parties = [\"SPD\", \"CDU\", \"LINKE\", \"GRUENE\", \"FDP\", \"AFD\", \"OTHERS\"]\n",
    "    sentiments = [\"positive\", \"negative\"]\n",
    "    \n",
    "    #Columns to keep\n",
    "    columns = ['text', \n",
    "           'tweet_created_at', \n",
    "           'public_metrics.retweet_count', \n",
    "           'public_metrics.reply_count', \n",
    "           'public_metrics.like_count', \n",
    "           'username', \n",
    "           'sentiment', \n",
    "           \"party\"\n",
    "          ]\n",
    "    \n",
    "    #Only keep relevant columns of Twitter dataframe\n",
    "    df = df[columns]\n",
    "\n",
    "    #Change datatype to numeric\n",
    "    df[\"public_metrics.like_count\"] = pd.to_numeric(\n",
    "        df[\"public_metrics.like_count\"])\n",
    "    df[\"public_metrics.reply_count\"] = pd.to_numeric(\n",
    "        df[\"public_metrics.reply_count\"])\n",
    "\n",
    "    # Filter df for day of tweet\n",
    "    df = df[df[\"tweet_created_at\"]==tweet_date]\n",
    "\n",
    "    #Get most liked/ retweeted Tweets over all parties\n",
    "    for sentiment in sentiments:\n",
    "\n",
    "        #Filter for sentiment\n",
    "        tweets_tmp = pd.DataFrame(\n",
    "            df[df[\"sentiment\"] == sentiment].reset_index())\n",
    "\n",
    "        # Find tweet with most likes and concatenate to final df\n",
    "        most_liked_tweet = tweets_tmp.iloc[[\n",
    "            tweets_tmp[\"public_metrics.like_count\"].idxmax()\n",
    "        ]]\n",
    "        most_liked_tweets = pd.concat([most_liked_tweets, most_liked_tweet],\n",
    "                                      ignore_index=True)\n",
    "        most_liked_tweets[\"party\"] = \"OVERALL\"\n",
    "\n",
    "        # Find tweet with most retweets and concatenate to final df\n",
    "        most_retweeted_tweet = tweets_tmp.iloc[[\n",
    "            tweets_tmp[\"public_metrics.retweet_count\"].idxmax()\n",
    "        ]]\n",
    "        most_retweeted_tweets = pd.concat(\n",
    "            [most_retweeted_tweets, most_retweeted_tweet], ignore_index=True)\n",
    "        most_retweeted_tweets[\"party\"] = \"OVERALL\"\n",
    "\n",
    "    #Get most liked/ retweeted Tweets for each party\n",
    "    for party in parties:\n",
    "\n",
    "        tweets_party_df = df[df[\"party\"] == party]\n",
    "\n",
    "        #Find tweets with most likes & most retweets per party and concatenate them to the final dfs\n",
    "        for sentiment in sentiments:\n",
    "\n",
    "            #Filter for sentiment\n",
    "            tweets_tmp = pd.DataFrame(tweets_party_df[\n",
    "                tweets_party_df[\"sentiment\"] == sentiment].reset_index())\n",
    "\n",
    "            # Find tweet with most likes and concatenate to final df\n",
    "            most_liked_tweet = tweets_tmp.iloc[[\n",
    "                tweets_tmp[\"public_metrics.like_count\"].idxmax()\n",
    "            ]]\n",
    "            most_liked_tweets = pd.concat(\n",
    "                [most_liked_tweets, most_liked_tweet], ignore_index=True)\n",
    "\n",
    "            # Find tweet with most retweets and concatenate to final df\n",
    "            most_retweeted_tweet = tweets_tmp.iloc[[\n",
    "                tweets_tmp[\"public_metrics.retweet_count\"].idxmax()\n",
    "            ]]\n",
    "            most_retweeted_tweets = pd.concat(\n",
    "                [most_retweeted_tweets, most_retweeted_tweet],\n",
    "                ignore_index=True)\n",
    "            \n",
    "    return most_liked_tweets, most_retweeted_tweets"
   ]
  },
  {
   "cell_type": "code",
   "execution_count": null,
   "id": "7420f462",
   "metadata": {},
   "outputs": [],
   "source": [
    "df=test \n",
    "tweet_date = \n",
    "\n",
    "#Create empty dataframe for most likes and most retweeted tweets\n",
    "most_liked_tweets = pd.DataFrame()\n",
    "most_retweeted_tweets = pd.DataFrame()\n",
    "\n",
    "# Create lists for iterations for party and sentiment\n",
    "parties = [\"SPD\", \"CDU\", \"LINKE\", \"GRUENE\", \"FDP\", \"AFD\", \"OTHERS\"]\n",
    "sentiments = [\"positive\", \"negative\"]\n",
    "\n",
    "#Columns to keep\n",
    "columns = ['text', \n",
    "       'tweet_created_at', \n",
    "       'public_metrics.retweet_count', \n",
    "       'public_metrics.reply_count', \n",
    "       'public_metrics.like_count', \n",
    "       'username', \n",
    "       'sentiment', \n",
    "       \"party\"\n",
    "      ]\n",
    "\n",
    "#Only keep relevant columns of Twitter dataframe\n",
    "df = df[columns]\n",
    "\n",
    "#Change datatype to numeric\n",
    "df[\"public_metrics.like_count\"] = pd.to_numeric(\n",
    "    df[\"public_metrics.like_count\"])\n",
    "df[\"public_metrics.reply_count\"] = pd.to_numeric(\n",
    "    df[\"public_metrics.reply_count\"])\n",
    "\n",
    "# Filter df for day of tweet\n",
    "df = df[df[\"tweet_created_at\"]==tweet_date]\n",
    "\n",
    "#Get most liked/ retweeted Tweets over all parties\n",
    "for sentiment in sentiments:\n",
    "\n",
    "    #Filter for sentiment\n",
    "    tweets_tmp = pd.DataFrame(\n",
    "        df[df[\"sentiment\"] == sentiment].reset_index())\n",
    "\n",
    "    # Find tweet with most likes and concatenate to final df\n",
    "    most_liked_tweet = tweets_tmp.iloc[[\n",
    "        tweets_tmp[\"public_metrics.like_count\"].idxmax()\n",
    "    ]]\n",
    "    most_liked_tweets = pd.concat([most_liked_tweets, most_liked_tweet],\n",
    "                                  ignore_index=True)\n",
    "    most_liked_tweets[\"party\"] = \"OVERALL\"\n",
    "\n",
    "    # Find tweet with most retweets and concatenate to final df\n",
    "    most_retweeted_tweet = tweets_tmp.iloc[[\n",
    "        tweets_tmp[\"public_metrics.retweet_count\"].idxmax()\n",
    "    ]]\n",
    "    most_retweeted_tweets = pd.concat(\n",
    "        [most_retweeted_tweets, most_retweeted_tweet], ignore_index=True)\n",
    "    most_retweeted_tweets[\"party\"] = \"OVERALL\"\n",
    "\n",
    "#Get most liked/ retweeted Tweets for each party\n",
    "for party in parties:\n",
    "\n",
    "    tweets_party_df = df[df[\"party\"] == party]\n",
    "\n",
    "    #Find tweets with most likes & most retweets per party and concatenate them to the final dfs\n",
    "    for sentiment in sentiments:\n",
    "\n",
    "        #Filter for sentiment\n",
    "        tweets_tmp = pd.DataFrame(tweets_party_df[\n",
    "            tweets_party_df[\"sentiment\"] == sentiment].reset_index())\n",
    "\n",
    "        # Find tweet with most likes and concatenate to final df\n",
    "        most_liked_tweet = tweets_tmp.iloc[[\n",
    "            tweets_tmp[\"public_metrics.like_count\"].idxmax()\n",
    "        ]]\n",
    "        most_liked_tweets = pd.concat(\n",
    "            [most_liked_tweets, most_liked_tweet], ignore_index=True)\n",
    "\n",
    "        # Find tweet with most retweets and concatenate to final df\n",
    "        most_retweeted_tweet = tweets_tmp.iloc[[\n",
    "            tweets_tmp[\"public_metrics.retweet_count\"].idxmax()\n",
    "        ]]\n",
    "        most_retweeted_tweets = pd.concat(\n",
    "            [most_retweeted_tweets, most_retweeted_tweet],\n",
    "            ignore_index=True)"
   ]
  },
  {
   "cell_type": "code",
   "execution_count": 19,
   "id": "14835ebd",
   "metadata": {},
   "outputs": [
    {
     "name": "stderr",
     "output_type": "stream",
     "text": [
      "/var/folders/r8/ml9zphbs05z5wx9ykw9g7r_40000gn/T/ipykernel_7464/2547614926.py:27: SettingWithCopyWarning: \n",
      "A value is trying to be set on a copy of a slice from a DataFrame.\n",
      "Try using .loc[row_indexer,col_indexer] = value instead\n",
      "\n",
      "See the caveats in the documentation: https://pandas.pydata.org/pandas-docs/stable/user_guide/indexing.html#returning-a-view-versus-a-copy\n",
      "  df[\"public_metrics.like_count\"] = pd.to_numeric(\n",
      "/var/folders/r8/ml9zphbs05z5wx9ykw9g7r_40000gn/T/ipykernel_7464/2547614926.py:29: SettingWithCopyWarning: \n",
      "A value is trying to be set on a copy of a slice from a DataFrame.\n",
      "Try using .loc[row_indexer,col_indexer] = value instead\n",
      "\n",
      "See the caveats in the documentation: https://pandas.pydata.org/pandas-docs/stable/user_guide/indexing.html#returning-a-view-versus-a-copy\n",
      "  df[\"public_metrics.reply_count\"] = pd.to_numeric(\n"
     ]
    }
   ],
   "source": [
    "most_liked_tweets, most_retweeted_tweets = most_popular_tweets(test, \"2021-08-26\")"
   ]
  },
  {
   "cell_type": "code",
   "execution_count": 23,
   "id": "109e38a3",
   "metadata": {},
   "outputs": [
    {
     "data": {
      "text/plain": [
       "4344.0"
      ]
     },
     "execution_count": 23,
     "metadata": {},
     "output_type": "execute_result"
    }
   ],
   "source": [
    "test[\"public_metrics.retweet_count\"].max()"
   ]
  },
  {
   "cell_type": "code",
   "execution_count": 24,
   "id": "0680fe66",
   "metadata": {},
   "outputs": [
    {
     "data": {
      "text/html": [
       "<div>\n",
       "<style scoped>\n",
       "    .dataframe tbody tr th:only-of-type {\n",
       "        vertical-align: middle;\n",
       "    }\n",
       "\n",
       "    .dataframe tbody tr th {\n",
       "        vertical-align: top;\n",
       "    }\n",
       "\n",
       "    .dataframe thead th {\n",
       "        text-align: right;\n",
       "    }\n",
       "</style>\n",
       "<table border=\"1\" class=\"dataframe\">\n",
       "  <thead>\n",
       "    <tr style=\"text-align: right;\">\n",
       "      <th></th>\n",
       "      <th>index</th>\n",
       "      <th>text</th>\n",
       "      <th>tweet_created_at</th>\n",
       "      <th>public_metrics.retweet_count</th>\n",
       "      <th>public_metrics.reply_count</th>\n",
       "      <th>public_metrics.like_count</th>\n",
       "      <th>username</th>\n",
       "      <th>sentiment</th>\n",
       "      <th>party</th>\n",
       "    </tr>\n",
       "  </thead>\n",
       "  <tbody>\n",
       "    <tr>\n",
       "      <th>0</th>\n",
       "      <td>6562</td>\n",
       "      <td>Die SPD macht in praktisch jeder Hinsicht grad...</td>\n",
       "      <td>2021-08-26</td>\n",
       "      <td>52.0</td>\n",
       "      <td>33.0</td>\n",
       "      <td>469.0</td>\n",
       "      <td>hwieduwilt</td>\n",
       "      <td>positive</td>\n",
       "      <td>OVERALL</td>\n",
       "    </tr>\n",
       "    <tr>\n",
       "      <th>1</th>\n",
       "      <td>2068</td>\n",
       "      <td>Schon mal dran gedacht, Scholz &amp;amp; SPD zu wä...</td>\n",
       "      <td>2021-08-26</td>\n",
       "      <td>848.0</td>\n",
       "      <td>116.0</td>\n",
       "      <td>3451.0</td>\n",
       "      <td>MartinSonneborn</td>\n",
       "      <td>negative</td>\n",
       "      <td>OVERALL</td>\n",
       "    </tr>\n",
       "    <tr>\n",
       "      <th>2</th>\n",
       "      <td>6562</td>\n",
       "      <td>Die SPD macht in praktisch jeder Hinsicht grad...</td>\n",
       "      <td>2021-08-26</td>\n",
       "      <td>52.0</td>\n",
       "      <td>33.0</td>\n",
       "      <td>469.0</td>\n",
       "      <td>hwieduwilt</td>\n",
       "      <td>positive</td>\n",
       "      <td>SPD</td>\n",
       "    </tr>\n",
       "    <tr>\n",
       "      <th>3</th>\n",
       "      <td>2068</td>\n",
       "      <td>Schon mal dran gedacht, Scholz &amp;amp; SPD zu wä...</td>\n",
       "      <td>2021-08-26</td>\n",
       "      <td>848.0</td>\n",
       "      <td>116.0</td>\n",
       "      <td>3451.0</td>\n",
       "      <td>MartinSonneborn</td>\n",
       "      <td>negative</td>\n",
       "      <td>SPD</td>\n",
       "    </tr>\n",
       "    <tr>\n",
       "      <th>4</th>\n",
       "      <td>0</td>\n",
       "      <td>@susan_d7 @FabioDeMasi Ich will mit der SPD ni...</td>\n",
       "      <td>2021-08-26</td>\n",
       "      <td>0.0</td>\n",
       "      <td>0.0</td>\n",
       "      <td>1.0</td>\n",
       "      <td>Gerdalbert</td>\n",
       "      <td>positive</td>\n",
       "      <td>CDU</td>\n",
       "    </tr>\n",
       "    <tr>\n",
       "      <th>5</th>\n",
       "      <td>1</td>\n",
       "      <td>@michael_breuer1 Die SPD kann noch ein paar wi...</td>\n",
       "      <td>2021-08-26</td>\n",
       "      <td>0.0</td>\n",
       "      <td>0.0</td>\n",
       "      <td>0.0</td>\n",
       "      <td>TirtsasKram</td>\n",
       "      <td>negative</td>\n",
       "      <td>CDU</td>\n",
       "    </tr>\n",
       "    <tr>\n",
       "      <th>6</th>\n",
       "      <td>4</td>\n",
       "      <td>Liebe @JuSosBerlin, @spdberlin, #SPD, \\nEure S...</td>\n",
       "      <td>2021-08-26</td>\n",
       "      <td>0.0</td>\n",
       "      <td>0.0</td>\n",
       "      <td>0.0</td>\n",
       "      <td>dampfsegen</td>\n",
       "      <td>positive</td>\n",
       "      <td>LINKE</td>\n",
       "    </tr>\n",
       "    <tr>\n",
       "      <th>7</th>\n",
       "      <td>5</td>\n",
       "      <td>@KatjaMast @OlafScholz Die SPD sitzt seit Jahr...</td>\n",
       "      <td>2021-08-26</td>\n",
       "      <td>0.0</td>\n",
       "      <td>1.0</td>\n",
       "      <td>0.0</td>\n",
       "      <td>thommx</td>\n",
       "      <td>negative</td>\n",
       "      <td>LINKE</td>\n",
       "    </tr>\n",
       "    <tr>\n",
       "      <th>8</th>\n",
       "      <td>6</td>\n",
       "      <td>@nuklearchecker @diggadude @rhoenschnegge Herr...</td>\n",
       "      <td>2021-08-26</td>\n",
       "      <td>0.0</td>\n",
       "      <td>0.0</td>\n",
       "      <td>0.0</td>\n",
       "      <td>chaosqueen64</td>\n",
       "      <td>positive</td>\n",
       "      <td>GRUENE</td>\n",
       "    </tr>\n",
       "    <tr>\n",
       "      <th>9</th>\n",
       "      <td>7</td>\n",
       "      <td>@HataniDUS Aber Aussenministerin im Kabinett S...</td>\n",
       "      <td>2021-08-26</td>\n",
       "      <td>0.0</td>\n",
       "      <td>1.0</td>\n",
       "      <td>0.0</td>\n",
       "      <td>AndreDeutschBCN</td>\n",
       "      <td>negative</td>\n",
       "      <td>GRUENE</td>\n",
       "    </tr>\n",
       "    <tr>\n",
       "      <th>10</th>\n",
       "      <td>8</td>\n",
       "      <td>Mit dem Feuer der Grammatik spielt man nicht. ...</td>\n",
       "      <td>2021-08-26</td>\n",
       "      <td>0.0</td>\n",
       "      <td>0.0</td>\n",
       "      <td>0.0</td>\n",
       "      <td>Beratungszimmer</td>\n",
       "      <td>positive</td>\n",
       "      <td>FDP</td>\n",
       "    </tr>\n",
       "    <tr>\n",
       "      <th>11</th>\n",
       "      <td>9</td>\n",
       "      <td>@Wolf23031 @blume_im_revier @Christoph_Br1 dir...</td>\n",
       "      <td>2021-08-26</td>\n",
       "      <td>0.0</td>\n",
       "      <td>1.0</td>\n",
       "      <td>0.0</td>\n",
       "      <td>Inspect45409871</td>\n",
       "      <td>negative</td>\n",
       "      <td>FDP</td>\n",
       "    </tr>\n",
       "    <tr>\n",
       "      <th>12</th>\n",
       "      <td>10</td>\n",
       "      <td>@Wolf23031 @blume_im_revier @Christoph_Br1 wen...</td>\n",
       "      <td>2021-08-26</td>\n",
       "      <td>0.0</td>\n",
       "      <td>1.0</td>\n",
       "      <td>25.0</td>\n",
       "      <td>Inspect45409871</td>\n",
       "      <td>positive</td>\n",
       "      <td>AFD</td>\n",
       "    </tr>\n",
       "    <tr>\n",
       "      <th>13</th>\n",
       "      <td>11</td>\n",
       "      <td>Thomas Carle: MACHEN. EINFACH IMMER MACHEN.\" |...</td>\n",
       "      <td>2021-08-26</td>\n",
       "      <td>0.0</td>\n",
       "      <td>0.0</td>\n",
       "      <td>0.0</td>\n",
       "      <td>thomascarle</td>\n",
       "      <td>negative</td>\n",
       "      <td>AFD</td>\n",
       "    </tr>\n",
       "    <tr>\n",
       "      <th>14</th>\n",
       "      <td>12</td>\n",
       "      <td>Hier wird ein Kanzlerkandidat zum Schlumpf!  h...</td>\n",
       "      <td>2021-08-26</td>\n",
       "      <td>2.0</td>\n",
       "      <td>0.0</td>\n",
       "      <td>1.0</td>\n",
       "      <td>sabine_m_b</td>\n",
       "      <td>positive</td>\n",
       "      <td>OTHERS</td>\n",
       "    </tr>\n",
       "    <tr>\n",
       "      <th>15</th>\n",
       "      <td>13</td>\n",
       "      <td>@Wolf23031 @Inspect45409871 @blume_im_revier @...</td>\n",
       "      <td>2021-08-26</td>\n",
       "      <td>0.0</td>\n",
       "      <td>1.0</td>\n",
       "      <td>5.0</td>\n",
       "      <td>VeraKali1</td>\n",
       "      <td>negative</td>\n",
       "      <td>OTHERS</td>\n",
       "    </tr>\n",
       "  </tbody>\n",
       "</table>\n",
       "</div>"
      ],
      "text/plain": [
       "    index                                               text tweet_created_at  \\\n",
       "0    6562  Die SPD macht in praktisch jeder Hinsicht grad...       2021-08-26   \n",
       "1    2068  Schon mal dran gedacht, Scholz &amp; SPD zu wä...       2021-08-26   \n",
       "2    6562  Die SPD macht in praktisch jeder Hinsicht grad...       2021-08-26   \n",
       "3    2068  Schon mal dran gedacht, Scholz &amp; SPD zu wä...       2021-08-26   \n",
       "4       0  @susan_d7 @FabioDeMasi Ich will mit der SPD ni...       2021-08-26   \n",
       "5       1  @michael_breuer1 Die SPD kann noch ein paar wi...       2021-08-26   \n",
       "6       4  Liebe @JuSosBerlin, @spdberlin, #SPD, \\nEure S...       2021-08-26   \n",
       "7       5  @KatjaMast @OlafScholz Die SPD sitzt seit Jahr...       2021-08-26   \n",
       "8       6  @nuklearchecker @diggadude @rhoenschnegge Herr...       2021-08-26   \n",
       "9       7  @HataniDUS Aber Aussenministerin im Kabinett S...       2021-08-26   \n",
       "10      8  Mit dem Feuer der Grammatik spielt man nicht. ...       2021-08-26   \n",
       "11      9  @Wolf23031 @blume_im_revier @Christoph_Br1 dir...       2021-08-26   \n",
       "12     10  @Wolf23031 @blume_im_revier @Christoph_Br1 wen...       2021-08-26   \n",
       "13     11  Thomas Carle: MACHEN. EINFACH IMMER MACHEN.\" |...       2021-08-26   \n",
       "14     12  Hier wird ein Kanzlerkandidat zum Schlumpf!  h...       2021-08-26   \n",
       "15     13  @Wolf23031 @Inspect45409871 @blume_im_revier @...       2021-08-26   \n",
       "\n",
       "    public_metrics.retweet_count  public_metrics.reply_count  \\\n",
       "0                           52.0                        33.0   \n",
       "1                          848.0                       116.0   \n",
       "2                           52.0                        33.0   \n",
       "3                          848.0                       116.0   \n",
       "4                            0.0                         0.0   \n",
       "5                            0.0                         0.0   \n",
       "6                            0.0                         0.0   \n",
       "7                            0.0                         1.0   \n",
       "8                            0.0                         0.0   \n",
       "9                            0.0                         1.0   \n",
       "10                           0.0                         0.0   \n",
       "11                           0.0                         1.0   \n",
       "12                           0.0                         1.0   \n",
       "13                           0.0                         0.0   \n",
       "14                           2.0                         0.0   \n",
       "15                           0.0                         1.0   \n",
       "\n",
       "    public_metrics.like_count         username sentiment    party  \n",
       "0                       469.0       hwieduwilt  positive  OVERALL  \n",
       "1                      3451.0  MartinSonneborn  negative  OVERALL  \n",
       "2                       469.0       hwieduwilt  positive      SPD  \n",
       "3                      3451.0  MartinSonneborn  negative      SPD  \n",
       "4                         1.0       Gerdalbert  positive      CDU  \n",
       "5                         0.0      TirtsasKram  negative      CDU  \n",
       "6                         0.0       dampfsegen  positive    LINKE  \n",
       "7                         0.0           thommx  negative    LINKE  \n",
       "8                         0.0     chaosqueen64  positive   GRUENE  \n",
       "9                         0.0  AndreDeutschBCN  negative   GRUENE  \n",
       "10                        0.0  Beratungszimmer  positive      FDP  \n",
       "11                        0.0  Inspect45409871  negative      FDP  \n",
       "12                       25.0  Inspect45409871  positive      AFD  \n",
       "13                        0.0      thomascarle  negative      AFD  \n",
       "14                        1.0       sabine_m_b  positive   OTHERS  \n",
       "15                        5.0        VeraKali1  negative   OTHERS  "
      ]
     },
     "execution_count": 24,
     "metadata": {},
     "output_type": "execute_result"
    }
   ],
   "source": [
    "most_retweeted_tweets"
   ]
  },
  {
   "cell_type": "code",
   "execution_count": 35,
   "id": "56383448",
   "metadata": {},
   "outputs": [
    {
     "data": {
      "text/plain": [
       "3451.0"
      ]
     },
     "execution_count": 35,
     "metadata": {},
     "output_type": "execute_result"
    }
   ],
   "source": [
    "pd.to_numeric(test[test[\"tweet_created_at\"]==\"2021-08-26\"][\"public_metrics.like_count\"]).max()"
   ]
  },
  {
   "cell_type": "code",
   "execution_count": 28,
   "id": "5e848acc",
   "metadata": {},
   "outputs": [
    {
     "data": {
      "text/html": [
       "<div>\n",
       "<style scoped>\n",
       "    .dataframe tbody tr th:only-of-type {\n",
       "        vertical-align: middle;\n",
       "    }\n",
       "\n",
       "    .dataframe tbody tr th {\n",
       "        vertical-align: top;\n",
       "    }\n",
       "\n",
       "    .dataframe thead th {\n",
       "        text-align: right;\n",
       "    }\n",
       "</style>\n",
       "<table border=\"1\" class=\"dataframe\">\n",
       "  <thead>\n",
       "    <tr style=\"text-align: right;\">\n",
       "      <th></th>\n",
       "      <th>index</th>\n",
       "      <th>text</th>\n",
       "      <th>tweet_created_at</th>\n",
       "      <th>public_metrics.retweet_count</th>\n",
       "      <th>public_metrics.reply_count</th>\n",
       "      <th>public_metrics.like_count</th>\n",
       "      <th>username</th>\n",
       "      <th>sentiment</th>\n",
       "      <th>party</th>\n",
       "    </tr>\n",
       "  </thead>\n",
       "  <tbody>\n",
       "    <tr>\n",
       "      <th>0</th>\n",
       "      <td>6562</td>\n",
       "      <td>Die SPD macht in praktisch jeder Hinsicht grad...</td>\n",
       "      <td>2021-08-26</td>\n",
       "      <td>52.0</td>\n",
       "      <td>33.0</td>\n",
       "      <td>469.0</td>\n",
       "      <td>hwieduwilt</td>\n",
       "      <td>positive</td>\n",
       "      <td>OVERALL</td>\n",
       "    </tr>\n",
       "    <tr>\n",
       "      <th>1</th>\n",
       "      <td>2068</td>\n",
       "      <td>Schon mal dran gedacht, Scholz &amp;amp; SPD zu wä...</td>\n",
       "      <td>2021-08-26</td>\n",
       "      <td>848.0</td>\n",
       "      <td>116.0</td>\n",
       "      <td>3451.0</td>\n",
       "      <td>MartinSonneborn</td>\n",
       "      <td>negative</td>\n",
       "      <td>OVERALL</td>\n",
       "    </tr>\n",
       "    <tr>\n",
       "      <th>2</th>\n",
       "      <td>6562</td>\n",
       "      <td>Die SPD macht in praktisch jeder Hinsicht grad...</td>\n",
       "      <td>2021-08-26</td>\n",
       "      <td>52.0</td>\n",
       "      <td>33.0</td>\n",
       "      <td>469.0</td>\n",
       "      <td>hwieduwilt</td>\n",
       "      <td>positive</td>\n",
       "      <td>SPD</td>\n",
       "    </tr>\n",
       "    <tr>\n",
       "      <th>3</th>\n",
       "      <td>2068</td>\n",
       "      <td>Schon mal dran gedacht, Scholz &amp;amp; SPD zu wä...</td>\n",
       "      <td>2021-08-26</td>\n",
       "      <td>848.0</td>\n",
       "      <td>116.0</td>\n",
       "      <td>3451.0</td>\n",
       "      <td>MartinSonneborn</td>\n",
       "      <td>negative</td>\n",
       "      <td>SPD</td>\n",
       "    </tr>\n",
       "    <tr>\n",
       "      <th>4</th>\n",
       "      <td>0</td>\n",
       "      <td>@susan_d7 @FabioDeMasi Ich will mit der SPD ni...</td>\n",
       "      <td>2021-08-26</td>\n",
       "      <td>0.0</td>\n",
       "      <td>0.0</td>\n",
       "      <td>1.0</td>\n",
       "      <td>Gerdalbert</td>\n",
       "      <td>positive</td>\n",
       "      <td>CDU</td>\n",
       "    </tr>\n",
       "    <tr>\n",
       "      <th>5</th>\n",
       "      <td>1</td>\n",
       "      <td>@michael_breuer1 Die SPD kann noch ein paar wi...</td>\n",
       "      <td>2021-08-26</td>\n",
       "      <td>0.0</td>\n",
       "      <td>0.0</td>\n",
       "      <td>0.0</td>\n",
       "      <td>TirtsasKram</td>\n",
       "      <td>negative</td>\n",
       "      <td>CDU</td>\n",
       "    </tr>\n",
       "    <tr>\n",
       "      <th>6</th>\n",
       "      <td>4</td>\n",
       "      <td>Liebe @JuSosBerlin, @spdberlin, #SPD, \\nEure S...</td>\n",
       "      <td>2021-08-26</td>\n",
       "      <td>0.0</td>\n",
       "      <td>0.0</td>\n",
       "      <td>0.0</td>\n",
       "      <td>dampfsegen</td>\n",
       "      <td>positive</td>\n",
       "      <td>LINKE</td>\n",
       "    </tr>\n",
       "    <tr>\n",
       "      <th>7</th>\n",
       "      <td>5</td>\n",
       "      <td>@KatjaMast @OlafScholz Die SPD sitzt seit Jahr...</td>\n",
       "      <td>2021-08-26</td>\n",
       "      <td>0.0</td>\n",
       "      <td>1.0</td>\n",
       "      <td>0.0</td>\n",
       "      <td>thommx</td>\n",
       "      <td>negative</td>\n",
       "      <td>LINKE</td>\n",
       "    </tr>\n",
       "    <tr>\n",
       "      <th>8</th>\n",
       "      <td>6</td>\n",
       "      <td>@nuklearchecker @diggadude @rhoenschnegge Herr...</td>\n",
       "      <td>2021-08-26</td>\n",
       "      <td>0.0</td>\n",
       "      <td>0.0</td>\n",
       "      <td>0.0</td>\n",
       "      <td>chaosqueen64</td>\n",
       "      <td>positive</td>\n",
       "      <td>GRUENE</td>\n",
       "    </tr>\n",
       "    <tr>\n",
       "      <th>9</th>\n",
       "      <td>7</td>\n",
       "      <td>@HataniDUS Aber Aussenministerin im Kabinett S...</td>\n",
       "      <td>2021-08-26</td>\n",
       "      <td>0.0</td>\n",
       "      <td>1.0</td>\n",
       "      <td>0.0</td>\n",
       "      <td>AndreDeutschBCN</td>\n",
       "      <td>negative</td>\n",
       "      <td>GRUENE</td>\n",
       "    </tr>\n",
       "    <tr>\n",
       "      <th>10</th>\n",
       "      <td>8</td>\n",
       "      <td>Mit dem Feuer der Grammatik spielt man nicht. ...</td>\n",
       "      <td>2021-08-26</td>\n",
       "      <td>0.0</td>\n",
       "      <td>0.0</td>\n",
       "      <td>0.0</td>\n",
       "      <td>Beratungszimmer</td>\n",
       "      <td>positive</td>\n",
       "      <td>FDP</td>\n",
       "    </tr>\n",
       "    <tr>\n",
       "      <th>11</th>\n",
       "      <td>9</td>\n",
       "      <td>@Wolf23031 @blume_im_revier @Christoph_Br1 dir...</td>\n",
       "      <td>2021-08-26</td>\n",
       "      <td>0.0</td>\n",
       "      <td>1.0</td>\n",
       "      <td>0.0</td>\n",
       "      <td>Inspect45409871</td>\n",
       "      <td>negative</td>\n",
       "      <td>FDP</td>\n",
       "    </tr>\n",
       "    <tr>\n",
       "      <th>12</th>\n",
       "      <td>10</td>\n",
       "      <td>@Wolf23031 @blume_im_revier @Christoph_Br1 wen...</td>\n",
       "      <td>2021-08-26</td>\n",
       "      <td>0.0</td>\n",
       "      <td>1.0</td>\n",
       "      <td>25.0</td>\n",
       "      <td>Inspect45409871</td>\n",
       "      <td>positive</td>\n",
       "      <td>AFD</td>\n",
       "    </tr>\n",
       "    <tr>\n",
       "      <th>13</th>\n",
       "      <td>11</td>\n",
       "      <td>Thomas Carle: MACHEN. EINFACH IMMER MACHEN.\" |...</td>\n",
       "      <td>2021-08-26</td>\n",
       "      <td>0.0</td>\n",
       "      <td>0.0</td>\n",
       "      <td>0.0</td>\n",
       "      <td>thomascarle</td>\n",
       "      <td>negative</td>\n",
       "      <td>AFD</td>\n",
       "    </tr>\n",
       "    <tr>\n",
       "      <th>14</th>\n",
       "      <td>12</td>\n",
       "      <td>Hier wird ein Kanzlerkandidat zum Schlumpf!  h...</td>\n",
       "      <td>2021-08-26</td>\n",
       "      <td>2.0</td>\n",
       "      <td>0.0</td>\n",
       "      <td>1.0</td>\n",
       "      <td>sabine_m_b</td>\n",
       "      <td>positive</td>\n",
       "      <td>OTHERS</td>\n",
       "    </tr>\n",
       "    <tr>\n",
       "      <th>15</th>\n",
       "      <td>13</td>\n",
       "      <td>@Wolf23031 @Inspect45409871 @blume_im_revier @...</td>\n",
       "      <td>2021-08-26</td>\n",
       "      <td>0.0</td>\n",
       "      <td>1.0</td>\n",
       "      <td>5.0</td>\n",
       "      <td>VeraKali1</td>\n",
       "      <td>negative</td>\n",
       "      <td>OTHERS</td>\n",
       "    </tr>\n",
       "  </tbody>\n",
       "</table>\n",
       "</div>"
      ],
      "text/plain": [
       "    index                                               text tweet_created_at  \\\n",
       "0    6562  Die SPD macht in praktisch jeder Hinsicht grad...       2021-08-26   \n",
       "1    2068  Schon mal dran gedacht, Scholz &amp; SPD zu wä...       2021-08-26   \n",
       "2    6562  Die SPD macht in praktisch jeder Hinsicht grad...       2021-08-26   \n",
       "3    2068  Schon mal dran gedacht, Scholz &amp; SPD zu wä...       2021-08-26   \n",
       "4       0  @susan_d7 @FabioDeMasi Ich will mit der SPD ni...       2021-08-26   \n",
       "5       1  @michael_breuer1 Die SPD kann noch ein paar wi...       2021-08-26   \n",
       "6       4  Liebe @JuSosBerlin, @spdberlin, #SPD, \\nEure S...       2021-08-26   \n",
       "7       5  @KatjaMast @OlafScholz Die SPD sitzt seit Jahr...       2021-08-26   \n",
       "8       6  @nuklearchecker @diggadude @rhoenschnegge Herr...       2021-08-26   \n",
       "9       7  @HataniDUS Aber Aussenministerin im Kabinett S...       2021-08-26   \n",
       "10      8  Mit dem Feuer der Grammatik spielt man nicht. ...       2021-08-26   \n",
       "11      9  @Wolf23031 @blume_im_revier @Christoph_Br1 dir...       2021-08-26   \n",
       "12     10  @Wolf23031 @blume_im_revier @Christoph_Br1 wen...       2021-08-26   \n",
       "13     11  Thomas Carle: MACHEN. EINFACH IMMER MACHEN.\" |...       2021-08-26   \n",
       "14     12  Hier wird ein Kanzlerkandidat zum Schlumpf!  h...       2021-08-26   \n",
       "15     13  @Wolf23031 @Inspect45409871 @blume_im_revier @...       2021-08-26   \n",
       "\n",
       "    public_metrics.retweet_count  public_metrics.reply_count  \\\n",
       "0                           52.0                        33.0   \n",
       "1                          848.0                       116.0   \n",
       "2                           52.0                        33.0   \n",
       "3                          848.0                       116.0   \n",
       "4                            0.0                         0.0   \n",
       "5                            0.0                         0.0   \n",
       "6                            0.0                         0.0   \n",
       "7                            0.0                         1.0   \n",
       "8                            0.0                         0.0   \n",
       "9                            0.0                         1.0   \n",
       "10                           0.0                         0.0   \n",
       "11                           0.0                         1.0   \n",
       "12                           0.0                         1.0   \n",
       "13                           0.0                         0.0   \n",
       "14                           2.0                         0.0   \n",
       "15                           0.0                         1.0   \n",
       "\n",
       "    public_metrics.like_count         username sentiment    party  \n",
       "0                       469.0       hwieduwilt  positive  OVERALL  \n",
       "1                      3451.0  MartinSonneborn  negative  OVERALL  \n",
       "2                       469.0       hwieduwilt  positive      SPD  \n",
       "3                      3451.0  MartinSonneborn  negative      SPD  \n",
       "4                         1.0       Gerdalbert  positive      CDU  \n",
       "5                         0.0      TirtsasKram  negative      CDU  \n",
       "6                         0.0       dampfsegen  positive    LINKE  \n",
       "7                         0.0           thommx  negative    LINKE  \n",
       "8                         0.0     chaosqueen64  positive   GRUENE  \n",
       "9                         0.0  AndreDeutschBCN  negative   GRUENE  \n",
       "10                        0.0  Beratungszimmer  positive      FDP  \n",
       "11                        0.0  Inspect45409871  negative      FDP  \n",
       "12                       25.0  Inspect45409871  positive      AFD  \n",
       "13                        0.0      thomascarle  negative      AFD  \n",
       "14                        1.0       sabine_m_b  positive   OTHERS  \n",
       "15                        5.0        VeraKali1  negative   OTHERS  "
      ]
     },
     "execution_count": 28,
     "metadata": {},
     "output_type": "execute_result"
    }
   ],
   "source": [
    "most_liked_tweets"
   ]
  },
  {
   "cell_type": "markdown",
   "id": "48080a3f",
   "metadata": {},
   "source": [
    "# API"
   ]
  },
  {
   "cell_type": "code",
   "execution_count": null,
   "id": "08ea44a0",
   "metadata": {},
   "outputs": [],
   "source": [
    "# For sending GET requests from the API\n",
    "import requests\n",
    "# For saving access tokens and for file management when creating and adding to the dataset\n",
    "import os\n",
    "# For dealing with json responses we receive from the API\n",
    "import json\n",
    "# For displaying the data after\n",
    "import pandas as pd\n",
    "# For saving the response data in CSV format\n",
    "import csv\n",
    "# For parsing the dates received from twitter in readable formats\n",
    "import datetime\n",
    "import dateutil.parser\n",
    "import unicodedata\n",
    "#To add wait time between requests\n",
    "import time"
   ]
  },
  {
   "cell_type": "code",
   "execution_count": null,
   "id": "cd54329a",
   "metadata": {},
   "outputs": [],
   "source": [
    "def create_url(keyword, start_date, end_date, max_results = 10):\n",
    "    \n",
    "    search_url = \"https://api.twitter.com/2/tweets/search/all\" #Change to the endpoint you want to collect data from\n",
    "\n",
    "    #change params based on the endpoint you are using\n",
    "    query_params = {'query': keyword,\n",
    "                    'start_time': start_date,\n",
    "                    'end_time': end_date,\n",
    "                    'max_results': max_results,\n",
    "                    'expansions': 'author_id',\n",
    "                    'tweet.fields': 'id,text,created_at,lang,public_metrics,source',\n",
    "                    'user.fields': 'id,created_at,location,public_metrics',\n",
    "                    'place.fields': 'full_name,country_code,geo,place_type',\n",
    "                    'next_token': {}}\n",
    "    return (search_url, query_params)"
   ]
  },
  {
   "cell_type": "code",
   "execution_count": null,
   "id": "9d1ed0f0",
   "metadata": {},
   "outputs": [],
   "source": [
    "def connect_to_endpoint(url, headers, params, next_token):\n",
    "    \n",
    "    params['next_token'] = next_token   #params object received from create_url function\n",
    "    response = requests.request(\"GET\", url, headers = headers, params = params)\n",
    "    print(\"Endpoint Response Code: \" + str(response.status_code))\n",
    "    if response.status_code != 200:\n",
    "        raise Exception(response.status_code, response.text)\n",
    "    return response.json()"
   ]
  },
  {
   "cell_type": "code",
   "execution_count": null,
   "id": "0e9a8d42",
   "metadata": {},
   "outputs": [],
   "source": [
    "#Inputs for the request\n",
    "bearer_token = os.getenv('TOKEN')\n",
    "headers = {\"Authorization\": f\"Bearer {bearer_token}\"}\n",
    "keyword = query\n",
    "start_time = \"2021-08-02T00:00:00.000Z\"\n",
    "end_time = \"2021-08-25T00:00:00.000Z\"\n",
    "max_results = 500"
   ]
  },
  {
   "cell_type": "code",
   "execution_count": null,
   "id": "7e8a5a0a",
   "metadata": {},
   "outputs": [],
   "source": [
    "query = \"\"\"(@cducsubt OR @CDU OR @ArminLaschet  OR #Laschet OR #ArminLaschet  OR #arminlaschet OR #laschet OR #cdu OR #CDU OR eCDU/CSU OR Laschet)\n",
    "lang:de -is:retweet\n",
    "-#GRUENEN -@Die_Gruenen -Baerbock -@ABaerbock\n",
    "-#SPD -@spdde -Scholz -@OlafScholz\n",
    "-#AFD -@AfD -Weidel -@Alice_Weidel -Chrupalla -@Tino_Chrupalla\n",
    "-#FDP -@fdp -Lindner -@c_lindner\n",
    "-#DieLinke -@dieLinke -Wissler -@Janine_Wissler -Bartsch -@DietmarBartsch\n",
    "-#FreieWaehler -@FREIEWAEHLER_BV\n",
    "-#diePARTEI -@DiePARTEI\n",
    "-@Tierschutzparte -NPD -@Piratenpartei -#Piraten -#dieBasis -@diebasispartei -#Volt -@VoltDeutschland\"\"\""
   ]
  },
  {
   "cell_type": "code",
   "execution_count": null,
   "id": "cfb0b121",
   "metadata": {},
   "outputs": [],
   "source": [
    "# One call with above defined params\n",
    "url = create_url(keyword, start_time,end_time, max_results)\n",
    "response = connect_to_endpoint(url[0], headers, url[1], token2)"
   ]
  },
  {
   "cell_type": "code",
   "execution_count": null,
   "id": "7029a062",
   "metadata": {},
   "outputs": [],
   "source": [
    "final_df = pd.DataFrame()"
   ]
  },
  {
   "cell_type": "code",
   "execution_count": null,
   "id": "94ae6a40",
   "metadata": {},
   "outputs": [],
   "source": [
    "counter = 0"
   ]
  },
  {
   "cell_type": "code",
   "execution_count": null,
   "id": "d314b9e2",
   "metadata": {},
   "outputs": [],
   "source": [
    "def fetch_tweets(headers, keyword, start_time, end_time, max_results, tweet_amount, new_token=None):\n",
    "    \n",
    "    start = time.time()\n",
    "    \n",
    "    global counter\n",
    "    # increase counter by number of fetched tweets\n",
    "    counter += max_results\n",
    "    \n",
    "    # if too many tweets are fetched end search early to avoid exceeding tweets per month limit\n",
    "    if counter > tweet_amount:\n",
    "        print(\"Reached search limit\")\n",
    "        counter = 0\n",
    "        return None\n",
    "    \n",
    "    # create url\n",
    "    url = create_url(keyword, start_time, end_time, max_results)\n",
    "    \n",
    "    # call api\n",
    "    response = connect_to_endpoint(url[0], headers, url[1], new_token)\n",
    "    \n",
    "    #response has 3 keys: \n",
    "    #\"data\": tweet information in a dict\n",
    "    #\"includes\": dict with one key \"users\" which is a dict of user information\n",
    "    #\"meta\": api request information\n",
    "    \n",
    "    # create first DataFrame out of tweet response key\n",
    "    tweet_df = pd.json_normalize(response[\"data\"])\n",
    "    \n",
    "    # rename columns to not get identical names with user_df\n",
    "    tweet_df.rename(columns={'id':'tweet_id', \n",
    "                             'created_at': \"tweet_created_at\"}, \n",
    "                    inplace=True)\n",
    "    \n",
    "    # create second DataFrame out of user response key\n",
    "    user_df = pd.json_normalize(response[\"includes\"][\"users\"])\n",
    "    \n",
    "    # rename columns to not get identical names with tweet_df\n",
    "    user_df.rename(columns={'id':'author_id',\n",
    "                            'created_at': \"profile_created_at\"}, \n",
    "                    inplace=True)\n",
    "    \n",
    "    # merge two dataframes into one\n",
    "    merged_df = tweet_df.merge(user_df, how = \"outer\", on=\"author_id\")\n",
    "    \n",
    "    #sentiment = model.predict_sentiment(list(merged_df.text))\n",
    "    \n",
    "    #merged_df[\"sentiment\"] = sentiment\n",
    "\n",
    "    global final_df\n",
    "    # concat the current search DataFrame with a result df outside of the function\n",
    "    final_df = pd.concat([final_df, merged_df], ignore_index=True)\n",
    "    \n",
    "    end = time.time()\n",
    "    print(end - start)\n",
    "    # break if token == None --> no more results for the search query\n",
    "    # otherwise call itself again this time after waiting 6 seconds \n",
    "    # to not exceed api call limit per 15 minutes\n",
    "    \n",
    "    if response[\"meta\"].get(\"next_token\", None):\n",
    "        \n",
    "        # get new token for consecutive search, returns None if search finished\n",
    "        next_token = response[\"meta\"][\"next_token\"]\n",
    "        # sleep to not exceed api call limit\n",
    "        time.sleep(3)\n",
    "        fetch_tweets(headers, keyword, start_time, end_time, max_results, tweet_amount, next_token)\n",
    "        #bearer_token, headers, keyword, start_time, end_time, max_results, \n",
    "    \n",
    "    \n",
    "    return None"
   ]
  },
  {
   "cell_type": "code",
   "execution_count": null,
   "id": "98df8c1e",
   "metadata": {},
   "outputs": [],
   "source": [
    "if not []:\n",
    "    print(\"True\")"
   ]
  },
  {
   "cell_type": "code",
   "execution_count": null,
   "id": "eb501fbc",
   "metadata": {},
   "outputs": [],
   "source": [
    "# Calls function with variables params defined above \n",
    "fetch_tweets(headers, keyword, start_time, end_time, max_results, tweet_amount=500)"
   ]
  },
  {
   "cell_type": "code",
   "execution_count": null,
   "id": "0d5417fb",
   "metadata": {},
   "outputs": [],
   "source": [
    "pd.json_normalize(response[\"data\"])"
   ]
  },
  {
   "cell_type": "code",
   "execution_count": null,
   "id": "d0b4b81f",
   "metadata": {},
   "outputs": [],
   "source": [
    "tu = pd.json_normalize(response[\"includes\"][\"users\"])"
   ]
  },
  {
   "cell_type": "code",
   "execution_count": null,
   "id": "b058e616",
   "metadata": {},
   "outputs": [],
   "source": [
    "qwe = pd.json_normalize(response[\"data\"])"
   ]
  },
  {
   "cell_type": "code",
   "execution_count": null,
   "id": "e83c2b6b",
   "metadata": {},
   "outputs": [],
   "source": [
    "qwe = qwe.merge(pd.json_normalize(response[\"includes\"][\"users\"]), how=\"outer\", left_on=\"author_id\", right_on=\"id\")"
   ]
  },
  {
   "cell_type": "code",
   "execution_count": null,
   "id": "161169d7",
   "metadata": {},
   "outputs": [],
   "source": [
    "qwe.columns"
   ]
  },
  {
   "cell_type": "code",
   "execution_count": null,
   "id": "325e8075",
   "metadata": {},
   "outputs": [],
   "source": [
    "pd.json_normalize(response[\"includes\"][\"users\"])"
   ]
  },
  {
   "cell_type": "code",
   "execution_count": null,
   "id": "51c2d7fc",
   "metadata": {},
   "outputs": [],
   "source": [
    "qwe"
   ]
  },
  {
   "cell_type": "code",
   "execution_count": null,
   "id": "96eea3fe",
   "metadata": {},
   "outputs": [],
   "source": [
    "for i in range(len(max_len)):\n",
    "    response[\"data\"][i][\"public_metrics\"]"
   ]
  },
  {
   "cell_type": "code",
   "execution_count": null,
   "id": "2569841a",
   "metadata": {},
   "outputs": [],
   "source": [
    "pd.DataFrame(response[\"data\"])"
   ]
  },
  {
   "cell_type": "code",
   "execution_count": null,
   "id": "1319c75a",
   "metadata": {},
   "outputs": [],
   "source": []
  },
  {
   "cell_type": "code",
   "execution_count": null,
   "id": "542d34c0",
   "metadata": {},
   "outputs": [],
   "source": [
    "gho.to_csv(\"test.csv\")"
   ]
  },
  {
   "cell_type": "code",
   "execution_count": null,
   "id": "411d54e5",
   "metadata": {},
   "outputs": [],
   "source": [
    "ll = pd.read_csv(\"test.csv\")"
   ]
  },
  {
   "cell_type": "code",
   "execution_count": null,
   "id": "4441ee31",
   "metadata": {},
   "outputs": [],
   "source": [
    "ll.iloc[1].public_metrics"
   ]
  },
  {
   "cell_type": "code",
   "execution_count": null,
   "id": "b59a8bff",
   "metadata": {},
   "outputs": [],
   "source": [
    "pd.json_normalize(response[\"includes\"][\"users\"])"
   ]
  },
  {
   "cell_type": "code",
   "execution_count": null,
   "id": "964b9205",
   "metadata": {},
   "outputs": [],
   "source": [
    "gho = pd.DataFrame(response[\"includes\"][\"users\"])"
   ]
  },
  {
   "cell_type": "code",
   "execution_count": null,
   "id": "ebc3a8b8",
   "metadata": {},
   "outputs": [],
   "source": [
    "response[\"includes\"][\"users\"][5]"
   ]
  },
  {
   "cell_type": "code",
   "execution_count": null,
   "id": "1c9f59a2",
   "metadata": {},
   "outputs": [],
   "source": [
    "response[\"meta\"]"
   ]
  },
  {
   "cell_type": "code",
   "execution_count": null,
   "id": "b4a65cc7",
   "metadata": {},
   "outputs": [],
   "source": [
    "response[\"data\"][9]"
   ]
  },
  {
   "cell_type": "code",
   "execution_count": null,
   "id": "3fed468b",
   "metadata": {},
   "outputs": [],
   "source": [
    "response[\"includes\"][\"users\"][2]"
   ]
  },
  {
   "cell_type": "code",
   "execution_count": null,
   "id": "453a400b",
   "metadata": {},
   "outputs": [],
   "source": [
    "metrics = response[\"includes\"][\"users\"][2]"
   ]
  },
  {
   "cell_type": "code",
   "execution_count": null,
   "id": "ffad9ce2",
   "metadata": {},
   "outputs": [],
   "source": [
    "metrics.pop(\"public_metrics\")"
   ]
  },
  {
   "cell_type": "code",
   "execution_count": null,
   "id": "3a353b3e",
   "metadata": {},
   "outputs": [],
   "source": [
    "fg = pd.DataFrame(metrics, index=[0])"
   ]
  },
  {
   "cell_type": "code",
   "execution_count": null,
   "id": "a6e24720",
   "metadata": {},
   "outputs": [],
   "source": [
    "fg[\"lang\"] = \"de\""
   ]
  },
  {
   "cell_type": "code",
   "execution_count": null,
   "id": "a04e4246",
   "metadata": {},
   "outputs": [],
   "source": [
    "df_sample.columns"
   ]
  },
  {
   "cell_type": "code",
   "execution_count": null,
   "id": "760af63a",
   "metadata": {},
   "outputs": [],
   "source": [
    "raus = [\"username\", \"name\", \"tweet_count\", \"listed_count\", \"author_id\"]"
   ]
  },
  {
   "cell_type": "code",
   "execution_count": null,
   "id": "3ca52afb",
   "metadata": {},
   "outputs": [],
   "source": [
    "df_sample = df_sample.merge(fg, how=\"outer\", on=\"lang\")"
   ]
  },
  {
   "cell_type": "code",
   "execution_count": null,
   "id": "f77b7b03",
   "metadata": {},
   "outputs": [],
   "source": [
    "response.keys()"
   ]
  },
  {
   "cell_type": "code",
   "execution_count": null,
   "id": "a0ff662f",
   "metadata": {},
   "outputs": [],
   "source": [
    "response[\"meta\"]"
   ]
  },
  {
   "cell_type": "code",
   "execution_count": null,
   "id": "ede193ff",
   "metadata": {},
   "outputs": [],
   "source": [
    "df_sample.shape"
   ]
  },
  {
   "cell_type": "code",
   "execution_count": null,
   "id": "b870f90a",
   "metadata": {},
   "outputs": [],
   "source": [
    "df_sample.to_csv(\"api_sample.csv\")"
   ]
  },
  {
   "cell_type": "code",
   "execution_count": null,
   "id": "a0dc49df",
   "metadata": {},
   "outputs": [],
   "source": [
    "import pandas as pd\n",
    "\n",
    "\n",
    "df = pd.json_normalize(response, sep='_')\n",
    "\n",
    "ol = pd.json_normalize(df)"
   ]
  },
  {
   "cell_type": "code",
   "execution_count": null,
   "id": "22d1b439",
   "metadata": {},
   "outputs": [],
   "source": [
    "kl = df.to_dict(df)"
   ]
  },
  {
   "cell_type": "code",
   "execution_count": null,
   "id": "ad976541",
   "metadata": {},
   "outputs": [],
   "source": [
    "kl"
   ]
  },
  {
   "cell_type": "code",
   "execution_count": null,
   "id": "e7b435e0",
   "metadata": {},
   "outputs": [],
   "source": [
    "tweet.fields.author_id, lang, text, created_at, geo"
   ]
  },
  {
   "cell_type": "code",
   "execution_count": null,
   "id": "c7ad85d1",
   "metadata": {},
   "outputs": [],
   "source": [
    "curl \"https://api.twitter.com/2/tweets/search/all?query=from%3Atwitterdev%20new%20-is%3Aretweet&max_results=10\" -H \"Authorization: Bearer $BEARER_TOKEN\""
   ]
  },
  {
   "cell_type": "code",
   "execution_count": null,
   "id": "49c821d0",
   "metadata": {},
   "outputs": [],
   "source": [
    "tweet.fields = attachments, author_id, context_annotations, conversation_id, created_at, entities, geo, id, in_reply_to_user_id, lang, public_metrics, possibly_sensitive, referenced_tweets, reply_settings, source, text, withheld)"
   ]
  },
  {
   "cell_type": "code",
   "execution_count": null,
   "id": "47563f94",
   "metadata": {},
   "outputs": [],
   "source": [
    "\"organic_metrics \": \"impression_count,like_count,reply_count,retweet_count,url_link_clicks,user_profile_clicks\""
   ]
  },
  {
   "cell_type": "code",
   "execution_count": null,
   "id": "0701d3ca",
   "metadata": {},
   "outputs": [],
   "source": [
    "'id,text,author_id,in_reply_to_user_id,geo,conversation_id,created_at,lang,public_metrics,referenced_tweets,reply_settings,source',"
   ]
  }
 ],
 "metadata": {
  "kernelspec": {
   "display_name": "Python 3 (ipykernel)",
   "language": "python",
   "name": "python3"
  },
  "language_info": {
   "codemirror_mode": {
    "name": "ipython",
    "version": 3
   },
   "file_extension": ".py",
   "mimetype": "text/x-python",
   "name": "python",
   "nbconvert_exporter": "python",
   "pygments_lexer": "ipython3",
   "version": "3.8.6"
  },
  "toc": {
   "base_numbering": 1,
   "nav_menu": {},
   "number_sections": true,
   "sideBar": true,
   "skip_h1_title": false,
   "title_cell": "Table of Contents",
   "title_sidebar": "Contents",
   "toc_cell": false,
   "toc_position": {},
   "toc_section_display": true,
   "toc_window_display": true
  }
 },
 "nbformat": 4,
 "nbformat_minor": 5
}
