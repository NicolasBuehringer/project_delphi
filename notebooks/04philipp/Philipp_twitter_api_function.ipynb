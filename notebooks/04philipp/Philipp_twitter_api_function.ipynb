{
 "cells": [
  {
   "cell_type": "markdown",
   "id": "59f15b12",
   "metadata": {},
   "source": [
    "# Streamlit"
   ]
  },
  {
   "cell_type": "code",
   "execution_count": 1,
   "id": "d4aa877c",
   "metadata": {},
   "outputs": [],
   "source": [
    "import pandas as pd"
   ]
  },
  {
   "cell_type": "code",
   "execution_count": 2,
   "id": "2750604a",
   "metadata": {},
   "outputs": [],
   "source": [
    "AFD_poll = 10.61\n",
    "CDU_poll = 21.97\n",
    "FDP_poll = 10.33\n",
    "GRUENE_poll = 19.69\n",
    "LINKE_poll = 7.11\n",
    "SPD_poll = 19.59\n",
    "OTHER_poll = 10.7"
   ]
  },
  {
   "cell_type": "code",
   "execution_count": 3,
   "id": "5e272d70",
   "metadata": {},
   "outputs": [
    {
     "data": {
      "text/plain": [
       "100.0"
      ]
     },
     "execution_count": 3,
     "metadata": {},
     "output_type": "execute_result"
    }
   ],
   "source": [
    "AFD_poll + CDU_poll + FDP_poll + GRUENE_poll + LINKE_poll + SPD_poll + OTHER_poll"
   ]
  },
  {
   "cell_type": "code",
   "execution_count": 36,
   "id": "4db6bc9c",
   "metadata": {},
   "outputs": [],
   "source": [
    "df = pd.read_csv(\"../../raw_data/df_merged.csv\")"
   ]
  },
  {
   "cell_type": "code",
   "execution_count": 37,
   "id": "5cd6b567",
   "metadata": {},
   "outputs": [],
   "source": [
    "df = df[df[\"created_at\"]==\"2021-08-23\"]"
   ]
  },
  {
   "cell_type": "code",
   "execution_count": 38,
   "id": "c45840f9",
   "metadata": {},
   "outputs": [],
   "source": [
    "df.drop(columns=[\"created_at\", \"Polls\"], inplace=True)"
   ]
  },
  {
   "cell_type": "code",
   "execution_count": 39,
   "id": "0bfda1e9",
   "metadata": {},
   "outputs": [],
   "source": [
    "df = df[['party', 'replies_count', 'retweets_count',\n",
    "       'likes_count', 'avg_len_of_tweet', 'share_of_tweets',\n",
    "       'share_unique_users']]"
   ]
  },
  {
   "cell_type": "code",
   "execution_count": 8,
   "id": "8b0a0a63",
   "metadata": {},
   "outputs": [
    {
     "data": {
      "text/html": [
       "<div>\n",
       "<style scoped>\n",
       "    .dataframe tbody tr th:only-of-type {\n",
       "        vertical-align: middle;\n",
       "    }\n",
       "\n",
       "    .dataframe tbody tr th {\n",
       "        vertical-align: top;\n",
       "    }\n",
       "\n",
       "    .dataframe thead th {\n",
       "        text-align: right;\n",
       "    }\n",
       "</style>\n",
       "<table border=\"1\" class=\"dataframe\">\n",
       "  <thead>\n",
       "    <tr style=\"text-align: right;\">\n",
       "      <th></th>\n",
       "      <th>replies_count</th>\n",
       "      <th>retweets_count</th>\n",
       "      <th>likes_count</th>\n",
       "      <th>avg_len_of_tweet</th>\n",
       "      <th>share_of_tweets</th>\n",
       "      <th>share_unique_users</th>\n",
       "    </tr>\n",
       "  </thead>\n",
       "  <tbody>\n",
       "    <tr>\n",
       "      <th>629</th>\n",
       "      <td>14.0</td>\n",
       "      <td>6.0</td>\n",
       "      <td>34.0</td>\n",
       "      <td>191.638298</td>\n",
       "      <td>0.137427</td>\n",
       "      <td>0.702128</td>\n",
       "    </tr>\n",
       "  </tbody>\n",
       "</table>\n",
       "</div>"
      ],
      "text/plain": [
       "     replies_count  retweets_count  likes_count  avg_len_of_tweet  \\\n",
       "629           14.0             6.0         34.0        191.638298   \n",
       "\n",
       "     share_of_tweets  share_unique_users  \n",
       "629         0.137427            0.702128  "
      ]
     },
     "execution_count": 8,
     "metadata": {},
     "output_type": "execute_result"
    }
   ],
   "source": [
    "df.iloc[[0]][['replies_count', 'retweets_count',\n",
    "       'likes_count', 'avg_len_of_tweet', 'share_of_tweets',\n",
    "       'share_unique_users']]"
   ]
  },
  {
   "cell_type": "code",
   "execution_count": 9,
   "id": "8571fa9e",
   "metadata": {},
   "outputs": [
    {
     "name": "stderr",
     "output_type": "stream",
     "text": [
      "/var/folders/r8/ml9zphbs05z5wx9ykw9g7r_40000gn/T/ipykernel_2253/3479158480.py:1: FutureWarning: Using short name for 'orient' is deprecated. Only the options: ('dict', list, 'series', 'split', 'records', 'index') will be used in a future version. Use one of the above to silence this warning.\n",
      "  twitter_kpis = df.to_dict('r')\n"
     ]
    }
   ],
   "source": [
    "twitter_kpis = df.to_dict('r')"
   ]
  },
  {
   "cell_type": "code",
   "execution_count": 10,
   "id": "ee6d1965",
   "metadata": {},
   "outputs": [],
   "source": [
    "tweets = pd.read_csv(\"/Users/philippheitmann/Downloads/2021_0723-0826_Tweets_Linken_sentiment.csv\")"
   ]
  },
  {
   "cell_type": "code",
   "execution_count": 11,
   "id": "0b2ed97c",
   "metadata": {},
   "outputs": [
    {
     "data": {
      "text/plain": [
       "Index(['Unnamed: 0', 'tweet_created_at', 'text', 'author_id', 'lang',\n",
       "       'tweet_id', 'source', 'public_metrics.retweet_count',\n",
       "       'public_metrics.reply_count', 'public_metrics.like_count',\n",
       "       'public_metrics.quote_count', 'profile_created_at', 'username', 'name',\n",
       "       'public_metrics.followers_count', 'public_metrics.following_count',\n",
       "       'public_metrics.tweet_count', 'public_metrics.listed_count', 'location',\n",
       "       'withheld.copyright', 'withheld.country_codes_x', 'withheld.scope_x',\n",
       "       'withheld.country_codes_y', 'withheld.scope_y', 'sentiment'],\n",
       "      dtype='object')"
      ]
     },
     "execution_count": 11,
     "metadata": {},
     "output_type": "execute_result"
    }
   ],
   "source": [
    "tweets.columns"
   ]
  },
  {
   "cell_type": "code",
   "execution_count": 12,
   "id": "8f65c644",
   "metadata": {},
   "outputs": [],
   "source": [
    "test = tweets[['text',\"tweet_created_at\",'public_metrics.retweet_count','public_metrics.reply_count', 'public_metrics.like_count', 'sentiment']]"
   ]
  },
  {
   "cell_type": "code",
   "execution_count": 13,
   "id": "435cfcb5",
   "metadata": {},
   "outputs": [
    {
     "data": {
      "text/html": [
       "<div>\n",
       "<style scoped>\n",
       "    .dataframe tbody tr th:only-of-type {\n",
       "        vertical-align: middle;\n",
       "    }\n",
       "\n",
       "    .dataframe tbody tr th {\n",
       "        vertical-align: top;\n",
       "    }\n",
       "\n",
       "    .dataframe thead th {\n",
       "        text-align: right;\n",
       "    }\n",
       "</style>\n",
       "<table border=\"1\" class=\"dataframe\">\n",
       "  <thead>\n",
       "    <tr style=\"text-align: right;\">\n",
       "      <th></th>\n",
       "      <th>text</th>\n",
       "      <th>tweet_created_at</th>\n",
       "      <th>public_metrics.retweet_count</th>\n",
       "      <th>public_metrics.reply_count</th>\n",
       "      <th>public_metrics.like_count</th>\n",
       "      <th>sentiment</th>\n",
       "    </tr>\n",
       "  </thead>\n",
       "  <tbody>\n",
       "    <tr>\n",
       "      <th>13014</th>\n",
       "      <td>Hamburger @dieLinke Politiker gratuliert den T...</td>\n",
       "      <td>2021-08-17T13:46:03.000Z</td>\n",
       "      <td>633</td>\n",
       "      <td>145</td>\n",
       "      <td>2036</td>\n",
       "      <td>neutral</td>\n",
       "    </tr>\n",
       "  </tbody>\n",
       "</table>\n",
       "</div>"
      ],
      "text/plain": [
       "                                                    text  \\\n",
       "13014  Hamburger @dieLinke Politiker gratuliert den T...   \n",
       "\n",
       "               tweet_created_at  public_metrics.retweet_count  \\\n",
       "13014  2021-08-17T13:46:03.000Z                           633   \n",
       "\n",
       "       public_metrics.reply_count  public_metrics.like_count sentiment  \n",
       "13014                         145                       2036   neutral  "
      ]
     },
     "execution_count": 13,
     "metadata": {},
     "output_type": "execute_result"
    }
   ],
   "source": [
    "test.iloc[[test[\"public_metrics.retweet_count\"].idxmax()]]"
   ]
  },
  {
   "cell_type": "markdown",
   "id": "499c0fa8",
   "metadata": {},
   "source": [
    "## Get most popular tweets (negative and positive per party)"
   ]
  },
  {
   "cell_type": "code",
   "execution_count": 14,
   "id": "5bf5f603",
   "metadata": {},
   "outputs": [],
   "source": [
    "pos = test[test[\"sentiment\"]==\"positive\"].reset_index()"
   ]
  },
  {
   "cell_type": "code",
   "execution_count": 15,
   "id": "5cb2bc83",
   "metadata": {},
   "outputs": [],
   "source": [
    "pd.set_option('display.max_colwidth', None)"
   ]
  },
  {
   "cell_type": "code",
   "execution_count": 16,
   "id": "8b903a51",
   "metadata": {
    "collapsed": true
   },
   "outputs": [
    {
     "name": "stderr",
     "output_type": "stream",
     "text": [
      "/var/folders/r8/ml9zphbs05z5wx9ykw9g7r_40000gn/T/ipykernel_2253/3217425513.py:1: FutureWarning: Using short name for 'orient' is deprecated. Only the options: ('dict', list, 'series', 'split', 'records', 'index') will be used in a future version. Use one of the above to silence this warning.\n",
      "  pos_most_likes = pos.iloc[[pos[\"public_metrics.retweet_count\"].idxmax()]].to_dict('r')[0]\n"
     ]
    }
   ],
   "source": [
    "pos_most_likes = pos.iloc[[pos[\"public_metrics.retweet_count\"].idxmax()]].to_dict('r')[0]"
   ]
  },
  {
   "cell_type": "code",
   "execution_count": 17,
   "id": "1f9cbc76",
   "metadata": {
    "collapsed": true
   },
   "outputs": [
    {
     "name": "stderr",
     "output_type": "stream",
     "text": [
      "/var/folders/r8/ml9zphbs05z5wx9ykw9g7r_40000gn/T/ipykernel_2253/4179520516.py:1: FutureWarning: Using short name for 'orient' is deprecated. Only the options: ('dict', list, 'series', 'split', 'records', 'index') will be used in a future version. Use one of the above to silence this warning.\n",
      "  pos_most_rewteets = pos.iloc[[pos[\"public_metrics.like_count\"].idxmax()]].to_dict('r')[0]\n"
     ]
    }
   ],
   "source": [
    "pos_most_rewteets = pos.iloc[[pos[\"public_metrics.like_count\"].idxmax()]].to_dict('r')[0]"
   ]
  },
  {
   "cell_type": "code",
   "execution_count": 18,
   "id": "b876a6a3",
   "metadata": {
    "collapsed": true
   },
   "outputs": [
    {
     "data": {
      "text/plain": [
       "{'index': 2420,\n",
       " 'text': 'Viele #Linke hier auf Twitter reden zwar von Toleranz und Vielfalt und fordern genau das auch ein, leben aber das ganze Gegenteil davon aus. Immer wieder eine bemerkenswerte Feststellung.',\n",
       " 'tweet_created_at': '2021-08-25T18:05:45.000Z',\n",
       " 'public_metrics.retweet_count': 109,\n",
       " 'public_metrics.reply_count': 32,\n",
       " 'public_metrics.like_count': 948,\n",
       " 'sentiment': 'positive'}"
      ]
     },
     "execution_count": 18,
     "metadata": {},
     "output_type": "execute_result"
    }
   ],
   "source": [
    "pos_most_rewteets"
   ]
  },
  {
   "cell_type": "code",
   "execution_count": 19,
   "id": "d2e45e06",
   "metadata": {
    "collapsed": true
   },
   "outputs": [
    {
     "name": "stderr",
     "output_type": "stream",
     "text": [
      "/var/folders/r8/ml9zphbs05z5wx9ykw9g7r_40000gn/T/ipykernel_2253/895142886.py:2: FutureWarning: Using short name for 'orient' is deprecated. Only the options: ('dict', list, 'series', 'split', 'records', 'index') will be used in a future version. Use one of the above to silence this warning.\n",
      "  neg_most_likes = neg.iloc[[neg[\"public_metrics.like_count\"].idxmax()]].to_dict('r')[0]\n"
     ]
    }
   ],
   "source": [
    "neg = test[test[\"sentiment\"]==\"negative\"].reset_index()\n",
    "neg_most_likes = neg.iloc[[neg[\"public_metrics.like_count\"].idxmax()]].to_dict('r')[0]"
   ]
  },
  {
   "cell_type": "code",
   "execution_count": 20,
   "id": "4206654e",
   "metadata": {
    "collapsed": true
   },
   "outputs": [
    {
     "name": "stderr",
     "output_type": "stream",
     "text": [
      "/var/folders/r8/ml9zphbs05z5wx9ykw9g7r_40000gn/T/ipykernel_2253/2968418806.py:1: FutureWarning: Using short name for 'orient' is deprecated. Only the options: ('dict', list, 'series', 'split', 'records', 'index') will be used in a future version. Use one of the above to silence this warning.\n",
      "  neg_most_retweets = neg.iloc[[neg[\"public_metrics.retweet_count\"].idxmax()]].to_dict('r')[0]\n"
     ]
    }
   ],
   "source": [
    "neg_most_retweets = neg.iloc[[neg[\"public_metrics.retweet_count\"].idxmax()]].to_dict('r')[0]"
   ]
  },
  {
   "cell_type": "code",
   "execution_count": 21,
   "id": "ee86935d",
   "metadata": {
    "collapsed": true
   },
   "outputs": [
    {
     "data": {
      "text/plain": [
       "{'index': 14464,\n",
       " 'text': 'Sich über den Tod von 37 Bundeswehrsoldaten in #Afganisten zu freuen…. Einfach ekelhaft, was dieser Funktionär (Bijan Tavasolli) @DieLinke_HH  von sich gibt! https://t.co/NE9LxsJuvb',\n",
       " 'tweet_created_at': '2021-08-16T08:58:49.000Z',\n",
       " 'public_metrics.retweet_count': 521,\n",
       " 'public_metrics.reply_count': 148,\n",
       " 'public_metrics.like_count': 1589,\n",
       " 'sentiment': 'negative'}"
      ]
     },
     "execution_count": 21,
     "metadata": {},
     "output_type": "execute_result"
    }
   ],
   "source": [
    "neg_most_retweets "
   ]
  },
  {
   "cell_type": "code",
   "execution_count": 22,
   "id": "9aed17aa",
   "metadata": {
    "collapsed": true
   },
   "outputs": [
    {
     "data": {
      "text/plain": [
       "{'pos_most_likes': {'index': 2420,\n",
       "  'text': 'Viele #Linke hier auf Twitter reden zwar von Toleranz und Vielfalt und fordern genau das auch ein, leben aber das ganze Gegenteil davon aus. Immer wieder eine bemerkenswerte Feststellung.',\n",
       "  'tweet_created_at': '2021-08-25T18:05:45.000Z',\n",
       "  'public_metrics.retweet_count': 109,\n",
       "  'public_metrics.reply_count': 32,\n",
       "  'public_metrics.like_count': 948,\n",
       "  'sentiment': 'positive'},\n",
       " 'pos_most_rewteets': {'index': 2420,\n",
       "  'text': 'Viele #Linke hier auf Twitter reden zwar von Toleranz und Vielfalt und fordern genau das auch ein, leben aber das ganze Gegenteil davon aus. Immer wieder eine bemerkenswerte Feststellung.',\n",
       "  'tweet_created_at': '2021-08-25T18:05:45.000Z',\n",
       "  'public_metrics.retweet_count': 109,\n",
       "  'public_metrics.reply_count': 32,\n",
       "  'public_metrics.like_count': 948,\n",
       "  'sentiment': 'positive'},\n",
       " 'neg_most_likes': {'index': 29962,\n",
       "  'text': 'Linker Bundestagsabgeordneter solidarisiert sich mit rechtem Schwurbelblogger.\\n\\nIst das ok für die Linksfraktion, @DietmarBartsch @Amira_M_Ali ? https://t.co/LinLZ68TGr',\n",
       "  'tweet_created_at': '2021-07-28T11:22:44.000Z',\n",
       "  'public_metrics.retweet_count': 142,\n",
       "  'public_metrics.reply_count': 515,\n",
       "  'public_metrics.like_count': 1690,\n",
       "  'sentiment': 'negative'},\n",
       " 'neg_most_retweets': {'index': 14464,\n",
       "  'text': 'Sich über den Tod von 37 Bundeswehrsoldaten in #Afganisten zu freuen…. Einfach ekelhaft, was dieser Funktionär (Bijan Tavasolli) @DieLinke_HH  von sich gibt! https://t.co/NE9LxsJuvb',\n",
       "  'tweet_created_at': '2021-08-16T08:58:49.000Z',\n",
       "  'public_metrics.retweet_count': 521,\n",
       "  'public_metrics.reply_count': 148,\n",
       "  'public_metrics.like_count': 1589,\n",
       "  'sentiment': 'negative'}}"
      ]
     },
     "execution_count": 22,
     "metadata": {},
     "output_type": "execute_result"
    }
   ],
   "source": [
    "{\"pos_most_likes\": pos_most_likes, \"pos_most_rewteets\": pos_most_rewteets, \"neg_most_likes\": neg_most_likes, \"neg_most_retweets\": neg_most_retweets}"
   ]
  },
  {
   "cell_type": "markdown",
   "id": "2d30704a",
   "metadata": {},
   "source": [
    "## Get Twitter KPIs"
   ]
  },
  {
   "cell_type": "code",
   "execution_count": 48,
   "id": "b6086f05",
   "metadata": {},
   "outputs": [],
   "source": [
    "# Get share of tweets per party \n",
    "shares = df[[\"party\", \"share_of_tweets\"]]"
   ]
  },
  {
   "cell_type": "code",
   "execution_count": 49,
   "id": "d59e7af2",
   "metadata": {},
   "outputs": [
    {
     "data": {
      "text/plain": [
       "['AFD', 'CDU', 'FDP', 'GRUENE', 'LINKE', 'SPD']"
      ]
     },
     "execution_count": 49,
     "metadata": {},
     "output_type": "execute_result"
    }
   ],
   "source": [
    "df.party.to_list()"
   ]
  },
  {
   "cell_type": "code",
   "execution_count": 50,
   "id": "f6fd42f6",
   "metadata": {},
   "outputs": [
    {
     "data": {
      "text/plain": [
       "[0.0522163097328894,\n",
       " 0.4455686911845657,\n",
       " 0.065506304228158,\n",
       " 0.2069516894282943,\n",
       " 0.0544706283257752,\n",
       " 0.1752863771003171]"
      ]
     },
     "execution_count": 50,
     "metadata": {},
     "output_type": "execute_result"
    }
   ],
   "source": [
    "df.share_of_tweets.to_list()"
   ]
  },
  {
   "cell_type": "code",
   "execution_count": 54,
   "id": "872bab3b",
   "metadata": {},
   "outputs": [
    {
     "data": {
      "text/html": [
       "<div>\n",
       "<style scoped>\n",
       "    .dataframe tbody tr th:only-of-type {\n",
       "        vertical-align: middle;\n",
       "    }\n",
       "\n",
       "    .dataframe tbody tr th {\n",
       "        vertical-align: top;\n",
       "    }\n",
       "\n",
       "    .dataframe thead th {\n",
       "        text-align: right;\n",
       "    }\n",
       "</style>\n",
       "<table border=\"1\" class=\"dataframe\">\n",
       "  <thead>\n",
       "    <tr style=\"text-align: right;\">\n",
       "      <th></th>\n",
       "      <th>party</th>\n",
       "      <th>share_of_tweets</th>\n",
       "    </tr>\n",
       "  </thead>\n",
       "  <tbody>\n",
       "    <tr>\n",
       "      <th>623</th>\n",
       "      <td>AFD</td>\n",
       "      <td>0.052216</td>\n",
       "    </tr>\n",
       "    <tr>\n",
       "      <th>624</th>\n",
       "      <td>CDU</td>\n",
       "      <td>0.445569</td>\n",
       "    </tr>\n",
       "    <tr>\n",
       "      <th>625</th>\n",
       "      <td>FDP</td>\n",
       "      <td>0.065506</td>\n",
       "    </tr>\n",
       "    <tr>\n",
       "      <th>626</th>\n",
       "      <td>GRUENE</td>\n",
       "      <td>0.206952</td>\n",
       "    </tr>\n",
       "    <tr>\n",
       "      <th>627</th>\n",
       "      <td>LINKE</td>\n",
       "      <td>0.054471</td>\n",
       "    </tr>\n",
       "    <tr>\n",
       "      <th>628</th>\n",
       "      <td>SPD</td>\n",
       "      <td>0.175286</td>\n",
       "    </tr>\n",
       "  </tbody>\n",
       "</table>\n",
       "</div>"
      ],
      "text/plain": [
       "      party  share_of_tweets\n",
       "623     AFD         0.052216\n",
       "624     CDU         0.445569\n",
       "625     FDP         0.065506\n",
       "626  GRUENE         0.206952\n",
       "627   LINKE         0.054471\n",
       "628     SPD         0.175286"
      ]
     },
     "execution_count": 54,
     "metadata": {},
     "output_type": "execute_result"
    }
   ],
   "source": [
    "shares"
   ]
  },
  {
   "cell_type": "code",
   "execution_count": 58,
   "id": "d32e161e",
   "metadata": {},
   "outputs": [],
   "source": [
    "import numpy as np"
   ]
  },
  {
   "cell_type": "code",
   "execution_count": 73,
   "id": "8fcf322a",
   "metadata": {},
   "outputs": [
    {
     "data": {
      "text/plain": [
       "<AxesSubplot:>"
      ]
     },
     "execution_count": 73,
     "metadata": {},
     "output_type": "execute_result"
    },
    {
     "data": {
      "image/png": "[encoded data removed]",
      "text/plain": [
       "<Figure size 432x288 with 1 Axes>"
      ]
     },
     "metadata": {
      "needs_background": "light"
     },
     "output_type": "display_data"
    }
   ],
   "source": [
    "pd.DataFrame(np.random.uniform(5, 20, size=(2,7)), columns=[\"CSU\", \"SPD\", \"Grünen\", \"FDP\", \"Linken\", \"AFD\", \"Others\"]).plot()"
   ]
  },
  {
   "cell_type": "code",
   "execution_count": 90,
   "id": "139104c7",
   "metadata": {},
   "outputs": [],
   "source": [
    "np.random.seed(2021)\n",
    "N = 10\n",
    "rng = pd.date_range(start='2021-08-16', end='2021-08-25')\n",
    "df = pd.DataFrame(np.random.uniform(5, 20, size=(10,14)), columns=[\"CSU\", \"SPD\", \"Grünen\", \"FDP\", \"Linken\", \"AFD\", \"Others\", \"CSU_poll\", \"SPD_poll\", \"Grünen_poll\", \"FDP_poll\", \"Linken_poll\", \"AFD_poll\", \"Others_poll\"], index=rng)"
   ]
  },
  {
   "cell_type": "code",
   "execution_count": 91,
   "id": "a5f5f8cc",
   "metadata": {},
   "outputs": [
    {
     "data": {
      "text/html": [
       "<div>\n",
       "<style scoped>\n",
       "    .dataframe tbody tr th:only-of-type {\n",
       "        vertical-align: middle;\n",
       "    }\n",
       "\n",
       "    .dataframe tbody tr th {\n",
       "        vertical-align: top;\n",
       "    }\n",
       "\n",
       "    .dataframe thead th {\n",
       "        text-align: right;\n",
       "    }\n",
       "</style>\n",
       "<table border=\"1\" class=\"dataframe\">\n",
       "  <thead>\n",
       "    <tr style=\"text-align: right;\">\n",
       "      <th></th>\n",
       "      <th>CSU</th>\n",
       "      <th>SPD</th>\n",
       "      <th>Grünen</th>\n",
       "      <th>FDP</th>\n",
       "      <th>Linken</th>\n",
       "      <th>AFD</th>\n",
       "      <th>Others</th>\n",
       "      <th>CSU_poll</th>\n",
       "      <th>SPD_poll</th>\n",
       "      <th>Grünen_poll</th>\n",
       "      <th>FDP_poll</th>\n",
       "      <th>Linken_poll</th>\n",
       "      <th>AFD_poll</th>\n",
       "      <th>Others_poll</th>\n",
       "    </tr>\n",
       "  </thead>\n",
       "  <tbody>\n",
       "    <tr>\n",
       "      <th>2021-08-16</th>\n",
       "      <td>14.089674</td>\n",
       "      <td>16.000540</td>\n",
       "      <td>7.084207</td>\n",
       "      <td>9.690096</td>\n",
       "      <td>19.958649</td>\n",
       "      <td>6.922436</td>\n",
       "      <td>7.684897</td>\n",
       "      <td>16.293881</td>\n",
       "      <td>14.932408</td>\n",
       "      <td>16.764652</td>\n",
       "      <td>6.453416</td>\n",
       "      <td>5.878569</td>\n",
       "      <td>19.435940</td>\n",
       "      <td>14.248362</td>\n",
       "    </tr>\n",
       "    <tr>\n",
       "      <th>2021-08-17</th>\n",
       "      <td>6.299449</td>\n",
       "      <td>13.419085</td>\n",
       "      <td>14.247871</td>\n",
       "      <td>19.457645</td>\n",
       "      <td>13.614564</td>\n",
       "      <td>10.567413</td>\n",
       "      <td>11.782179</td>\n",
       "      <td>8.027754</td>\n",
       "      <td>13.539577</td>\n",
       "      <td>7.926440</td>\n",
       "      <td>13.755560</td>\n",
       "      <td>12.144702</td>\n",
       "      <td>12.767216</td>\n",
       "      <td>17.346480</td>\n",
       "    </tr>\n",
       "    <tr>\n",
       "      <th>2021-08-18</th>\n",
       "      <td>15.983375</td>\n",
       "      <td>6.035844</td>\n",
       "      <td>15.081934</td>\n",
       "      <td>14.652272</td>\n",
       "      <td>17.420216</td>\n",
       "      <td>8.067041</td>\n",
       "      <td>14.262334</td>\n",
       "      <td>14.265515</td>\n",
       "      <td>9.516029</td>\n",
       "      <td>18.076109</td>\n",
       "      <td>13.844811</td>\n",
       "      <td>19.726551</td>\n",
       "      <td>11.633484</td>\n",
       "      <td>6.894765</td>\n",
       "    </tr>\n",
       "    <tr>\n",
       "      <th>2021-08-19</th>\n",
       "      <td>12.632464</td>\n",
       "      <td>11.476793</td>\n",
       "      <td>18.739093</td>\n",
       "      <td>15.635235</td>\n",
       "      <td>18.359831</td>\n",
       "      <td>13.833284</td>\n",
       "      <td>14.552449</td>\n",
       "      <td>10.133134</td>\n",
       "      <td>17.356868</td>\n",
       "      <td>9.577262</td>\n",
       "      <td>9.613152</td>\n",
       "      <td>8.019840</td>\n",
       "      <td>8.977474</td>\n",
       "      <td>14.763856</td>\n",
       "    </tr>\n",
       "    <tr>\n",
       "      <th>2021-08-20</th>\n",
       "      <td>7.319222</td>\n",
       "      <td>10.830492</td>\n",
       "      <td>14.714212</td>\n",
       "      <td>17.724487</td>\n",
       "      <td>5.957547</td>\n",
       "      <td>11.216618</td>\n",
       "      <td>9.983664</td>\n",
       "      <td>15.819815</td>\n",
       "      <td>12.107710</td>\n",
       "      <td>16.979620</td>\n",
       "      <td>6.363004</td>\n",
       "      <td>18.118352</td>\n",
       "      <td>16.654653</td>\n",
       "      <td>16.573496</td>\n",
       "    </tr>\n",
       "    <tr>\n",
       "      <th>2021-08-21</th>\n",
       "      <td>5.946550</td>\n",
       "      <td>13.916577</td>\n",
       "      <td>16.887421</td>\n",
       "      <td>9.112005</td>\n",
       "      <td>10.565297</td>\n",
       "      <td>17.796718</td>\n",
       "      <td>15.180934</td>\n",
       "      <td>16.315662</td>\n",
       "      <td>11.258859</td>\n",
       "      <td>9.813481</td>\n",
       "      <td>10.584446</td>\n",
       "      <td>9.130283</td>\n",
       "      <td>15.193334</td>\n",
       "      <td>13.724397</td>\n",
       "    </tr>\n",
       "    <tr>\n",
       "      <th>2021-08-22</th>\n",
       "      <td>19.552982</td>\n",
       "      <td>11.232606</td>\n",
       "      <td>9.957336</td>\n",
       "      <td>19.500712</td>\n",
       "      <td>17.388486</td>\n",
       "      <td>9.581003</td>\n",
       "      <td>17.349169</td>\n",
       "      <td>13.353657</td>\n",
       "      <td>15.777515</td>\n",
       "      <td>18.199054</td>\n",
       "      <td>12.440151</td>\n",
       "      <td>12.681295</td>\n",
       "      <td>14.728182</td>\n",
       "      <td>10.149899</td>\n",
       "    </tr>\n",
       "    <tr>\n",
       "      <th>2021-08-23</th>\n",
       "      <td>14.339560</td>\n",
       "      <td>11.968995</td>\n",
       "      <td>6.857599</td>\n",
       "      <td>19.701813</td>\n",
       "      <td>11.786272</td>\n",
       "      <td>6.762495</td>\n",
       "      <td>17.300030</td>\n",
       "      <td>7.626953</td>\n",
       "      <td>8.460473</td>\n",
       "      <td>15.572261</td>\n",
       "      <td>15.764716</td>\n",
       "      <td>7.223724</td>\n",
       "      <td>10.905234</td>\n",
       "      <td>17.039272</td>\n",
       "    </tr>\n",
       "    <tr>\n",
       "      <th>2021-08-24</th>\n",
       "      <td>17.152829</td>\n",
       "      <td>16.940042</td>\n",
       "      <td>17.869842</td>\n",
       "      <td>9.451104</td>\n",
       "      <td>7.382654</td>\n",
       "      <td>15.292147</td>\n",
       "      <td>16.003178</td>\n",
       "      <td>7.220085</td>\n",
       "      <td>9.000198</td>\n",
       "      <td>10.736106</td>\n",
       "      <td>12.553377</td>\n",
       "      <td>14.857442</td>\n",
       "      <td>16.278864</td>\n",
       "      <td>6.012228</td>\n",
       "    </tr>\n",
       "    <tr>\n",
       "      <th>2021-08-25</th>\n",
       "      <td>8.164455</td>\n",
       "      <td>15.111102</td>\n",
       "      <td>18.458443</td>\n",
       "      <td>16.431723</td>\n",
       "      <td>17.246483</td>\n",
       "      <td>14.142981</td>\n",
       "      <td>13.860450</td>\n",
       "      <td>17.818012</td>\n",
       "      <td>14.489825</td>\n",
       "      <td>18.026176</td>\n",
       "      <td>11.246294</td>\n",
       "      <td>14.861194</td>\n",
       "      <td>18.581214</td>\n",
       "      <td>6.202774</td>\n",
       "    </tr>\n",
       "  </tbody>\n",
       "</table>\n",
       "</div>"
      ],
      "text/plain": [
       "                  CSU        SPD     Grünen        FDP     Linken        AFD  \\\n",
       "2021-08-16  14.089674  16.000540   7.084207   9.690096  19.958649   6.922436   \n",
       "2021-08-17   6.299449  13.419085  14.247871  19.457645  13.614564  10.567413   \n",
       "2021-08-18  15.983375   6.035844  15.081934  14.652272  17.420216   8.067041   \n",
       "2021-08-19  12.632464  11.476793  18.739093  15.635235  18.359831  13.833284   \n",
       "2021-08-20   7.319222  10.830492  14.714212  17.724487   5.957547  11.216618   \n",
       "2021-08-21   5.946550  13.916577  16.887421   9.112005  10.565297  17.796718   \n",
       "2021-08-22  19.552982  11.232606   9.957336  19.500712  17.388486   9.581003   \n",
       "2021-08-23  14.339560  11.968995   6.857599  19.701813  11.786272   6.762495   \n",
       "2021-08-24  17.152829  16.940042  17.869842   9.451104   7.382654  15.292147   \n",
       "2021-08-25   8.164455  15.111102  18.458443  16.431723  17.246483  14.142981   \n",
       "\n",
       "               Others   CSU_poll   SPD_poll  Grünen_poll   FDP_poll  \\\n",
       "2021-08-16   7.684897  16.293881  14.932408    16.764652   6.453416   \n",
       "2021-08-17  11.782179   8.027754  13.539577     7.926440  13.755560   \n",
       "2021-08-18  14.262334  14.265515   9.516029    18.076109  13.844811   \n",
       "2021-08-19  14.552449  10.133134  17.356868     9.577262   9.613152   \n",
       "2021-08-20   9.983664  15.819815  12.107710    16.979620   6.363004   \n",
       "2021-08-21  15.180934  16.315662  11.258859     9.813481  10.584446   \n",
       "2021-08-22  17.349169  13.353657  15.777515    18.199054  12.440151   \n",
       "2021-08-23  17.300030   7.626953   8.460473    15.572261  15.764716   \n",
       "2021-08-24  16.003178   7.220085   9.000198    10.736106  12.553377   \n",
       "2021-08-25  13.860450  17.818012  14.489825    18.026176  11.246294   \n",
       "\n",
       "            Linken_poll   AFD_poll  Others_poll  \n",
       "2021-08-16     5.878569  19.435940    14.248362  \n",
       "2021-08-17    12.144702  12.767216    17.346480  \n",
       "2021-08-18    19.726551  11.633484     6.894765  \n",
       "2021-08-19     8.019840   8.977474    14.763856  \n",
       "2021-08-20    18.118352  16.654653    16.573496  \n",
       "2021-08-21     9.130283  15.193334    13.724397  \n",
       "2021-08-22    12.681295  14.728182    10.149899  \n",
       "2021-08-23     7.223724  10.905234    17.039272  \n",
       "2021-08-24    14.857442  16.278864     6.012228  \n",
       "2021-08-25    14.861194  18.581214     6.202774  "
      ]
     },
     "execution_count": 91,
     "metadata": {},
     "output_type": "execute_result"
    }
   ],
   "source": [
    "df"
   ]
  },
  {
   "cell_type": "code",
   "execution_count": 62,
   "id": "fbe81fb5",
   "metadata": {},
   "outputs": [],
   "source": [
    "import matplotlib.pyplot as plt"
   ]
  },
  {
   "cell_type": "code",
   "execution_count": 69,
   "id": "3cf1888b",
   "metadata": {},
   "outputs": [],
   "source": [
    "chart_data = pd.DataFrame(np.random.randn(20,3))"
   ]
  },
  {
   "cell_type": "code",
   "execution_count": 70,
   "id": "e4ca822c",
   "metadata": {},
   "outputs": [
    {
     "ename": "TypeError",
     "evalue": "bar() missing 1 required positional argument: 'height'",
     "output_type": "error",
     "traceback": [
      "\u001b[0;31m---------------------------------------------------------------------------\u001b[0m",
      "\u001b[0;31mTypeError\u001b[0m                                 Traceback (most recent call last)",
      "\u001b[0;32m/var/folders/r8/ml9zphbs05z5wx9ykw9g7r_40000gn/T/ipykernel_2253/1151053146.py\u001b[0m in \u001b[0;36m<module>\u001b[0;34m\u001b[0m\n\u001b[0;32m----> 1\u001b[0;31m \u001b[0mplt\u001b[0m\u001b[0;34m.\u001b[0m\u001b[0mbar\u001b[0m\u001b[0;34m(\u001b[0m\u001b[0mchart_data\u001b[0m\u001b[0;34m)\u001b[0m\u001b[0;34m\u001b[0m\u001b[0;34m\u001b[0m\u001b[0m\n\u001b[0m",
      "\u001b[0;31mTypeError\u001b[0m: bar() missing 1 required positional argument: 'height'"
     ]
    }
   ],
   "source": [
    "plt.bar(chart_data)"
   ]
  },
  {
   "cell_type": "code",
   "execution_count": null,
   "id": "fc5f014c",
   "metadata": {},
   "outputs": [],
   "source": []
  },
  {
   "cell_type": "code",
   "execution_count": null,
   "id": "5e848acc",
   "metadata": {},
   "outputs": [],
   "source": []
  },
  {
   "cell_type": "markdown",
   "id": "48080a3f",
   "metadata": {},
   "source": [
    "# API"
   ]
  },
  {
   "cell_type": "code",
   "execution_count": 19,
   "id": "08ea44a0",
   "metadata": {},
   "outputs": [],
   "source": [
    "# For sending GET requests from the API\n",
    "import requests\n",
    "# For saving access tokens and for file management when creating and adding to the dataset\n",
    "import os\n",
    "# For dealing with json responses we receive from the API\n",
    "import json\n",
    "# For displaying the data after\n",
    "import pandas as pd\n",
    "# For saving the response data in CSV format\n",
    "import csv\n",
    "# For parsing the dates received from twitter in readable formats\n",
    "import datetime\n",
    "import dateutil.parser\n",
    "import unicodedata\n",
    "#To add wait time between requests\n",
    "import time"
   ]
  },
  {
   "cell_type": "code",
   "execution_count": 522,
   "id": "cd54329a",
   "metadata": {},
   "outputs": [],
   "source": [
    "def create_url(keyword, start_date, end_date, max_results = 10):\n",
    "    \n",
    "    search_url = \"https://api.twitter.com/2/tweets/search/all\" #Change to the endpoint you want to collect data from\n",
    "\n",
    "    #change params based on the endpoint you are using\n",
    "    query_params = {'query': keyword,\n",
    "                    'start_time': start_date,\n",
    "                    'end_time': end_date,\n",
    "                    'max_results': max_results,\n",
    "                    'expansions': 'author_id',\n",
    "                    'tweet.fields': 'id,text,created_at,lang,public_metrics,source',\n",
    "                    'user.fields': 'id,created_at,location,public_metrics',\n",
    "                    'place.fields': 'full_name,country_code,geo,place_type',\n",
    "                    'next_token': {}}\n",
    "    return (search_url, query_params)"
   ]
  },
  {
   "cell_type": "code",
   "execution_count": 368,
   "id": "9d1ed0f0",
   "metadata": {},
   "outputs": [],
   "source": [
    "def connect_to_endpoint(url, headers, params, next_token):\n",
    "    \n",
    "    params['next_token'] = next_token   #params object received from create_url function\n",
    "    response = requests.request(\"GET\", url, headers = headers, params = params)\n",
    "    print(\"Endpoint Response Code: \" + str(response.status_code))\n",
    "    if response.status_code != 200:\n",
    "        raise Exception(response.status_code, response.text)\n",
    "    return response.json()"
   ]
  },
  {
   "cell_type": "code",
   "execution_count": 355,
   "id": "0e9a8d42",
   "metadata": {},
   "outputs": [],
   "source": [
    "#Inputs for the request\n",
    "bearer_token = os.getenv('TOKEN')\n",
    "headers = {\"Authorization\": f\"Bearer {bearer_token}\"}\n",
    "keyword = query\n",
    "start_time = \"2021-08-02T00:00:00.000Z\"\n",
    "end_time = \"2021-08-25T00:00:00.000Z\"\n",
    "max_results = 500"
   ]
  },
  {
   "cell_type": "code",
   "execution_count": 353,
   "id": "7e8a5a0a",
   "metadata": {},
   "outputs": [],
   "source": [
    "query = \"\"\"(@cducsubt OR @CDU OR @ArminLaschet  OR #Laschet OR #ArminLaschet  OR #arminlaschet OR #laschet OR #cdu OR #CDU OR eCDU/CSU OR Laschet)\n",
    "lang:de -is:retweet\n",
    "-#GRUENEN -@Die_Gruenen -Baerbock -@ABaerbock\n",
    "-#SPD -@spdde -Scholz -@OlafScholz\n",
    "-#AFD -@AfD -Weidel -@Alice_Weidel -Chrupalla -@Tino_Chrupalla\n",
    "-#FDP -@fdp -Lindner -@c_lindner\n",
    "-#DieLinke -@dieLinke -Wissler -@Janine_Wissler -Bartsch -@DietmarBartsch\n",
    "-#FreieWaehler -@FREIEWAEHLER_BV\n",
    "-#diePARTEI -@DiePARTEI\n",
    "-@Tierschutzparte -NPD -@Piratenpartei -#Piraten -#dieBasis -@diebasispartei -#Volt -@VoltDeutschland\"\"\""
   ]
  },
  {
   "cell_type": "code",
   "execution_count": 228,
   "id": "cfb0b121",
   "metadata": {},
   "outputs": [
    {
     "name": "stdout",
     "output_type": "stream",
     "text": [
      "Endpoint Response Code: 200\n"
     ]
    }
   ],
   "source": [
    "# One call with above defined params\n",
    "url = create_url(keyword, start_time,end_time, max_results)\n",
    "response = connect_to_endpoint(url[0], headers, url[1], token2)"
   ]
  },
  {
   "cell_type": "code",
   "execution_count": 340,
   "id": "7029a062",
   "metadata": {},
   "outputs": [],
   "source": [
    "final_df = pd.DataFrame()"
   ]
  },
  {
   "cell_type": "code",
   "execution_count": 623,
   "id": "94ae6a40",
   "metadata": {},
   "outputs": [],
   "source": [
    "counter = 0"
   ]
  },
  {
   "cell_type": "code",
   "execution_count": 578,
   "id": "d314b9e2",
   "metadata": {},
   "outputs": [],
   "source": [
    "def fetch_tweets(headers, keyword, start_time, end_time, max_results, tweet_amount, new_token=None):\n",
    "    \n",
    "    start = time.time()\n",
    "    \n",
    "    global counter\n",
    "    # increase counter by number of fetched tweets\n",
    "    counter += max_results\n",
    "    \n",
    "    # if too many tweets are fetched end search early to avoid exceeding tweets per month limit\n",
    "    if counter > tweet_amount:\n",
    "        print(\"Reached search limit\")\n",
    "        counter = 0\n",
    "        return None\n",
    "    \n",
    "    # create url\n",
    "    url = create_url(keyword, start_time, end_time, max_results)\n",
    "    \n",
    "    # call api\n",
    "    response = connect_to_endpoint(url[0], headers, url[1], new_token)\n",
    "    \n",
    "    #response has 3 keys: \n",
    "    #\"data\": tweet information in a dict\n",
    "    #\"includes\": dict with one key \"users\" which is a dict of user information\n",
    "    #\"meta\": api request information\n",
    "    \n",
    "    # create first DataFrame out of tweet response key\n",
    "    tweet_df = pd.json_normalize(response[\"data\"])\n",
    "    \n",
    "    # rename columns to not get identical names with user_df\n",
    "    tweet_df.rename(columns={'id':'tweet_id', \n",
    "                             'created_at': \"tweet_created_at\"}, \n",
    "                    inplace=True)\n",
    "    \n",
    "    # create second DataFrame out of user response key\n",
    "    user_df = pd.json_normalize(response[\"includes\"][\"users\"])\n",
    "    \n",
    "    # rename columns to not get identical names with tweet_df\n",
    "    user_df.rename(columns={'id':'author_id',\n",
    "                            'created_at': \"profile_created_at\"}, \n",
    "                    inplace=True)\n",
    "    \n",
    "    # merge two dataframes into one\n",
    "    merged_df = tweet_df.merge(user_df, how = \"outer\", on=\"author_id\")\n",
    "    \n",
    "    #sentiment = model.predict_sentiment(list(merged_df.text))\n",
    "    \n",
    "    #merged_df[\"sentiment\"] = sentiment\n",
    "\n",
    "    global final_df\n",
    "    # concat the current search DataFrame with a result df outside of the function\n",
    "    final_df = pd.concat([final_df, merged_df], ignore_index=True)\n",
    "    \n",
    "    end = time.time()\n",
    "    print(end - start)\n",
    "    # break if token == None --> no more results for the search query\n",
    "    # otherwise call itself again this time after waiting 6 seconds \n",
    "    # to not exceed api call limit per 15 minutes\n",
    "    \n",
    "    if response[\"meta\"].get(\"next_token\", None):\n",
    "        \n",
    "        # get new token for consecutive search, returns None if search finished\n",
    "        next_token = response[\"meta\"][\"next_token\"]\n",
    "        # sleep to not exceed api call limit\n",
    "        time.sleep(3)\n",
    "        fetch_tweets(headers, keyword, start_time, end_time, max_results, tweet_amount, next_token)\n",
    "        #bearer_token, headers, keyword, start_time, end_time, max_results, \n",
    "    \n",
    "    \n",
    "    return None"
   ]
  },
  {
   "cell_type": "code",
   "execution_count": 5,
   "id": "98df8c1e",
   "metadata": {},
   "outputs": [
    {
     "name": "stdout",
     "output_type": "stream",
     "text": [
      "True\n"
     ]
    }
   ],
   "source": [
    "if not []:\n",
    "    print(\"True\")"
   ]
  },
  {
   "cell_type": "code",
   "execution_count": 659,
   "id": "eb501fbc",
   "metadata": {},
   "outputs": [
    {
     "name": "stdout",
     "output_type": "stream",
     "text": [
      "Endpoint Response Code: 200\n",
      "0.9854757785797119\n",
      "Reached search limit\n"
     ]
    }
   ],
   "source": [
    "# Calls function with variables params defined above \n",
    "fetch_tweets(headers, keyword, start_time, end_time, max_results, tweet_amount=500)"
   ]
  },
  {
   "cell_type": "code",
   "execution_count": 332,
   "id": "0d5417fb",
   "metadata": {},
   "outputs": [
    {
     "data": {
      "text/plain": [
       "1"
      ]
     },
     "execution_count": 332,
     "metadata": {},
     "output_type": "execute_result"
    }
   ],
   "source": [
    "pd.json_normalize(response[\"data\"])"
   ]
  },
  {
   "cell_type": "code",
   "execution_count": 338,
   "id": "d0b4b81f",
   "metadata": {},
   "outputs": [],
   "source": [
    "tu = pd.json_normalize(response[\"includes\"][\"users\"])"
   ]
  },
  {
   "cell_type": "code",
   "execution_count": 318,
   "id": "b058e616",
   "metadata": {},
   "outputs": [],
   "source": [
    "qwe = pd.json_normalize(response[\"data\"])"
   ]
  },
  {
   "cell_type": "code",
   "execution_count": 325,
   "id": "e83c2b6b",
   "metadata": {},
   "outputs": [],
   "source": [
    "qwe = qwe.merge(pd.json_normalize(response[\"includes\"][\"users\"]), how=\"outer\", left_on=\"author_id\", right_on=\"id\")"
   ]
  },
  {
   "cell_type": "code",
   "execution_count": 327,
   "id": "161169d7",
   "metadata": {},
   "outputs": [
    {
     "data": {
      "text/plain": [
       "Index(['lang', 'author_id', 'created_at_x', 'id_x', 'source', 'text',\n",
       "       'public_metrics.retweet_count', 'public_metrics.reply_count',\n",
       "       'public_metrics.like_count', 'public_metrics.quote_count', 'id_y',\n",
       "       'username', 'name', 'created_at_y', 'public_metrics.followers_count',\n",
       "       'public_metrics.following_count', 'public_metrics.tweet_count',\n",
       "       'public_metrics.listed_count', 'location'],\n",
       "      dtype='object')"
      ]
     },
     "execution_count": 327,
     "metadata": {},
     "output_type": "execute_result"
    }
   ],
   "source": [
    "qwe.columns"
   ]
  },
  {
   "cell_type": "code",
   "execution_count": 324,
   "id": "325e8075",
   "metadata": {},
   "outputs": [
    {
     "data": {
      "text/html": [
       "<div>\n",
       "<style scoped>\n",
       "    .dataframe tbody tr th:only-of-type {\n",
       "        vertical-align: middle;\n",
       "    }\n",
       "\n",
       "    .dataframe tbody tr th {\n",
       "        vertical-align: top;\n",
       "    }\n",
       "\n",
       "    .dataframe thead th {\n",
       "        text-align: right;\n",
       "    }\n",
       "</style>\n",
       "<table border=\"1\" class=\"dataframe\">\n",
       "  <thead>\n",
       "    <tr style=\"text-align: right;\">\n",
       "      <th></th>\n",
       "      <th>id</th>\n",
       "      <th>username</th>\n",
       "      <th>name</th>\n",
       "      <th>created_at</th>\n",
       "      <th>public_metrics.followers_count</th>\n",
       "      <th>public_metrics.following_count</th>\n",
       "      <th>public_metrics.tweet_count</th>\n",
       "      <th>public_metrics.listed_count</th>\n",
       "      <th>location</th>\n",
       "    </tr>\n",
       "  </thead>\n",
       "  <tbody>\n",
       "    <tr>\n",
       "      <th>0</th>\n",
       "      <td>14453739</td>\n",
       "      <td>Slow3000</td>\n",
       "      <td>Michael</td>\n",
       "      <td>2008-04-20T18:26:21.000Z</td>\n",
       "      <td>254</td>\n",
       "      <td>858</td>\n",
       "      <td>10573</td>\n",
       "      <td>7</td>\n",
       "      <td>NaN</td>\n",
       "    </tr>\n",
       "    <tr>\n",
       "      <th>1</th>\n",
       "      <td>1213365713533988865</td>\n",
       "      <td>kristy_jmppl</td>\n",
       "      <td>Kristina</td>\n",
       "      <td>2020-01-04T07:45:15.000Z</td>\n",
       "      <td>3</td>\n",
       "      <td>4</td>\n",
       "      <td>57</td>\n",
       "      <td>0</td>\n",
       "      <td>Deutschland</td>\n",
       "    </tr>\n",
       "    <tr>\n",
       "      <th>2</th>\n",
       "      <td>1263393503956078592</td>\n",
       "      <td>kotzlpotzl</td>\n",
       "      <td>Kotzlpotzl</td>\n",
       "      <td>2020-05-21T08:58:58.000Z</td>\n",
       "      <td>138</td>\n",
       "      <td>326</td>\n",
       "      <td>17399</td>\n",
       "      <td>5</td>\n",
       "      <td>NaN</td>\n",
       "    </tr>\n",
       "    <tr>\n",
       "      <th>3</th>\n",
       "      <td>1187450599983472645</td>\n",
       "      <td>Weberameise1</td>\n",
       "      <td>Weberameise</td>\n",
       "      <td>2019-10-24T19:28:02.000Z</td>\n",
       "      <td>348</td>\n",
       "      <td>295</td>\n",
       "      <td>77192</td>\n",
       "      <td>1</td>\n",
       "      <td>Deutschland</td>\n",
       "    </tr>\n",
       "    <tr>\n",
       "      <th>4</th>\n",
       "      <td>749750503169466368</td>\n",
       "      <td>lepoetico</td>\n",
       "      <td>Andre Miller</td>\n",
       "      <td>2016-07-03T23:43:44.000Z</td>\n",
       "      <td>158</td>\n",
       "      <td>324</td>\n",
       "      <td>9887</td>\n",
       "      <td>1</td>\n",
       "      <td>NaN</td>\n",
       "    </tr>\n",
       "    <tr>\n",
       "      <th>5</th>\n",
       "      <td>55563609</td>\n",
       "      <td>PeterDroegemeie</td>\n",
       "      <td>Peter Drögemeier ☀️</td>\n",
       "      <td>2009-07-10T13:41:46.000Z</td>\n",
       "      <td>2305</td>\n",
       "      <td>3771</td>\n",
       "      <td>86046</td>\n",
       "      <td>9</td>\n",
       "      <td>Münster, Deutschland</td>\n",
       "    </tr>\n",
       "    <tr>\n",
       "      <th>6</th>\n",
       "      <td>768064268625383424</td>\n",
       "      <td>Inselkind16</td>\n",
       "      <td>Hedy Dalmer</td>\n",
       "      <td>2016-08-23T12:36:06.000Z</td>\n",
       "      <td>2519</td>\n",
       "      <td>4056</td>\n",
       "      <td>56649</td>\n",
       "      <td>3</td>\n",
       "      <td>Mecklenburg-Vorpommern</td>\n",
       "    </tr>\n",
       "    <tr>\n",
       "      <th>7</th>\n",
       "      <td>349158227</td>\n",
       "      <td>BrunoBrozek</td>\n",
       "      <td>Bruno Brozek 🇮🇱✡️☮️☯️❣️🔴🔴</td>\n",
       "      <td>2011-08-05T17:08:05.000Z</td>\n",
       "      <td>554</td>\n",
       "      <td>3109</td>\n",
       "      <td>19074</td>\n",
       "      <td>0</td>\n",
       "      <td>NaN</td>\n",
       "    </tr>\n",
       "    <tr>\n",
       "      <th>8</th>\n",
       "      <td>1014608590131335169</td>\n",
       "      <td>NeoLink8420</td>\n",
       "      <td>NeoLink</td>\n",
       "      <td>2018-07-04T20:35:13.000Z</td>\n",
       "      <td>1</td>\n",
       "      <td>71</td>\n",
       "      <td>448</td>\n",
       "      <td>0</td>\n",
       "      <td>NaN</td>\n",
       "    </tr>\n",
       "    <tr>\n",
       "      <th>9</th>\n",
       "      <td>760881621113397248</td>\n",
       "      <td>PeterDusburg</td>\n",
       "      <td>Peter Dusburg</td>\n",
       "      <td>2016-08-03T16:54:49.000Z</td>\n",
       "      <td>37</td>\n",
       "      <td>43</td>\n",
       "      <td>7394</td>\n",
       "      <td>5</td>\n",
       "      <td>NaN</td>\n",
       "    </tr>\n",
       "  </tbody>\n",
       "</table>\n",
       "</div>"
      ],
      "text/plain": [
       "                    id         username                       name  \\\n",
       "0             14453739         Slow3000                    Michael   \n",
       "1  1213365713533988865     kristy_jmppl                   Kristina   \n",
       "2  1263393503956078592       kotzlpotzl                 Kotzlpotzl   \n",
       "3  1187450599983472645     Weberameise1                Weberameise   \n",
       "4   749750503169466368        lepoetico               Andre Miller   \n",
       "5             55563609  PeterDroegemeie        Peter Drögemeier ☀️   \n",
       "6   768064268625383424      Inselkind16                Hedy Dalmer   \n",
       "7            349158227      BrunoBrozek  Bruno Brozek 🇮🇱✡️☮️☯️❣️🔴🔴   \n",
       "8  1014608590131335169      NeoLink8420                    NeoLink   \n",
       "9   760881621113397248     PeterDusburg              Peter Dusburg   \n",
       "\n",
       "                 created_at  public_metrics.followers_count  \\\n",
       "0  2008-04-20T18:26:21.000Z                             254   \n",
       "1  2020-01-04T07:45:15.000Z                               3   \n",
       "2  2020-05-21T08:58:58.000Z                             138   \n",
       "3  2019-10-24T19:28:02.000Z                             348   \n",
       "4  2016-07-03T23:43:44.000Z                             158   \n",
       "5  2009-07-10T13:41:46.000Z                            2305   \n",
       "6  2016-08-23T12:36:06.000Z                            2519   \n",
       "7  2011-08-05T17:08:05.000Z                             554   \n",
       "8  2018-07-04T20:35:13.000Z                               1   \n",
       "9  2016-08-03T16:54:49.000Z                              37   \n",
       "\n",
       "   public_metrics.following_count  public_metrics.tweet_count  \\\n",
       "0                             858                       10573   \n",
       "1                               4                          57   \n",
       "2                             326                       17399   \n",
       "3                             295                       77192   \n",
       "4                             324                        9887   \n",
       "5                            3771                       86046   \n",
       "6                            4056                       56649   \n",
       "7                            3109                       19074   \n",
       "8                              71                         448   \n",
       "9                              43                        7394   \n",
       "\n",
       "   public_metrics.listed_count                location  \n",
       "0                            7                     NaN  \n",
       "1                            0             Deutschland  \n",
       "2                            5                     NaN  \n",
       "3                            1             Deutschland  \n",
       "4                            1                     NaN  \n",
       "5                            9    Münster, Deutschland  \n",
       "6                            3  Mecklenburg-Vorpommern  \n",
       "7                            0                     NaN  \n",
       "8                            0                     NaN  \n",
       "9                            5                     NaN  "
      ]
     },
     "execution_count": 324,
     "metadata": {},
     "output_type": "execute_result"
    }
   ],
   "source": [
    "pd.json_normalize(response[\"includes\"][\"users\"])"
   ]
  },
  {
   "cell_type": "code",
   "execution_count": 319,
   "id": "51c2d7fc",
   "metadata": {
    "collapsed": true
   },
   "outputs": [
    {
     "data": {
      "text/html": [
       "<div>\n",
       "<style scoped>\n",
       "    .dataframe tbody tr th:only-of-type {\n",
       "        vertical-align: middle;\n",
       "    }\n",
       "\n",
       "    .dataframe tbody tr th {\n",
       "        vertical-align: top;\n",
       "    }\n",
       "\n",
       "    .dataframe thead th {\n",
       "        text-align: right;\n",
       "    }\n",
       "</style>\n",
       "<table border=\"1\" class=\"dataframe\">\n",
       "  <thead>\n",
       "    <tr style=\"text-align: right;\">\n",
       "      <th></th>\n",
       "      <th>lang</th>\n",
       "      <th>author_id</th>\n",
       "      <th>created_at</th>\n",
       "      <th>id</th>\n",
       "      <th>source</th>\n",
       "      <th>text</th>\n",
       "      <th>public_metrics.retweet_count</th>\n",
       "      <th>public_metrics.reply_count</th>\n",
       "      <th>public_metrics.like_count</th>\n",
       "      <th>public_metrics.quote_count</th>\n",
       "    </tr>\n",
       "  </thead>\n",
       "  <tbody>\n",
       "    <tr>\n",
       "      <th>0</th>\n",
       "      <td>de</td>\n",
       "      <td>14453739</td>\n",
       "      <td>2021-08-24T23:51:36.000Z</td>\n",
       "      <td>1430316893752209408</td>\n",
       "      <td>Twitter for iPhone</td>\n",
       "      <td>RT @Lam3th: Wie kommen wir alle gesund durch d...</td>\n",
       "      <td>551</td>\n",
       "      <td>0</td>\n",
       "      <td>0</td>\n",
       "      <td>0</td>\n",
       "    </tr>\n",
       "    <tr>\n",
       "      <th>1</th>\n",
       "      <td>de</td>\n",
       "      <td>1213365713533988865</td>\n",
       "      <td>2021-08-24T23:51:34.000Z</td>\n",
       "      <td>1430316886303064065</td>\n",
       "      <td>Twitter for iPhone</td>\n",
       "      <td>RT @Der_Postillon: Glück gehabt: CDU muss nich...</td>\n",
       "      <td>793</td>\n",
       "      <td>0</td>\n",
       "      <td>0</td>\n",
       "      <td>0</td>\n",
       "    </tr>\n",
       "    <tr>\n",
       "      <th>2</th>\n",
       "      <td>de</td>\n",
       "      <td>1263393503956078592</td>\n",
       "      <td>2021-08-24T23:51:03.000Z</td>\n",
       "      <td>1430316756833382400</td>\n",
       "      <td>Twitter for Android</td>\n",
       "      <td>RT @kaffeecup: Mit ihm als Kanzler werde es ke...</td>\n",
       "      <td>68</td>\n",
       "      <td>0</td>\n",
       "      <td>0</td>\n",
       "      <td>0</td>\n",
       "    </tr>\n",
       "    <tr>\n",
       "      <th>3</th>\n",
       "      <td>de</td>\n",
       "      <td>1187450599983472645</td>\n",
       "      <td>2021-08-24T23:50:19.000Z</td>\n",
       "      <td>1430316573735202825</td>\n",
       "      <td>Twitter Web App</td>\n",
       "      <td>RT @Wolfgan39555363: @phoenix_de @Weberameise1...</td>\n",
       "      <td>1</td>\n",
       "      <td>0</td>\n",
       "      <td>0</td>\n",
       "      <td>0</td>\n",
       "    </tr>\n",
       "    <tr>\n",
       "      <th>4</th>\n",
       "      <td>de</td>\n",
       "      <td>749750503169466368</td>\n",
       "      <td>2021-08-24T23:49:56.000Z</td>\n",
       "      <td>1430316477333348358</td>\n",
       "      <td>Twitter for Android</td>\n",
       "      <td>RT @Procyon25: CDU-Wahlplakat: \\n\"Wählt CDU! U...</td>\n",
       "      <td>8</td>\n",
       "      <td>0</td>\n",
       "      <td>0</td>\n",
       "      <td>0</td>\n",
       "    </tr>\n",
       "    <tr>\n",
       "      <th>5</th>\n",
       "      <td>de</td>\n",
       "      <td>55563609</td>\n",
       "      <td>2021-08-24T23:49:34.000Z</td>\n",
       "      <td>1430316383406071816</td>\n",
       "      <td>Twitter Web App</td>\n",
       "      <td>RT @saki_statement: Januar 2021:\\nLaschet wird...</td>\n",
       "      <td>119</td>\n",
       "      <td>0</td>\n",
       "      <td>0</td>\n",
       "      <td>0</td>\n",
       "    </tr>\n",
       "    <tr>\n",
       "      <th>6</th>\n",
       "      <td>de</td>\n",
       "      <td>768064268625383424</td>\n",
       "      <td>2021-08-24T23:49:29.000Z</td>\n",
       "      <td>1430316363793453066</td>\n",
       "      <td>Twitter Web App</td>\n",
       "      <td>RT @Kall90384061: @lisapaus @CDU @fdp @sven_ki...</td>\n",
       "      <td>21</td>\n",
       "      <td>0</td>\n",
       "      <td>0</td>\n",
       "      <td>0</td>\n",
       "    </tr>\n",
       "    <tr>\n",
       "      <th>7</th>\n",
       "      <td>de</td>\n",
       "      <td>349158227</td>\n",
       "      <td>2021-08-24T23:49:13.000Z</td>\n",
       "      <td>1430316293958381575</td>\n",
       "      <td>Twitter for Android</td>\n",
       "      <td>RT @BrunoBrozek: Warum ist die @Regierung17 ni...</td>\n",
       "      <td>4</td>\n",
       "      <td>0</td>\n",
       "      <td>0</td>\n",
       "      <td>0</td>\n",
       "    </tr>\n",
       "    <tr>\n",
       "      <th>8</th>\n",
       "      <td>de</td>\n",
       "      <td>1014608590131335169</td>\n",
       "      <td>2021-08-24T23:49:08.000Z</td>\n",
       "      <td>1430316272701612036</td>\n",
       "      <td>Twitter for Android</td>\n",
       "      <td>@andreasscheuer CDU steht für vollversagen bei...</td>\n",
       "      <td>0</td>\n",
       "      <td>0</td>\n",
       "      <td>0</td>\n",
       "      <td>0</td>\n",
       "    </tr>\n",
       "    <tr>\n",
       "      <th>9</th>\n",
       "      <td>de</td>\n",
       "      <td>760881621113397248</td>\n",
       "      <td>2021-08-24T23:49:04.000Z</td>\n",
       "      <td>1430316258571034626</td>\n",
       "      <td>Twitter Web App</td>\n",
       "      <td>@dieparteimfr @ArminLaschet @CDU Zu 1. Hat Ein...</td>\n",
       "      <td>0</td>\n",
       "      <td>0</td>\n",
       "      <td>0</td>\n",
       "      <td>0</td>\n",
       "    </tr>\n",
       "  </tbody>\n",
       "</table>\n",
       "</div>"
      ],
      "text/plain": [
       "  lang            author_id                created_at                   id  \\\n",
       "0   de             14453739  2021-08-24T23:51:36.000Z  1430316893752209408   \n",
       "1   de  1213365713533988865  2021-08-24T23:51:34.000Z  1430316886303064065   \n",
       "2   de  1263393503956078592  2021-08-24T23:51:03.000Z  1430316756833382400   \n",
       "3   de  1187450599983472645  2021-08-24T23:50:19.000Z  1430316573735202825   \n",
       "4   de   749750503169466368  2021-08-24T23:49:56.000Z  1430316477333348358   \n",
       "5   de             55563609  2021-08-24T23:49:34.000Z  1430316383406071816   \n",
       "6   de   768064268625383424  2021-08-24T23:49:29.000Z  1430316363793453066   \n",
       "7   de            349158227  2021-08-24T23:49:13.000Z  1430316293958381575   \n",
       "8   de  1014608590131335169  2021-08-24T23:49:08.000Z  1430316272701612036   \n",
       "9   de   760881621113397248  2021-08-24T23:49:04.000Z  1430316258571034626   \n",
       "\n",
       "                source                                               text  \\\n",
       "0   Twitter for iPhone  RT @Lam3th: Wie kommen wir alle gesund durch d...   \n",
       "1   Twitter for iPhone  RT @Der_Postillon: Glück gehabt: CDU muss nich...   \n",
       "2  Twitter for Android  RT @kaffeecup: Mit ihm als Kanzler werde es ke...   \n",
       "3      Twitter Web App  RT @Wolfgan39555363: @phoenix_de @Weberameise1...   \n",
       "4  Twitter for Android  RT @Procyon25: CDU-Wahlplakat: \\n\"Wählt CDU! U...   \n",
       "5      Twitter Web App  RT @saki_statement: Januar 2021:\\nLaschet wird...   \n",
       "6      Twitter Web App  RT @Kall90384061: @lisapaus @CDU @fdp @sven_ki...   \n",
       "7  Twitter for Android  RT @BrunoBrozek: Warum ist die @Regierung17 ni...   \n",
       "8  Twitter for Android  @andreasscheuer CDU steht für vollversagen bei...   \n",
       "9      Twitter Web App  @dieparteimfr @ArminLaschet @CDU Zu 1. Hat Ein...   \n",
       "\n",
       "   public_metrics.retweet_count  public_metrics.reply_count  \\\n",
       "0                           551                           0   \n",
       "1                           793                           0   \n",
       "2                            68                           0   \n",
       "3                             1                           0   \n",
       "4                             8                           0   \n",
       "5                           119                           0   \n",
       "6                            21                           0   \n",
       "7                             4                           0   \n",
       "8                             0                           0   \n",
       "9                             0                           0   \n",
       "\n",
       "   public_metrics.like_count  public_metrics.quote_count  \n",
       "0                          0                           0  \n",
       "1                          0                           0  \n",
       "2                          0                           0  \n",
       "3                          0                           0  \n",
       "4                          0                           0  \n",
       "5                          0                           0  \n",
       "6                          0                           0  \n",
       "7                          0                           0  \n",
       "8                          0                           0  \n",
       "9                          0                           0  "
      ]
     },
     "execution_count": 319,
     "metadata": {},
     "output_type": "execute_result"
    }
   ],
   "source": [
    "qwe"
   ]
  },
  {
   "cell_type": "code",
   "execution_count": 315,
   "id": "96eea3fe",
   "metadata": {},
   "outputs": [
    {
     "ename": "TypeError",
     "evalue": "list indices must be integers or slices, not str",
     "output_type": "error",
     "traceback": [
      "\u001b[0;31m---------------------------------------------------------------------------\u001b[0m",
      "\u001b[0;31mTypeError\u001b[0m                                 Traceback (most recent call last)",
      "\u001b[0;32m/var/folders/34/1yvhb8vj085g3m5tpn1x91d80000gn/T/ipykernel_92927/2711518818.py\u001b[0m in \u001b[0;36m<module>\u001b[0;34m\u001b[0m\n\u001b[0;32m----> 1\u001b[0;31m \u001b[0mresponse\u001b[0m\u001b[0;34m[\u001b[0m\u001b[0;34m\"data\"\u001b[0m\u001b[0;34m]\u001b[0m\u001b[0;34m[\u001b[0m\u001b[0;34m\"public_metrics\"\u001b[0m\u001b[0;34m]\u001b[0m\u001b[0;34m\u001b[0m\u001b[0;34m\u001b[0m\u001b[0m\n\u001b[0m",
      "\u001b[0;31mTypeError\u001b[0m: list indices must be integers or slices, not str"
     ]
    }
   ],
   "source": [
    "for i in range(len(max_len)):\n",
    "    response[\"data\"][i][\"public_metrics\"]"
   ]
  },
  {
   "cell_type": "code",
   "execution_count": 320,
   "id": "2569841a",
   "metadata": {
    "collapsed": true
   },
   "outputs": [
    {
     "data": {
      "text/html": [
       "<div>\n",
       "<style scoped>\n",
       "    .dataframe tbody tr th:only-of-type {\n",
       "        vertical-align: middle;\n",
       "    }\n",
       "\n",
       "    .dataframe tbody tr th {\n",
       "        vertical-align: top;\n",
       "    }\n",
       "\n",
       "    .dataframe thead th {\n",
       "        text-align: right;\n",
       "    }\n",
       "</style>\n",
       "<table border=\"1\" class=\"dataframe\">\n",
       "  <thead>\n",
       "    <tr style=\"text-align: right;\">\n",
       "      <th></th>\n",
       "      <th>public_metrics</th>\n",
       "      <th>lang</th>\n",
       "      <th>author_id</th>\n",
       "      <th>created_at</th>\n",
       "      <th>id</th>\n",
       "      <th>source</th>\n",
       "      <th>text</th>\n",
       "    </tr>\n",
       "  </thead>\n",
       "  <tbody>\n",
       "    <tr>\n",
       "      <th>0</th>\n",
       "      <td>{'retweet_count': 551, 'reply_count': 0, 'like...</td>\n",
       "      <td>de</td>\n",
       "      <td>14453739</td>\n",
       "      <td>2021-08-24T23:51:36.000Z</td>\n",
       "      <td>1430316893752209408</td>\n",
       "      <td>Twitter for iPhone</td>\n",
       "      <td>RT @Lam3th: Wie kommen wir alle gesund durch d...</td>\n",
       "    </tr>\n",
       "    <tr>\n",
       "      <th>1</th>\n",
       "      <td>{'retweet_count': 793, 'reply_count': 0, 'like...</td>\n",
       "      <td>de</td>\n",
       "      <td>1213365713533988865</td>\n",
       "      <td>2021-08-24T23:51:34.000Z</td>\n",
       "      <td>1430316886303064065</td>\n",
       "      <td>Twitter for iPhone</td>\n",
       "      <td>RT @Der_Postillon: Glück gehabt: CDU muss nich...</td>\n",
       "    </tr>\n",
       "    <tr>\n",
       "      <th>2</th>\n",
       "      <td>{'retweet_count': 68, 'reply_count': 0, 'like_...</td>\n",
       "      <td>de</td>\n",
       "      <td>1263393503956078592</td>\n",
       "      <td>2021-08-24T23:51:03.000Z</td>\n",
       "      <td>1430316756833382400</td>\n",
       "      <td>Twitter for Android</td>\n",
       "      <td>RT @kaffeecup: Mit ihm als Kanzler werde es ke...</td>\n",
       "    </tr>\n",
       "    <tr>\n",
       "      <th>3</th>\n",
       "      <td>{'retweet_count': 1, 'reply_count': 0, 'like_c...</td>\n",
       "      <td>de</td>\n",
       "      <td>1187450599983472645</td>\n",
       "      <td>2021-08-24T23:50:19.000Z</td>\n",
       "      <td>1430316573735202825</td>\n",
       "      <td>Twitter Web App</td>\n",
       "      <td>RT @Wolfgan39555363: @phoenix_de @Weberameise1...</td>\n",
       "    </tr>\n",
       "    <tr>\n",
       "      <th>4</th>\n",
       "      <td>{'retweet_count': 8, 'reply_count': 0, 'like_c...</td>\n",
       "      <td>de</td>\n",
       "      <td>749750503169466368</td>\n",
       "      <td>2021-08-24T23:49:56.000Z</td>\n",
       "      <td>1430316477333348358</td>\n",
       "      <td>Twitter for Android</td>\n",
       "      <td>RT @Procyon25: CDU-Wahlplakat: \\n\"Wählt CDU! U...</td>\n",
       "    </tr>\n",
       "    <tr>\n",
       "      <th>5</th>\n",
       "      <td>{'retweet_count': 119, 'reply_count': 0, 'like...</td>\n",
       "      <td>de</td>\n",
       "      <td>55563609</td>\n",
       "      <td>2021-08-24T23:49:34.000Z</td>\n",
       "      <td>1430316383406071816</td>\n",
       "      <td>Twitter Web App</td>\n",
       "      <td>RT @saki_statement: Januar 2021:\\nLaschet wird...</td>\n",
       "    </tr>\n",
       "    <tr>\n",
       "      <th>6</th>\n",
       "      <td>{'retweet_count': 21, 'reply_count': 0, 'like_...</td>\n",
       "      <td>de</td>\n",
       "      <td>768064268625383424</td>\n",
       "      <td>2021-08-24T23:49:29.000Z</td>\n",
       "      <td>1430316363793453066</td>\n",
       "      <td>Twitter Web App</td>\n",
       "      <td>RT @Kall90384061: @lisapaus @CDU @fdp @sven_ki...</td>\n",
       "    </tr>\n",
       "    <tr>\n",
       "      <th>7</th>\n",
       "      <td>{'retweet_count': 4, 'reply_count': 0, 'like_c...</td>\n",
       "      <td>de</td>\n",
       "      <td>349158227</td>\n",
       "      <td>2021-08-24T23:49:13.000Z</td>\n",
       "      <td>1430316293958381575</td>\n",
       "      <td>Twitter for Android</td>\n",
       "      <td>RT @BrunoBrozek: Warum ist die @Regierung17 ni...</td>\n",
       "    </tr>\n",
       "    <tr>\n",
       "      <th>8</th>\n",
       "      <td>{'retweet_count': 0, 'reply_count': 0, 'like_c...</td>\n",
       "      <td>de</td>\n",
       "      <td>1014608590131335169</td>\n",
       "      <td>2021-08-24T23:49:08.000Z</td>\n",
       "      <td>1430316272701612036</td>\n",
       "      <td>Twitter for Android</td>\n",
       "      <td>@andreasscheuer CDU steht für vollversagen bei...</td>\n",
       "    </tr>\n",
       "    <tr>\n",
       "      <th>9</th>\n",
       "      <td>{'retweet_count': 0, 'reply_count': 0, 'like_c...</td>\n",
       "      <td>de</td>\n",
       "      <td>760881621113397248</td>\n",
       "      <td>2021-08-24T23:49:04.000Z</td>\n",
       "      <td>1430316258571034626</td>\n",
       "      <td>Twitter Web App</td>\n",
       "      <td>@dieparteimfr @ArminLaschet @CDU Zu 1. Hat Ein...</td>\n",
       "    </tr>\n",
       "  </tbody>\n",
       "</table>\n",
       "</div>"
      ],
      "text/plain": [
       "                                      public_metrics lang  \\\n",
       "0  {'retweet_count': 551, 'reply_count': 0, 'like...   de   \n",
       "1  {'retweet_count': 793, 'reply_count': 0, 'like...   de   \n",
       "2  {'retweet_count': 68, 'reply_count': 0, 'like_...   de   \n",
       "3  {'retweet_count': 1, 'reply_count': 0, 'like_c...   de   \n",
       "4  {'retweet_count': 8, 'reply_count': 0, 'like_c...   de   \n",
       "5  {'retweet_count': 119, 'reply_count': 0, 'like...   de   \n",
       "6  {'retweet_count': 21, 'reply_count': 0, 'like_...   de   \n",
       "7  {'retweet_count': 4, 'reply_count': 0, 'like_c...   de   \n",
       "8  {'retweet_count': 0, 'reply_count': 0, 'like_c...   de   \n",
       "9  {'retweet_count': 0, 'reply_count': 0, 'like_c...   de   \n",
       "\n",
       "             author_id                created_at                   id  \\\n",
       "0             14453739  2021-08-24T23:51:36.000Z  1430316893752209408   \n",
       "1  1213365713533988865  2021-08-24T23:51:34.000Z  1430316886303064065   \n",
       "2  1263393503956078592  2021-08-24T23:51:03.000Z  1430316756833382400   \n",
       "3  1187450599983472645  2021-08-24T23:50:19.000Z  1430316573735202825   \n",
       "4   749750503169466368  2021-08-24T23:49:56.000Z  1430316477333348358   \n",
       "5             55563609  2021-08-24T23:49:34.000Z  1430316383406071816   \n",
       "6   768064268625383424  2021-08-24T23:49:29.000Z  1430316363793453066   \n",
       "7            349158227  2021-08-24T23:49:13.000Z  1430316293958381575   \n",
       "8  1014608590131335169  2021-08-24T23:49:08.000Z  1430316272701612036   \n",
       "9   760881621113397248  2021-08-24T23:49:04.000Z  1430316258571034626   \n",
       "\n",
       "                source                                               text  \n",
       "0   Twitter for iPhone  RT @Lam3th: Wie kommen wir alle gesund durch d...  \n",
       "1   Twitter for iPhone  RT @Der_Postillon: Glück gehabt: CDU muss nich...  \n",
       "2  Twitter for Android  RT @kaffeecup: Mit ihm als Kanzler werde es ke...  \n",
       "3      Twitter Web App  RT @Wolfgan39555363: @phoenix_de @Weberameise1...  \n",
       "4  Twitter for Android  RT @Procyon25: CDU-Wahlplakat: \\n\"Wählt CDU! U...  \n",
       "5      Twitter Web App  RT @saki_statement: Januar 2021:\\nLaschet wird...  \n",
       "6      Twitter Web App  RT @Kall90384061: @lisapaus @CDU @fdp @sven_ki...  \n",
       "7  Twitter for Android  RT @BrunoBrozek: Warum ist die @Regierung17 ni...  \n",
       "8  Twitter for Android  @andreasscheuer CDU steht für vollversagen bei...  \n",
       "9      Twitter Web App  @dieparteimfr @ArminLaschet @CDU Zu 1. Hat Ein...  "
      ]
     },
     "execution_count": 320,
     "metadata": {},
     "output_type": "execute_result"
    }
   ],
   "source": [
    "pd.DataFrame(response[\"data\"])"
   ]
  },
  {
   "cell_type": "code",
   "execution_count": null,
   "id": "1319c75a",
   "metadata": {},
   "outputs": [],
   "source": []
  },
  {
   "cell_type": "code",
   "execution_count": 301,
   "id": "542d34c0",
   "metadata": {},
   "outputs": [],
   "source": [
    "gho.to_csv(\"test.csv\")"
   ]
  },
  {
   "cell_type": "code",
   "execution_count": 302,
   "id": "411d54e5",
   "metadata": {},
   "outputs": [],
   "source": [
    "ll = pd.read_csv(\"test.csv\")"
   ]
  },
  {
   "cell_type": "code",
   "execution_count": 306,
   "id": "4441ee31",
   "metadata": {},
   "outputs": [
    {
     "data": {
      "text/plain": [
       "\"{'followers_count': 3, 'following_count': 4, 'tweet_count': 57, 'listed_count': 0}\""
      ]
     },
     "execution_count": 306,
     "metadata": {},
     "output_type": "execute_result"
    }
   ],
   "source": [
    "ll.iloc[1].public_metrics"
   ]
  },
  {
   "cell_type": "code",
   "execution_count": 321,
   "id": "b59a8bff",
   "metadata": {
    "collapsed": true
   },
   "outputs": [
    {
     "data": {
      "text/html": [
       "<div>\n",
       "<style scoped>\n",
       "    .dataframe tbody tr th:only-of-type {\n",
       "        vertical-align: middle;\n",
       "    }\n",
       "\n",
       "    .dataframe tbody tr th {\n",
       "        vertical-align: top;\n",
       "    }\n",
       "\n",
       "    .dataframe thead th {\n",
       "        text-align: right;\n",
       "    }\n",
       "</style>\n",
       "<table border=\"1\" class=\"dataframe\">\n",
       "  <thead>\n",
       "    <tr style=\"text-align: right;\">\n",
       "      <th></th>\n",
       "      <th>id</th>\n",
       "      <th>username</th>\n",
       "      <th>name</th>\n",
       "      <th>created_at</th>\n",
       "      <th>public_metrics.followers_count</th>\n",
       "      <th>public_metrics.following_count</th>\n",
       "      <th>public_metrics.tweet_count</th>\n",
       "      <th>public_metrics.listed_count</th>\n",
       "      <th>location</th>\n",
       "    </tr>\n",
       "  </thead>\n",
       "  <tbody>\n",
       "    <tr>\n",
       "      <th>0</th>\n",
       "      <td>14453739</td>\n",
       "      <td>Slow3000</td>\n",
       "      <td>Michael</td>\n",
       "      <td>2008-04-20T18:26:21.000Z</td>\n",
       "      <td>254</td>\n",
       "      <td>858</td>\n",
       "      <td>10573</td>\n",
       "      <td>7</td>\n",
       "      <td>NaN</td>\n",
       "    </tr>\n",
       "    <tr>\n",
       "      <th>1</th>\n",
       "      <td>1213365713533988865</td>\n",
       "      <td>kristy_jmppl</td>\n",
       "      <td>Kristina</td>\n",
       "      <td>2020-01-04T07:45:15.000Z</td>\n",
       "      <td>3</td>\n",
       "      <td>4</td>\n",
       "      <td>57</td>\n",
       "      <td>0</td>\n",
       "      <td>Deutschland</td>\n",
       "    </tr>\n",
       "    <tr>\n",
       "      <th>2</th>\n",
       "      <td>1263393503956078592</td>\n",
       "      <td>kotzlpotzl</td>\n",
       "      <td>Kotzlpotzl</td>\n",
       "      <td>2020-05-21T08:58:58.000Z</td>\n",
       "      <td>138</td>\n",
       "      <td>326</td>\n",
       "      <td>17399</td>\n",
       "      <td>5</td>\n",
       "      <td>NaN</td>\n",
       "    </tr>\n",
       "    <tr>\n",
       "      <th>3</th>\n",
       "      <td>1187450599983472645</td>\n",
       "      <td>Weberameise1</td>\n",
       "      <td>Weberameise</td>\n",
       "      <td>2019-10-24T19:28:02.000Z</td>\n",
       "      <td>348</td>\n",
       "      <td>295</td>\n",
       "      <td>77192</td>\n",
       "      <td>1</td>\n",
       "      <td>Deutschland</td>\n",
       "    </tr>\n",
       "    <tr>\n",
       "      <th>4</th>\n",
       "      <td>749750503169466368</td>\n",
       "      <td>lepoetico</td>\n",
       "      <td>Andre Miller</td>\n",
       "      <td>2016-07-03T23:43:44.000Z</td>\n",
       "      <td>158</td>\n",
       "      <td>324</td>\n",
       "      <td>9887</td>\n",
       "      <td>1</td>\n",
       "      <td>NaN</td>\n",
       "    </tr>\n",
       "    <tr>\n",
       "      <th>5</th>\n",
       "      <td>55563609</td>\n",
       "      <td>PeterDroegemeie</td>\n",
       "      <td>Peter Drögemeier ☀️</td>\n",
       "      <td>2009-07-10T13:41:46.000Z</td>\n",
       "      <td>2305</td>\n",
       "      <td>3771</td>\n",
       "      <td>86046</td>\n",
       "      <td>9</td>\n",
       "      <td>Münster, Deutschland</td>\n",
       "    </tr>\n",
       "    <tr>\n",
       "      <th>6</th>\n",
       "      <td>768064268625383424</td>\n",
       "      <td>Inselkind16</td>\n",
       "      <td>Hedy Dalmer</td>\n",
       "      <td>2016-08-23T12:36:06.000Z</td>\n",
       "      <td>2519</td>\n",
       "      <td>4056</td>\n",
       "      <td>56649</td>\n",
       "      <td>3</td>\n",
       "      <td>Mecklenburg-Vorpommern</td>\n",
       "    </tr>\n",
       "    <tr>\n",
       "      <th>7</th>\n",
       "      <td>349158227</td>\n",
       "      <td>BrunoBrozek</td>\n",
       "      <td>Bruno Brozek 🇮🇱✡️☮️☯️❣️🔴🔴</td>\n",
       "      <td>2011-08-05T17:08:05.000Z</td>\n",
       "      <td>554</td>\n",
       "      <td>3109</td>\n",
       "      <td>19074</td>\n",
       "      <td>0</td>\n",
       "      <td>NaN</td>\n",
       "    </tr>\n",
       "    <tr>\n",
       "      <th>8</th>\n",
       "      <td>1014608590131335169</td>\n",
       "      <td>NeoLink8420</td>\n",
       "      <td>NeoLink</td>\n",
       "      <td>2018-07-04T20:35:13.000Z</td>\n",
       "      <td>1</td>\n",
       "      <td>71</td>\n",
       "      <td>448</td>\n",
       "      <td>0</td>\n",
       "      <td>NaN</td>\n",
       "    </tr>\n",
       "    <tr>\n",
       "      <th>9</th>\n",
       "      <td>760881621113397248</td>\n",
       "      <td>PeterDusburg</td>\n",
       "      <td>Peter Dusburg</td>\n",
       "      <td>2016-08-03T16:54:49.000Z</td>\n",
       "      <td>37</td>\n",
       "      <td>43</td>\n",
       "      <td>7394</td>\n",
       "      <td>5</td>\n",
       "      <td>NaN</td>\n",
       "    </tr>\n",
       "  </tbody>\n",
       "</table>\n",
       "</div>"
      ],
      "text/plain": [
       "                    id         username                       name  \\\n",
       "0             14453739         Slow3000                    Michael   \n",
       "1  1213365713533988865     kristy_jmppl                   Kristina   \n",
       "2  1263393503956078592       kotzlpotzl                 Kotzlpotzl   \n",
       "3  1187450599983472645     Weberameise1                Weberameise   \n",
       "4   749750503169466368        lepoetico               Andre Miller   \n",
       "5             55563609  PeterDroegemeie        Peter Drögemeier ☀️   \n",
       "6   768064268625383424      Inselkind16                Hedy Dalmer   \n",
       "7            349158227      BrunoBrozek  Bruno Brozek 🇮🇱✡️☮️☯️❣️🔴🔴   \n",
       "8  1014608590131335169      NeoLink8420                    NeoLink   \n",
       "9   760881621113397248     PeterDusburg              Peter Dusburg   \n",
       "\n",
       "                 created_at  public_metrics.followers_count  \\\n",
       "0  2008-04-20T18:26:21.000Z                             254   \n",
       "1  2020-01-04T07:45:15.000Z                               3   \n",
       "2  2020-05-21T08:58:58.000Z                             138   \n",
       "3  2019-10-24T19:28:02.000Z                             348   \n",
       "4  2016-07-03T23:43:44.000Z                             158   \n",
       "5  2009-07-10T13:41:46.000Z                            2305   \n",
       "6  2016-08-23T12:36:06.000Z                            2519   \n",
       "7  2011-08-05T17:08:05.000Z                             554   \n",
       "8  2018-07-04T20:35:13.000Z                               1   \n",
       "9  2016-08-03T16:54:49.000Z                              37   \n",
       "\n",
       "   public_metrics.following_count  public_metrics.tweet_count  \\\n",
       "0                             858                       10573   \n",
       "1                               4                          57   \n",
       "2                             326                       17399   \n",
       "3                             295                       77192   \n",
       "4                             324                        9887   \n",
       "5                            3771                       86046   \n",
       "6                            4056                       56649   \n",
       "7                            3109                       19074   \n",
       "8                              71                         448   \n",
       "9                              43                        7394   \n",
       "\n",
       "   public_metrics.listed_count                location  \n",
       "0                            7                     NaN  \n",
       "1                            0             Deutschland  \n",
       "2                            5                     NaN  \n",
       "3                            1             Deutschland  \n",
       "4                            1                     NaN  \n",
       "5                            9    Münster, Deutschland  \n",
       "6                            3  Mecklenburg-Vorpommern  \n",
       "7                            0                     NaN  \n",
       "8                            0                     NaN  \n",
       "9                            5                     NaN  "
      ]
     },
     "execution_count": 321,
     "metadata": {},
     "output_type": "execute_result"
    }
   ],
   "source": [
    "pd.json_normalize(response[\"includes\"][\"users\"])"
   ]
  },
  {
   "cell_type": "code",
   "execution_count": 300,
   "id": "964b9205",
   "metadata": {},
   "outputs": [],
   "source": [
    "gho = pd.DataFrame(response[\"includes\"][\"users\"])"
   ]
  },
  {
   "cell_type": "code",
   "execution_count": 229,
   "id": "ebc3a8b8",
   "metadata": {},
   "outputs": [
    {
     "data": {
      "text/plain": [
       "{'id': '55563609',\n",
       " 'username': 'PeterDroegemeie',\n",
       " 'name': 'Peter Drögemeier ☀️',\n",
       " 'location': 'Münster, Deutschland',\n",
       " 'public_metrics': {'followers_count': 2305,\n",
       "  'following_count': 3771,\n",
       "  'tweet_count': 86046,\n",
       "  'listed_count': 9},\n",
       " 'created_at': '2009-07-10T13:41:46.000Z'}"
      ]
     },
     "execution_count": 229,
     "metadata": {},
     "output_type": "execute_result"
    }
   ],
   "source": [
    "response[\"includes\"][\"users\"][5]"
   ]
  },
  {
   "cell_type": "code",
   "execution_count": 116,
   "id": "1c9f59a2",
   "metadata": {},
   "outputs": [
    {
     "data": {
      "text/plain": [
       "{'newest_id': '1430316893752209408',\n",
       " 'oldest_id': '1430316258571034626',\n",
       " 'result_count': 10,\n",
       " 'next_token': 'b26v89c19zqg8o3fpdp68o8fzdp42momr58tmgu18ynb1'}"
      ]
     },
     "execution_count": 116,
     "metadata": {},
     "output_type": "execute_result"
    }
   ],
   "source": [
    "response[\"meta\"]"
   ]
  },
  {
   "cell_type": "code",
   "execution_count": 118,
   "id": "b4a65cc7",
   "metadata": {},
   "outputs": [
    {
     "data": {
      "text/plain": [
       "{'public_metrics': {'retweet_count': 0,\n",
       "  'reply_count': 0,\n",
       "  'like_count': 0,\n",
       "  'quote_count': 0},\n",
       " 'lang': 'de',\n",
       " 'created_at': '2021-08-24T23:49:04.000Z',\n",
       " 'text': '@dieparteimfr @ArminLaschet @CDU Zu 1. Hat Einstein Heisenberg angeschrien mit den Worten und man kann das verstehen.\\nZu Feind der Wissenschaft diese Zahlen https://t.co/OU0zFOqXo8',\n",
       " 'source': 'Twitter Web App',\n",
       " 'author_id': '760881621113397248',\n",
       " 'id': '1430316258571034626'}"
      ]
     },
     "execution_count": 118,
     "metadata": {},
     "output_type": "execute_result"
    }
   ],
   "source": [
    "response[\"data\"][9]"
   ]
  },
  {
   "cell_type": "code",
   "execution_count": 206,
   "id": "3fed468b",
   "metadata": {},
   "outputs": [
    {
     "data": {
      "text/plain": [
       "{'id': '1263393503956078592',\n",
       " 'created_at': '2020-05-21T08:58:58.000Z',\n",
       " 'username': 'kotzlpotzl',\n",
       " 'name': 'Kotzlpotzl',\n",
       " 'public_metrics': {'followers_count': 138,\n",
       "  'following_count': 325,\n",
       "  'tweet_count': 17351,\n",
       "  'listed_count': 5}}"
      ]
     },
     "execution_count": 206,
     "metadata": {},
     "output_type": "execute_result"
    }
   ],
   "source": [
    "response[\"includes\"][\"users\"][2]"
   ]
  },
  {
   "cell_type": "code",
   "execution_count": 239,
   "id": "453a400b",
   "metadata": {},
   "outputs": [],
   "source": [
    "metrics = response[\"includes\"][\"users\"][2]"
   ]
  },
  {
   "cell_type": "code",
   "execution_count": 210,
   "id": "ffad9ce2",
   "metadata": {},
   "outputs": [
    {
     "data": {
      "text/plain": [
       "{'followers_count': 138,\n",
       " 'following_count': 325,\n",
       " 'tweet_count': 17351,\n",
       " 'listed_count': 5}"
      ]
     },
     "execution_count": 210,
     "metadata": {},
     "output_type": "execute_result"
    }
   ],
   "source": [
    "metrics.pop(\"public_metrics\")"
   ]
  },
  {
   "cell_type": "code",
   "execution_count": 211,
   "id": "3a353b3e",
   "metadata": {},
   "outputs": [],
   "source": [
    "fg = pd.DataFrame(metrics, index=[0])"
   ]
  },
  {
   "cell_type": "code",
   "execution_count": 212,
   "id": "a6e24720",
   "metadata": {},
   "outputs": [],
   "source": [
    "fg[\"lang\"] = \"de\""
   ]
  },
  {
   "cell_type": "code",
   "execution_count": 275,
   "id": "a04e4246",
   "metadata": {},
   "outputs": [
    {
     "data": {
      "text/plain": [
       "Index(['lang', 'created_at_x', 'text', 'source', 'author_id', 'tweet_id',\n",
       "       'retweet_count', 'reply_count', 'like_count', 'quote_count',\n",
       "       'followers_count', 'following_count', 'tweet_count', 'listed_count',\n",
       "       'user_id', 'created_at_y', 'username', 'name'],\n",
       "      dtype='object')"
      ]
     },
     "execution_count": 275,
     "metadata": {},
     "output_type": "execute_result"
    }
   ],
   "source": [
    "df_sample.columns"
   ]
  },
  {
   "cell_type": "code",
   "execution_count": 277,
   "id": "760af63a",
   "metadata": {},
   "outputs": [],
   "source": [
    "raus = [\"username\", \"name\", \"tweet_count\", \"listed_count\", \"author_id\"]"
   ]
  },
  {
   "cell_type": "code",
   "execution_count": 217,
   "id": "3ca52afb",
   "metadata": {},
   "outputs": [],
   "source": [
    "df_sample = df_sample.merge(fg, how=\"outer\", on=\"lang\")"
   ]
  },
  {
   "cell_type": "code",
   "execution_count": 232,
   "id": "f77b7b03",
   "metadata": {},
   "outputs": [
    {
     "data": {
      "text/plain": [
       "dict_keys(['data', 'includes', 'meta'])"
      ]
     },
     "execution_count": 232,
     "metadata": {},
     "output_type": "execute_result"
    }
   ],
   "source": [
    "response.keys()"
   ]
  },
  {
   "cell_type": "code",
   "execution_count": 237,
   "id": "a0ff662f",
   "metadata": {},
   "outputs": [
    {
     "data": {
      "text/plain": [
       "{'newest_id': '1430316893752209408',\n",
       " 'oldest_id': '1430316258571034626',\n",
       " 'result_count': 10,\n",
       " 'next_token': 'b26v89c19zqg8o3fpdp68o8fzdp42momr58tmgu18ynb1'}"
      ]
     },
     "execution_count": 237,
     "metadata": {},
     "output_type": "execute_result"
    }
   ],
   "source": [
    "response[\"meta\"]"
   ]
  },
  {
   "cell_type": "code",
   "execution_count": 236,
   "id": "ede193ff",
   "metadata": {},
   "outputs": [
    {
     "data": {
      "text/plain": [
       "(1, 18)"
      ]
     },
     "execution_count": 236,
     "metadata": {},
     "output_type": "execute_result"
    }
   ],
   "source": [
    "df_sample.shape"
   ]
  },
  {
   "cell_type": "code",
   "execution_count": 238,
   "id": "b870f90a",
   "metadata": {},
   "outputs": [],
   "source": [
    "df_sample.to_csv(\"api_sample.csv\")"
   ]
  },
  {
   "cell_type": "code",
   "execution_count": 130,
   "id": "a0dc49df",
   "metadata": {},
   "outputs": [],
   "source": [
    "import pandas as pd\n",
    "\n",
    "\n",
    "df = pd.json_normalize(response, sep='_')\n",
    "\n",
    "ol = pd.json_normalize(df)"
   ]
  },
  {
   "cell_type": "code",
   "execution_count": 128,
   "id": "22d1b439",
   "metadata": {},
   "outputs": [],
   "source": [
    "kl = df.to_dict(df)"
   ]
  },
  {
   "cell_type": "code",
   "execution_count": 129,
   "id": "ad976541",
   "metadata": {
    "collapsed": true
   },
   "outputs": [
    {
     "data": {
      "text/plain": [
       "[{'data': [{'public_metrics': {'retweet_count': 546,\n",
       "     'reply_count': 0,\n",
       "     'like_count': 0,\n",
       "     'quote_count': 0},\n",
       "    'lang': 'de',\n",
       "    'created_at': '2021-08-24T23:51:36.000Z',\n",
       "    'text': 'RT @Lam3th: Wie kommen wir alle gesund durch den Herbst?\\n\\n1) Lasst euch impfen\\n2) Tragt eine Maske\\n3) Seid keine Rassisten &amp; Sexisten\\n4) Wä…',\n",
       "    'source': 'Twitter for iPhone',\n",
       "    'author_id': '14453739',\n",
       "    'id': '1430316893752209408'},\n",
       "   {'public_metrics': {'retweet_count': 791,\n",
       "     'reply_count': 0,\n",
       "     'like_count': 0,\n",
       "     'quote_count': 0},\n",
       "    'lang': 'de',\n",
       "    'created_at': '2021-08-24T23:51:34.000Z',\n",
       "    'text': 'RT @Der_Postillon: Glück gehabt: CDU muss nicht auf Rezos Vorwürfe eingehen, weil er blaue Haare hat \\n#rezo\\nhttps://t.co/FkuePtgDWv',\n",
       "    'source': 'Twitter for iPhone',\n",
       "    'author_id': '1213365713533988865',\n",
       "    'id': '1430316886303064065'},\n",
       "   {'public_metrics': {'retweet_count': 68,\n",
       "     'reply_count': 0,\n",
       "     'like_count': 0,\n",
       "     'quote_count': 0},\n",
       "    'lang': 'de',\n",
       "    'created_at': '2021-08-24T23:51:03.000Z',\n",
       "    'text': 'RT @kaffeecup: Mit ihm als Kanzler werde es keinen Lockdown mehr geben – das sichert Kanzlerkandidat Armin Laschet (CDU) in einem Interview…',\n",
       "    'source': 'Twitter for Android',\n",
       "    'author_id': '1263393503956078592',\n",
       "    'id': '1430316756833382400'},\n",
       "   {'public_metrics': {'retweet_count': 1,\n",
       "     'reply_count': 0,\n",
       "     'like_count': 0,\n",
       "     'quote_count': 0},\n",
       "    'lang': 'de',\n",
       "    'created_at': '2021-08-24T23:50:19.000Z',\n",
       "    'text': 'RT @Wolfgan39555363: @phoenix_de @Weberameise1 @ArminLaschet @CDU Wie immer, man ist überrascht von den steigenden Zahlen, obwohl doch alle…',\n",
       "    'source': 'Twitter Web App',\n",
       "    'author_id': '1187450599983472645',\n",
       "    'id': '1430316573735202825'},\n",
       "   {'public_metrics': {'retweet_count': 8,\n",
       "     'reply_count': 0,\n",
       "     'like_count': 0,\n",
       "     'quote_count': 0},\n",
       "    'lang': 'de',\n",
       "    'created_at': '2021-08-24T23:49:56.000Z',\n",
       "    'text': 'RT @Procyon25: CDU-Wahlplakat: \\n\"Wählt CDU! Unser Wahlprogramm findet ihr bei unserem zukünftigen Koalitionspartner\".',\n",
       "    'source': 'Twitter for Android',\n",
       "    'author_id': '749750503169466368',\n",
       "    'id': '1430316477333348358'},\n",
       "   {'public_metrics': {'retweet_count': 119,\n",
       "     'reply_count': 0,\n",
       "     'like_count': 0,\n",
       "     'quote_count': 0},\n",
       "    'lang': 'de',\n",
       "    'created_at': '2021-08-24T23:49:34.000Z',\n",
       "    'text': 'RT @saki_statement: Januar 2021:\\nLaschet wird Bundesvorsitzender der CDU, welche in der Sonntagsfrage (mit der CSU) bei 37% liegt. 📈\\n\\nAugus…',\n",
       "    'source': 'Twitter Web App',\n",
       "    'author_id': '55563609',\n",
       "    'id': '1430316383406071816'},\n",
       "   {'public_metrics': {'retweet_count': 21,\n",
       "     'reply_count': 0,\n",
       "     'like_count': 0,\n",
       "     'quote_count': 0},\n",
       "    'lang': 'de',\n",
       "    'created_at': '2021-08-24T23:49:29.000Z',\n",
       "    'text': 'RT @Kall90384061: @lisapaus @CDU @fdp @sven_kindler @lastenradtest @StefanGelbhaar @cem_oezdemir @Storch_i @GrueneBundestag @GrueneFraktion…',\n",
       "    'source': 'Twitter Web App',\n",
       "    'author_id': '768064268625383424',\n",
       "    'id': '1430316363793453066'},\n",
       "   {'public_metrics': {'retweet_count': 4,\n",
       "     'reply_count': 0,\n",
       "     'like_count': 0,\n",
       "     'quote_count': 0},\n",
       "    'lang': 'de',\n",
       "    'created_at': '2021-08-24T23:49:13.000Z',\n",
       "    'text': 'RT @BrunoBrozek: Warum ist die @Regierung17 nicht in der Lage zu Klarheit und Ehrlichkeit, und führt eine Generelle IMPFPFLICHT ein ? Ist C…',\n",
       "    'source': 'Twitter for Android',\n",
       "    'author_id': '349158227',\n",
       "    'id': '1430316293958381575'},\n",
       "   {'public_metrics': {'retweet_count': 0,\n",
       "     'reply_count': 0,\n",
       "     'like_count': 0,\n",
       "     'quote_count': 0},\n",
       "    'lang': 'de',\n",
       "    'created_at': '2021-08-24T23:49:08.000Z',\n",
       "    'text': '@andreasscheuer CDU steht für vollversagen beim Klimaschutz!\\nCDU steht für Lügen um jeden Preis um Geld abzugreifen.\\nAlso sei ruhig, Versager.\\nVerschwindet aus der Politik um nicht noch mehr Schaden anzurichten.. und vergesst eure Freunde die AfD nicht.',\n",
       "    'source': 'Twitter for Android',\n",
       "    'author_id': '1014608590131335169',\n",
       "    'id': '1430316272701612036'},\n",
       "   {'public_metrics': {'retweet_count': 0,\n",
       "     'reply_count': 0,\n",
       "     'like_count': 0,\n",
       "     'quote_count': 0},\n",
       "    'lang': 'de',\n",
       "    'created_at': '2021-08-24T23:49:04.000Z',\n",
       "    'text': '@dieparteimfr @ArminLaschet @CDU Zu 1. Hat Einstein Heisenberg angeschrien mit den Worten und man kann das verstehen.\\nZu Feind der Wissenschaft diese Zahlen https://t.co/OU0zFOqXo8',\n",
       "    'source': 'Twitter Web App',\n",
       "    'author_id': '760881621113397248',\n",
       "    'id': '1430316258571034626'}],\n",
       "  'includes_users': [{'id': '14453739',\n",
       "    'created_at': '2008-04-20T18:26:21.000Z',\n",
       "    'username': 'Slow3000',\n",
       "    'name': 'Michael',\n",
       "    'public_metrics': {'followers_count': 254,\n",
       "     'following_count': 858,\n",
       "     'tweet_count': 10561,\n",
       "     'listed_count': 7}},\n",
       "   {'id': '1213365713533988865',\n",
       "    'location': 'Deutschland',\n",
       "    'created_at': '2020-01-04T07:45:15.000Z',\n",
       "    'username': 'kristy_jmppl',\n",
       "    'name': 'Kristina',\n",
       "    'public_metrics': {'followers_count': 3,\n",
       "     'following_count': 4,\n",
       "     'tweet_count': 57,\n",
       "     'listed_count': 0}},\n",
       "   {'id': '1263393503956078592',\n",
       "    'created_at': '2020-05-21T08:58:58.000Z',\n",
       "    'username': 'kotzlpotzl',\n",
       "    'name': 'Kotzlpotzl',\n",
       "    'public_metrics': {'followers_count': 138,\n",
       "     'following_count': 325,\n",
       "     'tweet_count': 17351,\n",
       "     'listed_count': 5}},\n",
       "   {'id': '1187450599983472645',\n",
       "    'location': 'Deutschland',\n",
       "    'created_at': '2019-10-24T19:28:02.000Z',\n",
       "    'username': 'Weberameise1',\n",
       "    'name': 'Weberameise',\n",
       "    'public_metrics': {'followers_count': 349,\n",
       "     'following_count': 310,\n",
       "     'tweet_count': 77153,\n",
       "     'listed_count': 1}},\n",
       "   {'id': '749750503169466368',\n",
       "    'created_at': '2016-07-03T23:43:44.000Z',\n",
       "    'username': 'lepoetico',\n",
       "    'name': 'Andre Miller',\n",
       "    'public_metrics': {'followers_count': 158,\n",
       "     'following_count': 324,\n",
       "     'tweet_count': 9886,\n",
       "     'listed_count': 1}},\n",
       "   {'id': '55563609',\n",
       "    'location': 'Münster, Deutschland',\n",
       "    'created_at': '2009-07-10T13:41:46.000Z',\n",
       "    'username': 'PeterDroegemeie',\n",
       "    'name': 'Peter Drögemeier ☀️',\n",
       "    'public_metrics': {'followers_count': 2305,\n",
       "     'following_count': 3766,\n",
       "     'tweet_count': 86000,\n",
       "     'listed_count': 9}},\n",
       "   {'id': '768064268625383424',\n",
       "    'location': 'Mecklenburg-Vorpommern',\n",
       "    'created_at': '2016-08-23T12:36:06.000Z',\n",
       "    'username': 'Inselkind16',\n",
       "    'name': 'Hedy Dalmer',\n",
       "    'public_metrics': {'followers_count': 2515,\n",
       "     'following_count': 4044,\n",
       "     'tweet_count': 56637,\n",
       "     'listed_count': 3}},\n",
       "   {'id': '349158227',\n",
       "    'created_at': '2011-08-05T17:08:05.000Z',\n",
       "    'username': 'BrunoBrozek',\n",
       "    'name': 'Bruno Brozek 🇮🇱✡️☮️☯️❣️🔴🔴',\n",
       "    'public_metrics': {'followers_count': 552,\n",
       "     'following_count': 3108,\n",
       "     'tweet_count': 19074,\n",
       "     'listed_count': 0}},\n",
       "   {'id': '1014608590131335169',\n",
       "    'created_at': '2018-07-04T20:35:13.000Z',\n",
       "    'username': 'NeoLink8420',\n",
       "    'name': 'NeoLink',\n",
       "    'public_metrics': {'followers_count': 1,\n",
       "     'following_count': 71,\n",
       "     'tweet_count': 448,\n",
       "     'listed_count': 0}},\n",
       "   {'id': '760881621113397248',\n",
       "    'created_at': '2016-08-03T16:54:49.000Z',\n",
       "    'username': 'PeterDusburg',\n",
       "    'name': 'Peter Dusburg',\n",
       "    'public_metrics': {'followers_count': 37,\n",
       "     'following_count': 43,\n",
       "     'tweet_count': 7394,\n",
       "     'listed_count': 5}}],\n",
       "  'meta_newest_id': '1430316893752209408',\n",
       "  'meta_oldest_id': '1430316258571034626',\n",
       "  'meta_result_count': 10,\n",
       "  'meta_next_token': 'b26v89c19zqg8o3fpdp68o8fzdp42momr58tmgu18ynb1'}]"
      ]
     },
     "execution_count": 129,
     "metadata": {},
     "output_type": "execute_result"
    }
   ],
   "source": [
    "kl"
   ]
  },
  {
   "cell_type": "code",
   "execution_count": null,
   "id": "e7b435e0",
   "metadata": {},
   "outputs": [],
   "source": [
    "tweet.fields.author_id, lang, text, created_at, geo"
   ]
  },
  {
   "cell_type": "code",
   "execution_count": null,
   "id": "c7ad85d1",
   "metadata": {},
   "outputs": [],
   "source": [
    "curl \"https://api.twitter.com/2/tweets/search/all?query=from%3Atwitterdev%20new%20-is%3Aretweet&max_results=10\" -H \"Authorization: Bearer $BEARER_TOKEN\""
   ]
  },
  {
   "cell_type": "code",
   "execution_count": null,
   "id": "49c821d0",
   "metadata": {},
   "outputs": [],
   "source": [
    "tweet.fields = attachments, author_id, context_annotations, conversation_id, created_at, entities, geo, id, in_reply_to_user_id, lang, public_metrics, possibly_sensitive, referenced_tweets, reply_settings, source, text, withheld)"
   ]
  },
  {
   "cell_type": "code",
   "execution_count": null,
   "id": "47563f94",
   "metadata": {},
   "outputs": [],
   "source": [
    "\"organic_metrics \": \"impression_count,like_count,reply_count,retweet_count,url_link_clicks,user_profile_clicks\""
   ]
  },
  {
   "cell_type": "code",
   "execution_count": 28,
   "id": "0701d3ca",
   "metadata": {},
   "outputs": [
    {
     "data": {
      "text/plain": [
       "('id,text,author_id,in_reply_to_user_id,geo,conversation_id,created_at,lang,public_metrics,referenced_tweets,reply_settings,source',)"
      ]
     },
     "execution_count": 28,
     "metadata": {},
     "output_type": "execute_result"
    }
   ],
   "source": [
    "'id,text,author_id,in_reply_to_user_id,geo,conversation_id,created_at,lang,public_metrics,referenced_tweets,reply_settings,source',"
   ]
  }
 ],
 "metadata": {
  "kernelspec": {
   "display_name": "Python 3 (ipykernel)",
   "language": "python",
   "name": "python3"
  },
  "language_info": {
   "codemirror_mode": {
    "name": "ipython",
    "version": 3
   },
   "file_extension": ".py",
   "mimetype": "text/x-python",
   "name": "python",
   "nbconvert_exporter": "python",
   "pygments_lexer": "ipython3",
   "version": "3.8.6"
  },
  "toc": {
   "base_numbering": 1,
   "nav_menu": {},
   "number_sections": true,
   "sideBar": true,
   "skip_h1_title": false,
   "title_cell": "Table of Contents",
   "title_sidebar": "Contents",
   "toc_cell": false,
   "toc_position": {},
   "toc_section_display": true,
   "toc_window_display": false
  }
 },
 "nbformat": 4,
 "nbformat_minor": 5
}
