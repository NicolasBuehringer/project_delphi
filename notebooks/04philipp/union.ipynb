{
 "cells": [
  {
   "cell_type": "code",
   "execution_count": 1,
   "id": "8806c144",
   "metadata": {},
   "outputs": [],
   "source": [
    "import twint\n",
    "import nest_asyncio\n",
    "import pandas as pd\n",
    "\n",
    "query = \"@cducsubt OR @CDU OR @CSU OR @cdu OR @csu OR @ArminLaschet OR @arminlaschet OR #Laschet OR #laschet OR #cdu OR #CDU OR #csu OR #CSU\"\n",
    "\n",
    "nest_asyncio.apply()\n",
    "#configuration\n",
    "config = twint.Config()\n",
    "config.Search = query\n",
    "config.Lang = \"de\"\n",
    "config.Since = \"2021-07-01\"\n",
    "#config.Until = \"2021-08-23\"\n",
    "config.Store_csv = True\n",
    "config.Output = \"union.csv\"\n",
    "#running search\n",
    "twint.run.Search(config)"
   ]
  }
 ],
 "metadata": {
  "kernelspec": {
   "display_name": "Python 3 (ipykernel)",
   "language": "python",
   "name": "python3"
  },
  "language_info": {
   "codemirror_mode": {
    "name": "ipython",
    "version": 3
   },
   "file_extension": ".py",
   "mimetype": "text/x-python",
   "name": "python",
   "nbconvert_exporter": "python",
   "pygments_lexer": "ipython3",
   "version": "3.8.6"
  },
  "toc": {
   "base_numbering": 1,
   "nav_menu": {},
   "number_sections": true,
   "sideBar": true,
   "skip_h1_title": false,
   "title_cell": "Table of Contents",
   "title_sidebar": "Contents",
   "toc_cell": false,
   "toc_position": {},
   "toc_section_display": true,
   "toc_window_display": false
  }
 },
 "nbformat": 4,
 "nbformat_minor": 5
}
