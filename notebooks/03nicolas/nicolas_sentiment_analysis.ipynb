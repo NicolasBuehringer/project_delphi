{
  "nbformat": 4,
  "nbformat_minor": 5,
  "metadata": {
    "kernelspec": {
      "display_name": "Python 3 (ipykernel)",
      "language": "python",
      "name": "python3"
    },
    "language_info": {
      "codemirror_mode": {
        "name": "ipython",
        "version": 3
      },
      "file_extension": ".py",
      "mimetype": "text/x-python",
      "name": "python",
      "nbconvert_exporter": "python",
      "pygments_lexer": "ipython3",
      "version": "3.8.6"
    },
    "toc": {
      "base_numbering": 1,
      "nav_menu": {},
      "number_sections": true,
      "sideBar": true,
      "skip_h1_title": false,
      "title_cell": "Table of Contents",
      "title_sidebar": "Contents",
      "toc_cell": false,
      "toc_position": {},
      "toc_section_display": true,
      "toc_window_display": false
    },
    "colab": {
      "name": "nicolas_sentiment_analysis.ipynb",
      "provenance": [],
      "collapsed_sections": [],
      "machine_shape": "hm"
    },
    "accelerator": "GPU"
  },
  "cells": [
    {
      "cell_type": "code",
      "metadata": {
        "colab": {
          "base_uri": "https://localhost:8080/"
        },
        "id": "FOl8sc0111Kb",
        "outputId": "56aee3d9-10cc-4037-fde8-5e7c2a60fab2"
      },
      "source": [
        "import pandas as pd\n",
        "from google.colab import files\n",
        "from germansentiment import SentimentModel\n",
        "import time as tm\n",
        "import numpy as np\n",
        "from google.colab import drive\n",
        "drive.mount('/content/drive')"
      ],
      "id": "FOl8sc0111Kb",
      "execution_count": 253,
      "outputs": [
        {
          "output_type": "stream",
          "text": [
            "Drive already mounted at /content/drive; to attempt to forcibly remount, call drive.mount(\"/content/drive\", force_remount=True).\n"
          ],
          "name": "stdout"
        }
      ]
    },
    {
      "cell_type": "code",
      "metadata": {
        "id": "g5NRf4ln5EfN"
      },
      "source": [
        "!pip install germansentiment"
      ],
      "id": "g5NRf4ln5EfN",
      "execution_count": null,
      "outputs": []
    },
    {
      "cell_type": "code",
      "metadata": {
        "colab": {
          "base_uri": "https://localhost:8080/"
        },
        "id": "Jb8s8DEsS8T0",
        "outputId": "17a5a3f7-0984-43b9-c02f-3f383430a556"
      },
      "source": [
        "data_full = pd.read_csv(data_path + \"df_all.csv\")"
      ],
      "id": "Jb8s8DEsS8T0",
      "execution_count": 255,
      "outputs": [
        {
          "output_type": "stream",
          "text": [
            "/usr/local/lib/python3.7/dist-packages/IPython/core/interactiveshell.py:2718: DtypeWarning: Columns (0) have mixed types.Specify dtype option on import or set low_memory=False.\n",
            "  interactivity=interactivity, compiler=compiler, result=result)\n"
          ],
          "name": "stderr"
        }
      ]
    },
    {
      "cell_type": "code",
      "metadata": {
        "colab": {
          "base_uri": "https://localhost:8080/"
        },
        "id": "HPDRftQcWAZT",
        "outputId": "563d463b-3b0c-42a9-d842-89ec864e6e57"
      },
      "source": [
        "# get 1000 tweets per iteration \n",
        "len(data_full) / 400"
      ],
      "id": "HPDRftQcWAZT",
      "execution_count": 68,
      "outputs": [
        {
          "output_type": "execute_result",
          "data": {
            "text/plain": [
              "986.8875"
            ]
          },
          "metadata": {},
          "execution_count": 68
        }
      ]
    },
    {
      "cell_type": "code",
      "metadata": {
        "colab": {
          "base_uri": "https://localhost:8080/"
        },
        "id": "xhynP7poWqqz",
        "outputId": "d76d0a2b-4e10-4a36-91fd-161e72065e72"
      },
      "source": [
        "max_len = (len(data_full) + x)\n",
        "max_len"
      ],
      "id": "xhynP7poWqqz",
      "execution_count": 92,
      "outputs": [
        {
          "output_type": "stream",
          "text": [
            "CPU times: user 22 µs, sys: 0 ns, total: 22 µs\n",
            "Wall time: 28.1 µs\n"
          ],
          "name": "stdout"
        }
      ]
    },
    {
      "cell_type": "code",
      "metadata": {
        "id": "cz4lc_ClWTiM"
      },
      "source": [
        "x = 987"
      ],
      "id": "cz4lc_ClWTiM",
      "execution_count": 113,
      "outputs": []
    },
    {
      "cell_type": "code",
      "metadata": {
        "id": "bYm4DoIfZSgb"
      },
      "source": [
        "full_sentiment = []"
      ],
      "id": "bYm4DoIfZSgb",
      "execution_count": 114,
      "outputs": []
    },
    {
      "cell_type": "code",
      "metadata": {
        "id": "g59Pcv2JnF-d"
      },
      "source": [
        "all_id_with_sentiment = []"
      ],
      "id": "g59Pcv2JnF-d",
      "execution_count": 115,
      "outputs": []
    },
    {
      "cell_type": "code",
      "metadata": {
        "id": "WRWjLPfDXDa5"
      },
      "source": [
        "# this for loop throws an error, last two buckets are done afterwards\n",
        "%%time\n",
        "counter = 0\n",
        "\n",
        "# iterate over a range of 0, 394.755 with step size 987\n",
        "for i in range(0,max_len, x):\n",
        "\n",
        "  # get start time of iteration\n",
        "  start = tm.time()\n",
        "\n",
        "  # print counter\n",
        "  counter += 1\n",
        "  print(f\"Starting iteration {counter}\")\n",
        "\n",
        "  # slice dataframe for the current 987 rows\n",
        "  temp = data_full.iloc[i: (i + x)]\n",
        "\n",
        "  # turn tweets into a list for sentiment analysis\n",
        "  temp_tweets = list(temp.tweet)\n",
        "\n",
        "  # turn tweet id in a list to know what tweets are used\n",
        "  all_id_with_sentiment.append(list(temp.id))\n",
        "  \n",
        "  # predict sentiment analysis on current 987 tweets\n",
        "  temp_result = model.predict_sentiment(temp_tweets)\n",
        "\n",
        "  # append to before defined empty list\n",
        "  full_sentiment.append(temp_result)\n",
        "\n",
        "  # compute runtime for iteration\n",
        "  stop = tm.time()\n",
        "  print(f\"Finished iteration {counter} in {stop-start} seconds\")"
      ],
      "id": "WRWjLPfDXDa5",
      "execution_count": null,
      "outputs": []
    },
    {
      "cell_type": "code",
      "metadata": {
        "id": "wWfvvHJjsm2t"
      },
      "source": [
        ""
      ],
      "id": "wWfvvHJjsm2t",
      "execution_count": 247,
      "outputs": []
    },
    {
      "cell_type": "code",
      "metadata": {
        "id": "8NQJcOjkwmDz"
      },
      "source": [
        "# get data slice of last two missing iterations\n",
        "first_missing_data = list(data_full.iloc[x * 398: x*399].tweet)\n",
        "second_missing_data = list(data_full.iloc[x * 399:].tweet)"
      ],
      "id": "8NQJcOjkwmDz",
      "execution_count": 238,
      "outputs": []
    },
    {
      "cell_type": "code",
      "metadata": {
        "id": "wLi2-UfY4OIv"
      },
      "source": [
        "# somehow a float in there; fix with this\n",
        "first_missing_data = [str(x) for x in first_missing_data]"
      ],
      "id": "wLi2-UfY4OIv",
      "execution_count": 239,
      "outputs": []
    },
    {
      "cell_type": "code",
      "metadata": {
        "id": "ph5Ph8mB4e7Q"
      },
      "source": [
        "missing_results = []"
      ],
      "id": "ph5Ph8mB4e7Q",
      "execution_count": 240,
      "outputs": []
    },
    {
      "cell_type": "code",
      "metadata": {
        "id": "uzWO_GZ62Sxi"
      },
      "source": [
        "# predicting last two iterations\n",
        "p1 = model.predict_sentiment(first_missing_data)\n",
        "missing_results.append(p1)\n",
        "\n",
        "p2 = model.predict_sentiment(second_missing_data)\n",
        "missing_results.append(p2)"
      ],
      "id": "uzWO_GZ62Sxi",
      "execution_count": 241,
      "outputs": []
    },
    {
      "cell_type": "code",
      "metadata": {
        "id": "GUnLFoDO4y8n"
      },
      "source": [
        "#appending result to final output\n",
        "full_sentiment.append(missing_results[0])\n",
        "full_sentiment.append(missing_results[1])"
      ],
      "id": "GUnLFoDO4y8n",
      "execution_count": 217,
      "outputs": []
    },
    {
      "cell_type": "code",
      "metadata": {
        "id": "0jEN1BmeSRVt"
      },
      "source": [
        "#turning list of lists for each iteration into one list\n",
        "sentiment_values = sum(full_sentiment_real, [])"
      ],
      "id": "0jEN1BmeSRVt",
      "execution_count": null,
      "outputs": []
    },
    {
      "cell_type": "code",
      "metadata": {
        "colab": {
          "base_uri": "https://localhost:8080/"
        },
        "id": "VpLSQnOo5Iqo",
        "outputId": "241d8cce-e54c-4723-9aec-8515f935fab2"
      },
      "source": [
        "#checking correct prediction lenght\n",
        "len(sentiment_values) == len(data_full)"
      ],
      "id": "VpLSQnOo5Iqo",
      "execution_count": 249,
      "outputs": [
        {
          "output_type": "execute_result",
          "data": {
            "text/plain": [
              "True"
            ]
          },
          "metadata": {},
          "execution_count": 249
        }
      ]
    },
    {
      "cell_type": "code",
      "metadata": {
        "id": "Zgw29e0x5ofD"
      },
      "source": [
        "#adding sentiment collumn to tweet DF\n",
        "data_full[\"sentiment\"] = sentiment_values"
      ],
      "id": "Zgw29e0x5ofD",
      "execution_count": 250,
      "outputs": []
    },
    {
      "cell_type": "code",
      "metadata": {
        "id": "vtLmr0wzyRQ7"
      },
      "source": [
        "tr = pd.DataFrame(sentiment_values, columns = [\"sentiment\"])"
      ],
      "id": "vtLmr0wzyRQ7",
      "execution_count": 152,
      "outputs": []
    },
    {
      "cell_type": "code",
      "metadata": {
        "colab": {
          "base_uri": "https://localhost:8080/",
          "height": 282
        },
        "id": "DKvbCgjAyc32",
        "outputId": "30853c90-e568-4be7-add9-198452ea2665"
      },
      "source": [
        "tr.sentiment.hist()"
      ],
      "id": "DKvbCgjAyc32",
      "execution_count": 154,
      "outputs": [
        {
          "output_type": "execute_result",
          "data": {
            "text/plain": [
              "<matplotlib.axes._subplots.AxesSubplot at 0x7f0bd3a83750>"
            ]
          },
          "metadata": {},
          "execution_count": 154
        },
        {
          "output_type": "display_data",
          "data": {
            "image/png": "[encoded data removed]",
            "text/plain": [
              "<Figure size 432x288 with 1 Axes>"
            ]
          },
          "metadata": {
            "needs_background": "light"
          }
        }
      ]
    },
    {
      "cell_type": "code",
      "metadata": {
        "colab": {
          "base_uri": "https://localhost:8080/",
          "height": 17
        },
        "id": "Kgz38GFnscBM",
        "outputId": "5aefa0ed-4246-411c-e569-9e1558314fe6"
      },
      "source": [
        "# saving csv and downloading it\n",
        "data_full.to_csv(\"data_full_sentiment.csv\")\n",
        "files.download(\"data_full_sentiment.csv\")"
      ],
      "id": "Kgz38GFnscBM",
      "execution_count": 252,
      "outputs": [
        {
          "output_type": "display_data",
          "data": {
            "application/javascript": [
              "\n",
              "    async function download(id, filename, size) {\n",
              "      if (!google.colab.kernel.accessAllowed) {\n",
              "        return;\n",
              "      }\n",
              "      const div = document.createElement('div');\n",
              "      const label = document.createElement('label');\n",
              "      label.textContent = `Downloading \"${filename}\": `;\n",
              "      div.appendChild(label);\n",
              "      const progress = document.createElement('progress');\n",
              "      progress.max = size;\n",
              "      div.appendChild(progress);\n",
              "      document.body.appendChild(div);\n",
              "\n",
              "      const buffers = [];\n",
              "      let downloaded = 0;\n",
              "\n",
              "      const channel = await google.colab.kernel.comms.open(id);\n",
              "      // Send a message to notify the kernel that we're ready.\n",
              "      channel.send({})\n",
              "\n",
              "      for await (const message of channel.messages) {\n",
              "        // Send a message to notify the kernel that we're ready.\n",
              "        channel.send({})\n",
              "        if (message.buffers) {\n",
              "          for (const buffer of message.buffers) {\n",
              "            buffers.push(buffer);\n",
              "            downloaded += buffer.byteLength;\n",
              "            progress.value = downloaded;\n",
              "          }\n",
              "        }\n",
              "      }\n",
              "      const blob = new Blob(buffers, {type: 'application/binary'});\n",
              "      const a = document.createElement('a');\n",
              "      a.href = window.URL.createObjectURL(blob);\n",
              "      a.download = filename;\n",
              "      div.appendChild(a);\n",
              "      a.click();\n",
              "      div.remove();\n",
              "    }\n",
              "  "
            ],
            "text/plain": [
              "<IPython.core.display.Javascript object>"
            ]
          },
          "metadata": {}
        },
        {
          "output_type": "display_data",
          "data": {
            "application/javascript": [
              "download(\"download_4c495e96-bece-442d-a679-a59fa3a37f1b\", \"data_full_sentiment.csv\", 134396570)"
            ],
            "text/plain": [
              "<IPython.core.display.Javascript object>"
            ]
          },
          "metadata": {}
        }
      ]
    }
  ]
}