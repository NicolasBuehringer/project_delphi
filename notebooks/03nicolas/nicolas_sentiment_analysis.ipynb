{
 "cells": [
  {
   "cell_type": "code",
   "execution_count": 2,
   "id": "FOl8sc0111Kb",
   "metadata": {
    "colab": {
     "base_uri": "https://localhost:8080/"
    },
    "id": "FOl8sc0111Kb",
    "outputId": "56aee3d9-10cc-4037-fde8-5e7c2a60fab2"
   },
   "outputs": [],
   "source": [
    "import pandas as pd\n",
    "\n",
    "from germansentiment import SentimentModel\n",
    "import time as tm\n",
    "import numpy as np\n"
   ]
  },
  {
   "cell_type": "code",
   "execution_count": 4,
   "id": "659a7a9d",
   "metadata": {},
   "outputs": [
    {
     "name": "stderr",
     "output_type": "stream",
     "text": [
      "/Users/nicolas/.pyenv/versions/3.8.6/envs/project_delphi/lib/python3.8/site-packages/IPython/core/interactiveshell.py:3441: DtypeWarning: Columns (26,27) have mixed types.Specify dtype option on import or set low_memory=False.\n",
      "  exec(code_obj, self.user_global_ns, self.user_ns)\n"
     ]
    },
    {
     "data": {
      "text/html": [
       "<div>\n",
       "<style scoped>\n",
       "    .dataframe tbody tr th:only-of-type {\n",
       "        vertical-align: middle;\n",
       "    }\n",
       "\n",
       "    .dataframe tbody tr th {\n",
       "        vertical-align: top;\n",
       "    }\n",
       "\n",
       "    .dataframe thead th {\n",
       "        text-align: right;\n",
       "    }\n",
       "</style>\n",
       "<table border=\"1\" class=\"dataframe\">\n",
       "  <thead>\n",
       "    <tr style=\"text-align: right;\">\n",
       "      <th></th>\n",
       "      <th>Unnamed: 0</th>\n",
       "      <th>source</th>\n",
       "      <th>lang</th>\n",
       "      <th>tweet_created_at</th>\n",
       "      <th>author_id</th>\n",
       "      <th>text</th>\n",
       "      <th>tweet_id</th>\n",
       "      <th>public_metrics.retweet_count</th>\n",
       "      <th>public_metrics.reply_count</th>\n",
       "      <th>public_metrics.like_count</th>\n",
       "      <th>...</th>\n",
       "      <th>public_metrics.listed_count</th>\n",
       "      <th>location</th>\n",
       "      <th>party</th>\n",
       "      <th>withheld.copyright</th>\n",
       "      <th>withheld.country_codes_x</th>\n",
       "      <th>withheld.scope_x</th>\n",
       "      <th>withheld.country_codes_y</th>\n",
       "      <th>withheld.scope_y</th>\n",
       "      <th>withheld.country_codes</th>\n",
       "      <th>withheld.scope</th>\n",
       "    </tr>\n",
       "  </thead>\n",
       "  <tbody>\n",
       "    <tr>\n",
       "      <th>0</th>\n",
       "      <td>0</td>\n",
       "      <td>Twitter for Android</td>\n",
       "      <td>de</td>\n",
       "      <td>2021-08-30T23:59:03.000Z</td>\n",
       "      <td>1082371703181844480</td>\n",
       "      <td>SPD 40% Wann? https://t.co/ShYjuURkmS</td>\n",
       "      <td>1432493097821245445</td>\n",
       "      <td>0</td>\n",
       "      <td>2</td>\n",
       "      <td>2</td>\n",
       "      <td>...</td>\n",
       "      <td>3</td>\n",
       "      <td>NaN</td>\n",
       "      <td>SPD</td>\n",
       "      <td>NaN</td>\n",
       "      <td>NaN</td>\n",
       "      <td>NaN</td>\n",
       "      <td>NaN</td>\n",
       "      <td>NaN</td>\n",
       "      <td>NaN</td>\n",
       "      <td>NaN</td>\n",
       "    </tr>\n",
       "    <tr>\n",
       "      <th>1</th>\n",
       "      <td>1</td>\n",
       "      <td>Eauto Check</td>\n",
       "      <td>de</td>\n",
       "      <td>2021-08-30T23:58:56.000Z</td>\n",
       "      <td>1552359542</td>\n",
       "      <td>https://t.co/208fqUCvpj Scholz im Triell wie M...</td>\n",
       "      <td>1432493065994973188</td>\n",
       "      <td>0</td>\n",
       "      <td>0</td>\n",
       "      <td>0</td>\n",
       "      <td>...</td>\n",
       "      <td>22</td>\n",
       "      <td>Lutherstadt Wittenberg</td>\n",
       "      <td>SPD</td>\n",
       "      <td>NaN</td>\n",
       "      <td>NaN</td>\n",
       "      <td>NaN</td>\n",
       "      <td>NaN</td>\n",
       "      <td>NaN</td>\n",
       "      <td>NaN</td>\n",
       "      <td>NaN</td>\n",
       "    </tr>\n",
       "    <tr>\n",
       "      <th>2</th>\n",
       "      <td>2</td>\n",
       "      <td>Twitter for Android</td>\n",
       "      <td>de</td>\n",
       "      <td>2021-08-30T23:58:34.000Z</td>\n",
       "      <td>848002447385735168</td>\n",
       "      <td>@BBacterioO Weil das pfui ist, so wie links se...</td>\n",
       "      <td>1432492973674147843</td>\n",
       "      <td>0</td>\n",
       "      <td>0</td>\n",
       "      <td>1</td>\n",
       "      <td>...</td>\n",
       "      <td>2</td>\n",
       "      <td>sachsn  ||  he/er</td>\n",
       "      <td>SPD</td>\n",
       "      <td>NaN</td>\n",
       "      <td>NaN</td>\n",
       "      <td>NaN</td>\n",
       "      <td>NaN</td>\n",
       "      <td>NaN</td>\n",
       "      <td>NaN</td>\n",
       "      <td>NaN</td>\n",
       "    </tr>\n",
       "    <tr>\n",
       "      <th>3</th>\n",
       "      <td>3</td>\n",
       "      <td>Twitter for Android</td>\n",
       "      <td>de</td>\n",
       "      <td>2021-08-30T23:58:08.000Z</td>\n",
       "      <td>2912522008</td>\n",
       "      <td>@darioschramm Dabei dann bitte Mal anschauen w...</td>\n",
       "      <td>1432492867444948993</td>\n",
       "      <td>0</td>\n",
       "      <td>0</td>\n",
       "      <td>2</td>\n",
       "      <td>...</td>\n",
       "      <td>13</td>\n",
       "      <td>Bremen</td>\n",
       "      <td>SPD</td>\n",
       "      <td>NaN</td>\n",
       "      <td>NaN</td>\n",
       "      <td>NaN</td>\n",
       "      <td>NaN</td>\n",
       "      <td>NaN</td>\n",
       "      <td>NaN</td>\n",
       "      <td>NaN</td>\n",
       "    </tr>\n",
       "    <tr>\n",
       "      <th>4</th>\n",
       "      <td>4</td>\n",
       "      <td>Twitter for iPad</td>\n",
       "      <td>de</td>\n",
       "      <td>2021-08-30T23:57:48.000Z</td>\n",
       "      <td>546683248</td>\n",
       "      <td>@dervolkan @JoergWimalasena @larsweisbrod Ziem...</td>\n",
       "      <td>1432492782581596168</td>\n",
       "      <td>5</td>\n",
       "      <td>1</td>\n",
       "      <td>32</td>\n",
       "      <td>...</td>\n",
       "      <td>59</td>\n",
       "      <td>Berlin</td>\n",
       "      <td>SPD</td>\n",
       "      <td>NaN</td>\n",
       "      <td>NaN</td>\n",
       "      <td>NaN</td>\n",
       "      <td>NaN</td>\n",
       "      <td>NaN</td>\n",
       "      <td>NaN</td>\n",
       "      <td>NaN</td>\n",
       "    </tr>\n",
       "    <tr>\n",
       "      <th>...</th>\n",
       "      <td>...</td>\n",
       "      <td>...</td>\n",
       "      <td>...</td>\n",
       "      <td>...</td>\n",
       "      <td>...</td>\n",
       "      <td>...</td>\n",
       "      <td>...</td>\n",
       "      <td>...</td>\n",
       "      <td>...</td>\n",
       "      <td>...</td>\n",
       "      <td>...</td>\n",
       "      <td>...</td>\n",
       "      <td>...</td>\n",
       "      <td>...</td>\n",
       "      <td>...</td>\n",
       "      <td>...</td>\n",
       "      <td>...</td>\n",
       "      <td>...</td>\n",
       "      <td>...</td>\n",
       "      <td>...</td>\n",
       "      <td>...</td>\n",
       "    </tr>\n",
       "    <tr>\n",
       "      <th>61563</th>\n",
       "      <td>61563</td>\n",
       "      <td>Twitter Web App</td>\n",
       "      <td>de</td>\n",
       "      <td>2021-08-30T00:24:36.000Z</td>\n",
       "      <td>714433337356599296</td>\n",
       "      <td>btw: Die #KAMPA2021 war sehr gut!\\n@DiePARTEI_...</td>\n",
       "      <td>1432137140876546062</td>\n",
       "      <td>0</td>\n",
       "      <td>1</td>\n",
       "      <td>2</td>\n",
       "      <td>...</td>\n",
       "      <td>11</td>\n",
       "      <td>Bremen</td>\n",
       "      <td>OTHERS</td>\n",
       "      <td>NaN</td>\n",
       "      <td>NaN</td>\n",
       "      <td>NaN</td>\n",
       "      <td>NaN</td>\n",
       "      <td>NaN</td>\n",
       "      <td>NaN</td>\n",
       "      <td>NaN</td>\n",
       "    </tr>\n",
       "    <tr>\n",
       "      <th>61564</th>\n",
       "      <td>61564</td>\n",
       "      <td>Twitter Web App</td>\n",
       "      <td>de</td>\n",
       "      <td>2021-08-30T00:24:33.000Z</td>\n",
       "      <td>714433337356599296</td>\n",
       "      <td>^^Irgendwann zwischen meiner 2. &amp;amp; 3. (erfo...</td>\n",
       "      <td>1432137125038891008</td>\n",
       "      <td>1</td>\n",
       "      <td>1</td>\n",
       "      <td>2</td>\n",
       "      <td>...</td>\n",
       "      <td>11</td>\n",
       "      <td>Bremen</td>\n",
       "      <td>OTHERS</td>\n",
       "      <td>NaN</td>\n",
       "      <td>NaN</td>\n",
       "      <td>NaN</td>\n",
       "      <td>NaN</td>\n",
       "      <td>NaN</td>\n",
       "      <td>NaN</td>\n",
       "      <td>NaN</td>\n",
       "    </tr>\n",
       "    <tr>\n",
       "      <th>61565</th>\n",
       "      <td>61565</td>\n",
       "      <td>Twitter Web App</td>\n",
       "      <td>de</td>\n",
       "      <td>2021-08-30T00:24:30.000Z</td>\n",
       "      <td>714433337356599296</td>\n",
       "      <td>#Wahlkriegsmeldung: \\nNeulich bei #TeamOlaf (#...</td>\n",
       "      <td>1432137116142776320</td>\n",
       "      <td>0</td>\n",
       "      <td>1</td>\n",
       "      <td>10</td>\n",
       "      <td>...</td>\n",
       "      <td>11</td>\n",
       "      <td>Bremen</td>\n",
       "      <td>OTHERS</td>\n",
       "      <td>NaN</td>\n",
       "      <td>NaN</td>\n",
       "      <td>NaN</td>\n",
       "      <td>NaN</td>\n",
       "      <td>NaN</td>\n",
       "      <td>NaN</td>\n",
       "      <td>NaN</td>\n",
       "    </tr>\n",
       "    <tr>\n",
       "      <th>61566</th>\n",
       "      <td>61566</td>\n",
       "      <td>Twitter for iPad</td>\n",
       "      <td>de</td>\n",
       "      <td>2021-08-30T00:08:49.000Z</td>\n",
       "      <td>712637855672242176</td>\n",
       "      <td>@holgertma Er konnte schon seit längerer Zeit ...</td>\n",
       "      <td>1432133169390788616</td>\n",
       "      <td>0</td>\n",
       "      <td>0</td>\n",
       "      <td>0</td>\n",
       "      <td>...</td>\n",
       "      <td>3</td>\n",
       "      <td>Dresden, Sachsen</td>\n",
       "      <td>OTHERS</td>\n",
       "      <td>NaN</td>\n",
       "      <td>NaN</td>\n",
       "      <td>NaN</td>\n",
       "      <td>NaN</td>\n",
       "      <td>NaN</td>\n",
       "      <td>NaN</td>\n",
       "      <td>NaN</td>\n",
       "    </tr>\n",
       "    <tr>\n",
       "      <th>61567</th>\n",
       "      <td>61567</td>\n",
       "      <td>Twitter for Android</td>\n",
       "      <td>de</td>\n",
       "      <td>2021-08-30T00:00:17.000Z</td>\n",
       "      <td>2319822158</td>\n",
       "      <td>@BobbiedieBiene @marcobuelow @DiePARTEI Wenn m...</td>\n",
       "      <td>1432131018127990792</td>\n",
       "      <td>0</td>\n",
       "      <td>0</td>\n",
       "      <td>0</td>\n",
       "      <td>...</td>\n",
       "      <td>1</td>\n",
       "      <td>NaN</td>\n",
       "      <td>OTHERS</td>\n",
       "      <td>NaN</td>\n",
       "      <td>NaN</td>\n",
       "      <td>NaN</td>\n",
       "      <td>NaN</td>\n",
       "      <td>NaN</td>\n",
       "      <td>NaN</td>\n",
       "      <td>NaN</td>\n",
       "    </tr>\n",
       "  </tbody>\n",
       "</table>\n",
       "<p>61568 rows × 28 columns</p>\n",
       "</div>"
      ],
      "text/plain": [
       "       Unnamed: 0               source lang          tweet_created_at  \\\n",
       "0               0  Twitter for Android   de  2021-08-30T23:59:03.000Z   \n",
       "1               1          Eauto Check   de  2021-08-30T23:58:56.000Z   \n",
       "2               2  Twitter for Android   de  2021-08-30T23:58:34.000Z   \n",
       "3               3  Twitter for Android   de  2021-08-30T23:58:08.000Z   \n",
       "4               4     Twitter for iPad   de  2021-08-30T23:57:48.000Z   \n",
       "...           ...                  ...  ...                       ...   \n",
       "61563       61563      Twitter Web App   de  2021-08-30T00:24:36.000Z   \n",
       "61564       61564      Twitter Web App   de  2021-08-30T00:24:33.000Z   \n",
       "61565       61565      Twitter Web App   de  2021-08-30T00:24:30.000Z   \n",
       "61566       61566     Twitter for iPad   de  2021-08-30T00:08:49.000Z   \n",
       "61567       61567  Twitter for Android   de  2021-08-30T00:00:17.000Z   \n",
       "\n",
       "                 author_id                                               text  \\\n",
       "0      1082371703181844480              SPD 40% Wann? https://t.co/ShYjuURkmS   \n",
       "1               1552359542  https://t.co/208fqUCvpj Scholz im Triell wie M...   \n",
       "2       848002447385735168  @BBacterioO Weil das pfui ist, so wie links se...   \n",
       "3               2912522008  @darioschramm Dabei dann bitte Mal anschauen w...   \n",
       "4                546683248  @dervolkan @JoergWimalasena @larsweisbrod Ziem...   \n",
       "...                    ...                                                ...   \n",
       "61563   714433337356599296  btw: Die #KAMPA2021 war sehr gut!\\n@DiePARTEI_...   \n",
       "61564   714433337356599296  ^^Irgendwann zwischen meiner 2. &amp; 3. (erfo...   \n",
       "61565   714433337356599296  #Wahlkriegsmeldung: \\nNeulich bei #TeamOlaf (#...   \n",
       "61566   712637855672242176  @holgertma Er konnte schon seit längerer Zeit ...   \n",
       "61567           2319822158  @BobbiedieBiene @marcobuelow @DiePARTEI Wenn m...   \n",
       "\n",
       "                  tweet_id  public_metrics.retweet_count  \\\n",
       "0      1432493097821245445                             0   \n",
       "1      1432493065994973188                             0   \n",
       "2      1432492973674147843                             0   \n",
       "3      1432492867444948993                             0   \n",
       "4      1432492782581596168                             5   \n",
       "...                    ...                           ...   \n",
       "61563  1432137140876546062                             0   \n",
       "61564  1432137125038891008                             1   \n",
       "61565  1432137116142776320                             0   \n",
       "61566  1432133169390788616                             0   \n",
       "61567  1432131018127990792                             0   \n",
       "\n",
       "       public_metrics.reply_count  public_metrics.like_count  ...  \\\n",
       "0                               2                          2  ...   \n",
       "1                               0                          0  ...   \n",
       "2                               0                          1  ...   \n",
       "3                               0                          2  ...   \n",
       "4                               1                         32  ...   \n",
       "...                           ...                        ...  ...   \n",
       "61563                           1                          2  ...   \n",
       "61564                           1                          2  ...   \n",
       "61565                           1                         10  ...   \n",
       "61566                           0                          0  ...   \n",
       "61567                           0                          0  ...   \n",
       "\n",
       "       public_metrics.listed_count                location   party  \\\n",
       "0                                3                     NaN     SPD   \n",
       "1                               22  Lutherstadt Wittenberg     SPD   \n",
       "2                                2       sachsn  ||  he/er     SPD   \n",
       "3                               13                  Bremen     SPD   \n",
       "4                               59                  Berlin     SPD   \n",
       "...                            ...                     ...     ...   \n",
       "61563                           11                  Bremen  OTHERS   \n",
       "61564                           11                  Bremen  OTHERS   \n",
       "61565                           11                  Bremen  OTHERS   \n",
       "61566                            3        Dresden, Sachsen  OTHERS   \n",
       "61567                            1                     NaN  OTHERS   \n",
       "\n",
       "      withheld.copyright withheld.country_codes_x  withheld.scope_x  \\\n",
       "0                    NaN                      NaN               NaN   \n",
       "1                    NaN                      NaN               NaN   \n",
       "2                    NaN                      NaN               NaN   \n",
       "3                    NaN                      NaN               NaN   \n",
       "4                    NaN                      NaN               NaN   \n",
       "...                  ...                      ...               ...   \n",
       "61563                NaN                      NaN               NaN   \n",
       "61564                NaN                      NaN               NaN   \n",
       "61565                NaN                      NaN               NaN   \n",
       "61566                NaN                      NaN               NaN   \n",
       "61567                NaN                      NaN               NaN   \n",
       "\n",
       "       withheld.country_codes_y  withheld.scope_y  withheld.country_codes  \\\n",
       "0                           NaN               NaN                     NaN   \n",
       "1                           NaN               NaN                     NaN   \n",
       "2                           NaN               NaN                     NaN   \n",
       "3                           NaN               NaN                     NaN   \n",
       "4                           NaN               NaN                     NaN   \n",
       "...                         ...               ...                     ...   \n",
       "61563                       NaN               NaN                     NaN   \n",
       "61564                       NaN               NaN                     NaN   \n",
       "61565                       NaN               NaN                     NaN   \n",
       "61566                       NaN               NaN                     NaN   \n",
       "61567                       NaN               NaN                     NaN   \n",
       "\n",
       "      withheld.scope  \n",
       "0                NaN  \n",
       "1                NaN  \n",
       "2                NaN  \n",
       "3                NaN  \n",
       "4                NaN  \n",
       "...              ...  \n",
       "61563            NaN  \n",
       "61564            NaN  \n",
       "61565            NaN  \n",
       "61566            NaN  \n",
       "61567            NaN  \n",
       "\n",
       "[61568 rows x 28 columns]"
      ]
     },
     "execution_count": 4,
     "metadata": {},
     "output_type": "execute_result"
    }
   ],
   "source": [
    "pd.read_csv(\"../../temp_tweet_database_08_31.csv\", lineterminator='\\n')"
   ]
  },
  {
   "cell_type": "code",
   "execution_count": null,
   "id": "g5NRf4ln5EfN",
   "metadata": {
    "id": "g5NRf4ln5EfN"
   },
   "outputs": [],
   "source": [
    "!pip install germansentiment"
   ]
  },
  {
   "cell_type": "code",
   "execution_count": 255,
   "id": "Jb8s8DEsS8T0",
   "metadata": {
    "colab": {
     "base_uri": "https://localhost:8080/"
    },
    "id": "Jb8s8DEsS8T0",
    "outputId": "17a5a3f7-0984-43b9-c02f-3f383430a556"
   },
   "outputs": [
    {
     "name": "stderr",
     "output_type": "stream",
     "text": [
      "/usr/local/lib/python3.7/dist-packages/IPython/core/interactiveshell.py:2718: DtypeWarning: Columns (0) have mixed types.Specify dtype option on import or set low_memory=False.\n",
      "  interactivity=interactivity, compiler=compiler, result=result)\n"
     ]
    }
   ],
   "source": [
    "data_full = pd.read_csv(data_path + \"df_all.csv\")"
   ]
  },
  {
   "cell_type": "code",
   "execution_count": 68,
   "id": "HPDRftQcWAZT",
   "metadata": {
    "colab": {
     "base_uri": "https://localhost:8080/"
    },
    "id": "HPDRftQcWAZT",
    "outputId": "563d463b-3b0c-42a9-d842-89ec864e6e57"
   },
   "outputs": [
    {
     "data": {
      "text/plain": [
       "986.8875"
      ]
     },
     "execution_count": 68,
     "metadata": {},
     "output_type": "execute_result"
    }
   ],
   "source": [
    "# get 1000 tweets per iteration \n",
    "len(data_full) / 400"
   ]
  },
  {
   "cell_type": "code",
   "execution_count": 92,
   "id": "xhynP7poWqqz",
   "metadata": {
    "colab": {
     "base_uri": "https://localhost:8080/"
    },
    "id": "xhynP7poWqqz",
    "outputId": "d76d0a2b-4e10-4a36-91fd-161e72065e72"
   },
   "outputs": [
    {
     "name": "stdout",
     "output_type": "stream",
     "text": [
      "CPU times: user 22 µs, sys: 0 ns, total: 22 µs\n",
      "Wall time: 28.1 µs\n"
     ]
    }
   ],
   "source": [
    "max_len = (len(data_full) + x)\n",
    "max_len"
   ]
  },
  {
   "cell_type": "code",
   "execution_count": 113,
   "id": "cz4lc_ClWTiM",
   "metadata": {
    "id": "cz4lc_ClWTiM"
   },
   "outputs": [],
   "source": [
    "x = 987"
   ]
  },
  {
   "cell_type": "code",
   "execution_count": 114,
   "id": "bYm4DoIfZSgb",
   "metadata": {
    "id": "bYm4DoIfZSgb"
   },
   "outputs": [],
   "source": [
    "full_sentiment = []"
   ]
  },
  {
   "cell_type": "code",
   "execution_count": 115,
   "id": "g59Pcv2JnF-d",
   "metadata": {
    "id": "g59Pcv2JnF-d"
   },
   "outputs": [],
   "source": [
    "all_id_with_sentiment = []"
   ]
  },
  {
   "cell_type": "code",
   "execution_count": null,
   "id": "WRWjLPfDXDa5",
   "metadata": {
    "id": "WRWjLPfDXDa5"
   },
   "outputs": [],
   "source": [
    "# this for loop throws an error, last two buckets are done afterwards\n",
    "%%time\n",
    "counter = 0\n",
    "\n",
    "# iterate over a range of 0, 394.755 with step size 987\n",
    "for i in range(0,max_len, x):\n",
    "\n",
    "  # get start time of iteration\n",
    "  start = tm.time()\n",
    "\n",
    "  # print counter\n",
    "  counter += 1\n",
    "  print(f\"Starting iteration {counter}\")\n",
    "\n",
    "  # slice dataframe for the current 987 rows\n",
    "  temp = data_full.iloc[i: (i + x)]\n",
    "\n",
    "  # turn tweets into a list for sentiment analysis\n",
    "  temp_tweets = list(temp.tweet)\n",
    "\n",
    "  # turn tweet id in a list to know what tweets are used\n",
    "  all_id_with_sentiment.append(list(temp.id))\n",
    "  \n",
    "  # predict sentiment analysis on current 987 tweets\n",
    "  temp_result = model.predict_sentiment(temp_tweets)\n",
    "\n",
    "  # append to before defined empty list\n",
    "  full_sentiment.append(temp_result)\n",
    "\n",
    "  # compute runtime for iteration\n",
    "  stop = tm.time()\n",
    "  print(f\"Finished iteration {counter} in {stop-start} seconds\")"
   ]
  },
  {
   "cell_type": "code",
   "execution_count": 247,
   "id": "wWfvvHJjsm2t",
   "metadata": {
    "id": "wWfvvHJjsm2t"
   },
   "outputs": [],
   "source": []
  },
  {
   "cell_type": "code",
   "execution_count": 238,
   "id": "8NQJcOjkwmDz",
   "metadata": {
    "id": "8NQJcOjkwmDz"
   },
   "outputs": [],
   "source": [
    "# get data slice of last two missing iterations\n",
    "first_missing_data = list(data_full.iloc[x * 398: x*399].tweet)\n",
    "second_missing_data = list(data_full.iloc[x * 399:].tweet)"
   ]
  },
  {
   "cell_type": "code",
   "execution_count": 239,
   "id": "wLi2-UfY4OIv",
   "metadata": {
    "id": "wLi2-UfY4OIv"
   },
   "outputs": [],
   "source": [
    "# somehow a float in there; fix with this\n",
    "first_missing_data = [str(x) for x in first_missing_data]"
   ]
  },
  {
   "cell_type": "code",
   "execution_count": 240,
   "id": "ph5Ph8mB4e7Q",
   "metadata": {
    "id": "ph5Ph8mB4e7Q"
   },
   "outputs": [],
   "source": [
    "missing_results = []"
   ]
  },
  {
   "cell_type": "code",
   "execution_count": 241,
   "id": "uzWO_GZ62Sxi",
   "metadata": {
    "id": "uzWO_GZ62Sxi"
   },
   "outputs": [],
   "source": [
    "# predicting last two iterations\n",
    "p1 = model.predict_sentiment(first_missing_data)\n",
    "missing_results.append(p1)\n",
    "\n",
    "p2 = model.predict_sentiment(second_missing_data)\n",
    "missing_results.append(p2)"
   ]
  },
  {
   "cell_type": "code",
   "execution_count": 217,
   "id": "GUnLFoDO4y8n",
   "metadata": {
    "id": "GUnLFoDO4y8n"
   },
   "outputs": [],
   "source": [
    "#appending result to final output\n",
    "full_sentiment.append(missing_results[0])\n",
    "full_sentiment.append(missing_results[1])"
   ]
  },
  {
   "cell_type": "code",
   "execution_count": null,
   "id": "0jEN1BmeSRVt",
   "metadata": {
    "id": "0jEN1BmeSRVt"
   },
   "outputs": [],
   "source": [
    "#turning list of lists for each iteration into one list\n",
    "sentiment_values = sum(full_sentiment_real, [])"
   ]
  },
  {
   "cell_type": "code",
   "execution_count": 249,
   "id": "VpLSQnOo5Iqo",
   "metadata": {
    "colab": {
     "base_uri": "https://localhost:8080/"
    },
    "id": "VpLSQnOo5Iqo",
    "outputId": "241d8cce-e54c-4723-9aec-8515f935fab2"
   },
   "outputs": [
    {
     "data": {
      "text/plain": [
       "True"
      ]
     },
     "execution_count": 249,
     "metadata": {},
     "output_type": "execute_result"
    }
   ],
   "source": [
    "#checking correct prediction lenght\n",
    "len(sentiment_values) == len(data_full)"
   ]
  },
  {
   "cell_type": "code",
   "execution_count": 250,
   "id": "Zgw29e0x5ofD",
   "metadata": {
    "id": "Zgw29e0x5ofD"
   },
   "outputs": [],
   "source": [
    "#adding sentiment collumn to tweet DF\n",
    "data_full[\"sentiment\"] = sentiment_values"
   ]
  },
  {
   "cell_type": "code",
   "execution_count": 152,
   "id": "vtLmr0wzyRQ7",
   "metadata": {
    "id": "vtLmr0wzyRQ7"
   },
   "outputs": [],
   "source": [
    "tr = pd.DataFrame(sentiment_values, columns = [\"sentiment\"])"
   ]
  },
  {
   "cell_type": "code",
   "execution_count": 154,
   "id": "DKvbCgjAyc32",
   "metadata": {
    "colab": {
     "base_uri": "https://localhost:8080/",
     "height": 282
    },
    "id": "DKvbCgjAyc32",
    "outputId": "30853c90-e568-4be7-add9-198452ea2665"
   },
   "outputs": [
    {
     "data": {
      "text/plain": [
       "<matplotlib.axes._subplots.AxesSubplot at 0x7f0bd3a83750>"
      ]
     },
     "execution_count": 154,
     "metadata": {},
     "output_type": "execute_result"
    },
    {
     "data": {
      "image/png": "[encoded data removed]",
      "text/plain": [
       "<Figure size 432x288 with 1 Axes>"
      ]
     },
     "metadata": {
      "needs_background": "light"
     },
     "output_type": "display_data"
    }
   ],
   "source": [
    "tr.sentiment.hist()"
   ]
  },
  {
   "cell_type": "code",
   "execution_count": 252,
   "id": "Kgz38GFnscBM",
   "metadata": {
    "colab": {
     "base_uri": "https://localhost:8080/",
     "height": 17
    },
    "id": "Kgz38GFnscBM",
    "outputId": "5aefa0ed-4246-411c-e569-9e1558314fe6"
   },
   "outputs": [
    {
     "data": {
      "application/javascript": [
       "\n",
       "    async function download(id, filename, size) {\n",
       "      if (!google.colab.kernel.accessAllowed) {\n",
       "        return;\n",
       "      }\n",
       "      const div = document.createElement('div');\n",
       "      const label = document.createElement('label');\n",
       "      label.textContent = `Downloading \"${filename}\": `;\n",
       "      div.appendChild(label);\n",
       "      const progress = document.createElement('progress');\n",
       "      progress.max = size;\n",
       "      div.appendChild(progress);\n",
       "      document.body.appendChild(div);\n",
       "\n",
       "      const buffers = [];\n",
       "      let downloaded = 0;\n",
       "\n",
       "      const channel = await google.colab.kernel.comms.open(id);\n",
       "      // Send a message to notify the kernel that we're ready.\n",
       "      channel.send({})\n",
       "\n",
       "      for await (const message of channel.messages) {\n",
       "        // Send a message to notify the kernel that we're ready.\n",
       "        channel.send({})\n",
       "        if (message.buffers) {\n",
       "          for (const buffer of message.buffers) {\n",
       "            buffers.push(buffer);\n",
       "            downloaded += buffer.byteLength;\n",
       "            progress.value = downloaded;\n",
       "          }\n",
       "        }\n",
       "      }\n",
       "      const blob = new Blob(buffers, {type: 'application/binary'});\n",
       "      const a = document.createElement('a');\n",
       "      a.href = window.URL.createObjectURL(blob);\n",
       "      a.download = filename;\n",
       "      div.appendChild(a);\n",
       "      a.click();\n",
       "      div.remove();\n",
       "    }\n",
       "  "
      ],
      "text/plain": [
       "<IPython.core.display.Javascript object>"
      ]
     },
     "metadata": {},
     "output_type": "display_data"
    },
    {
     "data": {
      "application/javascript": [
       "download(\"download_4c495e96-bece-442d-a679-a59fa3a37f1b\", \"data_full_sentiment.csv\", 134396570)"
      ],
      "text/plain": [
       "<IPython.core.display.Javascript object>"
      ]
     },
     "metadata": {},
     "output_type": "display_data"
    }
   ],
   "source": [
    "# saving csv and downloading it\n",
    "data_full.to_csv(\"data_full_sentiment.csv\")\n",
    "files.download(\"data_full_sentiment.csv\")"
   ]
  }
 ],
 "metadata": {
  "accelerator": "GPU",
  "colab": {
   "collapsed_sections": [],
   "machine_shape": "hm",
   "name": "nicolas_sentiment_analysis.ipynb",
   "provenance": []
  },
  "kernelspec": {
   "display_name": "Python 3 (ipykernel)",
   "language": "python",
   "name": "python3"
  },
  "language_info": {
   "codemirror_mode": {
    "name": "ipython",
    "version": 3
   },
   "file_extension": ".py",
   "mimetype": "text/x-python",
   "name": "python",
   "nbconvert_exporter": "python",
   "pygments_lexer": "ipython3",
   "version": "3.8.6"
  },
  "toc": {
   "base_numbering": 1,
   "nav_menu": {},
   "number_sections": true,
   "sideBar": true,
   "skip_h1_title": false,
   "title_cell": "Table of Contents",
   "title_sidebar": "Contents",
   "toc_cell": false,
   "toc_position": {},
   "toc_section_display": true,
   "toc_window_display": false
  }
 },
 "nbformat": 4,
 "nbformat_minor": 5
}
