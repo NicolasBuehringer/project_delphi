{
 "cells": [
  {
   "cell_type": "code",
   "execution_count": 1,
   "id": "d098dc5d",
   "metadata": {},
   "outputs": [
    {
     "name": "stderr",
     "output_type": "stream",
     "text": [
      "2021-09-02 09:44:10.850714: W tensorflow/stream_executor/platform/default/dso_loader.cc:64] Could not load dynamic library 'libcudart.so.11.0'; dlerror: libcudart.so.11.0: cannot open shared object file: No such file or directory\n",
      "2021-09-02 09:44:10.850766: I tensorflow/stream_executor/cuda/cudart_stub.cc:29] Ignore above cudart dlerror if you do not have a GPU set up on your machine.\n"
     ]
    }
   ],
   "source": [
    "from tensorflow import keras\n",
    "import numpy as np\n",
    "import pandas as pd\n",
    "import matplotlib.pyplot as plt\n",
    "import seaborn as sns\n",
    "from keras.layers import Normalization\n",
    "from keras.models import Sequential\n",
    "from keras.layers import Dense, SimpleRNN, Flatten\n",
    "from keras import layers\n",
    "pd.set_option('display.max_rows', 50)\n",
    "from tensorflow.keras import optimizers\n",
    "from tensorflow.keras.callbacks import EarlyStopping \n",
    "\n",
    "import random\n"
   ]
  },
  {
   "cell_type": "code",
   "execution_count": 2,
   "id": "9fde10c7",
   "metadata": {},
   "outputs": [],
   "source": [
    "df_merged = pd.read_csv(\"rnn_model_df_31.csv\")"
   ]
  },
  {
   "cell_type": "code",
   "execution_count": null,
   "id": "33198d5c",
   "metadata": {},
   "outputs": [],
   "source": []
  },
  {
   "cell_type": "code",
   "execution_count": 3,
   "id": "f661bcee",
   "metadata": {},
   "outputs": [],
   "source": [
    "df_merged = df_merged[df_merged[\"reply_count\"].notna()] "
   ]
  },
  {
   "cell_type": "code",
   "execution_count": 4,
   "id": "89ac5526",
   "metadata": {},
   "outputs": [],
   "source": [
    "df_merged = df_merged.replace(np.nan, 0)"
   ]
  },
  {
   "cell_type": "code",
   "execution_count": 5,
   "id": "cf4f619d",
   "metadata": {},
   "outputs": [],
   "source": [
    "df_merged = df_merged.drop(columns = [\"reply_count\", \"avg_followers_count\", \"avg_following_count\" ] )"
   ]
  },
  {
   "cell_type": "code",
   "execution_count": 6,
   "id": "2101c88d",
   "metadata": {},
   "outputs": [],
   "source": [
    "df_merged[\"tweet_date\"] = pd.to_datetime(df_merged[\"tweet_date\"])\n",
    "\n",
    "df_merged = df_merged.groupby([pd.Grouper(key='tweet_date',freq='D'), \"party\"]).agg({\n",
    "#     \"reply_count\": \"sum\", \n",
    "    \"retweet_count\": \"sum\",\n",
    "    \"like_count\": \"sum\",\n",
    "#     \"avg_len_of_tweet\": \"mean\" ,\n",
    "#     \"avg_followers_count\": \"mean\" ,\n",
    "#     \"avg_following_count\": \"mean\" ,\n",
    "    \"avg_user_tweet_count\" :\"mean\",\n",
    "    \"avg_ff_ratio\" :\"mean\",\n",
    "    \"share_of_tweets\" :\"mean\",\n",
    "    \"share_unique_users\": \"mean\",\n",
    "    \"weighted_sentiment\" : \"mean\",\n",
    "    \"share_of_positive_tweets\": \"mean\",\n",
    "    \"share_of_negative_tweets\" : \"mean\",\n",
    "    \"poll\": \"mean\"}) "
   ]
  },
  {
   "cell_type": "code",
   "execution_count": 7,
   "id": "ed214bba",
   "metadata": {},
   "outputs": [],
   "source": [
    "df_real_true = df_merged.iloc[-7:]"
   ]
  },
  {
   "cell_type": "code",
   "execution_count": null,
   "id": "cbd10255",
   "metadata": {},
   "outputs": [],
   "source": []
  },
  {
   "cell_type": "code",
   "execution_count": 8,
   "id": "97eb8322",
   "metadata": {},
   "outputs": [],
   "source": [
    "df_merged = df_merged.iloc[:-7]"
   ]
  },
  {
   "cell_type": "code",
   "execution_count": 9,
   "id": "1e49f617",
   "metadata": {},
   "outputs": [],
   "source": [
    "df_merged_final_test = df_merged.iloc[-7:]"
   ]
  },
  {
   "cell_type": "code",
   "execution_count": 10,
   "id": "0996c8ba",
   "metadata": {},
   "outputs": [],
   "source": [
    "df_merged_final = df_merged.iloc[:-7]"
   ]
  },
  {
   "cell_type": "code",
   "execution_count": null,
   "id": "a830e310",
   "metadata": {},
   "outputs": [],
   "source": []
  },
  {
   "cell_type": "code",
   "execution_count": 11,
   "id": "cb214f41",
   "metadata": {},
   "outputs": [],
   "source": [
    "num_features = [ \"retweet_count\", \"like_count\", \"avg_user_tweet_count\",\"avg_ff_ratio\"]\n",
    "remaing_columns = [\"share_of_tweets\",\"share_unique_users\",\"weighted_sentiment\",\"share_of_positive_tweets\",\"share_of_negative_tweets\"]"
   ]
  },
  {
   "cell_type": "code",
   "execution_count": 12,
   "id": "cd65b9b4",
   "metadata": {},
   "outputs": [],
   "source": [
    "from sklearn.preprocessing import MinMaxScaler\n",
    "\n",
    "mm_scaler = MinMaxScaler()\n",
    "\n",
    "mm_scaler.fit(df_merged_final[num_features])\n",
    "\n",
    "numerical_train_scaled = mm_scaler.transform(df_merged_final[num_features])\n",
    "numerical_test_scaled = mm_scaler.transform(df_merged_final_test[num_features])"
   ]
  },
  {
   "cell_type": "code",
   "execution_count": 13,
   "id": "7d1d5a3c",
   "metadata": {},
   "outputs": [],
   "source": [
    "df_merged_poll = df_merged_final[\"poll\"] / 100\n",
    "df_merged_poll_test = df_merged_final_test[\"poll\"] / 100"
   ]
  },
  {
   "cell_type": "code",
   "execution_count": 14,
   "id": "31360ef4",
   "metadata": {},
   "outputs": [],
   "source": [
    "df_numerical_train_scaled = pd.DataFrame(numerical_train_scaled, columns = num_features, index = df_merged_final.index)\n"
   ]
  },
  {
   "cell_type": "code",
   "execution_count": 15,
   "id": "0ec54b49",
   "metadata": {},
   "outputs": [],
   "source": [
    "df_train_scaled = pd.concat([df_numerical_train_scaled,df_merged_final[remaing_columns], pd.DataFrame(df_merged_poll, columns = [\"poll\"], index = df_merged_final.index)] , axis = 1)"
   ]
  },
  {
   "cell_type": "code",
   "execution_count": null,
   "id": "f30d615e",
   "metadata": {},
   "outputs": [],
   "source": []
  },
  {
   "cell_type": "code",
   "execution_count": 16,
   "id": "87d8cee6",
   "metadata": {},
   "outputs": [],
   "source": [
    "df_test_scaled = pd.concat([pd.DataFrame(numerical_test_scaled, columns = num_features, index = df_merged_final_test.index),df_merged_final_test[remaing_columns], pd.DataFrame(df_merged_poll_test, columns = [\"poll\"], index = df_merged_final_test.index)] , axis = 1)"
   ]
  },
  {
   "cell_type": "code",
   "execution_count": 17,
   "id": "cfee585c",
   "metadata": {},
   "outputs": [],
   "source": [
    "def subsequence(df, length, start = 0):\n",
    "    last_possible_start = len(df) - length \n",
    "    X = df[start:start + length]\n",
    "    y = df[\"poll\"][(start + length ) : (start + length + 7)]\n",
    "    \n",
    "    return X, y"
   ]
  },
  {
   "cell_type": "code",
   "execution_count": 18,
   "id": "deccfa2c",
   "metadata": {},
   "outputs": [],
   "source": [
    "def multiple_subsequences(df, length):\n",
    "    \n",
    "    list_of_X = []\n",
    "    list_of_y = []\n",
    "    \n",
    "    number_of_subsequences = round(len(df) /  7 - (length/7))\n",
    "    start = 0\n",
    "    for num in range(number_of_subsequences):\n",
    "        temporary_X, temporary_y = subsequence(df, length, start)\n",
    "        list_of_X.append(temporary_X)\n",
    "        list_of_y.append(temporary_y)\n",
    "        start = start + 7\n",
    "    \n",
    "    return list_of_X, list_of_y\n",
    "\n",
    "    \n",
    "    \n",
    "    "
   ]
  },
  {
   "cell_type": "code",
   "execution_count": 19,
   "id": "b482b9c8",
   "metadata": {},
   "outputs": [],
   "source": [
    "X_train , y_train = multiple_subsequences(pd.DataFrame(df_train_scaled), 21 )\n"
   ]
  },
  {
   "cell_type": "code",
   "execution_count": 20,
   "id": "77493732",
   "metadata": {},
   "outputs": [
    {
     "data": {
      "text/plain": [
       "[tweet_date  party \n",
       " 2021-07-26  AFD       0.11\n",
       "             CDU       0.27\n",
       "             FDP       0.13\n",
       "             GRUENE    0.18\n",
       "             LINKE     0.07\n",
       "             OTHER     0.07\n",
       "             SPD       0.17\n",
       " Name: poll, dtype: float64,\n",
       " tweet_date  party \n",
       " 2021-07-27  AFD       0.120\n",
       "             CDU       0.270\n",
       "             FDP       0.130\n",
       "             GRUENE    0.175\n",
       "             LINKE     0.060\n",
       "             OTHER     0.070\n",
       "             SPD       0.175\n",
       " Name: poll, dtype: float64,\n",
       " tweet_date  party \n",
       " 2021-07-28  AFD       0.1012\n",
       "             CDU       0.2800\n",
       "             FDP       0.1225\n",
       "             GRUENE    0.1988\n",
       "             LINKE     0.0700\n",
       "             OTHER     0.0700\n",
       "             SPD       0.1575\n",
       " Name: poll, dtype: float64,\n",
       " tweet_date  party \n",
       " 2021-07-29  AFD       0.1012\n",
       "             CDU       0.2800\n",
       "             FDP       0.1225\n",
       "             GRUENE    0.1988\n",
       "             LINKE     0.0700\n",
       "             OTHER     0.0700\n",
       "             SPD       0.1575\n",
       " Name: poll, dtype: float64,\n",
       " tweet_date  party \n",
       " 2021-07-30  AFD       0.1133\n",
       "             CDU       0.2767\n",
       "             FDP       0.1167\n",
       "             GRUENE    0.1867\n",
       "             LINKE     0.0700\n",
       "             OTHER     0.0733\n",
       "             SPD       0.1633\n",
       " Name: poll, dtype: float64,\n",
       " tweet_date  party \n",
       " 2021-07-31  AFD       0.1133\n",
       "             CDU       0.2767\n",
       "             FDP       0.1167\n",
       "             GRUENE    0.1867\n",
       "             LINKE     0.0700\n",
       "             OTHER     0.0733\n",
       "             SPD       0.1633\n",
       " Name: poll, dtype: float64,\n",
       " tweet_date  party \n",
       " 2021-08-01  AFD       0.11\n",
       "             CDU       0.27\n",
       "             FDP       0.13\n",
       "             GRUENE    0.18\n",
       "             LINKE     0.06\n",
       "             OTHER     0.08\n",
       "             SPD       0.17\n",
       " Name: poll, dtype: float64,\n",
       " tweet_date  party \n",
       " 2021-08-02  AFD       0.110\n",
       "             CDU       0.275\n",
       "             FDP       0.130\n",
       "             GRUENE    0.180\n",
       "             LINKE     0.070\n",
       "             OTHER     0.055\n",
       "             SPD       0.180\n",
       " Name: poll, dtype: float64,\n",
       " tweet_date  party \n",
       " 2021-08-03  AFD       0.105\n",
       "             CDU       0.265\n",
       "             FDP       0.115\n",
       "             GRUENE    0.200\n",
       "             LINKE     0.065\n",
       "             OTHER     0.080\n",
       "             SPD       0.170\n",
       " Name: poll, dtype: float64,\n",
       " tweet_date  party \n",
       " 2021-08-04  AFD       0.110\n",
       "             CDU       0.245\n",
       "             FDP       0.125\n",
       "             GRUENE    0.215\n",
       "             LINKE     0.060\n",
       "             OTHER     0.070\n",
       "             SPD       0.175\n",
       " Name: poll, dtype: float64,\n",
       " tweet_date  party \n",
       " 2021-08-05  AFD       0.10\n",
       "             CDU       0.27\n",
       "             FDP       0.12\n",
       "             GRUENE    0.19\n",
       "             LINKE     0.06\n",
       "             OTHER     0.08\n",
       "             SPD       0.18\n",
       " Name: poll, dtype: float64,\n",
       " tweet_date  party \n",
       " 2021-08-06  AFD       0.10\n",
       "             CDU       0.27\n",
       "             FDP       0.12\n",
       "             GRUENE    0.19\n",
       "             LINKE     0.06\n",
       "             OTHER     0.08\n",
       "             SPD       0.18\n",
       " Name: poll, dtype: float64,\n",
       " tweet_date  party \n",
       " 2021-08-07  AFD       0.10\n",
       "             CDU       0.27\n",
       "             FDP       0.12\n",
       "             GRUENE    0.19\n",
       "             LINKE     0.06\n",
       "             OTHER     0.08\n",
       "             SPD       0.18\n",
       " Name: poll, dtype: float64,\n",
       " tweet_date  party \n",
       " 2021-08-08  AFD       0.11\n",
       "             CDU       0.26\n",
       "             FDP       0.12\n",
       "             GRUENE    0.18\n",
       "             LINKE     0.07\n",
       "             OTHER     0.08\n",
       "             SPD       0.18\n",
       " Name: poll, dtype: float64,\n",
       " tweet_date  party \n",
       " 2021-08-09  AFD       0.11\n",
       "             CDU       0.26\n",
       "             FDP       0.12\n",
       "             GRUENE    0.18\n",
       "             LINKE     0.07\n",
       "             OTHER     0.08\n",
       "             SPD       0.18\n",
       " Name: poll, dtype: float64,\n",
       " tweet_date  party \n",
       " 2021-08-10  AFD       0.115\n",
       "             CDU       0.255\n",
       "             FDP       0.125\n",
       "             GRUENE    0.175\n",
       "             LINKE     0.065\n",
       "             OTHER     0.090\n",
       "             SPD       0.175\n",
       " Name: poll, dtype: float64,\n",
       " tweet_date  party \n",
       " 2021-08-11  AFD       0.1067\n",
       "             CDU       0.2300\n",
       "             FDP       0.1200\n",
       "             GRUENE    0.2033\n",
       "             LINKE     0.0700\n",
       "             OTHER     0.0833\n",
       "             SPD       0.1867\n",
       " Name: poll, dtype: float64,\n",
       " tweet_date  party \n",
       " 2021-08-12  AFD       0.1067\n",
       "             CDU       0.2300\n",
       "             FDP       0.1200\n",
       "             GRUENE    0.2033\n",
       "             LINKE     0.0700\n",
       "             OTHER     0.0833\n",
       "             SPD       0.1867\n",
       " Name: poll, dtype: float64,\n",
       " tweet_date  party \n",
       " 2021-08-13  AFD       0.11\n",
       "             CDU       0.26\n",
       "             FDP       0.11\n",
       "             GRUENE    0.19\n",
       "             LINKE     0.07\n",
       "             OTHER     0.07\n",
       "             SPD       0.19\n",
       " Name: poll, dtype: float64,\n",
       " tweet_date  party \n",
       " 2021-08-14  AFD       0.11\n",
       "             CDU       0.25\n",
       "             FDP       0.12\n",
       "             GRUENE    0.18\n",
       "             LINKE     0.07\n",
       "             OTHER     0.07\n",
       "             SPD       0.20\n",
       " Name: poll, dtype: float64,\n",
       " tweet_date  party \n",
       " 2021-08-15  AFD       0.11\n",
       "             CDU       0.25\n",
       "             FDP       0.12\n",
       "             GRUENE    0.18\n",
       "             LINKE     0.07\n",
       "             OTHER     0.07\n",
       "             SPD       0.20\n",
       " Name: poll, dtype: float64,\n",
       " tweet_date  party \n",
       " 2021-08-16  AFD       0.110\n",
       "             CDU       0.250\n",
       "             FDP       0.125\n",
       "             GRUENE    0.175\n",
       "             LINKE     0.065\n",
       "             OTHER     0.075\n",
       "             SPD       0.200\n",
       " Name: poll, dtype: float64,\n",
       " tweet_date  party \n",
       " 2021-08-17  AFD       0.110\n",
       "             CDU       0.250\n",
       "             FDP       0.125\n",
       "             GRUENE    0.175\n",
       "             LINKE     0.065\n",
       "             OTHER     0.075\n",
       "             SPD       0.200\n",
       " Name: poll, dtype: float64,\n",
       " tweet_date  party \n",
       " 2021-08-18  AFD       0.1067\n",
       "             CDU       0.2300\n",
       "             FDP       0.1167\n",
       "             GRUENE    0.1883\n",
       "             LINKE     0.0667\n",
       "             OTHER     0.0850\n",
       "             SPD       0.2067\n",
       " Name: poll, dtype: float64,\n",
       " tweet_date  party \n",
       " 2021-08-19  AFD       0.1100\n",
       "             CDU       0.2417\n",
       "             FDP       0.1200\n",
       "             GRUENE    0.1783\n",
       "             LINKE     0.0717\n",
       "             OTHER     0.0733\n",
       "             SPD       0.2050\n",
       " Name: poll, dtype: float64,\n",
       " tweet_date  party \n",
       " 2021-08-20  AFD       0.1100\n",
       "             CDU       0.2417\n",
       "             FDP       0.1200\n",
       "             GRUENE    0.1783\n",
       "             LINKE     0.0717\n",
       "             OTHER     0.0733\n",
       "             SPD       0.2050\n",
       " Name: poll, dtype: float64,\n",
       " tweet_date  party \n",
       " 2021-08-21  AFD       0.1100\n",
       "             CDU       0.2417\n",
       "             FDP       0.1200\n",
       "             GRUENE    0.1783\n",
       "             LINKE     0.0717\n",
       "             OTHER     0.0733\n",
       "             SPD       0.2050\n",
       " Name: poll, dtype: float64,\n",
       " tweet_date  party \n",
       " 2021-08-22  AFD       0.12\n",
       "             CDU       0.22\n",
       "             FDP       0.13\n",
       "             GRUENE    0.17\n",
       "             LINKE     0.07\n",
       "             OTHER     0.07\n",
       "             SPD       0.22\n",
       " Name: poll, dtype: float64,\n",
       " tweet_date  party \n",
       " 2021-08-23  AFD       0.11\n",
       "             CDU       0.23\n",
       "             FDP       0.13\n",
       "             GRUENE    0.17\n",
       "             LINKE     0.07\n",
       "             OTHER     0.06\n",
       "             SPD       0.23\n",
       " Name: poll, dtype: float64,\n",
       " tweet_date  party \n",
       " 2021-08-24  AFD       0.10\n",
       "             CDU       0.22\n",
       "             FDP       0.12\n",
       "             GRUENE    0.18\n",
       "             LINKE     0.06\n",
       "             OTHER     0.09\n",
       "             SPD       0.23\n",
       " Name: poll, dtype: float64,\n",
       " tweet_date  party \n",
       " 2021-08-25  AFD       0.120\n",
       "             CDU       0.225\n",
       "             FDP       0.125\n",
       "             GRUENE    0.175\n",
       "             LINKE     0.070\n",
       "             OTHER     0.075\n",
       "             SPD       0.215\n",
       " Name: poll, dtype: float64,\n",
       " tweet_date  party \n",
       " 2021-08-26  AFD       0.11\n",
       "             CDU       0.23\n",
       "             FDP       0.12\n",
       "             GRUENE    0.18\n",
       "             LINKE     0.07\n",
       "             OTHER     0.06\n",
       "             SPD       0.23\n",
       " Name: poll, dtype: float64,\n",
       " tweet_date  party \n",
       " 2021-08-27  AFD       0.110\n",
       "             CDU       0.220\n",
       "             FDP       0.115\n",
       "             GRUENE    0.180\n",
       "             LINKE     0.070\n",
       "             OTHER     0.080\n",
       "             SPD       0.230\n",
       " Name: poll, dtype: float64,\n",
       " tweet_date  party \n",
       " 2021-08-28  AFD       0.1075\n",
       "             CDU       0.2350\n",
       "             FDP       0.1175\n",
       "             GRUENE    0.1700\n",
       "             LINKE     0.0600\n",
       "             OTHER     0.0700\n",
       "             SPD       0.2400\n",
       " Name: poll, dtype: float64,\n",
       " tweet_date  party \n",
       " 2021-08-29  AFD       0.1075\n",
       "             CDU       0.2350\n",
       "             FDP       0.1175\n",
       "             GRUENE    0.1700\n",
       "             LINKE     0.0600\n",
       "             OTHER     0.0700\n",
       "             SPD       0.2400\n",
       " Name: poll, dtype: float64]"
      ]
     },
     "execution_count": 20,
     "metadata": {},
     "output_type": "execute_result"
    }
   ],
   "source": [
    "y_train"
   ]
  },
  {
   "cell_type": "code",
   "execution_count": 21,
   "id": "0793a1be",
   "metadata": {
    "scrolled": true
   },
   "outputs": [],
   "source": [
    "X_train = np.array(X_train)\n",
    "# X_test = np.array(X_test)\n",
    "y_train = np.array(y_train)\n",
    "# y_test = np.array(y_test)\n"
   ]
  },
  {
   "cell_type": "code",
   "execution_count": null,
   "id": "912d7f75",
   "metadata": {},
   "outputs": [],
   "source": []
  },
  {
   "cell_type": "code",
   "execution_count": 22,
   "id": "883db39d",
   "metadata": {},
   "outputs": [
    {
     "name": "stderr",
     "output_type": "stream",
     "text": [
      "2021-09-02 09:44:13.193332: W tensorflow/stream_executor/platform/default/dso_loader.cc:64] Could not load dynamic library 'libcuda.so.1'; dlerror: libcuda.so.1: cannot open shared object file: No such file or directory\n",
      "2021-09-02 09:44:13.193372: W tensorflow/stream_executor/cuda/cuda_driver.cc:269] failed call to cuInit: UNKNOWN ERROR (303)\n",
      "2021-09-02 09:44:13.193389: I tensorflow/stream_executor/cuda/cuda_diagnostics.cc:156] kernel driver does not appear to be running on this host (LAPTOP-69AIGBNI): /proc/driver/nvidia/version does not exist\n",
      "2021-09-02 09:44:13.193645: I tensorflow/core/platform/cpu_feature_guard.cc:142] This TensorFlow binary is optimized with oneAPI Deep Neural Network Library (oneDNN) to use the following CPU instructions in performance-critical operations:  AVX2 AVX512F FMA\n",
      "To enable them in other operations, rebuild TensorFlow with the appropriate compiler flags.\n"
     ]
    }
   ],
   "source": [
    "model = Sequential()\n",
    "\n",
    "model = Sequential()\n",
    "model.add(layers.LSTM(units=128, activation='tanh', return_sequences=True))\n",
    "model.add(layers.LSTM(units=64, activation='tanh', return_sequences=False))\n",
    "model.add(layers.Dense(32, activation='relu'))\n",
    "model.add(layers.Dense(7, activation='linear'))\n"
   ]
  },
  {
   "cell_type": "code",
   "execution_count": 25,
   "id": "79659774",
   "metadata": {},
   "outputs": [
    {
     "name": "stdout",
     "output_type": "stream",
     "text": [
      "CPU times: user 53.3 ms, sys: 1.66 ms, total: 55 ms\n",
      "Wall time: 48.8 ms\n"
     ]
    }
   ],
   "source": [
    "%%time\n",
    "\n",
    "es = EarlyStopping(patience = 10 , restore_best_weights=True)\n",
    "\n",
    "\n",
    "model.compile(loss='mse', optimizer='adam', metrics=['mae'])\n",
    "\n",
    "history = model.fit(X_train, y_train ,\n",
    "          epochs=0, \n",
    "          batch_size=1, \n",
    "          verbose=1, \n",
    "          validation_split=0.2,\n",
    "          shuffle = False,\n",
    "          callbacks=[es]\n",
    "     )\n",
    "\n"
   ]
  },
  {
   "cell_type": "code",
   "execution_count": null,
   "id": "da93a8b1",
   "metadata": {},
   "outputs": [],
   "source": [
    "df_merged_final_day = np.array(df_test_scaled)\n",
    "df_merged_final_day = np.expand_dims(df_merged_final_day, axis = 0)"
   ]
  },
  {
   "cell_type": "code",
   "execution_count": null,
   "id": "61210a67",
   "metadata": {},
   "outputs": [],
   "source": []
  },
  {
   "cell_type": "code",
   "execution_count": null,
   "id": "e41b7b8d",
   "metadata": {},
   "outputs": [],
   "source": [
    "df_prediction = pd.DataFrame(model.predict(df_merged_final_day)).rename( \\\n",
    "                        columns = {0:'AFD',1:'CDU',2:'FDP',3: 'GRUENE',4: 'LINKE', 5:'OTHER', 6: 'SPD'}).round(3)\n",
    "df_prediction.index = [\"pred\"]\n",
    "\n",
    "df_prediction"
   ]
  },
  {
   "cell_type": "code",
   "execution_count": null,
   "id": "11c04814",
   "metadata": {},
   "outputs": [],
   "source": [
    "df_prediction_2 = pd.DataFrame((df_prediction.iloc[0]) / np.sum(df_prediction.iloc[0])).T\n",
    "df_prediction_2 = df_prediction_2.round(4)"
   ]
  },
  {
   "cell_type": "code",
   "execution_count": null,
   "id": "dde5f254",
   "metadata": {},
   "outputs": [],
   "source": [
    "df_prediction_2"
   ]
  },
  {
   "cell_type": "code",
   "execution_count": null,
   "id": "a7be0306",
   "metadata": {},
   "outputs": [],
   "source": [
    "df_true = pd.DataFrame(df_real_true[\"poll\"]).T/100"
   ]
  },
  {
   "cell_type": "code",
   "execution_count": null,
   "id": "64083bad",
   "metadata": {},
   "outputs": [],
   "source": [
    "df_true = pd.DataFrame(df_true.iloc[0]).reset_index().groupby(by = \"party\").mean().T"
   ]
  },
  {
   "cell_type": "code",
   "execution_count": null,
   "id": "ff76c491",
   "metadata": {},
   "outputs": [],
   "source": [
    "df_true"
   ]
  },
  {
   "cell_type": "code",
   "execution_count": null,
   "id": "1bd86a56",
   "metadata": {},
   "outputs": [],
   "source": []
  },
  {
   "cell_type": "code",
   "execution_count": null,
   "id": "32d63618",
   "metadata": {},
   "outputs": [],
   "source": [
    "df_plotting_spd = df_train_scaled.reset_index().loc[df_train_scaled.reset_index()[\"party\"] == \"SPD\"].drop(columns = \"party\")\n",
    "df_plotting_cdu = df_train_scaled.reset_index().loc[df_train_scaled.reset_index()[\"party\"] == \"CDU\"].drop(columns = \"party\")"
   ]
  },
  {
   "cell_type": "code",
   "execution_count": null,
   "id": "6914ca69",
   "metadata": {},
   "outputs": [],
   "source": [
    "new_df = df_plotting_spd.melt(id_vars='tweet_date', \n",
    "                 value_name='val', \n",
    "                 var_name='type')\n",
    "\n",
    "sns.lineplot(x='tweet_date', y='val', hue='type', data=new_df)"
   ]
  },
  {
   "cell_type": "code",
   "execution_count": null,
   "id": "67c44d1a",
   "metadata": {},
   "outputs": [],
   "source": [
    "new_df = df_plotting_cdu.melt(id_vars='tweet_date', \n",
    "                 value_name='val', \n",
    "                 var_name='type')\n",
    "\n",
    "sns.lineplot(x='tweet_date', y='val', hue='type', data=new_df)"
   ]
  },
  {
   "cell_type": "code",
   "execution_count": null,
   "id": "5050f624",
   "metadata": {},
   "outputs": [],
   "source": []
  }
 ],
 "metadata": {
  "kernelspec": {
   "display_name": "Python 3 (ipykernel)",
   "language": "python",
   "name": "python3"
  },
  "language_info": {
   "codemirror_mode": {
    "name": "ipython",
    "version": 3
   },
   "file_extension": ".py",
   "mimetype": "text/x-python",
   "name": "python",
   "nbconvert_exporter": "python",
   "pygments_lexer": "ipython3",
   "version": "3.8.6"
  },
  "toc": {
   "base_numbering": 1,
   "nav_menu": {},
   "number_sections": true,
   "sideBar": true,
   "skip_h1_title": false,
   "title_cell": "Table of Contents",
   "title_sidebar": "Contents",
   "toc_cell": false,
   "toc_position": {},
   "toc_section_display": true,
   "toc_window_display": false
  }
 },
 "nbformat": 4,
 "nbformat_minor": 5
}
