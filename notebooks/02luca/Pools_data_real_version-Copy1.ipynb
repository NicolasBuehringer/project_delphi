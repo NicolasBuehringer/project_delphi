{
 "cells": [
  {
   "cell_type": "markdown",
   "id": "0233c891",
   "metadata": {},
   "source": [
    "# Data Gathering - Poll data"
   ]
  },
  {
   "cell_type": "code",
   "execution_count": 1,
   "id": "debf5193",
   "metadata": {},
   "outputs": [],
   "source": [
    "import gepd\n",
    "import numpy as np\n",
    "import pandas as pd\n",
    "pd.set_option('display.max_columns', 500)\n",
    "pd.set_option('display.max_rows', 100)\n",
    "import seaborn as sns\n",
    "import matplotlib.pyplot as plt"
   ]
  },
  {
   "cell_type": "markdown",
   "id": "632ac1aa",
   "metadata": {},
   "source": [
    "## Getting Data"
   ]
  },
  {
   "cell_type": "code",
   "execution_count": 15,
   "id": "61369672",
   "metadata": {},
   "outputs": [],
   "source": [
    "data = gepd.gepd()"
   ]
  },
  {
   "cell_type": "code",
   "execution_count": 16,
   "id": "c2574e91",
   "metadata": {},
   "outputs": [],
   "source": [
    "df = data.get_surveys()"
   ]
  },
  {
   "cell_type": "code",
   "execution_count": 17,
   "id": "c28ede80",
   "metadata": {},
   "outputs": [
    {
     "data": {
      "text/plain": [
       "{'0': {'Shortcut': 'Bundestag',\n",
       "  'Name': 'Bundestag',\n",
       "  'Election': 'Bundestagswahl'},\n",
       " '9': {'Shortcut': 'Niedersachsen',\n",
       "  'Name': 'Niedersächsischer Landtag',\n",
       "  'Election': 'Landtagswahl in Niedersachsen'},\n",
       " '8': {'Shortcut': 'Mecklenburg-Vorpommern',\n",
       "  'Name': 'Landtag von Mecklenburg-Vorpommern',\n",
       "  'Election': 'Landtagswahl in Mecklenburg-Vorpommern'},\n",
       " '3': {'Shortcut': 'Berlin',\n",
       "  'Name': 'Berliner Abgeordnetenhaus',\n",
       "  'Election': 'Abgeordnetenhauswahl in Berlin'},\n",
       " '13': {'Shortcut': 'Sachsen',\n",
       "  'Name': 'Sächsischer Landtag',\n",
       "  'Election': 'Landtagswahl in Sachsen'},\n",
       " '2': {'Shortcut': 'Bayern',\n",
       "  'Name': 'Bayerischer Landtag',\n",
       "  'Election': 'Landtagswahl in Bayern'},\n",
       " '16': {'Shortcut': 'Thüringen',\n",
       "  'Name': 'Thüringischer Landtag',\n",
       "  'Election': 'Landtagswahl in Thüringen'},\n",
       " '12': {'Shortcut': 'Saarland',\n",
       "  'Name': 'Saarländischer Landtag',\n",
       "  'Election': 'Landtagswahl im Saarland'},\n",
       " '11': {'Shortcut': 'Rheinland-Pfalz',\n",
       "  'Name': 'Landtag von Rheinland-Pfalz',\n",
       "  'Election': 'Landtagswahl in Rheinland-Pfalz'},\n",
       " '14': {'Shortcut': 'Sachsen-Anhalt',\n",
       "  'Name': 'Landtag von Sachsen-Anhalt',\n",
       "  'Election': 'Landtagswahl in Sachsen-Anhalt'},\n",
       " '15': {'Shortcut': 'Schleswig-Holstein',\n",
       "  'Name': 'Landtag von Schleswig-Holstein',\n",
       "  'Election': 'Landtagswahl in Schleswig-Holstein'},\n",
       " '10': {'Shortcut': 'Nordrhein-Westfalen (NRW)',\n",
       "  'Name': 'Landtag von Nordrhein-Westfalen',\n",
       "  'Election': 'Landtagswahl in Nordrhein-Westfalen (NRW)'},\n",
       " '4': {'Shortcut': 'Brandenburg',\n",
       "  'Name': 'Brandenburgischer Landtag',\n",
       "  'Election': 'Landtagswahl in Brandenburg'},\n",
       " '1': {'Shortcut': 'Baden-Württemberg',\n",
       "  'Name': 'Landtag von Baden-Württemberg',\n",
       "  'Election': 'Landtagswahl in Baden-Württemberg'},\n",
       " '7': {'Shortcut': 'Hessen',\n",
       "  'Name': 'Hessischer Landtag',\n",
       "  'Election': 'Landtagswahl in Hessen'},\n",
       " '6': {'Shortcut': 'Hamburg',\n",
       "  'Name': 'Hamburgische Bürgerschaft',\n",
       "  'Election': 'Bürgerschaftswahl in Hamburg'},\n",
       " '17': {'Shortcut': 'Europäisches Parlament',\n",
       "  'Name': 'Europäisches Parlament',\n",
       "  'Election': 'Europawahl'},\n",
       " '5': {'Shortcut': 'Bremen',\n",
       "  'Name': 'Bremische Bürgerschaft',\n",
       "  'Election': 'Bürgerschaftswahl in Bremen'}}"
      ]
     },
     "execution_count": 17,
     "metadata": {},
     "output_type": "execute_result"
    }
   ],
   "source": [
    "data.get_parliaments()"
   ]
  },
  {
   "cell_type": "code",
   "execution_count": null,
   "id": "84ad8976",
   "metadata": {},
   "outputs": [],
   "source": []
  },
  {
   "cell_type": "code",
   "execution_count": 18,
   "id": "72ab6dcd",
   "metadata": {
    "scrolled": true
   },
   "outputs": [
    {
     "data": {
      "text/html": [
       "<div>\n",
       "<style scoped>\n",
       "    .dataframe tbody tr th:only-of-type {\n",
       "        vertical-align: middle;\n",
       "    }\n",
       "\n",
       "    .dataframe tbody tr th {\n",
       "        vertical-align: top;\n",
       "    }\n",
       "\n",
       "    .dataframe thead th {\n",
       "        text-align: right;\n",
       "    }\n",
       "</style>\n",
       "<table border=\"1\" class=\"dataframe\">\n",
       "  <thead>\n",
       "    <tr style=\"text-align: right;\">\n",
       "      <th></th>\n",
       "      <th>Date</th>\n",
       "      <th>Surveyed_Persons</th>\n",
       "      <th>Parliament_ID</th>\n",
       "      <th>Institute_ID</th>\n",
       "      <th>Tasker_ID</th>\n",
       "      <th>Date_Start</th>\n",
       "      <th>Date_End</th>\n",
       "      <th>2</th>\n",
       "      <th>1</th>\n",
       "      <th>4</th>\n",
       "      <th>3</th>\n",
       "      <th>7</th>\n",
       "      <th>0</th>\n",
       "      <th>5</th>\n",
       "      <th>8</th>\n",
       "      <th>101</th>\n",
       "      <th>102</th>\n",
       "      <th>11</th>\n",
       "      <th>13</th>\n",
       "      <th>10</th>\n",
       "      <th>14</th>\n",
       "      <th>9</th>\n",
       "      <th>6</th>\n",
       "      <th>16</th>\n",
       "      <th>15</th>\n",
       "    </tr>\n",
       "  </thead>\n",
       "  <tbody>\n",
       "    <tr>\n",
       "      <th>0</th>\n",
       "      <td>2021-08-31</td>\n",
       "      <td>2340</td>\n",
       "      <td>0</td>\n",
       "      <td>24</td>\n",
       "      <td>97</td>\n",
       "      <td>2021-08-30</td>\n",
       "      <td>2021-08-31</td>\n",
       "      <td>27.0</td>\n",
       "      <td>19.5</td>\n",
       "      <td>15.5</td>\n",
       "      <td>13.0</td>\n",
       "      <td>10.5</td>\n",
       "      <td>8.0</td>\n",
       "      <td>6.5</td>\n",
       "      <td>NaN</td>\n",
       "      <td>NaN</td>\n",
       "      <td>NaN</td>\n",
       "      <td>NaN</td>\n",
       "      <td>NaN</td>\n",
       "      <td>NaN</td>\n",
       "      <td>NaN</td>\n",
       "      <td>NaN</td>\n",
       "      <td>NaN</td>\n",
       "      <td>NaN</td>\n",
       "      <td>NaN</td>\n",
       "    </tr>\n",
       "    <tr>\n",
       "      <th>1</th>\n",
       "      <td>2021-08-31</td>\n",
       "      <td>2001</td>\n",
       "      <td>0</td>\n",
       "      <td>17</td>\n",
       "      <td>13</td>\n",
       "      <td>2021-08-28</td>\n",
       "      <td>2021-08-29</td>\n",
       "      <td>25.0</td>\n",
       "      <td>21.0</td>\n",
       "      <td>19.0</td>\n",
       "      <td>11.0</td>\n",
       "      <td>11.0</td>\n",
       "      <td>6.0</td>\n",
       "      <td>7.0</td>\n",
       "      <td>NaN</td>\n",
       "      <td>NaN</td>\n",
       "      <td>NaN</td>\n",
       "      <td>NaN</td>\n",
       "      <td>NaN</td>\n",
       "      <td>NaN</td>\n",
       "      <td>NaN</td>\n",
       "      <td>NaN</td>\n",
       "      <td>NaN</td>\n",
       "      <td>NaN</td>\n",
       "      <td>NaN</td>\n",
       "    </tr>\n",
       "    <tr>\n",
       "      <th>2</th>\n",
       "      <td>2021-08-31</td>\n",
       "      <td>2508</td>\n",
       "      <td>0</td>\n",
       "      <td>2</td>\n",
       "      <td>63</td>\n",
       "      <td>2021-08-24</td>\n",
       "      <td>2021-08-30</td>\n",
       "      <td>23.0</td>\n",
       "      <td>21.0</td>\n",
       "      <td>18.0</td>\n",
       "      <td>12.0</td>\n",
       "      <td>11.0</td>\n",
       "      <td>9.0</td>\n",
       "      <td>6.0</td>\n",
       "      <td>NaN</td>\n",
       "      <td>NaN</td>\n",
       "      <td>NaN</td>\n",
       "      <td>NaN</td>\n",
       "      <td>NaN</td>\n",
       "      <td>NaN</td>\n",
       "      <td>NaN</td>\n",
       "      <td>NaN</td>\n",
       "      <td>NaN</td>\n",
       "      <td>NaN</td>\n",
       "      <td>NaN</td>\n",
       "    </tr>\n",
       "    <tr>\n",
       "      <th>3</th>\n",
       "      <td>2021-08-30</td>\n",
       "      <td>2015</td>\n",
       "      <td>0</td>\n",
       "      <td>5</td>\n",
       "      <td>4</td>\n",
       "      <td>2021-08-27</td>\n",
       "      <td>2021-08-30</td>\n",
       "      <td>25.0</td>\n",
       "      <td>20.0</td>\n",
       "      <td>16.5</td>\n",
       "      <td>13.5</td>\n",
       "      <td>11.0</td>\n",
       "      <td>7.0</td>\n",
       "      <td>7.0</td>\n",
       "      <td>NaN</td>\n",
       "      <td>NaN</td>\n",
       "      <td>NaN</td>\n",
       "      <td>NaN</td>\n",
       "      <td>NaN</td>\n",
       "      <td>NaN</td>\n",
       "      <td>NaN</td>\n",
       "      <td>NaN</td>\n",
       "      <td>NaN</td>\n",
       "      <td>NaN</td>\n",
       "      <td>NaN</td>\n",
       "    </tr>\n",
       "    <tr>\n",
       "      <th>4</th>\n",
       "      <td>2021-08-28</td>\n",
       "      <td>1038</td>\n",
       "      <td>0</td>\n",
       "      <td>9</td>\n",
       "      <td>6</td>\n",
       "      <td>2021-08-18</td>\n",
       "      <td>2021-08-26</td>\n",
       "      <td>24.0</td>\n",
       "      <td>26.0</td>\n",
       "      <td>17.0</td>\n",
       "      <td>10.5</td>\n",
       "      <td>10.5</td>\n",
       "      <td>6.0</td>\n",
       "      <td>6.0</td>\n",
       "      <td>NaN</td>\n",
       "      <td>NaN</td>\n",
       "      <td>NaN</td>\n",
       "      <td>NaN</td>\n",
       "      <td>NaN</td>\n",
       "      <td>NaN</td>\n",
       "      <td>NaN</td>\n",
       "      <td>NaN</td>\n",
       "      <td>NaN</td>\n",
       "      <td>NaN</td>\n",
       "      <td>NaN</td>\n",
       "    </tr>\n",
       "    <tr>\n",
       "      <th>...</th>\n",
       "      <td>...</td>\n",
       "      <td>...</td>\n",
       "      <td>...</td>\n",
       "      <td>...</td>\n",
       "      <td>...</td>\n",
       "      <td>...</td>\n",
       "      <td>...</td>\n",
       "      <td>...</td>\n",
       "      <td>...</td>\n",
       "      <td>...</td>\n",
       "      <td>...</td>\n",
       "      <td>...</td>\n",
       "      <td>...</td>\n",
       "      <td>...</td>\n",
       "      <td>...</td>\n",
       "      <td>...</td>\n",
       "      <td>...</td>\n",
       "      <td>...</td>\n",
       "      <td>...</td>\n",
       "      <td>...</td>\n",
       "      <td>...</td>\n",
       "      <td>...</td>\n",
       "      <td>...</td>\n",
       "      <td>...</td>\n",
       "      <td>...</td>\n",
       "    </tr>\n",
       "    <tr>\n",
       "      <th>1750</th>\n",
       "      <td>2017-01-25</td>\n",
       "      <td>2504</td>\n",
       "      <td>0</td>\n",
       "      <td>2</td>\n",
       "      <td>2</td>\n",
       "      <td>2017-01-16</td>\n",
       "      <td>2017-01-20</td>\n",
       "      <td>21.0</td>\n",
       "      <td>37.0</td>\n",
       "      <td>10.0</td>\n",
       "      <td>6.0</td>\n",
       "      <td>12.0</td>\n",
       "      <td>5.0</td>\n",
       "      <td>9.0</td>\n",
       "      <td>NaN</td>\n",
       "      <td>NaN</td>\n",
       "      <td>NaN</td>\n",
       "      <td>NaN</td>\n",
       "      <td>NaN</td>\n",
       "      <td>NaN</td>\n",
       "      <td>NaN</td>\n",
       "      <td>NaN</td>\n",
       "      <td>NaN</td>\n",
       "      <td>NaN</td>\n",
       "      <td>NaN</td>\n",
       "    </tr>\n",
       "    <tr>\n",
       "      <th>1751</th>\n",
       "      <td>2017-01-24</td>\n",
       "      <td>5028</td>\n",
       "      <td>0</td>\n",
       "      <td>16</td>\n",
       "      <td>14</td>\n",
       "      <td>2017-01-12</td>\n",
       "      <td>2017-01-23</td>\n",
       "      <td>20.4</td>\n",
       "      <td>37.1</td>\n",
       "      <td>9.3</td>\n",
       "      <td>6.2</td>\n",
       "      <td>13.2</td>\n",
       "      <td>4.3</td>\n",
       "      <td>9.5</td>\n",
       "      <td>NaN</td>\n",
       "      <td>NaN</td>\n",
       "      <td>NaN</td>\n",
       "      <td>NaN</td>\n",
       "      <td>NaN</td>\n",
       "      <td>NaN</td>\n",
       "      <td>NaN</td>\n",
       "      <td>NaN</td>\n",
       "      <td>NaN</td>\n",
       "      <td>NaN</td>\n",
       "      <td>NaN</td>\n",
       "    </tr>\n",
       "    <tr>\n",
       "      <th>1752</th>\n",
       "      <td>2017-01-24</td>\n",
       "      <td>1992</td>\n",
       "      <td>0</td>\n",
       "      <td>5</td>\n",
       "      <td>4</td>\n",
       "      <td>2017-01-20</td>\n",
       "      <td>2017-01-23</td>\n",
       "      <td>21.0</td>\n",
       "      <td>32.5</td>\n",
       "      <td>8.5</td>\n",
       "      <td>7.5</td>\n",
       "      <td>14.5</td>\n",
       "      <td>5.0</td>\n",
       "      <td>11.0</td>\n",
       "      <td>NaN</td>\n",
       "      <td>NaN</td>\n",
       "      <td>NaN</td>\n",
       "      <td>NaN</td>\n",
       "      <td>NaN</td>\n",
       "      <td>NaN</td>\n",
       "      <td>NaN</td>\n",
       "      <td>NaN</td>\n",
       "      <td>NaN</td>\n",
       "      <td>NaN</td>\n",
       "      <td>NaN</td>\n",
       "    </tr>\n",
       "    <tr>\n",
       "      <th>1753</th>\n",
       "      <td>2017-01-22</td>\n",
       "      <td>2805</td>\n",
       "      <td>0</td>\n",
       "      <td>3</td>\n",
       "      <td>3</td>\n",
       "      <td>2017-01-12</td>\n",
       "      <td>2017-01-18</td>\n",
       "      <td>21.0</td>\n",
       "      <td>36.0</td>\n",
       "      <td>9.0</td>\n",
       "      <td>6.0</td>\n",
       "      <td>12.0</td>\n",
       "      <td>5.0</td>\n",
       "      <td>11.0</td>\n",
       "      <td>NaN</td>\n",
       "      <td>NaN</td>\n",
       "      <td>NaN</td>\n",
       "      <td>NaN</td>\n",
       "      <td>NaN</td>\n",
       "      <td>NaN</td>\n",
       "      <td>NaN</td>\n",
       "      <td>NaN</td>\n",
       "      <td>NaN</td>\n",
       "      <td>NaN</td>\n",
       "      <td>NaN</td>\n",
       "    </tr>\n",
       "    <tr>\n",
       "      <th>1754</th>\n",
       "      <td>2017-01-18</td>\n",
       "      <td>2503</td>\n",
       "      <td>0</td>\n",
       "      <td>2</td>\n",
       "      <td>2</td>\n",
       "      <td>2017-01-09</td>\n",
       "      <td>2017-01-13</td>\n",
       "      <td>21.0</td>\n",
       "      <td>38.0</td>\n",
       "      <td>9.0</td>\n",
       "      <td>6.0</td>\n",
       "      <td>11.0</td>\n",
       "      <td>6.0</td>\n",
       "      <td>9.0</td>\n",
       "      <td>NaN</td>\n",
       "      <td>NaN</td>\n",
       "      <td>NaN</td>\n",
       "      <td>NaN</td>\n",
       "      <td>NaN</td>\n",
       "      <td>NaN</td>\n",
       "      <td>NaN</td>\n",
       "      <td>NaN</td>\n",
       "      <td>NaN</td>\n",
       "      <td>NaN</td>\n",
       "      <td>NaN</td>\n",
       "    </tr>\n",
       "  </tbody>\n",
       "</table>\n",
       "<p>1755 rows × 25 columns</p>\n",
       "</div>"
      ],
      "text/plain": [
       "           Date  Surveyed_Persons Parliament_ID  Institute_ID  Tasker_ID  \\\n",
       "0    2021-08-31              2340             0            24         97   \n",
       "1    2021-08-31              2001             0            17         13   \n",
       "2    2021-08-31              2508             0             2         63   \n",
       "3    2021-08-30              2015             0             5          4   \n",
       "4    2021-08-28              1038             0             9          6   \n",
       "...         ...               ...           ...           ...        ...   \n",
       "1750 2017-01-25              2504             0             2          2   \n",
       "1751 2017-01-24              5028             0            16         14   \n",
       "1752 2017-01-24              1992             0             5          4   \n",
       "1753 2017-01-22              2805             0             3          3   \n",
       "1754 2017-01-18              2503             0             2          2   \n",
       "\n",
       "      Date_Start    Date_End     2     1     4     3     7    0     5   8  \\\n",
       "0     2021-08-30  2021-08-31  27.0  19.5  15.5  13.0  10.5  8.0   6.5 NaN   \n",
       "1     2021-08-28  2021-08-29  25.0  21.0  19.0  11.0  11.0  6.0   7.0 NaN   \n",
       "2     2021-08-24  2021-08-30  23.0  21.0  18.0  12.0  11.0  9.0   6.0 NaN   \n",
       "3     2021-08-27  2021-08-30  25.0  20.0  16.5  13.5  11.0  7.0   7.0 NaN   \n",
       "4     2021-08-18  2021-08-26  24.0  26.0  17.0  10.5  10.5  6.0   6.0 NaN   \n",
       "...          ...         ...   ...   ...   ...   ...   ...  ...   ...  ..   \n",
       "1750  2017-01-16  2017-01-20  21.0  37.0  10.0   6.0  12.0  5.0   9.0 NaN   \n",
       "1751  2017-01-12  2017-01-23  20.4  37.1   9.3   6.2  13.2  4.3   9.5 NaN   \n",
       "1752  2017-01-20  2017-01-23  21.0  32.5   8.5   7.5  14.5  5.0  11.0 NaN   \n",
       "1753  2017-01-12  2017-01-18  21.0  36.0   9.0   6.0  12.0  5.0  11.0 NaN   \n",
       "1754  2017-01-09  2017-01-13  21.0  38.0   9.0   6.0  11.0  6.0   9.0 NaN   \n",
       "\n",
       "      101  102  11  13  10  14   9   6  16  15  \n",
       "0     NaN  NaN NaN NaN NaN NaN NaN NaN NaN NaN  \n",
       "1     NaN  NaN NaN NaN NaN NaN NaN NaN NaN NaN  \n",
       "2     NaN  NaN NaN NaN NaN NaN NaN NaN NaN NaN  \n",
       "3     NaN  NaN NaN NaN NaN NaN NaN NaN NaN NaN  \n",
       "4     NaN  NaN NaN NaN NaN NaN NaN NaN NaN NaN  \n",
       "...   ...  ...  ..  ..  ..  ..  ..  ..  ..  ..  \n",
       "1750  NaN  NaN NaN NaN NaN NaN NaN NaN NaN NaN  \n",
       "1751  NaN  NaN NaN NaN NaN NaN NaN NaN NaN NaN  \n",
       "1752  NaN  NaN NaN NaN NaN NaN NaN NaN NaN NaN  \n",
       "1753  NaN  NaN NaN NaN NaN NaN NaN NaN NaN NaN  \n",
       "1754  NaN  NaN NaN NaN NaN NaN NaN NaN NaN NaN  \n",
       "\n",
       "[1755 rows x 25 columns]"
      ]
     },
     "execution_count": 18,
     "metadata": {},
     "output_type": "execute_result"
    }
   ],
   "source": [
    "df"
   ]
  },
  {
   "cell_type": "code",
   "execution_count": 19,
   "id": "4c4bb6fc",
   "metadata": {},
   "outputs": [
    {
     "data": {
      "text/plain": [
       "Date                datetime64[ns]\n",
       "Surveyed_Persons             int64\n",
       "Parliament_ID               object\n",
       "Institute_ID                 int64\n",
       "Tasker_ID                    int64\n",
       "Date_Start                  object\n",
       "Date_End                    object\n",
       "2                          float64\n",
       "1                          float64\n",
       "4                          float64\n",
       "3                          float64\n",
       "7                          float64\n",
       "0                          float64\n",
       "5                          float64\n",
       "8                          float64\n",
       "101                        float64\n",
       "102                        float64\n",
       "11                         float64\n",
       "13                         float64\n",
       "10                         float64\n",
       "14                         float64\n",
       "9                          float64\n",
       "6                          float64\n",
       "16                         float64\n",
       "15                         float64\n",
       "dtype: object"
      ]
     },
     "execution_count": 19,
     "metadata": {},
     "output_type": "execute_result"
    }
   ],
   "source": [
    "df.dtypes"
   ]
  },
  {
   "cell_type": "markdown",
   "id": "c84096a9",
   "metadata": {},
   "source": [
    "## Only federal election"
   ]
  },
  {
   "cell_type": "code",
   "execution_count": 6,
   "id": "98d167a9",
   "metadata": {},
   "outputs": [],
   "source": [
    "df = df.loc[df[\"Parliament_ID\"] == \"0\"]"
   ]
  },
  {
   "cell_type": "markdown",
   "id": "c9fa347c",
   "metadata": {},
   "source": [
    "## Transforming collum names"
   ]
  },
  {
   "cell_type": "code",
   "execution_count": 7,
   "id": "ce04991c",
   "metadata": {
    "scrolled": true
   },
   "outputs": [],
   "source": [
    "parties_dict = data.get_parties()"
   ]
  },
  {
   "cell_type": "code",
   "execution_count": 8,
   "id": "884733ff",
   "metadata": {},
   "outputs": [],
   "source": [
    "def parties_dict_short_function(parties_dict):\n",
    "    dct = {}\n",
    "    for key, value in parties_dict.items():\n",
    "        dct[key] = value[\"Shortcut\"]\n",
    "    return dct"
   ]
  },
  {
   "cell_type": "code",
   "execution_count": 9,
   "id": "89ad4087",
   "metadata": {},
   "outputs": [],
   "source": [
    "parties_dict_short  = parties_dict_short_function(parties_dict)\n"
   ]
  },
  {
   "cell_type": "code",
   "execution_count": 10,
   "id": "ed16b6c4",
   "metadata": {},
   "outputs": [
    {
     "data": {
      "text/plain": [
       "{'7': 'AfD',\n",
       " '11': 'BP',\n",
       " '14': 'BVB/FW',\n",
       " '4': 'Grüne',\n",
       " '16': 'BIW',\n",
       " '1': 'CDU/CSU',\n",
       " '101': 'CDU',\n",
       " '102': 'CSU',\n",
       " '5': 'Linke',\n",
       " '13': 'Die PARTEI',\n",
       " '3': 'FDP',\n",
       " '8': 'Freie Wähler',\n",
       " '9': 'NPD',\n",
       " '15': 'Tierschutzpartei',\n",
       " '6': 'Piraten',\n",
       " '2': 'SPD',\n",
       " '10': 'SSW',\n",
       " '0': 'Sonstige'}"
      ]
     },
     "execution_count": 10,
     "metadata": {},
     "output_type": "execute_result"
    }
   ],
   "source": [
    "parties_dict_short"
   ]
  },
  {
   "cell_type": "code",
   "execution_count": 11,
   "id": "616db15d",
   "metadata": {
    "scrolled": true
   },
   "outputs": [],
   "source": [
    "df = df.rename(columns=parties_dict_short)"
   ]
  },
  {
   "cell_type": "markdown",
   "id": "7b091743",
   "metadata": {},
   "source": [
    "## Date to 120 days"
   ]
  },
  {
   "cell_type": "code",
   "execution_count": 22,
   "id": "52325aaa",
   "metadata": {},
   "outputs": [
    {
     "ename": "ValueError",
     "evalue": "time data '2021-08-31' does not match format 'Y-D-M' (match)",
     "output_type": "error",
     "traceback": [
      "\u001b[0;31m---------------------------------------------------------------------------\u001b[0m",
      "\u001b[0;31mTypeError\u001b[0m                                 Traceback (most recent call last)",
      "\u001b[0;32m~/.pyenv/versions/3.8.6/envs/project_delphi/lib/python3.8/site-packages/pandas/core/tools/datetimes.py\u001b[0m in \u001b[0;36m_to_datetime_with_format\u001b[0;34m(arg, orig_arg, name, tz, fmt, exact, errors, infer_datetime_format)\u001b[0m\n\u001b[1;32m    508\u001b[0m         \u001b[0;32mtry\u001b[0m\u001b[0;34m:\u001b[0m\u001b[0;34m\u001b[0m\u001b[0;34m\u001b[0m\u001b[0m\n\u001b[0;32m--> 509\u001b[0;31m             \u001b[0mvalues\u001b[0m\u001b[0;34m,\u001b[0m \u001b[0mtz\u001b[0m \u001b[0;34m=\u001b[0m \u001b[0mconversion\u001b[0m\u001b[0;34m.\u001b[0m\u001b[0mdatetime_to_datetime64\u001b[0m\u001b[0;34m(\u001b[0m\u001b[0marg\u001b[0m\u001b[0;34m)\u001b[0m\u001b[0;34m\u001b[0m\u001b[0;34m\u001b[0m\u001b[0m\n\u001b[0m\u001b[1;32m    510\u001b[0m             \u001b[0mdta\u001b[0m \u001b[0;34m=\u001b[0m \u001b[0mDatetimeArray\u001b[0m\u001b[0;34m(\u001b[0m\u001b[0mvalues\u001b[0m\u001b[0;34m,\u001b[0m \u001b[0mdtype\u001b[0m\u001b[0;34m=\u001b[0m\u001b[0mtz_to_dtype\u001b[0m\u001b[0;34m(\u001b[0m\u001b[0mtz\u001b[0m\u001b[0;34m)\u001b[0m\u001b[0;34m)\u001b[0m\u001b[0;34m\u001b[0m\u001b[0;34m\u001b[0m\u001b[0m\n",
      "\u001b[0;32m~/.pyenv/versions/3.8.6/envs/project_delphi/lib/python3.8/site-packages/pandas/_libs/tslibs/conversion.pyx\u001b[0m in \u001b[0;36mpandas._libs.tslibs.conversion.datetime_to_datetime64\u001b[0;34m()\u001b[0m\n",
      "\u001b[0;31mTypeError\u001b[0m: Unrecognized value type: <class 'str'>",
      "\nDuring handling of the above exception, another exception occurred:\n",
      "\u001b[0;31mValueError\u001b[0m                                Traceback (most recent call last)",
      "\u001b[0;32m/tmp/ipykernel_21928/327143128.py\u001b[0m in \u001b[0;36m<module>\u001b[0;34m\u001b[0m\n\u001b[0;32m----> 1\u001b[0;31m \u001b[0mdf\u001b[0m\u001b[0;34m[\u001b[0m\u001b[0;34m\"Date_End\"\u001b[0m\u001b[0;34m]\u001b[0m \u001b[0;34m=\u001b[0m  \u001b[0mpd\u001b[0m\u001b[0;34m.\u001b[0m\u001b[0mto_datetime\u001b[0m\u001b[0;34m(\u001b[0m\u001b[0mdf\u001b[0m\u001b[0;34m[\u001b[0m\u001b[0;34m\"Date_End\"\u001b[0m\u001b[0;34m]\u001b[0m\u001b[0;34m,\u001b[0m \u001b[0mformat\u001b[0m\u001b[0;34m=\u001b[0m \u001b[0;34m\"Y-D-M\"\u001b[0m\u001b[0;34m)\u001b[0m\u001b[0;34m\u001b[0m\u001b[0;34m\u001b[0m\u001b[0m\n\u001b[0m",
      "\u001b[0;32m~/.pyenv/versions/3.8.6/envs/project_delphi/lib/python3.8/site-packages/pandas/core/tools/datetimes.py\u001b[0m in \u001b[0;36mto_datetime\u001b[0;34m(arg, errors, dayfirst, yearfirst, utc, format, exact, unit, infer_datetime_format, origin, cache)\u001b[0m\n\u001b[1;32m    881\u001b[0m                 \u001b[0mresult\u001b[0m \u001b[0;34m=\u001b[0m \u001b[0mresult\u001b[0m\u001b[0;34m.\u001b[0m\u001b[0mtz_localize\u001b[0m\u001b[0;34m(\u001b[0m\u001b[0mtz\u001b[0m\u001b[0;34m)\u001b[0m  \u001b[0;31m# type: ignore[call-arg]\u001b[0m\u001b[0;34m\u001b[0m\u001b[0;34m\u001b[0m\u001b[0m\n\u001b[1;32m    882\u001b[0m     \u001b[0;32melif\u001b[0m \u001b[0misinstance\u001b[0m\u001b[0;34m(\u001b[0m\u001b[0marg\u001b[0m\u001b[0;34m,\u001b[0m \u001b[0mABCSeries\u001b[0m\u001b[0;34m)\u001b[0m\u001b[0;34m:\u001b[0m\u001b[0;34m\u001b[0m\u001b[0;34m\u001b[0m\u001b[0m\n\u001b[0;32m--> 883\u001b[0;31m         \u001b[0mcache_array\u001b[0m \u001b[0;34m=\u001b[0m \u001b[0m_maybe_cache\u001b[0m\u001b[0;34m(\u001b[0m\u001b[0marg\u001b[0m\u001b[0;34m,\u001b[0m \u001b[0mformat\u001b[0m\u001b[0;34m,\u001b[0m \u001b[0mcache\u001b[0m\u001b[0;34m,\u001b[0m \u001b[0mconvert_listlike\u001b[0m\u001b[0;34m)\u001b[0m\u001b[0;34m\u001b[0m\u001b[0;34m\u001b[0m\u001b[0m\n\u001b[0m\u001b[1;32m    884\u001b[0m         \u001b[0;32mif\u001b[0m \u001b[0;32mnot\u001b[0m \u001b[0mcache_array\u001b[0m\u001b[0;34m.\u001b[0m\u001b[0mempty\u001b[0m\u001b[0;34m:\u001b[0m\u001b[0;34m\u001b[0m\u001b[0;34m\u001b[0m\u001b[0m\n\u001b[1;32m    885\u001b[0m             \u001b[0mresult\u001b[0m \u001b[0;34m=\u001b[0m \u001b[0marg\u001b[0m\u001b[0;34m.\u001b[0m\u001b[0mmap\u001b[0m\u001b[0;34m(\u001b[0m\u001b[0mcache_array\u001b[0m\u001b[0;34m)\u001b[0m\u001b[0;34m\u001b[0m\u001b[0;34m\u001b[0m\u001b[0m\n",
      "\u001b[0;32m~/.pyenv/versions/3.8.6/envs/project_delphi/lib/python3.8/site-packages/pandas/core/tools/datetimes.py\u001b[0m in \u001b[0;36m_maybe_cache\u001b[0;34m(arg, format, cache, convert_listlike)\u001b[0m\n\u001b[1;32m    193\u001b[0m         \u001b[0munique_dates\u001b[0m \u001b[0;34m=\u001b[0m \u001b[0munique\u001b[0m\u001b[0;34m(\u001b[0m\u001b[0marg\u001b[0m\u001b[0;34m)\u001b[0m\u001b[0;34m\u001b[0m\u001b[0;34m\u001b[0m\u001b[0m\n\u001b[1;32m    194\u001b[0m         \u001b[0;32mif\u001b[0m \u001b[0mlen\u001b[0m\u001b[0;34m(\u001b[0m\u001b[0munique_dates\u001b[0m\u001b[0;34m)\u001b[0m \u001b[0;34m<\u001b[0m \u001b[0mlen\u001b[0m\u001b[0;34m(\u001b[0m\u001b[0marg\u001b[0m\u001b[0;34m)\u001b[0m\u001b[0;34m:\u001b[0m\u001b[0;34m\u001b[0m\u001b[0;34m\u001b[0m\u001b[0m\n\u001b[0;32m--> 195\u001b[0;31m             \u001b[0mcache_dates\u001b[0m \u001b[0;34m=\u001b[0m \u001b[0mconvert_listlike\u001b[0m\u001b[0;34m(\u001b[0m\u001b[0munique_dates\u001b[0m\u001b[0;34m,\u001b[0m \u001b[0mformat\u001b[0m\u001b[0;34m)\u001b[0m\u001b[0;34m\u001b[0m\u001b[0;34m\u001b[0m\u001b[0m\n\u001b[0m\u001b[1;32m    196\u001b[0m             \u001b[0mcache_array\u001b[0m \u001b[0;34m=\u001b[0m \u001b[0mSeries\u001b[0m\u001b[0;34m(\u001b[0m\u001b[0mcache_dates\u001b[0m\u001b[0;34m,\u001b[0m \u001b[0mindex\u001b[0m\u001b[0;34m=\u001b[0m\u001b[0munique_dates\u001b[0m\u001b[0;34m)\u001b[0m\u001b[0;34m\u001b[0m\u001b[0;34m\u001b[0m\u001b[0m\n\u001b[1;32m    197\u001b[0m             \u001b[0;31m# GH#39882 and GH#35888 in case of None and NaT we get duplicates\u001b[0m\u001b[0;34m\u001b[0m\u001b[0;34m\u001b[0m\u001b[0;34m\u001b[0m\u001b[0m\n",
      "\u001b[0;32m~/.pyenv/versions/3.8.6/envs/project_delphi/lib/python3.8/site-packages/pandas/core/tools/datetimes.py\u001b[0m in \u001b[0;36m_convert_listlike_datetimes\u001b[0;34m(arg, format, name, tz, unit, errors, infer_datetime_format, dayfirst, yearfirst, exact)\u001b[0m\n\u001b[1;32m    391\u001b[0m \u001b[0;34m\u001b[0m\u001b[0m\n\u001b[1;32m    392\u001b[0m     \u001b[0;32mif\u001b[0m \u001b[0mformat\u001b[0m \u001b[0;32mis\u001b[0m \u001b[0;32mnot\u001b[0m \u001b[0;32mNone\u001b[0m\u001b[0;34m:\u001b[0m\u001b[0;34m\u001b[0m\u001b[0;34m\u001b[0m\u001b[0m\n\u001b[0;32m--> 393\u001b[0;31m         res = _to_datetime_with_format(\n\u001b[0m\u001b[1;32m    394\u001b[0m             \u001b[0marg\u001b[0m\u001b[0;34m,\u001b[0m \u001b[0morig_arg\u001b[0m\u001b[0;34m,\u001b[0m \u001b[0mname\u001b[0m\u001b[0;34m,\u001b[0m \u001b[0mtz\u001b[0m\u001b[0;34m,\u001b[0m \u001b[0mformat\u001b[0m\u001b[0;34m,\u001b[0m \u001b[0mexact\u001b[0m\u001b[0;34m,\u001b[0m \u001b[0merrors\u001b[0m\u001b[0;34m,\u001b[0m \u001b[0minfer_datetime_format\u001b[0m\u001b[0;34m\u001b[0m\u001b[0;34m\u001b[0m\u001b[0m\n\u001b[1;32m    395\u001b[0m         )\n",
      "\u001b[0;32m~/.pyenv/versions/3.8.6/envs/project_delphi/lib/python3.8/site-packages/pandas/core/tools/datetimes.py\u001b[0m in \u001b[0;36m_to_datetime_with_format\u001b[0;34m(arg, orig_arg, name, tz, fmt, exact, errors, infer_datetime_format)\u001b[0m\n\u001b[1;32m    511\u001b[0m             \u001b[0;32mreturn\u001b[0m \u001b[0mDatetimeIndex\u001b[0m\u001b[0;34m.\u001b[0m\u001b[0m_simple_new\u001b[0m\u001b[0;34m(\u001b[0m\u001b[0mdta\u001b[0m\u001b[0;34m,\u001b[0m \u001b[0mname\u001b[0m\u001b[0;34m=\u001b[0m\u001b[0mname\u001b[0m\u001b[0;34m)\u001b[0m\u001b[0;34m\u001b[0m\u001b[0;34m\u001b[0m\u001b[0m\n\u001b[1;32m    512\u001b[0m         \u001b[0;32mexcept\u001b[0m \u001b[0;34m(\u001b[0m\u001b[0mValueError\u001b[0m\u001b[0;34m,\u001b[0m \u001b[0mTypeError\u001b[0m\u001b[0;34m)\u001b[0m\u001b[0;34m:\u001b[0m\u001b[0;34m\u001b[0m\u001b[0;34m\u001b[0m\u001b[0m\n\u001b[0;32m--> 513\u001b[0;31m             \u001b[0;32mraise\u001b[0m \u001b[0merr\u001b[0m\u001b[0;34m\u001b[0m\u001b[0;34m\u001b[0m\u001b[0m\n\u001b[0m\u001b[1;32m    514\u001b[0m \u001b[0;34m\u001b[0m\u001b[0m\n\u001b[1;32m    515\u001b[0m \u001b[0;34m\u001b[0m\u001b[0m\n",
      "\u001b[0;32m~/.pyenv/versions/3.8.6/envs/project_delphi/lib/python3.8/site-packages/pandas/core/tools/datetimes.py\u001b[0m in \u001b[0;36m_to_datetime_with_format\u001b[0;34m(arg, orig_arg, name, tz, fmt, exact, errors, infer_datetime_format)\u001b[0m\n\u001b[1;32m    498\u001b[0m \u001b[0;34m\u001b[0m\u001b[0m\n\u001b[1;32m    499\u001b[0m         \u001b[0;31m# fallback\u001b[0m\u001b[0;34m\u001b[0m\u001b[0;34m\u001b[0m\u001b[0;34m\u001b[0m\u001b[0m\n\u001b[0;32m--> 500\u001b[0;31m         res = _array_strptime_with_fallback(\n\u001b[0m\u001b[1;32m    501\u001b[0m             \u001b[0marg\u001b[0m\u001b[0;34m,\u001b[0m \u001b[0mname\u001b[0m\u001b[0;34m,\u001b[0m \u001b[0mtz\u001b[0m\u001b[0;34m,\u001b[0m \u001b[0mfmt\u001b[0m\u001b[0;34m,\u001b[0m \u001b[0mexact\u001b[0m\u001b[0;34m,\u001b[0m \u001b[0merrors\u001b[0m\u001b[0;34m,\u001b[0m \u001b[0minfer_datetime_format\u001b[0m\u001b[0;34m\u001b[0m\u001b[0;34m\u001b[0m\u001b[0m\n\u001b[1;32m    502\u001b[0m         )\n",
      "\u001b[0;32m~/.pyenv/versions/3.8.6/envs/project_delphi/lib/python3.8/site-packages/pandas/core/tools/datetimes.py\u001b[0m in \u001b[0;36m_array_strptime_with_fallback\u001b[0;34m(arg, name, tz, fmt, exact, errors, infer_datetime_format)\u001b[0m\n\u001b[1;32m    434\u001b[0m \u001b[0;34m\u001b[0m\u001b[0m\n\u001b[1;32m    435\u001b[0m     \u001b[0;32mtry\u001b[0m\u001b[0;34m:\u001b[0m\u001b[0;34m\u001b[0m\u001b[0;34m\u001b[0m\u001b[0m\n\u001b[0;32m--> 436\u001b[0;31m         \u001b[0mresult\u001b[0m\u001b[0;34m,\u001b[0m \u001b[0mtimezones\u001b[0m \u001b[0;34m=\u001b[0m \u001b[0marray_strptime\u001b[0m\u001b[0;34m(\u001b[0m\u001b[0marg\u001b[0m\u001b[0;34m,\u001b[0m \u001b[0mfmt\u001b[0m\u001b[0;34m,\u001b[0m \u001b[0mexact\u001b[0m\u001b[0;34m=\u001b[0m\u001b[0mexact\u001b[0m\u001b[0;34m,\u001b[0m \u001b[0merrors\u001b[0m\u001b[0;34m=\u001b[0m\u001b[0merrors\u001b[0m\u001b[0;34m)\u001b[0m\u001b[0;34m\u001b[0m\u001b[0;34m\u001b[0m\u001b[0m\n\u001b[0m\u001b[1;32m    437\u001b[0m         \u001b[0;32mif\u001b[0m \u001b[0;34m\"%Z\"\u001b[0m \u001b[0;32min\u001b[0m \u001b[0mfmt\u001b[0m \u001b[0;32mor\u001b[0m \u001b[0;34m\"%z\"\u001b[0m \u001b[0;32min\u001b[0m \u001b[0mfmt\u001b[0m\u001b[0;34m:\u001b[0m\u001b[0;34m\u001b[0m\u001b[0;34m\u001b[0m\u001b[0m\n\u001b[1;32m    438\u001b[0m             \u001b[0;32mreturn\u001b[0m \u001b[0m_return_parsed_timezone_results\u001b[0m\u001b[0;34m(\u001b[0m\u001b[0mresult\u001b[0m\u001b[0;34m,\u001b[0m \u001b[0mtimezones\u001b[0m\u001b[0;34m,\u001b[0m \u001b[0mtz\u001b[0m\u001b[0;34m,\u001b[0m \u001b[0mname\u001b[0m\u001b[0;34m)\u001b[0m\u001b[0;34m\u001b[0m\u001b[0;34m\u001b[0m\u001b[0m\n",
      "\u001b[0;32m~/.pyenv/versions/3.8.6/envs/project_delphi/lib/python3.8/site-packages/pandas/_libs/tslibs/strptime.pyx\u001b[0m in \u001b[0;36mpandas._libs.tslibs.strptime.array_strptime\u001b[0;34m()\u001b[0m\n",
      "\u001b[0;31mValueError\u001b[0m: time data '2021-08-31' does not match format 'Y-D-M' (match)"
     ]
    }
   ],
   "source": [
    "df[\"Date_End\"] =  pd.to_datetime(df[\"Date_End\"], format= \"Y-D-M\")"
   ]
  },
  {
   "cell_type": "code",
   "execution_count": null,
   "id": "86d7fc05",
   "metadata": {},
   "outputs": [],
   "source": [
    "start_date = \"2021-05-22\"\n",
    "end_date = \"2021-8-28\""
   ]
  },
  {
   "cell_type": "code",
   "execution_count": null,
   "id": "5eeea406",
   "metadata": {},
   "outputs": [],
   "source": [
    "df_dated = df.loc[(df['Date_End'] > start_date) & (df['Date_End'] <= end_date)]"
   ]
  },
  {
   "cell_type": "markdown",
   "id": "b77b5328",
   "metadata": {},
   "source": [
    "## Eliminating useless collumns"
   ]
  },
  {
   "cell_type": "code",
   "execution_count": null,
   "id": "8a066527",
   "metadata": {
    "scrolled": true
   },
   "outputs": [],
   "source": [
    "df_dated = df_dated.fillna(0)"
   ]
  },
  {
   "cell_type": "code",
   "execution_count": null,
   "id": "240ed3c6",
   "metadata": {},
   "outputs": [],
   "source": [
    "df_dated[\"CDU/CSU\"] = df_dated[\"CDU/CSU\"] + df_dated[\"CDU\"] + df_dated[\"CSU\"]"
   ]
  },
  {
   "cell_type": "code",
   "execution_count": null,
   "id": "56e0cdbc",
   "metadata": {},
   "outputs": [],
   "source": [
    "other_parties = [\"Sonstige\", \"Freie Wähler\", \"BP\",\"Die PARTEI\", \"SSW\", \"BVB/FW\", \"NPD\", \"Piraten\",\\\n",
    "                    \"BIW\", \"Tierschutzpartei\"]"
   ]
  },
  {
   "cell_type": "code",
   "execution_count": null,
   "id": "b1051b97",
   "metadata": {},
   "outputs": [],
   "source": [
    "df_dated = df_dated.drop(columns = [\"CDU\", \"CSU\"])"
   ]
  },
  {
   "cell_type": "code",
   "execution_count": null,
   "id": "9ac2b53d",
   "metadata": {},
   "outputs": [],
   "source": [
    "df_dated[\"other\"] =  df_dated[other_parties].sum(axis=1)"
   ]
  },
  {
   "cell_type": "code",
   "execution_count": null,
   "id": "866820d0",
   "metadata": {},
   "outputs": [],
   "source": [
    "df_dated"
   ]
  },
  {
   "cell_type": "code",
   "execution_count": null,
   "id": "ef491bb7",
   "metadata": {},
   "outputs": [],
   "source": [
    "df_dated = df_dated.drop( columns = other_parties ).drop( columns = [\"Parliament_ID\",\"Institute_ID\", \"Tasker_ID\"] )\n"
   ]
  },
  {
   "cell_type": "code",
   "execution_count": null,
   "id": "035fc3a5",
   "metadata": {},
   "outputs": [],
   "source": []
  },
  {
   "cell_type": "markdown",
   "id": "12abf57c",
   "metadata": {},
   "source": [
    "### Removing repeated dates with mean"
   ]
  },
  {
   "cell_type": "code",
   "execution_count": null,
   "id": "d490469b",
   "metadata": {},
   "outputs": [],
   "source": [
    "df_dated_grouped = df_dated.groupby(by = \"Date_End\").mean()"
   ]
  },
  {
   "cell_type": "code",
   "execution_count": null,
   "id": "7e6651f3",
   "metadata": {},
   "outputs": [],
   "source": [
    "pd.date_range(start = start_date, end = end_date ).difference(df_dated.Date).value_counts().sum()"
   ]
  },
  {
   "cell_type": "code",
   "execution_count": null,
   "id": "c9cd9a20",
   "metadata": {},
   "outputs": [],
   "source": [
    "## we have 37 missing values"
   ]
  },
  {
   "cell_type": "markdown",
   "id": "ae68e8f2",
   "metadata": {},
   "source": [
    "### Adding missing dates"
   ]
  },
  {
   "cell_type": "code",
   "execution_count": null,
   "id": "de1e9669",
   "metadata": {},
   "outputs": [],
   "source": [
    "correct_dates = pd.DataFrame(pd.date_range(start = start_date, end = end_date ))"
   ]
  },
  {
   "cell_type": "code",
   "execution_count": null,
   "id": "d3c0680d",
   "metadata": {},
   "outputs": [],
   "source": [
    "correct_dates"
   ]
  },
  {
   "cell_type": "code",
   "execution_count": null,
   "id": "7ebc3e53",
   "metadata": {},
   "outputs": [],
   "source": [
    "df_dated = correct_dates.merge(df_dated_grouped, how = \"left\", left_on= 0 , right_on = [\"Date_End\" ])"
   ]
  },
  {
   "cell_type": "code",
   "execution_count": null,
   "id": "1d8ae4ae",
   "metadata": {
    "scrolled": true
   },
   "outputs": [],
   "source": [
    "df_dated = df_dated.set_index([0])"
   ]
  },
  {
   "cell_type": "code",
   "execution_count": null,
   "id": "4f99e012",
   "metadata": {},
   "outputs": [],
   "source": [
    "df_dated"
   ]
  },
  {
   "cell_type": "code",
   "execution_count": null,
   "id": "43f354eb",
   "metadata": {},
   "outputs": [],
   "source": [
    "#df_dated = df_dated.where(df_dated.notnull() , other = df_dated.fillna(method='bfill'))\n"
   ]
  },
  {
   "cell_type": "code",
   "execution_count": null,
   "id": "821136cd",
   "metadata": {},
   "outputs": [],
   "source": [
    "df_dated = df_dated.fillna(method='ffill')"
   ]
  },
  {
   "cell_type": "code",
   "execution_count": null,
   "id": "3d5f9927",
   "metadata": {},
   "outputs": [],
   "source": [
    "df_dated"
   ]
  },
  {
   "cell_type": "code",
   "execution_count": null,
   "id": "e8bc28f9",
   "metadata": {},
   "outputs": [],
   "source": [
    "df_dated.isna().value_counts()"
   ]
  },
  {
   "cell_type": "markdown",
   "id": "2e0cecad",
   "metadata": {},
   "source": [
    "### Removing first two and last two values"
   ]
  },
  {
   "cell_type": "code",
   "execution_count": null,
   "id": "cea46183",
   "metadata": {},
   "outputs": [],
   "source": [
    "df_final =  df_dated.iloc[2:].round(2)\n"
   ]
  },
  {
   "cell_type": "code",
   "execution_count": null,
   "id": "e9e7d2e8",
   "metadata": {},
   "outputs": [],
   "source": [
    "df_final"
   ]
  },
  {
   "cell_type": "code",
   "execution_count": null,
   "id": "e2468cba",
   "metadata": {},
   "outputs": [],
   "source": [
    "df_final.index.name = 'Date'"
   ]
  },
  {
   "cell_type": "code",
   "execution_count": null,
   "id": "83936eed",
   "metadata": {},
   "outputs": [],
   "source": [
    "df_final[\"Surveyed_Persons\"] = df_final[\"Surveyed_Persons\"].astype(int)"
   ]
  },
  {
   "cell_type": "code",
   "execution_count": null,
   "id": "953e4b01",
   "metadata": {},
   "outputs": [],
   "source": [
    "df_final =df_final.round(2)"
   ]
  },
  {
   "cell_type": "code",
   "execution_count": null,
   "id": "e8ff014a",
   "metadata": {},
   "outputs": [],
   "source": [
    "df_final.reset_index()"
   ]
  },
  {
   "cell_type": "code",
   "execution_count": null,
   "id": "0a3ef204",
   "metadata": {},
   "outputs": [],
   "source": [
    "df_final.to_csv(\"polls_data_2021_v4.csv\")"
   ]
  },
  {
   "cell_type": "markdown",
   "id": "a90e33a5",
   "metadata": {},
   "source": [
    "### Plotting"
   ]
  },
  {
   "cell_type": "code",
   "execution_count": null,
   "id": "4e207561",
   "metadata": {},
   "outputs": [],
   "source": [
    "parties = [\"CDU/CSU\", \"SPD\", \"Grüne\", \"FDP\", \"AfD\",\"Linke\", \"other\" ]"
   ]
  },
  {
   "cell_type": "code",
   "execution_count": null,
   "id": "e45a82c3",
   "metadata": {},
   "outputs": [],
   "source": []
  },
  {
   "cell_type": "code",
   "execution_count": null,
   "id": "2f6604d8",
   "metadata": {
    "scrolled": true
   },
   "outputs": [],
   "source": [
    "sns.set(rc={'figure.figsize':(11.7,8.27)})\n",
    "sns.lineplot( data = df_final[parties])\n"
   ]
  },
  {
   "cell_type": "code",
   "execution_count": null,
   "id": "591877c4",
   "metadata": {},
   "outputs": [],
   "source": []
  },
  {
   "cell_type": "code",
   "execution_count": null,
   "id": "33e1db3d",
   "metadata": {},
   "outputs": [],
   "source": []
  },
  {
   "cell_type": "code",
   "execution_count": null,
   "id": "e0779368",
   "metadata": {},
   "outputs": [],
   "source": []
  },
  {
   "cell_type": "code",
   "execution_count": null,
   "id": "f87a19c5",
   "metadata": {},
   "outputs": [],
   "source": []
  },
  {
   "cell_type": "code",
   "execution_count": null,
   "id": "7aec6597",
   "metadata": {},
   "outputs": [],
   "source": []
  },
  {
   "cell_type": "code",
   "execution_count": null,
   "id": "1937f26b",
   "metadata": {},
   "outputs": [],
   "source": []
  },
  {
   "cell_type": "code",
   "execution_count": null,
   "id": "47d58cf8",
   "metadata": {},
   "outputs": [],
   "source": []
  },
  {
   "cell_type": "code",
   "execution_count": null,
   "id": "aae918b1",
   "metadata": {},
   "outputs": [],
   "source": []
  },
  {
   "cell_type": "code",
   "execution_count": null,
   "id": "6bfa06f9",
   "metadata": {},
   "outputs": [],
   "source": []
  },
  {
   "cell_type": "code",
   "execution_count": null,
   "id": "d07ebf8b",
   "metadata": {},
   "outputs": [],
   "source": []
  },
  {
   "cell_type": "code",
   "execution_count": null,
   "id": "f659733b",
   "metadata": {},
   "outputs": [],
   "source": []
  },
  {
   "cell_type": "code",
   "execution_count": null,
   "id": "8609c365",
   "metadata": {},
   "outputs": [],
   "source": [
    "end_date"
   ]
  },
  {
   "cell_type": "code",
   "execution_count": null,
   "id": "edb471b7",
   "metadata": {},
   "outputs": [],
   "source": [
    "start_date"
   ]
  },
  {
   "cell_type": "code",
   "execution_count": null,
   "id": "4db29db0",
   "metadata": {},
   "outputs": [],
   "source": [
    "import datetime"
   ]
  },
  {
   "cell_type": "code",
   "execution_count": null,
   "id": "8ae18890",
   "metadata": {},
   "outputs": [],
   "source": [
    "current_time = datetime.datetime.today()\n",
    "    # get current time yesterday\n",
    "current_time_yesterday = (current_time - datetime.timedelta(1))\n",
    "    # convert to ISO 8601: YYYY-MM-DDTHH:mm:ssZ\n",
    "    # this is UTC; we are not accounting for german time zone +02:00\n",
    "start_date = f\"{str(current_time_yesterday)[:10]}\"\n",
    "end_date = f\"{str(current_time)[:10]}\""
   ]
  },
  {
   "cell_type": "code",
   "execution_count": null,
   "id": "cdc1bce6",
   "metadata": {},
   "outputs": [],
   "source": [
    "start_date"
   ]
  },
  {
   "cell_type": "code",
   "execution_count": null,
   "id": "13a7b711",
   "metadata": {},
   "outputs": [],
   "source": []
  }
 ],
 "metadata": {
  "kernelspec": {
   "display_name": "Python 3 (ipykernel)",
   "language": "python",
   "name": "python3"
  },
  "language_info": {
   "codemirror_mode": {
    "name": "ipython",
    "version": 3
   },
   "file_extension": ".py",
   "mimetype": "text/x-python",
   "name": "python",
   "nbconvert_exporter": "python",
   "pygments_lexer": "ipython3",
   "version": "3.8.6"
  },
  "toc": {
   "base_numbering": 1,
   "nav_menu": {},
   "number_sections": true,
   "sideBar": true,
   "skip_h1_title": false,
   "title_cell": "Table of Contents",
   "title_sidebar": "Contents",
   "toc_cell": false,
   "toc_position": {},
   "toc_section_display": true,
   "toc_window_display": false
  }
 },
 "nbformat": 4,
 "nbformat_minor": 5
}
