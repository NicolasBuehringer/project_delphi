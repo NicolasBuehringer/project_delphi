{
 "cells": [
  {
   "cell_type": "code",
   "execution_count": 1,
   "id": "d098dc5d",
   "metadata": {},
   "outputs": [
    {
     "name": "stderr",
     "output_type": "stream",
     "text": [
      "2021-09-01 09:09:32.743627: W tensorflow/stream_executor/platform/default/dso_loader.cc:64] Could not load dynamic library 'libcudart.so.11.0'; dlerror: libcudart.so.11.0: cannot open shared object file: No such file or directory\n",
      "2021-09-01 09:09:32.743686: I tensorflow/stream_executor/cuda/cudart_stub.cc:29] Ignore above cudart dlerror if you do not have a GPU set up on your machine.\n"
     ]
    }
   ],
   "source": [
    "from tensorflow import keras\n",
    "import numpy as np\n",
    "import pandas as pd\n",
    "import matplotlib.pyplot as plt\n",
    "import seaborn as sns\n",
    "from keras.layers import Normalization\n",
    "from keras.models import Sequential\n",
    "from keras.layers import Dense, SimpleRNN, Flatten\n",
    "from keras import layers\n",
    "pd.set_option('display.max_rows', 50)\n",
    "from tensorflow.keras import optimizers\n",
    "from tensorflow.keras.callbacks import EarlyStopping \n",
    "\n",
    "import random\n"
   ]
  },
  {
   "cell_type": "code",
   "execution_count": 2,
   "id": "9fde10c7",
   "metadata": {},
   "outputs": [],
   "source": [
    "df_merged = pd.read_csv(\"data_final_20210826_v3.csv\")"
   ]
  },
  {
   "cell_type": "code",
   "execution_count": 3,
   "id": "f661bcee",
   "metadata": {},
   "outputs": [],
   "source": [
    "df_merged = df_merged.iloc[406:]  #294 not bad also 357 not bad"
   ]
  },
  {
   "cell_type": "code",
   "execution_count": 4,
   "id": "89ac5526",
   "metadata": {},
   "outputs": [],
   "source": [
    "df_merged = df_merged.replace(np.nan, 0)"
   ]
  },
  {
   "cell_type": "code",
   "execution_count": 5,
   "id": "2101c88d",
   "metadata": {},
   "outputs": [],
   "source": [
    "df_merged[\"tweet_date\"] = pd.to_datetime(df_merged[\"tweet_date\"])\n",
    "\n",
    "df_merged = df_merged.groupby([pd.Grouper(key='tweet_date',freq='D'), \"party\"]).agg({\n",
    "#     \"reply_count\": \"sum\", \n",
    "    \"retweet_count\": \"sum\",\n",
    "    \"like_count\": \"sum\",\n",
    "#     \"avg_len_of_tweet\": \"mean\" ,\n",
    "#     \"avg_followers_count\": \"mean\" ,\n",
    "#     \"avg_following_count\": \"mean\" ,\n",
    "    \"avg_user_tweet_count\" :\"mean\",\n",
    "    \"avg_ff_ratio\" :\"mean\",\n",
    "    \"share_of_tweets\" :\"mean\",\n",
    "    \"share_unique_users\": \"mean\",\n",
    "    \"weighted_sentiment\" : \"mean\",\n",
    "    \"share_of_positive_tweets\": \"mean\",\n",
    "    \"share_of_negative_tweets\" : \"mean\",\n",
    "    \"poll\": \"mean\"}) "
   ]
  },
  {
   "cell_type": "code",
   "execution_count": 6,
   "id": "ed214bba",
   "metadata": {},
   "outputs": [],
   "source": [
    "df_real_true = df_merged.iloc[-7:]"
   ]
  },
  {
   "cell_type": "code",
   "execution_count": 7,
   "id": "cbd10255",
   "metadata": {},
   "outputs": [
    {
     "data": {
      "text/html": [
       "<div>\n",
       "<style scoped>\n",
       "    .dataframe tbody tr th:only-of-type {\n",
       "        vertical-align: middle;\n",
       "    }\n",
       "\n",
       "    .dataframe tbody tr th {\n",
       "        vertical-align: top;\n",
       "    }\n",
       "\n",
       "    .dataframe thead th {\n",
       "        text-align: right;\n",
       "    }\n",
       "</style>\n",
       "<table border=\"1\" class=\"dataframe\">\n",
       "  <thead>\n",
       "    <tr style=\"text-align: right;\">\n",
       "      <th></th>\n",
       "      <th></th>\n",
       "      <th>retweet_count</th>\n",
       "      <th>like_count</th>\n",
       "      <th>avg_user_tweet_count</th>\n",
       "      <th>avg_ff_ratio</th>\n",
       "      <th>share_of_tweets</th>\n",
       "      <th>share_unique_users</th>\n",
       "      <th>weighted_sentiment</th>\n",
       "      <th>share_of_positive_tweets</th>\n",
       "      <th>share_of_negative_tweets</th>\n",
       "      <th>poll</th>\n",
       "    </tr>\n",
       "    <tr>\n",
       "      <th>tweet_date</th>\n",
       "      <th>party</th>\n",
       "      <th></th>\n",
       "      <th></th>\n",
       "      <th></th>\n",
       "      <th></th>\n",
       "      <th></th>\n",
       "      <th></th>\n",
       "      <th></th>\n",
       "      <th></th>\n",
       "      <th></th>\n",
       "      <th></th>\n",
       "    </tr>\n",
       "  </thead>\n",
       "  <tbody>\n",
       "    <tr>\n",
       "      <th rowspan=\"7\" valign=\"top\">2021-08-26</th>\n",
       "      <th>AFD</th>\n",
       "      <td>7848.0</td>\n",
       "      <td>48207.0</td>\n",
       "      <td>18991.635859</td>\n",
       "      <td>2.629856</td>\n",
       "      <td>0.157708</td>\n",
       "      <td>0.623978</td>\n",
       "      <td>-0.830083</td>\n",
       "      <td>0.047061</td>\n",
       "      <td>0.596667</td>\n",
       "      <td>11.0</td>\n",
       "    </tr>\n",
       "    <tr>\n",
       "      <th>CDU</th>\n",
       "      <td>13120.0</td>\n",
       "      <td>98419.0</td>\n",
       "      <td>22336.432628</td>\n",
       "      <td>4.669491</td>\n",
       "      <td>0.225380</td>\n",
       "      <td>0.646945</td>\n",
       "      <td>-0.370421</td>\n",
       "      <td>0.042647</td>\n",
       "      <td>0.463291</td>\n",
       "      <td>23.0</td>\n",
       "    </tr>\n",
       "    <tr>\n",
       "      <th>FDP</th>\n",
       "      <td>3199.0</td>\n",
       "      <td>29066.0</td>\n",
       "      <td>17960.210457</td>\n",
       "      <td>5.051935</td>\n",
       "      <td>0.110768</td>\n",
       "      <td>0.716828</td>\n",
       "      <td>-0.577197</td>\n",
       "      <td>0.056459</td>\n",
       "      <td>0.527460</td>\n",
       "      <td>12.0</td>\n",
       "    </tr>\n",
       "    <tr>\n",
       "      <th>GRUENE</th>\n",
       "      <td>9063.0</td>\n",
       "      <td>63348.0</td>\n",
       "      <td>20607.243817</td>\n",
       "      <td>6.755195</td>\n",
       "      <td>0.193819</td>\n",
       "      <td>0.638167</td>\n",
       "      <td>-0.149995</td>\n",
       "      <td>0.062775</td>\n",
       "      <td>0.406026</td>\n",
       "      <td>18.0</td>\n",
       "    </tr>\n",
       "    <tr>\n",
       "      <th>LINKE</th>\n",
       "      <td>713.0</td>\n",
       "      <td>5282.0</td>\n",
       "      <td>20400.862207</td>\n",
       "      <td>1.407351</td>\n",
       "      <td>0.036379</td>\n",
       "      <td>0.590635</td>\n",
       "      <td>-0.134164</td>\n",
       "      <td>0.060201</td>\n",
       "      <td>0.400669</td>\n",
       "      <td>7.0</td>\n",
       "    </tr>\n",
       "    <tr>\n",
       "      <th>OTHER</th>\n",
       "      <td>2166.0</td>\n",
       "      <td>11618.0</td>\n",
       "      <td>14171.402579</td>\n",
       "      <td>2.100457</td>\n",
       "      <td>0.050955</td>\n",
       "      <td>0.579752</td>\n",
       "      <td>-0.129097</td>\n",
       "      <td>0.087393</td>\n",
       "      <td>0.409742</td>\n",
       "      <td>6.0</td>\n",
       "    </tr>\n",
       "    <tr>\n",
       "      <th>SPD</th>\n",
       "      <td>10807.0</td>\n",
       "      <td>89094.0</td>\n",
       "      <td>25279.190893</td>\n",
       "      <td>7.011461</td>\n",
       "      <td>0.224991</td>\n",
       "      <td>0.617673</td>\n",
       "      <td>-0.255832</td>\n",
       "      <td>0.073221</td>\n",
       "      <td>0.443543</td>\n",
       "      <td>23.0</td>\n",
       "    </tr>\n",
       "  </tbody>\n",
       "</table>\n",
       "</div>"
      ],
      "text/plain": [
       "                   retweet_count  like_count  avg_user_tweet_count  \\\n",
       "tweet_date party                                                     \n",
       "2021-08-26 AFD            7848.0     48207.0          18991.635859   \n",
       "           CDU           13120.0     98419.0          22336.432628   \n",
       "           FDP            3199.0     29066.0          17960.210457   \n",
       "           GRUENE         9063.0     63348.0          20607.243817   \n",
       "           LINKE           713.0      5282.0          20400.862207   \n",
       "           OTHER          2166.0     11618.0          14171.402579   \n",
       "           SPD           10807.0     89094.0          25279.190893   \n",
       "\n",
       "                   avg_ff_ratio  share_of_tweets  share_unique_users  \\\n",
       "tweet_date party                                                       \n",
       "2021-08-26 AFD         2.629856         0.157708            0.623978   \n",
       "           CDU         4.669491         0.225380            0.646945   \n",
       "           FDP         5.051935         0.110768            0.716828   \n",
       "           GRUENE      6.755195         0.193819            0.638167   \n",
       "           LINKE       1.407351         0.036379            0.590635   \n",
       "           OTHER       2.100457         0.050955            0.579752   \n",
       "           SPD         7.011461         0.224991            0.617673   \n",
       "\n",
       "                   weighted_sentiment  share_of_positive_tweets  \\\n",
       "tweet_date party                                                  \n",
       "2021-08-26 AFD              -0.830083                  0.047061   \n",
       "           CDU              -0.370421                  0.042647   \n",
       "           FDP              -0.577197                  0.056459   \n",
       "           GRUENE           -0.149995                  0.062775   \n",
       "           LINKE            -0.134164                  0.060201   \n",
       "           OTHER            -0.129097                  0.087393   \n",
       "           SPD              -0.255832                  0.073221   \n",
       "\n",
       "                   share_of_negative_tweets  poll  \n",
       "tweet_date party                                   \n",
       "2021-08-26 AFD                     0.596667  11.0  \n",
       "           CDU                     0.463291  23.0  \n",
       "           FDP                     0.527460  12.0  \n",
       "           GRUENE                  0.406026  18.0  \n",
       "           LINKE                   0.400669   7.0  \n",
       "           OTHER                   0.409742   6.0  \n",
       "           SPD                     0.443543  23.0  "
      ]
     },
     "execution_count": 7,
     "metadata": {},
     "output_type": "execute_result"
    }
   ],
   "source": [
    "df_real_true"
   ]
  },
  {
   "cell_type": "code",
   "execution_count": 8,
   "id": "97eb8322",
   "metadata": {},
   "outputs": [],
   "source": [
    "df_merged = df_merged.iloc[:-7]"
   ]
  },
  {
   "cell_type": "code",
   "execution_count": 9,
   "id": "1e49f617",
   "metadata": {},
   "outputs": [],
   "source": [
    "df_merged_final_test = df_merged.iloc[-14:]"
   ]
  },
  {
   "cell_type": "code",
   "execution_count": 10,
   "id": "0996c8ba",
   "metadata": {},
   "outputs": [],
   "source": [
    "df_merged_final = df_merged.iloc[:-7]"
   ]
  },
  {
   "cell_type": "code",
   "execution_count": null,
   "id": "a830e310",
   "metadata": {},
   "outputs": [],
   "source": []
  },
  {
   "cell_type": "code",
   "execution_count": 11,
   "id": "cb214f41",
   "metadata": {},
   "outputs": [],
   "source": [
    "num_features = [ \"retweet_count\", \"like_count\", \"avg_user_tweet_count\",\"avg_ff_ratio\"]\n",
    "remaing_columns = [\"share_of_tweets\",\"share_unique_users\",\"weighted_sentiment\",\"share_of_positive_tweets\",\"share_of_negative_tweets\"]"
   ]
  },
  {
   "cell_type": "code",
   "execution_count": 12,
   "id": "cd65b9b4",
   "metadata": {},
   "outputs": [],
   "source": [
    "from sklearn.preprocessing import MinMaxScaler\n",
    "\n",
    "mm_scaler = MinMaxScaler()\n",
    "\n",
    "mm_scaler.fit(df_merged_final[num_features])\n",
    "\n",
    "numerical_train_scaled = mm_scaler.transform(df_merged_final[num_features])\n",
    "numerical_test_scaled = mm_scaler.transform(df_merged_final_test[num_features])"
   ]
  },
  {
   "cell_type": "code",
   "execution_count": 13,
   "id": "7d1d5a3c",
   "metadata": {},
   "outputs": [],
   "source": [
    "df_merged_poll = df_merged_final[\"poll\"] / 100\n",
    "df_merged_poll_test = df_merged_final_test[\"poll\"] / 100"
   ]
  },
  {
   "cell_type": "code",
   "execution_count": 14,
   "id": "31360ef4",
   "metadata": {},
   "outputs": [],
   "source": [
    "df_numerical_train_scaled = pd.DataFrame(numerical_train_scaled, columns = num_features, index = df_merged_final.index)\n"
   ]
  },
  {
   "cell_type": "code",
   "execution_count": 15,
   "id": "0ec54b49",
   "metadata": {},
   "outputs": [],
   "source": [
    "df_train_scaled = pd.concat([df_numerical_train_scaled,df_merged_final[remaing_columns], pd.DataFrame(df_merged_poll, columns = [\"poll\"], index = df_merged_final.index)] , axis = 1)"
   ]
  },
  {
   "cell_type": "code",
   "execution_count": null,
   "id": "f30d615e",
   "metadata": {},
   "outputs": [],
   "source": []
  },
  {
   "cell_type": "code",
   "execution_count": 16,
   "id": "87d8cee6",
   "metadata": {},
   "outputs": [],
   "source": [
    "df_test_scaled = pd.concat([pd.DataFrame(numerical_test_scaled, columns = num_features, index = df_merged_final_test.index),df_merged_final_test[remaing_columns], pd.DataFrame(df_merged_poll_test, columns = [\"poll\"], index = df_merged_final_test.index)] , axis = 1)"
   ]
  },
  {
   "cell_type": "code",
   "execution_count": 17,
   "id": "cfee585c",
   "metadata": {},
   "outputs": [],
   "source": [
    "def subsequence(df, length, start = 0):\n",
    "    last_possible_start = len(df) - length \n",
    "    X = df[start:start + length]\n",
    "    y = df[\"poll\"][(start + length ) : (start + length + 7)]\n",
    "    \n",
    "    return X, y"
   ]
  },
  {
   "cell_type": "code",
   "execution_count": 18,
   "id": "deccfa2c",
   "metadata": {},
   "outputs": [],
   "source": [
    "def multiple_subsequences(df, length):\n",
    "    \n",
    "    list_of_X = []\n",
    "    list_of_y = []\n",
    "    \n",
    "    number_of_subsequences = round(len(df) /  7 - (length/7))\n",
    "    print(number_of_subsequences)\n",
    "    start = 0\n",
    "    for num in range(number_of_subsequences):\n",
    "        temporary_X, temporary_y = subsequence(df, length, start)\n",
    "        list_of_X.append(temporary_X)\n",
    "        list_of_y.append(temporary_y)\n",
    "        start = start + 7\n",
    "    \n",
    "    return list_of_X, list_of_y\n",
    "\n",
    "    \n",
    "    \n",
    "    "
   ]
  },
  {
   "cell_type": "code",
   "execution_count": 19,
   "id": "b482b9c8",
   "metadata": {},
   "outputs": [
    {
     "name": "stdout",
     "output_type": "stream",
     "text": [
      "29\n"
     ]
    }
   ],
   "source": [
    "X_train , y_train = multiple_subsequences(pd.DataFrame(df_train_scaled), 28 )\n",
    "# X_test , y_test = multiple_subsequences(df_test_scaled, 35)"
   ]
  },
  {
   "cell_type": "code",
   "execution_count": 20,
   "id": "9a30b20b",
   "metadata": {},
   "outputs": [
    {
     "data": {
      "text/plain": [
       "33.0"
      ]
     },
     "execution_count": 20,
     "metadata": {},
     "output_type": "execute_result"
    }
   ],
   "source": [
    "(df_train_scaled.shape[0]/ 7)"
   ]
  },
  {
   "cell_type": "code",
   "execution_count": null,
   "id": "9ad891ff",
   "metadata": {},
   "outputs": [],
   "source": []
  },
  {
   "cell_type": "code",
   "execution_count": null,
   "id": "620c08fe",
   "metadata": {
    "scrolled": true
   },
   "outputs": [],
   "source": []
  },
  {
   "cell_type": "code",
   "execution_count": null,
   "id": "6e4abc69",
   "metadata": {},
   "outputs": [],
   "source": []
  },
  {
   "cell_type": "code",
   "execution_count": 21,
   "id": "0793a1be",
   "metadata": {
    "scrolled": true
   },
   "outputs": [],
   "source": [
    "X_train = np.array(X_train)\n",
    "# X_test = np.array(X_test)\n",
    "y_train = np.array(y_train)\n",
    "# y_test = np.array(y_test)\n"
   ]
  },
  {
   "cell_type": "code",
   "execution_count": null,
   "id": "d775188c",
   "metadata": {},
   "outputs": [],
   "source": []
  },
  {
   "cell_type": "code",
   "execution_count": 23,
   "id": "883db39d",
   "metadata": {},
   "outputs": [
    {
     "name": "stderr",
     "output_type": "stream",
     "text": [
      "2021-09-01 09:09:40.570433: W tensorflow/stream_executor/platform/default/dso_loader.cc:64] Could not load dynamic library 'libcuda.so.1'; dlerror: libcuda.so.1: cannot open shared object file: No such file or directory\n",
      "2021-09-01 09:09:40.570508: W tensorflow/stream_executor/cuda/cuda_driver.cc:269] failed call to cuInit: UNKNOWN ERROR (303)\n",
      "2021-09-01 09:09:40.570538: I tensorflow/stream_executor/cuda/cuda_diagnostics.cc:156] kernel driver does not appear to be running on this host (LAPTOP-69AIGBNI): /proc/driver/nvidia/version does not exist\n",
      "2021-09-01 09:09:40.570903: I tensorflow/core/platform/cpu_feature_guard.cc:142] This TensorFlow binary is optimized with oneAPI Deep Neural Network Library (oneDNN) to use the following CPU instructions in performance-critical operations:  AVX2 AVX512F FMA\n",
      "To enable them in other operations, rebuild TensorFlow with the appropriate compiler flags.\n"
     ]
    }
   ],
   "source": [
    "model = Sequential()\n",
    "# model.add(layers.Masking(mask_value=-9999, input_shape=X_train[0].shape))\n",
    "model.add(layers.GRU(units=128, activation='tanh', return_sequences=True))\n",
    "model.add(layers.GRU(units=64, activation='tanh', return_sequences=False))\n",
    "model.add(layers.Dense(32, activation='relu'))\n",
    "model.add(layers.Dense(7, activation='linear'))\n"
   ]
  },
  {
   "cell_type": "code",
   "execution_count": 24,
   "id": "79659774",
   "metadata": {},
   "outputs": [
    {
     "name": "stderr",
     "output_type": "stream",
     "text": [
      "2021-09-01 09:09:40.804973: I tensorflow/compiler/mlir/mlir_graph_optimization_pass.cc:185] None of the MLIR Optimization Passes are enabled (registered 2)\n"
     ]
    },
    {
     "name": "stdout",
     "output_type": "stream",
     "text": [
      "Epoch 1/40\n",
      "23/23 [==============================] - 3s 39ms/step - loss: 0.0038 - mae: 0.0426 - val_loss: 4.2166e-04 - val_mae: 0.0165\n",
      "Epoch 2/40\n",
      "23/23 [==============================] - 0s 15ms/step - loss: 4.8001e-04 - mae: 0.0178 - val_loss: 2.1840e-04 - val_mae: 0.0130\n",
      "Epoch 3/40\n",
      "23/23 [==============================] - 0s 15ms/step - loss: 4.9472e-04 - mae: 0.0173 - val_loss: 2.7491e-04 - val_mae: 0.0134\n",
      "Epoch 4/40\n",
      "23/23 [==============================] - 0s 17ms/step - loss: 2.7201e-04 - mae: 0.0127 - val_loss: 2.3358e-04 - val_mae: 0.0115\n",
      "Epoch 5/40\n",
      "23/23 [==============================] - 0s 16ms/step - loss: 2.1250e-04 - mae: 0.0112 - val_loss: 2.3003e-04 - val_mae: 0.0116\n",
      "Epoch 6/40\n",
      "23/23 [==============================] - 0s 16ms/step - loss: 2.0965e-04 - mae: 0.0111 - val_loss: 2.4282e-04 - val_mae: 0.0121\n",
      "Epoch 7/40\n",
      "23/23 [==============================] - 0s 16ms/step - loss: 2.0860e-04 - mae: 0.0111 - val_loss: 2.4229e-04 - val_mae: 0.0121\n",
      "Epoch 8/40\n",
      "23/23 [==============================] - 0s 15ms/step - loss: 2.1387e-04 - mae: 0.0112 - val_loss: 2.3855e-04 - val_mae: 0.0121\n",
      "Epoch 9/40\n",
      "23/23 [==============================] - 0s 15ms/step - loss: 2.3029e-04 - mae: 0.0116 - val_loss: 2.3409e-04 - val_mae: 0.0120\n",
      "Epoch 10/40\n",
      "23/23 [==============================] - 0s 15ms/step - loss: 2.6337e-04 - mae: 0.0126 - val_loss: 2.4656e-04 - val_mae: 0.0121\n",
      "Epoch 11/40\n",
      "23/23 [==============================] - 0s 15ms/step - loss: 3.1506e-04 - mae: 0.0139 - val_loss: 3.6469e-04 - val_mae: 0.0145\n",
      "Epoch 12/40\n",
      "23/23 [==============================] - 0s 15ms/step - loss: 3.4595e-04 - mae: 0.0147 - val_loss: 4.6506e-04 - val_mae: 0.0162\n",
      "Epoch 13/40\n",
      "23/23 [==============================] - 0s 15ms/step - loss: 3.3582e-04 - mae: 0.0146 - val_loss: 2.0583e-04 - val_mae: 0.0116\n",
      "Epoch 14/40\n",
      "23/23 [==============================] - 0s 17ms/step - loss: 2.5687e-04 - mae: 0.0129 - val_loss: 3.3224e-04 - val_mae: 0.0135\n",
      "Epoch 15/40\n",
      "23/23 [==============================] - 0s 17ms/step - loss: 2.0972e-04 - mae: 0.0112 - val_loss: 2.7688e-04 - val_mae: 0.0117\n",
      "Epoch 16/40\n",
      "23/23 [==============================] - 0s 16ms/step - loss: 1.7703e-04 - mae: 0.0100 - val_loss: 2.1389e-04 - val_mae: 0.0108\n",
      "Epoch 17/40\n",
      "23/23 [==============================] - 0s 16ms/step - loss: 1.8213e-04 - mae: 0.0104 - val_loss: 2.2011e-04 - val_mae: 0.0111\n",
      "Epoch 18/40\n",
      "23/23 [==============================] - 0s 16ms/step - loss: 1.8307e-04 - mae: 0.0103 - val_loss: 2.7857e-04 - val_mae: 0.0125\n",
      "Epoch 19/40\n",
      "23/23 [==============================] - 0s 15ms/step - loss: 1.7082e-04 - mae: 0.0100 - val_loss: 2.7853e-04 - val_mae: 0.0121\n",
      "Epoch 20/40\n",
      "23/23 [==============================] - 0s 15ms/step - loss: 1.6786e-04 - mae: 0.0099 - val_loss: 2.7691e-04 - val_mae: 0.0123\n",
      "Epoch 21/40\n",
      "23/23 [==============================] - 0s 17ms/step - loss: 1.5683e-04 - mae: 0.0096 - val_loss: 2.7476e-04 - val_mae: 0.0123\n",
      "Epoch 22/40\n",
      "23/23 [==============================] - 0s 15ms/step - loss: 1.4098e-04 - mae: 0.0092 - val_loss: 2.5355e-04 - val_mae: 0.0114\n",
      "Epoch 23/40\n",
      "23/23 [==============================] - 0s 15ms/step - loss: 1.3286e-04 - mae: 0.0088 - val_loss: 2.3107e-04 - val_mae: 0.0104\n",
      "Epoch 24/40\n",
      "23/23 [==============================] - 0s 16ms/step - loss: 1.2822e-04 - mae: 0.0085 - val_loss: 2.3398e-04 - val_mae: 0.0104\n",
      "Epoch 25/40\n",
      "23/23 [==============================] - 0s 21ms/step - loss: 1.2063e-04 - mae: 0.0083 - val_loss: 2.2734e-04 - val_mae: 0.0103\n",
      "Epoch 26/40\n",
      "23/23 [==============================] - 0s 21ms/step - loss: 1.2022e-04 - mae: 0.0082 - val_loss: 2.2712e-04 - val_mae: 0.0103\n",
      "Epoch 27/40\n",
      "23/23 [==============================] - 0s 21ms/step - loss: 1.2140e-04 - mae: 0.0084 - val_loss: 2.1424e-04 - val_mae: 0.0103\n",
      "Epoch 28/40\n",
      "23/23 [==============================] - 1s 22ms/step - loss: 1.3023e-04 - mae: 0.0085 - val_loss: 2.2492e-04 - val_mae: 0.0111\n",
      "Epoch 29/40\n",
      "23/23 [==============================] - 0s 21ms/step - loss: 1.3456e-04 - mae: 0.0087 - val_loss: 2.0790e-04 - val_mae: 0.0107\n",
      "Epoch 30/40\n",
      "23/23 [==============================] - 1s 22ms/step - loss: 1.4832e-04 - mae: 0.0090 - val_loss: 2.1243e-04 - val_mae: 0.0112\n",
      "Epoch 31/40\n",
      "23/23 [==============================] - 1s 22ms/step - loss: 1.5535e-04 - mae: 0.0090 - val_loss: 1.8580e-04 - val_mae: 0.0104\n",
      "Epoch 32/40\n",
      "23/23 [==============================] - 1s 22ms/step - loss: 1.8307e-04 - mae: 0.0098 - val_loss: 2.1059e-04 - val_mae: 0.0115\n",
      "Epoch 33/40\n",
      "23/23 [==============================] - 1s 22ms/step - loss: 1.9602e-04 - mae: 0.0099 - val_loss: 1.7493e-04 - val_mae: 0.0102\n",
      "Epoch 34/40\n",
      "23/23 [==============================] - 1s 26ms/step - loss: 2.4815e-04 - mae: 0.0106 - val_loss: 2.6957e-04 - val_mae: 0.0125\n",
      "Epoch 35/40\n",
      "23/23 [==============================] - 1s 23ms/step - loss: 1.6739e-04 - mae: 0.0091 - val_loss: 1.5077e-04 - val_mae: 0.0093\n",
      "Epoch 36/40\n",
      "23/23 [==============================] - 0s 21ms/step - loss: 2.4077e-04 - mae: 0.0109 - val_loss: 2.7086e-04 - val_mae: 0.0121\n",
      "Epoch 37/40\n",
      "23/23 [==============================] - 0s 21ms/step - loss: 2.1633e-04 - mae: 0.0106 - val_loss: 1.7166e-04 - val_mae: 0.0105\n",
      "Epoch 38/40\n",
      "23/23 [==============================] - 1s 22ms/step - loss: 2.5105e-04 - mae: 0.0119 - val_loss: 2.2567e-04 - val_mae: 0.0122\n",
      "Epoch 39/40\n",
      "23/23 [==============================] - 0s 21ms/step - loss: 2.8249e-04 - mae: 0.0129 - val_loss: 2.8762e-04 - val_mae: 0.0139\n",
      "Epoch 40/40\n",
      "23/23 [==============================] - 0s 22ms/step - loss: 1.8549e-04 - mae: 0.0102 - val_loss: 1.9041e-04 - val_mae: 0.0112\n",
      "CPU times: user 34.5 s, sys: 11.5 s, total: 46.1 s\n",
      "Wall time: 19.5 s\n"
     ]
    }
   ],
   "source": [
    "%%time\n",
    "\n",
    "es = EarlyStopping(patience = 3, restore_best_weights=True)\n",
    "\n",
    "\n",
    "model.compile(loss='mse', optimizer='adam', metrics=['mae'])\n",
    "\n",
    "history = model.fit(X_train, y_train ,\n",
    "          epochs=40, \n",
    "          batch_size=1, \n",
    "          verbose=1, \n",
    "          validation_split=0.2,\n",
    "          shuffle = False\n",
    "     )\n",
    "\n"
   ]
  },
  {
   "cell_type": "code",
   "execution_count": 25,
   "id": "5e9727d4",
   "metadata": {},
   "outputs": [
    {
     "data": {
      "text/html": [
       "<div>\n",
       "<style scoped>\n",
       "    .dataframe tbody tr th:only-of-type {\n",
       "        vertical-align: middle;\n",
       "    }\n",
       "\n",
       "    .dataframe tbody tr th {\n",
       "        vertical-align: top;\n",
       "    }\n",
       "\n",
       "    .dataframe thead th {\n",
       "        text-align: right;\n",
       "    }\n",
       "</style>\n",
       "<table border=\"1\" class=\"dataframe\">\n",
       "  <thead>\n",
       "    <tr style=\"text-align: right;\">\n",
       "      <th></th>\n",
       "      <th></th>\n",
       "      <th>retweet_count</th>\n",
       "      <th>like_count</th>\n",
       "      <th>avg_user_tweet_count</th>\n",
       "      <th>avg_ff_ratio</th>\n",
       "      <th>share_of_tweets</th>\n",
       "      <th>share_unique_users</th>\n",
       "      <th>weighted_sentiment</th>\n",
       "      <th>share_of_positive_tweets</th>\n",
       "      <th>share_of_negative_tweets</th>\n",
       "      <th>poll</th>\n",
       "    </tr>\n",
       "    <tr>\n",
       "      <th>tweet_date</th>\n",
       "      <th>party</th>\n",
       "      <th></th>\n",
       "      <th></th>\n",
       "      <th></th>\n",
       "      <th></th>\n",
       "      <th></th>\n",
       "      <th></th>\n",
       "      <th></th>\n",
       "      <th></th>\n",
       "      <th></th>\n",
       "      <th></th>\n",
       "    </tr>\n",
       "  </thead>\n",
       "  <tbody>\n",
       "    <tr>\n",
       "      <th rowspan=\"7\" valign=\"top\">2021-08-25</th>\n",
       "      <th>AFD</th>\n",
       "      <td>0.312997</td>\n",
       "      <td>0.240878</td>\n",
       "      <td>0.116577</td>\n",
       "      <td>0.150541</td>\n",
       "      <td>0.142871</td>\n",
       "      <td>0.610545</td>\n",
       "      <td>-0.837779</td>\n",
       "      <td>0.048682</td>\n",
       "      <td>0.600921</td>\n",
       "      <td>0.120</td>\n",
       "    </tr>\n",
       "    <tr>\n",
       "      <th>CDU</th>\n",
       "      <td>0.357184</td>\n",
       "      <td>0.378131</td>\n",
       "      <td>0.206661</td>\n",
       "      <td>0.346532</td>\n",
       "      <td>0.259018</td>\n",
       "      <td>0.608679</td>\n",
       "      <td>-0.452031</td>\n",
       "      <td>0.044395</td>\n",
       "      <td>0.484189</td>\n",
       "      <td>0.225</td>\n",
       "    </tr>\n",
       "    <tr>\n",
       "      <th>FDP</th>\n",
       "      <td>0.056263</td>\n",
       "      <td>0.071139</td>\n",
       "      <td>0.101904</td>\n",
       "      <td>0.337862</td>\n",
       "      <td>0.093089</td>\n",
       "      <td>0.715478</td>\n",
       "      <td>-0.515992</td>\n",
       "      <td>0.055877</td>\n",
       "      <td>0.513595</td>\n",
       "      <td>0.125</td>\n",
       "    </tr>\n",
       "    <tr>\n",
       "      <th>GRUENE</th>\n",
       "      <td>0.330421</td>\n",
       "      <td>0.288473</td>\n",
       "      <td>0.178140</td>\n",
       "      <td>0.248616</td>\n",
       "      <td>0.236578</td>\n",
       "      <td>0.584365</td>\n",
       "      <td>-0.190728</td>\n",
       "      <td>0.061242</td>\n",
       "      <td>0.418162</td>\n",
       "      <td>0.175</td>\n",
       "    </tr>\n",
       "    <tr>\n",
       "      <th>LINKE</th>\n",
       "      <td>0.035299</td>\n",
       "      <td>0.036964</td>\n",
       "      <td>0.403592</td>\n",
       "      <td>0.286147</td>\n",
       "      <td>0.046913</td>\n",
       "      <td>0.550127</td>\n",
       "      <td>-0.059278</td>\n",
       "      <td>0.050127</td>\n",
       "      <td>0.375956</td>\n",
       "      <td>0.070</td>\n",
       "    </tr>\n",
       "    <tr>\n",
       "      <th>OTHER</th>\n",
       "      <td>0.046999</td>\n",
       "      <td>0.035793</td>\n",
       "      <td>0.047621</td>\n",
       "      <td>0.184260</td>\n",
       "      <td>0.046295</td>\n",
       "      <td>0.560913</td>\n",
       "      <td>-0.058430</td>\n",
       "      <td>0.083082</td>\n",
       "      <td>0.385278</td>\n",
       "      <td>0.075</td>\n",
       "    </tr>\n",
       "    <tr>\n",
       "      <th>SPD</th>\n",
       "      <td>0.417790</td>\n",
       "      <td>0.290950</td>\n",
       "      <td>0.293910</td>\n",
       "      <td>0.537251</td>\n",
       "      <td>0.175236</td>\n",
       "      <td>0.662231</td>\n",
       "      <td>-0.401099</td>\n",
       "      <td>0.050722</td>\n",
       "      <td>0.475037</td>\n",
       "      <td>0.215</td>\n",
       "    </tr>\n",
       "  </tbody>\n",
       "</table>\n",
       "</div>"
      ],
      "text/plain": [
       "                   retweet_count  like_count  avg_user_tweet_count  \\\n",
       "tweet_date party                                                     \n",
       "2021-08-25 AFD          0.312997    0.240878              0.116577   \n",
       "           CDU          0.357184    0.378131              0.206661   \n",
       "           FDP          0.056263    0.071139              0.101904   \n",
       "           GRUENE       0.330421    0.288473              0.178140   \n",
       "           LINKE        0.035299    0.036964              0.403592   \n",
       "           OTHER        0.046999    0.035793              0.047621   \n",
       "           SPD          0.417790    0.290950              0.293910   \n",
       "\n",
       "                   avg_ff_ratio  share_of_tweets  share_unique_users  \\\n",
       "tweet_date party                                                       \n",
       "2021-08-25 AFD         0.150541         0.142871            0.610545   \n",
       "           CDU         0.346532         0.259018            0.608679   \n",
       "           FDP         0.337862         0.093089            0.715478   \n",
       "           GRUENE      0.248616         0.236578            0.584365   \n",
       "           LINKE       0.286147         0.046913            0.550127   \n",
       "           OTHER       0.184260         0.046295            0.560913   \n",
       "           SPD         0.537251         0.175236            0.662231   \n",
       "\n",
       "                   weighted_sentiment  share_of_positive_tweets  \\\n",
       "tweet_date party                                                  \n",
       "2021-08-25 AFD              -0.837779                  0.048682   \n",
       "           CDU              -0.452031                  0.044395   \n",
       "           FDP              -0.515992                  0.055877   \n",
       "           GRUENE           -0.190728                  0.061242   \n",
       "           LINKE            -0.059278                  0.050127   \n",
       "           OTHER            -0.058430                  0.083082   \n",
       "           SPD              -0.401099                  0.050722   \n",
       "\n",
       "                   share_of_negative_tweets   poll  \n",
       "tweet_date party                                    \n",
       "2021-08-25 AFD                     0.600921  0.120  \n",
       "           CDU                     0.484189  0.225  \n",
       "           FDP                     0.513595  0.125  \n",
       "           GRUENE                  0.418162  0.175  \n",
       "           LINKE                   0.375956  0.070  \n",
       "           OTHER                   0.385278  0.075  \n",
       "           SPD                     0.475037  0.215  "
      ]
     },
     "execution_count": 25,
     "metadata": {},
     "output_type": "execute_result"
    }
   ],
   "source": [
    "df_test_scaled[7:]"
   ]
  },
  {
   "cell_type": "code",
   "execution_count": 26,
   "id": "da93a8b1",
   "metadata": {},
   "outputs": [],
   "source": [
    "df_merged_final_day = np.array(df_test_scaled)\n",
    "df_merged_final_day = np.expand_dims(df_merged_final_day, axis = 0)"
   ]
  },
  {
   "cell_type": "code",
   "execution_count": 27,
   "id": "e41b7b8d",
   "metadata": {},
   "outputs": [
    {
     "data": {
      "text/html": [
       "<div>\n",
       "<style scoped>\n",
       "    .dataframe tbody tr th:only-of-type {\n",
       "        vertical-align: middle;\n",
       "    }\n",
       "\n",
       "    .dataframe tbody tr th {\n",
       "        vertical-align: top;\n",
       "    }\n",
       "\n",
       "    .dataframe thead th {\n",
       "        text-align: right;\n",
       "    }\n",
       "</style>\n",
       "<table border=\"1\" class=\"dataframe\">\n",
       "  <thead>\n",
       "    <tr style=\"text-align: right;\">\n",
       "      <th></th>\n",
       "      <th>AFD</th>\n",
       "      <th>CDU</th>\n",
       "      <th>FDP</th>\n",
       "      <th>GRUENE</th>\n",
       "      <th>LINKE</th>\n",
       "      <th>OTHER</th>\n",
       "      <th>SPD</th>\n",
       "    </tr>\n",
       "  </thead>\n",
       "  <tbody>\n",
       "    <tr>\n",
       "      <th>pred</th>\n",
       "      <td>0.103</td>\n",
       "      <td>0.201</td>\n",
       "      <td>0.098</td>\n",
       "      <td>0.186</td>\n",
       "      <td>0.068</td>\n",
       "      <td>0.075</td>\n",
       "      <td>0.2</td>\n",
       "    </tr>\n",
       "  </tbody>\n",
       "</table>\n",
       "</div>"
      ],
      "text/plain": [
       "        AFD    CDU    FDP  GRUENE  LINKE  OTHER  SPD\n",
       "pred  0.103  0.201  0.098   0.186  0.068  0.075  0.2"
      ]
     },
     "execution_count": 27,
     "metadata": {},
     "output_type": "execute_result"
    }
   ],
   "source": [
    "df_prediction = pd.DataFrame(model.predict(df_merged_final_day)).rename( \\\n",
    "                        columns = {0:'AFD',1:'CDU',2:'FDP',3: 'GRUENE',4: 'LINKE', 5:'OTHER', 6: 'SPD'}).round(3)\n",
    "df_prediction.index = [\"pred\"]\n",
    "\n",
    "df_prediction"
   ]
  },
  {
   "cell_type": "code",
   "execution_count": 28,
   "id": "11c04814",
   "metadata": {},
   "outputs": [],
   "source": [
    "df_prediction_2 = pd.DataFrame((df_prediction.iloc[0]) / np.sum(df_prediction.iloc[0])).T\n",
    "df_prediction_2 = df_prediction_2.round(4)"
   ]
  },
  {
   "cell_type": "code",
   "execution_count": 29,
   "id": "dde5f254",
   "metadata": {},
   "outputs": [
    {
     "data": {
      "text/html": [
       "<div>\n",
       "<style scoped>\n",
       "    .dataframe tbody tr th:only-of-type {\n",
       "        vertical-align: middle;\n",
       "    }\n",
       "\n",
       "    .dataframe tbody tr th {\n",
       "        vertical-align: top;\n",
       "    }\n",
       "\n",
       "    .dataframe thead th {\n",
       "        text-align: right;\n",
       "    }\n",
       "</style>\n",
       "<table border=\"1\" class=\"dataframe\">\n",
       "  <thead>\n",
       "    <tr style=\"text-align: right;\">\n",
       "      <th></th>\n",
       "      <th>AFD</th>\n",
       "      <th>CDU</th>\n",
       "      <th>FDP</th>\n",
       "      <th>GRUENE</th>\n",
       "      <th>LINKE</th>\n",
       "      <th>OTHER</th>\n",
       "      <th>SPD</th>\n",
       "    </tr>\n",
       "  </thead>\n",
       "  <tbody>\n",
       "    <tr>\n",
       "      <th>pred</th>\n",
       "      <td>0.1106</td>\n",
       "      <td>0.2159</td>\n",
       "      <td>0.1053</td>\n",
       "      <td>0.1998</td>\n",
       "      <td>0.073</td>\n",
       "      <td>0.0806</td>\n",
       "      <td>0.2148</td>\n",
       "    </tr>\n",
       "  </tbody>\n",
       "</table>\n",
       "</div>"
      ],
      "text/plain": [
       "         AFD     CDU     FDP  GRUENE  LINKE   OTHER     SPD\n",
       "pred  0.1106  0.2159  0.1053  0.1998  0.073  0.0806  0.2148"
      ]
     },
     "execution_count": 29,
     "metadata": {},
     "output_type": "execute_result"
    }
   ],
   "source": [
    "df_prediction_2"
   ]
  },
  {
   "cell_type": "code",
   "execution_count": 30,
   "id": "a7be0306",
   "metadata": {},
   "outputs": [],
   "source": [
    "df_true = pd.DataFrame(df_real_true[\"poll\"]).T/100"
   ]
  },
  {
   "cell_type": "code",
   "execution_count": 31,
   "id": "64083bad",
   "metadata": {},
   "outputs": [],
   "source": [
    "df_true = pd.DataFrame(df_true.iloc[0]).reset_index().groupby(by = \"party\").mean().T"
   ]
  },
  {
   "cell_type": "code",
   "execution_count": 32,
   "id": "ff76c491",
   "metadata": {},
   "outputs": [
    {
     "data": {
      "text/html": [
       "<div>\n",
       "<style scoped>\n",
       "    .dataframe tbody tr th:only-of-type {\n",
       "        vertical-align: middle;\n",
       "    }\n",
       "\n",
       "    .dataframe tbody tr th {\n",
       "        vertical-align: top;\n",
       "    }\n",
       "\n",
       "    .dataframe thead th {\n",
       "        text-align: right;\n",
       "    }\n",
       "</style>\n",
       "<table border=\"1\" class=\"dataframe\">\n",
       "  <thead>\n",
       "    <tr style=\"text-align: right;\">\n",
       "      <th>party</th>\n",
       "      <th>AFD</th>\n",
       "      <th>CDU</th>\n",
       "      <th>FDP</th>\n",
       "      <th>GRUENE</th>\n",
       "      <th>LINKE</th>\n",
       "      <th>OTHER</th>\n",
       "      <th>SPD</th>\n",
       "    </tr>\n",
       "  </thead>\n",
       "  <tbody>\n",
       "    <tr>\n",
       "      <th>poll</th>\n",
       "      <td>0.11</td>\n",
       "      <td>0.23</td>\n",
       "      <td>0.12</td>\n",
       "      <td>0.18</td>\n",
       "      <td>0.07</td>\n",
       "      <td>0.06</td>\n",
       "      <td>0.23</td>\n",
       "    </tr>\n",
       "  </tbody>\n",
       "</table>\n",
       "</div>"
      ],
      "text/plain": [
       "party   AFD   CDU   FDP  GRUENE  LINKE  OTHER   SPD\n",
       "poll   0.11  0.23  0.12    0.18   0.07   0.06  0.23"
      ]
     },
     "execution_count": 32,
     "metadata": {},
     "output_type": "execute_result"
    }
   ],
   "source": [
    "df_true"
   ]
  },
  {
   "cell_type": "code",
   "execution_count": null,
   "id": "1bd86a56",
   "metadata": {},
   "outputs": [],
   "source": []
  },
  {
   "cell_type": "code",
   "execution_count": 38,
   "id": "32d63618",
   "metadata": {},
   "outputs": [],
   "source": [
    "df_plotting_spd = df_train_scaled.reset_index().loc[df_train_scaled.reset_index()[\"party\"] == \"SPD\"].drop(columns = \"party\")\n",
    "df_plotting_cdu = df_train_scaled.reset_index().loc[df_train_scaled.reset_index()[\"party\"] == \"CDU\"].drop(columns = \"party\")"
   ]
  },
  {
   "cell_type": "code",
   "execution_count": 39,
   "id": "6914ca69",
   "metadata": {},
   "outputs": [
    {
     "data": {
      "text/plain": [
       "<AxesSubplot:xlabel='tweet_date', ylabel='val'>"
      ]
     },
     "execution_count": 39,
     "metadata": {},
     "output_type": "execute_result"
    },
    {
     "data": {
      "image/png": "[encoded data removed]",
      "text/plain": [
       "<Figure size 432x288 with 1 Axes>"
      ]
     },
     "metadata": {
      "needs_background": "light"
     },
     "output_type": "display_data"
    }
   ],
   "source": [
    "new_df = df_plotting_spd.melt(id_vars='tweet_date', \n",
    "                 value_name='val', \n",
    "                 var_name='type')\n",
    "\n",
    "sns.lineplot(x='tweet_date', y='val', hue='type', data=new_df)"
   ]
  },
  {
   "cell_type": "code",
   "execution_count": 40,
   "id": "67c44d1a",
   "metadata": {},
   "outputs": [
    {
     "data": {
      "text/plain": [
       "<AxesSubplot:xlabel='tweet_date', ylabel='val'>"
      ]
     },
     "execution_count": 40,
     "metadata": {},
     "output_type": "execute_result"
    },
    {
     "data": {
      "image/png": "[encoded data removed]",
      "text/plain": [
       "<Figure size 432x288 with 1 Axes>"
      ]
     },
     "metadata": {
      "needs_background": "light"
     },
     "output_type": "display_data"
    }
   ],
   "source": [
    "new_df = df_plotting_cdu.melt(id_vars='tweet_date', \n",
    "                 value_name='val', \n",
    "                 var_name='type')\n",
    "\n",
    "sns.lineplot(x='tweet_date', y='val', hue='type', data=new_df)"
   ]
  },
  {
   "cell_type": "code",
   "execution_count": null,
   "id": "5050f624",
   "metadata": {},
   "outputs": [],
   "source": []
  }
 ],
 "metadata": {
  "kernelspec": {
   "display_name": "Python 3 (ipykernel)",
   "language": "python",
   "name": "python3"
  },
  "language_info": {
   "codemirror_mode": {
    "name": "ipython",
    "version": 3
   },
   "file_extension": ".py",
   "mimetype": "text/x-python",
   "name": "python",
   "nbconvert_exporter": "python",
   "pygments_lexer": "ipython3",
   "version": "3.8.6"
  },
  "toc": {
   "base_numbering": 1,
   "nav_menu": {},
   "number_sections": true,
   "sideBar": true,
   "skip_h1_title": false,
   "title_cell": "Table of Contents",
   "title_sidebar": "Contents",
   "toc_cell": false,
   "toc_position": {},
   "toc_section_display": true,
   "toc_window_display": false
  }
 },
 "nbformat": 4,
 "nbformat_minor": 5
}
