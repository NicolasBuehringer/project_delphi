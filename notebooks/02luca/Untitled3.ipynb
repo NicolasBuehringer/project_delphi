{
 "cells": [
  {
   "cell_type": "code",
   "execution_count": 2,
   "id": "9887fc94",
   "metadata": {},
   "outputs": [],
   "source": [
    "import pandas as pd\n",
    "import numpy as np"
   ]
  },
  {
   "cell_type": "code",
   "execution_count": 26,
   "id": "a20d52ee",
   "metadata": {},
   "outputs": [],
   "source": [
    "def load_and_clean_csv(df):\n",
    "    '''\n",
    "    Function loads DF data from the Twitter API+Sentiment and returns a cleaned DF\n",
    "    '''\n",
    "#     # rename columns\n",
    "#     df = df.rename(columns={\"tweet_created_at\": \"tweet_date\",\n",
    "#                                 \"public_metrics.retweet_count\": \"retweet_count\",\n",
    "#                                 \"public_metrics.reply_count\": \"reply_count\",\n",
    "#                                 \"public_metrics.like_count\": \"like_count\",\n",
    "#                                 \"profile_created_at\": \"profile_creation_date\",\n",
    "#                                 \"public_metrics.followers_count\": \"followers_count\",\n",
    "#                                 \"public_metrics.following_count\": \"following_count\",\n",
    "#                                 \"public_metrics.tweet_count\": \"user_tweet_count\"\n",
    "#                                 })\n",
    "\n",
    "    # Including only columns that we want to use in the future\n",
    "    df = df[['party',\n",
    "                'tweet_date',\n",
    "                'author_id',\n",
    "                'tweet_id',\n",
    "                'text',\n",
    "                'source',\n",
    "                'retweet_count',\n",
    "                'reply_count',\n",
    "                'like_count',\n",
    "                'profile_creation_date',\n",
    "                'followers_count',\n",
    "                'following_count',\n",
    "                'user_tweet_count',\n",
    "                'location',\n",
    "                'sentiment'\n",
    "                ]]\n",
    "\n",
    "    # Clean dataset columns:\n",
    "    # Change dtype\n",
    "    df[\"tweet_date\"] = df[\"tweet_date\"].astype(str)\n",
    "    df = df[df.tweet_date.str.match('(\\d{4}-\\d{2}-\\d{2}.\\d{2}:\\d{2}:\\d{2})')]\n",
    "    #df = df[(df.tweet_date.str.len() == 23) | (df.tweet_date.str.len() == 24)]\n",
    "    df['tweet_date'] = df['tweet_date'].str.slice(0,19)\n",
    "    df[\"tweet_date\"] = pd.to_datetime(df[\"tweet_date\"])\n",
    "\n",
    "    df['profile_creation_date'] = df['profile_creation_date'].str.slice(0,19)\n",
    "    df[\"profile_creation_date\"] = pd.to_datetime(df[\"profile_creation_date\"])\n",
    "    # Drop duplicates\n",
    "    df = df.drop_duplicates()\n",
    "    # Transform sentiment to numeric type\n",
    "    dict_to_numeric = {\"negative\": -2, \"neutral\": 1, \"positive\": 2}\n",
    "    df[\"sentiment\"].replace(dict_to_numeric, inplace=True)\n",
    "\n",
    "    return df"
   ]
  },
  {
   "cell_type": "code",
   "execution_count": 27,
   "id": "d7d61245",
   "metadata": {},
   "outputs": [],
   "source": [
    "df = pd.read_csv('../../raw_data/test_tweets.csv', lineterminator= \"\\n\" )\n"
   ]
  },
  {
   "cell_type": "code",
   "execution_count": 31,
   "id": "e68a1843",
   "metadata": {},
   "outputs": [
    {
     "data": {
      "text/plain": [
       "6"
      ]
     },
     "execution_count": 31,
     "metadata": {},
     "output_type": "execute_result"
    }
   ],
   "source": [
    "df[\"party\"].nunique()"
   ]
  },
  {
   "cell_type": "code",
   "execution_count": 28,
   "id": "665ade61",
   "metadata": {},
   "outputs": [
    {
     "name": "stderr",
     "output_type": "stream",
     "text": [
      "/tmp/ipykernel_7854/433021662.py:36: SettingWithCopyWarning: \n",
      "A value is trying to be set on a copy of a slice from a DataFrame.\n",
      "Try using .loc[row_indexer,col_indexer] = value instead\n",
      "\n",
      "See the caveats in the documentation: https://pandas.pydata.org/pandas-docs/stable/user_guide/indexing.html#returning-a-view-versus-a-copy\n",
      "  df[\"tweet_date\"] = df[\"tweet_date\"].astype(str)\n"
     ]
    }
   ],
   "source": [
    "df_1 = load_and_clean_csv(df)"
   ]
  },
  {
   "cell_type": "code",
   "execution_count": 29,
   "id": "fcc8a02b",
   "metadata": {},
   "outputs": [
    {
     "data": {
      "text/plain": [
       "6"
      ]
     },
     "execution_count": 29,
     "metadata": {},
     "output_type": "execute_result"
    }
   ],
   "source": [
    "df_1[\"party\"].nunique()"
   ]
  },
  {
   "cell_type": "code",
   "execution_count": null,
   "id": "85216314",
   "metadata": {},
   "outputs": [],
   "source": []
  }
 ],
 "metadata": {
  "kernelspec": {
   "display_name": "Python 3 (ipykernel)",
   "language": "python",
   "name": "python3"
  },
  "language_info": {
   "codemirror_mode": {
    "name": "ipython",
    "version": 3
   },
   "file_extension": ".py",
   "mimetype": "text/x-python",
   "name": "python",
   "nbconvert_exporter": "python",
   "pygments_lexer": "ipython3",
   "version": "3.8.6"
  },
  "toc": {
   "base_numbering": 1,
   "nav_menu": {},
   "number_sections": true,
   "sideBar": true,
   "skip_h1_title": false,
   "title_cell": "Table of Contents",
   "title_sidebar": "Contents",
   "toc_cell": false,
   "toc_position": {},
   "toc_section_display": true,
   "toc_window_display": false
  }
 },
 "nbformat": 4,
 "nbformat_minor": 5
}
