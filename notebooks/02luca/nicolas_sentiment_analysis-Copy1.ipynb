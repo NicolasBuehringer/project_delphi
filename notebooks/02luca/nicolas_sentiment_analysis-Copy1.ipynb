{
 "cells": [
  {
   "cell_type": "code",
   "execution_count": 4,
   "id": "FOl8sc0111Kb",
   "metadata": {
    "colab": {
     "base_uri": "https://localhost:8080/"
    },
    "id": "FOl8sc0111Kb",
    "outputId": "56aee3d9-10cc-4037-fde8-5e7c2a60fab2"
   },
   "outputs": [],
   "source": [
    "import pandas as pd\n",
    "from germansentiment import SentimentModel\n",
    "import time as tm\n",
    "import numpy as np\n"
   ]
  },
  {
   "cell_type": "code",
   "execution_count": 16,
   "id": "b684d215",
   "metadata": {},
   "outputs": [
    {
     "name": "stdout",
     "output_type": "stream",
     "text": [
      "/home/lucab/code/NicolasBuehringer/project_delphi/notebooks/03nicolas\r\n"
     ]
    }
   ],
   "source": [
    "!pwd"
   ]
  },
  {
   "cell_type": "code",
   "execution_count": 5,
   "id": "g5NRf4ln5EfN",
   "metadata": {
    "id": "g5NRf4ln5EfN"
   },
   "outputs": [
    {
     "name": "stdout",
     "output_type": "stream",
     "text": [
      "Requirement already satisfied: germansentiment in /home/lucab/.pyenv/versions/3.8.6/envs/project_delphi/lib/python3.8/site-packages (1.0.6)\n",
      "Requirement already satisfied: torch>=1.8.1 in /home/lucab/.pyenv/versions/3.8.6/envs/project_delphi/lib/python3.8/site-packages (from germansentiment) (1.9.0)\n",
      "Requirement already satisfied: transformers in /home/lucab/.pyenv/versions/3.8.6/envs/project_delphi/lib/python3.8/site-packages (from germansentiment) (4.9.2)\n",
      "Requirement already satisfied: typing-extensions in /home/lucab/.pyenv/versions/3.8.6/envs/project_delphi/lib/python3.8/site-packages (from torch>=1.8.1->germansentiment) (3.7.4.3)\n",
      "Requirement already satisfied: numpy>=1.17 in /home/lucab/.pyenv/versions/3.8.6/envs/project_delphi/lib/python3.8/site-packages (from transformers->germansentiment) (1.21.2)\n",
      "Requirement already satisfied: pyyaml>=5.1 in /home/lucab/.pyenv/versions/3.8.6/envs/project_delphi/lib/python3.8/site-packages (from transformers->germansentiment) (5.4.1)\n",
      "Requirement already satisfied: regex!=2019.12.17 in /home/lucab/.pyenv/versions/3.8.6/envs/project_delphi/lib/python3.8/site-packages (from transformers->germansentiment) (2021.8.21)\n",
      "Requirement already satisfied: requests in /home/lucab/.pyenv/versions/3.8.6/envs/project_delphi/lib/python3.8/site-packages (from transformers->germansentiment) (2.26.0)\n",
      "Requirement already satisfied: filelock in /home/lucab/.pyenv/versions/3.8.6/envs/project_delphi/lib/python3.8/site-packages (from transformers->germansentiment) (3.0.12)\n",
      "Requirement already satisfied: tqdm>=4.27 in /home/lucab/.pyenv/versions/3.8.6/envs/project_delphi/lib/python3.8/site-packages (from transformers->germansentiment) (4.62.2)\n",
      "Requirement already satisfied: tokenizers<0.11,>=0.10.1 in /home/lucab/.pyenv/versions/3.8.6/envs/project_delphi/lib/python3.8/site-packages (from transformers->germansentiment) (0.10.3)\n",
      "Requirement already satisfied: huggingface-hub==0.0.12 in /home/lucab/.pyenv/versions/3.8.6/envs/project_delphi/lib/python3.8/site-packages (from transformers->germansentiment) (0.0.12)\n",
      "Requirement already satisfied: packaging in /home/lucab/.pyenv/versions/3.8.6/envs/project_delphi/lib/python3.8/site-packages (from transformers->germansentiment) (21.0)\n",
      "Requirement already satisfied: sacremoses in /home/lucab/.pyenv/versions/3.8.6/envs/project_delphi/lib/python3.8/site-packages (from transformers->germansentiment) (0.0.45)\n",
      "Requirement already satisfied: pyparsing>=2.0.2 in /home/lucab/.pyenv/versions/3.8.6/envs/project_delphi/lib/python3.8/site-packages (from packaging->transformers->germansentiment) (2.4.7)\n",
      "Requirement already satisfied: urllib3<1.27,>=1.21.1 in /home/lucab/.pyenv/versions/3.8.6/envs/project_delphi/lib/python3.8/site-packages (from requests->transformers->germansentiment) (1.26.6)\n",
      "Requirement already satisfied: charset-normalizer~=2.0.0 in /home/lucab/.pyenv/versions/3.8.6/envs/project_delphi/lib/python3.8/site-packages (from requests->transformers->germansentiment) (2.0.4)\n",
      "Requirement already satisfied: certifi>=2017.4.17 in /home/lucab/.pyenv/versions/3.8.6/envs/project_delphi/lib/python3.8/site-packages (from requests->transformers->germansentiment) (2021.5.30)\n",
      "Requirement already satisfied: idna<4,>=2.5 in /home/lucab/.pyenv/versions/3.8.6/envs/project_delphi/lib/python3.8/site-packages (from requests->transformers->germansentiment) (3.2)\n",
      "Requirement already satisfied: click in /home/lucab/.pyenv/versions/3.8.6/envs/project_delphi/lib/python3.8/site-packages (from sacremoses->transformers->germansentiment) (8.0.1)\n",
      "Requirement already satisfied: six in /home/lucab/.pyenv/versions/3.8.6/envs/project_delphi/lib/python3.8/site-packages (from sacremoses->transformers->germansentiment) (1.16.0)\n",
      "Requirement already satisfied: joblib in /home/lucab/.pyenv/versions/3.8.6/envs/project_delphi/lib/python3.8/site-packages (from sacremoses->transformers->germansentiment) (1.0.1)\n"
     ]
    }
   ],
   "source": [
    "!pip install germansentiment"
   ]
  },
  {
   "cell_type": "code",
   "execution_count": 29,
   "id": "Jb8s8DEsS8T0",
   "metadata": {
    "colab": {
     "base_uri": "https://localhost:8080/"
    },
    "id": "Jb8s8DEsS8T0",
    "outputId": "17a5a3f7-0984-43b9-c02f-3f383430a556"
   },
   "outputs": [],
   "source": [
    "data_full = pd.read_csv(\"sample_twitter_api.csv\", lineterminator='\\n')"
   ]
  },
  {
   "cell_type": "code",
   "execution_count": 33,
   "id": "HPDRftQcWAZT",
   "metadata": {
    "colab": {
     "base_uri": "https://localhost:8080/"
    },
    "id": "HPDRftQcWAZT",
    "outputId": "563d463b-3b0c-42a9-d842-89ec864e6e57"
   },
   "outputs": [],
   "source": [
    "# get 1000 tweets per iteration "
   ]
  },
  {
   "cell_type": "code",
   "execution_count": 34,
   "id": "xhynP7poWqqz",
   "metadata": {
    "colab": {
     "base_uri": "https://localhost:8080/"
    },
    "id": "xhynP7poWqqz",
    "outputId": "d76d0a2b-4e10-4a36-91fd-161e72065e72"
   },
   "outputs": [
    {
     "data": {
      "text/plain": [
       "5953"
      ]
     },
     "execution_count": 34,
     "metadata": {},
     "output_type": "execute_result"
    }
   ],
   "source": [
    "max_len = (len(data_full) + x)\n",
    "max_len"
   ]
  },
  {
   "cell_type": "code",
   "execution_count": 35,
   "id": "cz4lc_ClWTiM",
   "metadata": {
    "id": "cz4lc_ClWTiM"
   },
   "outputs": [],
   "source": [
    "x = 987"
   ]
  },
  {
   "cell_type": "code",
   "execution_count": 43,
   "id": "bd57445f",
   "metadata": {},
   "outputs": [
    {
     "data": {
      "text/html": [
       "<div>\n",
       "<style scoped>\n",
       "    .dataframe tbody tr th:only-of-type {\n",
       "        vertical-align: middle;\n",
       "    }\n",
       "\n",
       "    .dataframe tbody tr th {\n",
       "        vertical-align: top;\n",
       "    }\n",
       "\n",
       "    .dataframe thead th {\n",
       "        text-align: right;\n",
       "    }\n",
       "</style>\n",
       "<table border=\"1\" class=\"dataframe\">\n",
       "  <thead>\n",
       "    <tr style=\"text-align: right;\">\n",
       "      <th></th>\n",
       "      <th>Unnamed: 0</th>\n",
       "      <th>author_id</th>\n",
       "      <th>source</th>\n",
       "      <th>lang</th>\n",
       "      <th>tweet_created_at</th>\n",
       "      <th>tweet_id</th>\n",
       "      <th>text</th>\n",
       "      <th>public_metrics.retweet_count</th>\n",
       "      <th>public_metrics.reply_count</th>\n",
       "      <th>public_metrics.like_count</th>\n",
       "      <th>public_metrics.quote_count</th>\n",
       "      <th>username</th>\n",
       "      <th>profile_created_at</th>\n",
       "      <th>name</th>\n",
       "      <th>public_metrics.followers_count</th>\n",
       "      <th>public_metrics.following_count</th>\n",
       "      <th>public_metrics.tweet_count</th>\n",
       "      <th>public_metrics.listed_count</th>\n",
       "      <th>location</th>\n",
       "      <th>geo.place_id</th>\n",
       "    </tr>\n",
       "  </thead>\n",
       "  <tbody>\n",
       "    <tr>\n",
       "      <th>0</th>\n",
       "      <td>0</td>\n",
       "      <td>1106890880</td>\n",
       "      <td>Twitter for iPad</td>\n",
       "      <td>de</td>\n",
       "      <td>2021-08-23T23:59:54.000Z</td>\n",
       "      <td>1429956596575227906</td>\n",
       "      <td>Heute beim Versuch von SPD Wahl zu überzeugen,...</td>\n",
       "      <td>0</td>\n",
       "      <td>0</td>\n",
       "      <td>0</td>\n",
       "      <td>0</td>\n",
       "      <td>kritik2punkt0</td>\n",
       "      <td>2013-01-20T18:04:25.000Z</td>\n",
       "      <td>M</td>\n",
       "      <td>815</td>\n",
       "      <td>4999</td>\n",
       "      <td>45639</td>\n",
       "      <td>13</td>\n",
       "      <td>NaN</td>\n",
       "      <td>NaN</td>\n",
       "    </tr>\n",
       "    <tr>\n",
       "      <th>1</th>\n",
       "      <td>1</td>\n",
       "      <td>40453076</td>\n",
       "      <td>Twitter for Android</td>\n",
       "      <td>de</td>\n",
       "      <td>2021-08-23T23:59:39.000Z</td>\n",
       "      <td>1429956534465818641</td>\n",
       "      <td>Wenn ein Laschet ein Mann wäre, würde man so e...</td>\n",
       "      <td>0</td>\n",
       "      <td>0</td>\n",
       "      <td>1</td>\n",
       "      <td>0</td>\n",
       "      <td>Shevek1981</td>\n",
       "      <td>2009-05-16T12:10:39.000Z</td>\n",
       "      <td>Shevek</td>\n",
       "      <td>398</td>\n",
       "      <td>1013</td>\n",
       "      <td>6894</td>\n",
       "      <td>29</td>\n",
       "      <td>Kiel, Schleswig-Holstein</td>\n",
       "      <td>NaN</td>\n",
       "    </tr>\n",
       "    <tr>\n",
       "      <th>2</th>\n",
       "      <td>2</td>\n",
       "      <td>379140899</td>\n",
       "      <td>Twitter for Android</td>\n",
       "      <td>de</td>\n",
       "      <td>2021-08-23T23:59:33.000Z</td>\n",
       "      <td>1429956507039371268</td>\n",
       "      <td>Tritt @ArminLaschet jetzt der @AfDimBundestag ...</td>\n",
       "      <td>0</td>\n",
       "      <td>0</td>\n",
       "      <td>0</td>\n",
       "      <td>0</td>\n",
       "      <td>Pflegekraft1</td>\n",
       "      <td>2011-09-24T12:53:33.000Z</td>\n",
       "      <td>Pflegekraft</td>\n",
       "      <td>640</td>\n",
       "      <td>5000</td>\n",
       "      <td>61841</td>\n",
       "      <td>13</td>\n",
       "      <td>BRD</td>\n",
       "      <td>NaN</td>\n",
       "    </tr>\n",
       "    <tr>\n",
       "      <th>3</th>\n",
       "      <td>3</td>\n",
       "      <td>1321047775681851392</td>\n",
       "      <td>Twitter for iPhone</td>\n",
       "      <td>de</td>\n",
       "      <td>2021-08-23T23:59:32.000Z</td>\n",
       "      <td>1429956503377690630</td>\n",
       "      <td>@MissBJArmstrong @DPflugk Deutschland steht ku...</td>\n",
       "      <td>4</td>\n",
       "      <td>1</td>\n",
       "      <td>10</td>\n",
       "      <td>0</td>\n",
       "      <td>free_speech_67</td>\n",
       "      <td>2020-10-27T11:15:33.000Z</td>\n",
       "      <td>מיכאל קולהאס</td>\n",
       "      <td>1204</td>\n",
       "      <td>4482</td>\n",
       "      <td>34815</td>\n",
       "      <td>3</td>\n",
       "      <td>Quito, Ecuador</td>\n",
       "      <td>NaN</td>\n",
       "    </tr>\n",
       "    <tr>\n",
       "      <th>4</th>\n",
       "      <td>4</td>\n",
       "      <td>1176821601179971585</td>\n",
       "      <td>Twitter for Android</td>\n",
       "      <td>de</td>\n",
       "      <td>2021-08-23T23:59:28.000Z</td>\n",
       "      <td>1429956487800102914</td>\n",
       "      <td>@ECMOKaragianni1 Gibt es einen Grund warum Pol...</td>\n",
       "      <td>0</td>\n",
       "      <td>1</td>\n",
       "      <td>7</td>\n",
       "      <td>0</td>\n",
       "      <td>dieser_Schuft</td>\n",
       "      <td>2019-09-25T11:31:55.000Z</td>\n",
       "      <td>คɭՇєг 🇩🇪 ŦคɭՇєг in Urlaub 🇫🇷</td>\n",
       "      <td>459</td>\n",
       "      <td>745</td>\n",
       "      <td>5560</td>\n",
       "      <td>1</td>\n",
       "      <td>NaN</td>\n",
       "      <td>NaN</td>\n",
       "    </tr>\n",
       "    <tr>\n",
       "      <th>...</th>\n",
       "      <td>...</td>\n",
       "      <td>...</td>\n",
       "      <td>...</td>\n",
       "      <td>...</td>\n",
       "      <td>...</td>\n",
       "      <td>...</td>\n",
       "      <td>...</td>\n",
       "      <td>...</td>\n",
       "      <td>...</td>\n",
       "      <td>...</td>\n",
       "      <td>...</td>\n",
       "      <td>...</td>\n",
       "      <td>...</td>\n",
       "      <td>...</td>\n",
       "      <td>...</td>\n",
       "      <td>...</td>\n",
       "      <td>...</td>\n",
       "      <td>...</td>\n",
       "      <td>...</td>\n",
       "      <td>...</td>\n",
       "    </tr>\n",
       "    <tr>\n",
       "      <th>4961</th>\n",
       "      <td>4961</td>\n",
       "      <td>37884894</td>\n",
       "      <td>Twitter for Android</td>\n",
       "      <td>de</td>\n",
       "      <td>2021-08-14T21:51:43.000Z</td>\n",
       "      <td>1426662848059645952</td>\n",
       "      <td>@Storch_i @JM_Luczak @cducsubt @CDU @andreassc...</td>\n",
       "      <td>0</td>\n",
       "      <td>1</td>\n",
       "      <td>2</td>\n",
       "      <td>0</td>\n",
       "      <td>andiewoerle</td>\n",
       "      <td>2009-05-05T08:24:57.000Z</td>\n",
       "      <td>Andie Wörle</td>\n",
       "      <td>782</td>\n",
       "      <td>1085</td>\n",
       "      <td>3364</td>\n",
       "      <td>10</td>\n",
       "      <td>Europa</td>\n",
       "      <td>NaN</td>\n",
       "    </tr>\n",
       "    <tr>\n",
       "      <th>4962</th>\n",
       "      <td>4962</td>\n",
       "      <td>17324247</td>\n",
       "      <td>Twitter Web App</td>\n",
       "      <td>de</td>\n",
       "      <td>2021-08-14T21:51:36.000Z</td>\n",
       "      <td>1426662816073883651</td>\n",
       "      <td>Ich glaube, die @CDU will diese #btw21  nicht ...</td>\n",
       "      <td>0</td>\n",
       "      <td>1</td>\n",
       "      <td>0</td>\n",
       "      <td>0</td>\n",
       "      <td>toxicTom</td>\n",
       "      <td>2008-11-11T22:33:37.000Z</td>\n",
       "      <td>toxicTom</td>\n",
       "      <td>20</td>\n",
       "      <td>299</td>\n",
       "      <td>734</td>\n",
       "      <td>0</td>\n",
       "      <td>Somewhere</td>\n",
       "      <td>NaN</td>\n",
       "    </tr>\n",
       "    <tr>\n",
       "      <th>4963</th>\n",
       "      <td>4963</td>\n",
       "      <td>1325055316053069825</td>\n",
       "      <td>Twitter Web App</td>\n",
       "      <td>de</td>\n",
       "      <td>2021-08-14T21:51:27.000Z</td>\n",
       "      <td>1426662780078284800</td>\n",
       "      <td>@MarianBracht @ArminLaschet Gehört.......Aber ...</td>\n",
       "      <td>0</td>\n",
       "      <td>0</td>\n",
       "      <td>0</td>\n",
       "      <td>0</td>\n",
       "      <td>in_wunde</td>\n",
       "      <td>2020-11-07T12:39:56.000Z</td>\n",
       "      <td>BirdMountainRedNeckRebelFromBirth</td>\n",
       "      <td>45</td>\n",
       "      <td>110</td>\n",
       "      <td>1459</td>\n",
       "      <td>1</td>\n",
       "      <td>Vogelsberg</td>\n",
       "      <td>NaN</td>\n",
       "    </tr>\n",
       "    <tr>\n",
       "      <th>4964</th>\n",
       "      <td>4964</td>\n",
       "      <td>1178379178082799624</td>\n",
       "      <td>Twitter for iPad</td>\n",
       "      <td>de</td>\n",
       "      <td>2021-08-14T21:51:18.000Z</td>\n",
       "      <td>1426662743390703617</td>\n",
       "      <td>#CDU macht sich lächerlich, wo‘s nur geht… 🤦‍♀...</td>\n",
       "      <td>0</td>\n",
       "      <td>0</td>\n",
       "      <td>1</td>\n",
       "      <td>0</td>\n",
       "      <td>edelsteinchen1</td>\n",
       "      <td>2019-09-29T18:41:26.000Z</td>\n",
       "      <td>edelsteinchen💉💉💎MirScheintDieSonneAusmArsch☀️😍</td>\n",
       "      <td>225</td>\n",
       "      <td>383</td>\n",
       "      <td>8176</td>\n",
       "      <td>0</td>\n",
       "      <td>Köln, Deutschland</td>\n",
       "      <td>NaN</td>\n",
       "    </tr>\n",
       "    <tr>\n",
       "      <th>4965</th>\n",
       "      <td>4965</td>\n",
       "      <td>1371189077458964485</td>\n",
       "      <td>Twitter Web App</td>\n",
       "      <td>de</td>\n",
       "      <td>2021-08-14T21:50:51.000Z</td>\n",
       "      <td>1426662627862880258</td>\n",
       "      <td>@WWindszus @LarsWienand @ArminLaschet Genau di...</td>\n",
       "      <td>0</td>\n",
       "      <td>1</td>\n",
       "      <td>3</td>\n",
       "      <td>0</td>\n",
       "      <td>Benny_Nerd</td>\n",
       "      <td>2021-03-14T19:58:57.000Z</td>\n",
       "      <td>Benny</td>\n",
       "      <td>35</td>\n",
       "      <td>61</td>\n",
       "      <td>1689</td>\n",
       "      <td>0</td>\n",
       "      <td>NaN</td>\n",
       "      <td>NaN</td>\n",
       "    </tr>\n",
       "  </tbody>\n",
       "</table>\n",
       "<p>4966 rows × 20 columns</p>\n",
       "</div>"
      ],
      "text/plain": [
       "      Unnamed: 0            author_id               source lang  \\\n",
       "0              0           1106890880     Twitter for iPad   de   \n",
       "1              1             40453076  Twitter for Android   de   \n",
       "2              2            379140899  Twitter for Android   de   \n",
       "3              3  1321047775681851392   Twitter for iPhone   de   \n",
       "4              4  1176821601179971585  Twitter for Android   de   \n",
       "...          ...                  ...                  ...  ...   \n",
       "4961        4961             37884894  Twitter for Android   de   \n",
       "4962        4962             17324247      Twitter Web App   de   \n",
       "4963        4963  1325055316053069825      Twitter Web App   de   \n",
       "4964        4964  1178379178082799624     Twitter for iPad   de   \n",
       "4965        4965  1371189077458964485      Twitter Web App   de   \n",
       "\n",
       "              tweet_created_at             tweet_id  \\\n",
       "0     2021-08-23T23:59:54.000Z  1429956596575227906   \n",
       "1     2021-08-23T23:59:39.000Z  1429956534465818641   \n",
       "2     2021-08-23T23:59:33.000Z  1429956507039371268   \n",
       "3     2021-08-23T23:59:32.000Z  1429956503377690630   \n",
       "4     2021-08-23T23:59:28.000Z  1429956487800102914   \n",
       "...                        ...                  ...   \n",
       "4961  2021-08-14T21:51:43.000Z  1426662848059645952   \n",
       "4962  2021-08-14T21:51:36.000Z  1426662816073883651   \n",
       "4963  2021-08-14T21:51:27.000Z  1426662780078284800   \n",
       "4964  2021-08-14T21:51:18.000Z  1426662743390703617   \n",
       "4965  2021-08-14T21:50:51.000Z  1426662627862880258   \n",
       "\n",
       "                                                   text  \\\n",
       "0     Heute beim Versuch von SPD Wahl zu überzeugen,...   \n",
       "1     Wenn ein Laschet ein Mann wäre, würde man so e...   \n",
       "2     Tritt @ArminLaschet jetzt der @AfDimBundestag ...   \n",
       "3     @MissBJArmstrong @DPflugk Deutschland steht ku...   \n",
       "4     @ECMOKaragianni1 Gibt es einen Grund warum Pol...   \n",
       "...                                                 ...   \n",
       "4961  @Storch_i @JM_Luczak @cducsubt @CDU @andreassc...   \n",
       "4962  Ich glaube, die @CDU will diese #btw21  nicht ...   \n",
       "4963  @MarianBracht @ArminLaschet Gehört.......Aber ...   \n",
       "4964  #CDU macht sich lächerlich, wo‘s nur geht… 🤦‍♀...   \n",
       "4965  @WWindszus @LarsWienand @ArminLaschet Genau di...   \n",
       "\n",
       "      public_metrics.retweet_count  public_metrics.reply_count  \\\n",
       "0                                0                           0   \n",
       "1                                0                           0   \n",
       "2                                0                           0   \n",
       "3                                4                           1   \n",
       "4                                0                           1   \n",
       "...                            ...                         ...   \n",
       "4961                             0                           1   \n",
       "4962                             0                           1   \n",
       "4963                             0                           0   \n",
       "4964                             0                           0   \n",
       "4965                             0                           1   \n",
       "\n",
       "      public_metrics.like_count  public_metrics.quote_count        username  \\\n",
       "0                             0                           0   kritik2punkt0   \n",
       "1                             1                           0      Shevek1981   \n",
       "2                             0                           0    Pflegekraft1   \n",
       "3                            10                           0  free_speech_67   \n",
       "4                             7                           0   dieser_Schuft   \n",
       "...                         ...                         ...             ...   \n",
       "4961                          2                           0     andiewoerle   \n",
       "4962                          0                           0        toxicTom   \n",
       "4963                          0                           0        in_wunde   \n",
       "4964                          1                           0  edelsteinchen1   \n",
       "4965                          3                           0      Benny_Nerd   \n",
       "\n",
       "            profile_created_at  \\\n",
       "0     2013-01-20T18:04:25.000Z   \n",
       "1     2009-05-16T12:10:39.000Z   \n",
       "2     2011-09-24T12:53:33.000Z   \n",
       "3     2020-10-27T11:15:33.000Z   \n",
       "4     2019-09-25T11:31:55.000Z   \n",
       "...                        ...   \n",
       "4961  2009-05-05T08:24:57.000Z   \n",
       "4962  2008-11-11T22:33:37.000Z   \n",
       "4963  2020-11-07T12:39:56.000Z   \n",
       "4964  2019-09-29T18:41:26.000Z   \n",
       "4965  2021-03-14T19:58:57.000Z   \n",
       "\n",
       "                                                name  \\\n",
       "0                                                  M   \n",
       "1                                             Shevek   \n",
       "2                                        Pflegekraft   \n",
       "3                                       מיכאל קולהאס   \n",
       "4                       คɭՇєг 🇩🇪 ŦคɭՇєг in Urlaub 🇫🇷   \n",
       "...                                              ...   \n",
       "4961                                     Andie Wörle   \n",
       "4962                                        toxicTom   \n",
       "4963               BirdMountainRedNeckRebelFromBirth   \n",
       "4964  edelsteinchen💉💉💎MirScheintDieSonneAusmArsch☀️😍   \n",
       "4965                                           Benny   \n",
       "\n",
       "      public_metrics.followers_count  public_metrics.following_count  \\\n",
       "0                                815                            4999   \n",
       "1                                398                            1013   \n",
       "2                                640                            5000   \n",
       "3                               1204                            4482   \n",
       "4                                459                             745   \n",
       "...                              ...                             ...   \n",
       "4961                             782                            1085   \n",
       "4962                              20                             299   \n",
       "4963                              45                             110   \n",
       "4964                             225                             383   \n",
       "4965                              35                              61   \n",
       "\n",
       "      public_metrics.tweet_count  public_metrics.listed_count  \\\n",
       "0                          45639                           13   \n",
       "1                           6894                           29   \n",
       "2                          61841                           13   \n",
       "3                          34815                            3   \n",
       "4                           5560                            1   \n",
       "...                          ...                          ...   \n",
       "4961                        3364                           10   \n",
       "4962                         734                            0   \n",
       "4963                        1459                            1   \n",
       "4964                        8176                            0   \n",
       "4965                        1689                            0   \n",
       "\n",
       "                      location geo.place_id  \n",
       "0                          NaN          NaN  \n",
       "1     Kiel, Schleswig-Holstein          NaN  \n",
       "2                         BRD           NaN  \n",
       "3               Quito, Ecuador          NaN  \n",
       "4                          NaN          NaN  \n",
       "...                        ...          ...  \n",
       "4961                   Europa           NaN  \n",
       "4962                 Somewhere          NaN  \n",
       "4963                Vogelsberg          NaN  \n",
       "4964         Köln, Deutschland          NaN  \n",
       "4965                       NaN          NaN  \n",
       "\n",
       "[4966 rows x 20 columns]"
      ]
     },
     "execution_count": 43,
     "metadata": {},
     "output_type": "execute_result"
    }
   ],
   "source": [
    "data_full\n"
   ]
  },
  {
   "cell_type": "code",
   "execution_count": 36,
   "id": "bYm4DoIfZSgb",
   "metadata": {
    "id": "bYm4DoIfZSgb"
   },
   "outputs": [],
   "source": [
    "full_sentiment = []"
   ]
  },
  {
   "cell_type": "code",
   "execution_count": 37,
   "id": "g59Pcv2JnF-d",
   "metadata": {
    "id": "g59Pcv2JnF-d"
   },
   "outputs": [],
   "source": [
    "all_id_with_sentiment = []"
   ]
  },
  {
   "cell_type": "code",
   "execution_count": 44,
   "id": "WRWjLPfDXDa5",
   "metadata": {
    "id": "WRWjLPfDXDa5"
   },
   "outputs": [
    {
     "name": "stdout",
     "output_type": "stream",
     "text": [
      "Starting iteration 1\n"
     ]
    },
    {
     "ename": "NameError",
     "evalue": "name 'model' is not defined",
     "output_type": "error",
     "traceback": [
      "\u001b[0;31m---------------------------------------------------------------------------\u001b[0m",
      "\u001b[0;31mNameError\u001b[0m                                 Traceback (most recent call last)",
      "\u001b[0;32m/tmp/ipykernel_1929/2777239286.py\u001b[0m in \u001b[0;36m<module>\u001b[0;34m\u001b[0m\n\u001b[1;32m     23\u001b[0m \u001b[0;34m\u001b[0m\u001b[0m\n\u001b[1;32m     24\u001b[0m   \u001b[0;31m# predict sentiment analysis on current 987 tweets\u001b[0m\u001b[0;34m\u001b[0m\u001b[0;34m\u001b[0m\u001b[0;34m\u001b[0m\u001b[0m\n\u001b[0;32m---> 25\u001b[0;31m     \u001b[0mtemp_result\u001b[0m \u001b[0;34m=\u001b[0m \u001b[0mmodel\u001b[0m\u001b[0;34m.\u001b[0m\u001b[0mpredict_sentiment\u001b[0m\u001b[0;34m(\u001b[0m\u001b[0mtemp_tweets\u001b[0m\u001b[0;34m)\u001b[0m\u001b[0;34m\u001b[0m\u001b[0;34m\u001b[0m\u001b[0m\n\u001b[0m\u001b[1;32m     26\u001b[0m \u001b[0;34m\u001b[0m\u001b[0m\n\u001b[1;32m     27\u001b[0m   \u001b[0;31m# append to before defined empty list\u001b[0m\u001b[0;34m\u001b[0m\u001b[0;34m\u001b[0m\u001b[0;34m\u001b[0m\u001b[0m\n",
      "\u001b[0;31mNameError\u001b[0m: name 'model' is not defined"
     ]
    }
   ],
   "source": [
    "# this for loop throws an error, last two buckets are done afterwards\n",
    "\n",
    "counter = 0\n",
    "\n",
    "# iterate over a range of 0, 394.755 with step size 987\n",
    "for i in range(0,max_len, x):\n",
    "\n",
    "  # get start time of iteration\n",
    "    start = tm.time()\n",
    "\n",
    "  # print counter\n",
    "    counter += 1\n",
    "    print(f\"Starting iteration {counter}\")\n",
    "\n",
    "  # slice dataframe for the current 987 rows\n",
    "    temp = data_full.iloc[i: (i + x)]\n",
    "\n",
    "  # turn tweets into a list for sentiment analysis\n",
    "    temp_tweets = list(temp.text)\n",
    "\n",
    "  # turn tweet id in a list to know what tweets are used\n",
    "    all_id_with_sentiment.append(list(temp.tweet_id))\n",
    "  \n",
    "  # predict sentiment analysis on current 987 tweets\n",
    "    temp_result = model.predict_sentiment(temp_tweets)\n",
    "\n",
    "  # append to before defined empty list\n",
    "    full_sentiment.append(temp_result)\n",
    "\n",
    "  # compute runtime for iteration\n",
    "    stop = tm.time()\n",
    "    print(f\"Finished iteration {counter} in {stop-start} seconds\")"
   ]
  },
  {
   "cell_type": "code",
   "execution_count": 247,
   "id": "wWfvvHJjsm2t",
   "metadata": {
    "id": "wWfvvHJjsm2t"
   },
   "outputs": [],
   "source": []
  },
  {
   "cell_type": "code",
   "execution_count": 238,
   "id": "8NQJcOjkwmDz",
   "metadata": {
    "id": "8NQJcOjkwmDz"
   },
   "outputs": [],
   "source": [
    "# get data slice of last two missing iterations\n",
    "first_missing_data = list(data_full.iloc[x * 398: x*399].tweet)\n",
    "second_missing_data = list(data_full.iloc[x * 399:].tweet)"
   ]
  },
  {
   "cell_type": "code",
   "execution_count": 239,
   "id": "wLi2-UfY4OIv",
   "metadata": {
    "id": "wLi2-UfY4OIv"
   },
   "outputs": [],
   "source": [
    "# somehow a float in there; fix with this\n",
    "first_missing_data = [str(x) for x in first_missing_data]"
   ]
  },
  {
   "cell_type": "code",
   "execution_count": 240,
   "id": "ph5Ph8mB4e7Q",
   "metadata": {
    "id": "ph5Ph8mB4e7Q"
   },
   "outputs": [],
   "source": [
    "missing_results = []"
   ]
  },
  {
   "cell_type": "code",
   "execution_count": 241,
   "id": "uzWO_GZ62Sxi",
   "metadata": {
    "id": "uzWO_GZ62Sxi"
   },
   "outputs": [],
   "source": [
    "# predicting last two iterations\n",
    "p1 = model.predict_sentiment(first_missing_data)\n",
    "missing_results.append(p1)\n",
    "\n",
    "p2 = model.predict_sentiment(second_missing_data)\n",
    "missing_results.append(p2)"
   ]
  },
  {
   "cell_type": "code",
   "execution_count": 217,
   "id": "GUnLFoDO4y8n",
   "metadata": {
    "id": "GUnLFoDO4y8n"
   },
   "outputs": [],
   "source": [
    "#appending result to final output\n",
    "full_sentiment.append(missing_results[0])\n",
    "full_sentiment.append(missing_results[1])"
   ]
  },
  {
   "cell_type": "code",
   "execution_count": null,
   "id": "0jEN1BmeSRVt",
   "metadata": {
    "id": "0jEN1BmeSRVt"
   },
   "outputs": [],
   "source": [
    "#turning list of lists for each iteration into one list\n",
    "sentiment_values = sum(full_sentiment_real, [])"
   ]
  },
  {
   "cell_type": "code",
   "execution_count": 249,
   "id": "VpLSQnOo5Iqo",
   "metadata": {
    "colab": {
     "base_uri": "https://localhost:8080/"
    },
    "id": "VpLSQnOo5Iqo",
    "outputId": "241d8cce-e54c-4723-9aec-8515f935fab2"
   },
   "outputs": [
    {
     "data": {
      "text/plain": [
       "True"
      ]
     },
     "execution_count": 249,
     "metadata": {},
     "output_type": "execute_result"
    }
   ],
   "source": [
    "#checking correct prediction lenght\n",
    "len(sentiment_values) == len(data_full)"
   ]
  },
  {
   "cell_type": "code",
   "execution_count": 250,
   "id": "Zgw29e0x5ofD",
   "metadata": {
    "id": "Zgw29e0x5ofD"
   },
   "outputs": [],
   "source": [
    "#adding sentiment collumn to tweet DF\n",
    "data_full[\"sentiment\"] = sentiment_values"
   ]
  },
  {
   "cell_type": "code",
   "execution_count": 152,
   "id": "vtLmr0wzyRQ7",
   "metadata": {
    "id": "vtLmr0wzyRQ7"
   },
   "outputs": [],
   "source": [
    "tr = pd.DataFrame(sentiment_values, columns = [\"sentiment\"])"
   ]
  },
  {
   "cell_type": "code",
   "execution_count": 154,
   "id": "DKvbCgjAyc32",
   "metadata": {
    "colab": {
     "base_uri": "https://localhost:8080/",
     "height": 282
    },
    "id": "DKvbCgjAyc32",
    "outputId": "30853c90-e568-4be7-add9-198452ea2665"
   },
   "outputs": [
    {
     "data": {
      "text/plain": [
       "<matplotlib.axes._subplots.AxesSubplot at 0x7f0bd3a83750>"
      ]
     },
     "execution_count": 154,
     "metadata": {},
     "output_type": "execute_result"
    },
    {
     "data": {
      "image/png": "[encoded data removed]",
      "text/plain": [
       "<Figure size 432x288 with 1 Axes>"
      ]
     },
     "metadata": {
      "needs_background": "light"
     },
     "output_type": "display_data"
    }
   ],
   "source": [
    "tr.sentiment.hist()"
   ]
  },
  {
   "cell_type": "code",
   "execution_count": 252,
   "id": "Kgz38GFnscBM",
   "metadata": {
    "colab": {
     "base_uri": "https://localhost:8080/",
     "height": 17
    },
    "id": "Kgz38GFnscBM",
    "outputId": "5aefa0ed-4246-411c-e569-9e1558314fe6"
   },
   "outputs": [
    {
     "data": {
      "application/javascript": [
       "\n",
       "    async function download(id, filename, size) {\n",
       "      if (!google.colab.kernel.accessAllowed) {\n",
       "        return;\n",
       "      }\n",
       "      const div = document.createElement('div');\n",
       "      const label = document.createElement('label');\n",
       "      label.textContent = `Downloading \"${filename}\": `;\n",
       "      div.appendChild(label);\n",
       "      const progress = document.createElement('progress');\n",
       "      progress.max = size;\n",
       "      div.appendChild(progress);\n",
       "      document.body.appendChild(div);\n",
       "\n",
       "      const buffers = [];\n",
       "      let downloaded = 0;\n",
       "\n",
       "      const channel = await google.colab.kernel.comms.open(id);\n",
       "      // Send a message to notify the kernel that we're ready.\n",
       "      channel.send({})\n",
       "\n",
       "      for await (const message of channel.messages) {\n",
       "        // Send a message to notify the kernel that we're ready.\n",
       "        channel.send({})\n",
       "        if (message.buffers) {\n",
       "          for (const buffer of message.buffers) {\n",
       "            buffers.push(buffer);\n",
       "            downloaded += buffer.byteLength;\n",
       "            progress.value = downloaded;\n",
       "          }\n",
       "        }\n",
       "      }\n",
       "      const blob = new Blob(buffers, {type: 'application/binary'});\n",
       "      const a = document.createElement('a');\n",
       "      a.href = window.URL.createObjectURL(blob);\n",
       "      a.download = filename;\n",
       "      div.appendChild(a);\n",
       "      a.click();\n",
       "      div.remove();\n",
       "    }\n",
       "  "
      ],
      "text/plain": [
       "<IPython.core.display.Javascript object>"
      ]
     },
     "metadata": {},
     "output_type": "display_data"
    },
    {
     "data": {
      "application/javascript": [
       "download(\"download_4c495e96-bece-442d-a679-a59fa3a37f1b\", \"data_full_sentiment.csv\", 134396570)"
      ],
      "text/plain": [
       "<IPython.core.display.Javascript object>"
      ]
     },
     "metadata": {},
     "output_type": "display_data"
    }
   ],
   "source": [
    "# saving csv and downloading it\n",
    "data_full.to_csv(\"data_full_sentiment.csv\")\n",
    "files.download(\"data_full_sentiment.csv\")"
   ]
  }
 ],
 "metadata": {
  "accelerator": "GPU",
  "colab": {
   "collapsed_sections": [],
   "machine_shape": "hm",
   "name": "nicolas_sentiment_analysis.ipynb",
   "provenance": []
  },
  "kernelspec": {
   "display_name": "Python 3 (ipykernel)",
   "language": "python",
   "name": "python3"
  },
  "language_info": {
   "codemirror_mode": {
    "name": "ipython",
    "version": 3
   },
   "file_extension": ".py",
   "mimetype": "text/x-python",
   "name": "python",
   "nbconvert_exporter": "python",
   "pygments_lexer": "ipython3",
   "version": "3.8.6"
  },
  "toc": {
   "base_numbering": 1,
   "nav_menu": {},
   "number_sections": true,
   "sideBar": true,
   "skip_h1_title": false,
   "title_cell": "Table of Contents",
   "title_sidebar": "Contents",
   "toc_cell": false,
   "toc_position": {},
   "toc_section_display": true,
   "toc_window_display": false
  }
 },
 "nbformat": 4,
 "nbformat_minor": 5
}
