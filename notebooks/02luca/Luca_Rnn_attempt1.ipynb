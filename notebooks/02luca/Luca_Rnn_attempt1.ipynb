{
 "cells": [
  {
   "cell_type": "code",
   "execution_count": 69,
   "id": "109c5f4f",
   "metadata": {},
   "outputs": [],
   "source": [
    "from tensorflow import keras\n",
    "import numpy as np\n",
    "import pandas as pd\n",
    "import matplotlib.pyplot as plt\n",
    "import seaborn as sns\n",
    "from keras.layers import Normalization\n",
    "from keras.models import Sequential\n",
    "from keras.layers import Dense, SimpleRNN, Flatten\n",
    "from keras import layers\n",
    "pd.set_option('display.max_rows', 50)\n",
    "from tensorflow.keras import optimizers\n",
    "import random\n"
   ]
  },
  {
   "cell_type": "code",
   "execution_count": null,
   "id": "1a22f586",
   "metadata": {},
   "outputs": [],
   "source": []
  },
  {
   "cell_type": "code",
   "execution_count": null,
   "id": "dcfd2f1f",
   "metadata": {},
   "outputs": [],
   "source": []
  },
  {
   "cell_type": "code",
   "execution_count": 70,
   "id": "db34ad25",
   "metadata": {},
   "outputs": [],
   "source": [
    "df_merged = pd.read_csv(\"data_final_20210826_v3.csv\")"
   ]
  },
  {
   "cell_type": "code",
   "execution_count": 71,
   "id": "dd24b0ad",
   "metadata": {},
   "outputs": [],
   "source": [
    "df_merged = df_merged.iloc[98:]"
   ]
  },
  {
   "cell_type": "code",
   "execution_count": 72,
   "id": "88764f46",
   "metadata": {
    "scrolled": true
   },
   "outputs": [
    {
     "data": {
      "text/plain": [
       "(553, 16)"
      ]
     },
     "execution_count": 72,
     "metadata": {},
     "output_type": "execute_result"
    }
   ],
   "source": [
    "df_merged.shape"
   ]
  },
  {
   "cell_type": "code",
   "execution_count": null,
   "id": "5f8eaa9c",
   "metadata": {},
   "outputs": [],
   "source": []
  },
  {
   "cell_type": "code",
   "execution_count": 73,
   "id": "3ea8d49c",
   "metadata": {},
   "outputs": [],
   "source": [
    "df_merged[\"tweet_date\"] = pd.to_datetime(df_merged[\"tweet_date\"])"
   ]
  },
  {
   "cell_type": "code",
   "execution_count": 74,
   "id": "5a38b154",
   "metadata": {},
   "outputs": [],
   "source": [
    "df_merged = df_merged.groupby([pd.Grouper(key='tweet_date',freq='D'), \"party\"]).agg({\n",
    "    \"reply_count\": \"sum\", \n",
    "    \"retweet_count\": \"sum\",\n",
    "    \"like_count\": \"sum\",\n",
    "    \"avg_len_of_tweet\": \"mean\" ,\n",
    "    \"avg_followers_count\": \"mean\" ,\n",
    "    \"avg_following_count\": \"mean\" ,\n",
    "    \"avg_user_tweet_count\" :\"mean\",\n",
    "    \"avg_ff_ratio\" :\"mean\",\n",
    "    \"share_of_tweets\" :\"mean\",\n",
    "    \"share_unique_users\": \"mean\",\n",
    "    \"weighted_sentiment\" : \"mean\",\n",
    "    \"share_of_positive_tweets\": \"mean\",\n",
    "    \"share_of_negative_tweets\" : \"mean\",\n",
    "    \"poll\": \"mean\"}) "
   ]
  },
  {
   "cell_type": "code",
   "execution_count": 75,
   "id": "bcad93ec",
   "metadata": {},
   "outputs": [],
   "source": [
    "df_merged = df_merged.replace(np.nan, -9999)"
   ]
  },
  {
   "cell_type": "code",
   "execution_count": 76,
   "id": "4d8ed0b6",
   "metadata": {},
   "outputs": [],
   "source": [
    "df_merged_final_day = np.array(df_merged.iloc[-7:])"
   ]
  },
  {
   "cell_type": "code",
   "execution_count": 77,
   "id": "e85eacf1",
   "metadata": {
    "scrolled": true
   },
   "outputs": [],
   "source": [
    "df_merged_final_day = np.expand_dims(df_merged_final_day, axis = 0)"
   ]
  },
  {
   "cell_type": "code",
   "execution_count": 78,
   "id": "040e20e1",
   "metadata": {},
   "outputs": [],
   "source": [
    "df_merged = df_merged.iloc[:-7]"
   ]
  },
  {
   "cell_type": "code",
   "execution_count": 79,
   "id": "7e0cd3ae",
   "metadata": {},
   "outputs": [],
   "source": [
    "def splitting_data(df):\n",
    "    \n",
    "    split_percentage = 0.80\n",
    "    split_index = round(split_percentage * len(df)) \n",
    "    \n",
    "    for num in range(split_index, split_index + 7):\n",
    "        if df_merged[num:(num + 1)].index[0][1] == \"AFD\":\n",
    "            split_index = num\n",
    "        else:\n",
    "            pass\n",
    "    df_train = df[:split_index]\n",
    "    df_test = df[split_index:]\n",
    "    \n",
    "    return df_train, df_test"
   ]
  },
  {
   "cell_type": "code",
   "execution_count": 80,
   "id": "20e0788a",
   "metadata": {},
   "outputs": [],
   "source": [
    "df_train, df_test = splitting_data(df_merged)"
   ]
  },
  {
   "cell_type": "code",
   "execution_count": 81,
   "id": "9c726a27",
   "metadata": {},
   "outputs": [],
   "source": [
    "def subsequence(df, length):\n",
    "    last_possible_start = len(df) - length \n",
    "    random_start = random.randrange(0,last_possible_start,7)\n",
    "    X = df[random_start:random_start + length]\n",
    "    y = df[\"poll\"][(random_start + length ) : (random_start + length + 7)]\n",
    "    \n",
    "    return X, y"
   ]
  },
  {
   "cell_type": "code",
   "execution_count": 82,
   "id": "ab488360",
   "metadata": {},
   "outputs": [],
   "source": [
    "def multiple_subsequences(df, length):\n",
    "    \n",
    "    list_of_X = []\n",
    "    list_of_y = []\n",
    "    \n",
    "    number_of_subsequences = round(len(df) / length)\n",
    "    \n",
    "    for num in range(number_of_subsequences):\n",
    "        temporary_X, temporary_y = subsequence(df, length)\n",
    "        list_of_X.append(temporary_X)\n",
    "        list_of_y.append(temporary_y)\n",
    "        \n",
    "    \n",
    "    return list_of_X, list_of_y\n",
    "\n",
    "    \n",
    "    \n",
    "    "
   ]
  },
  {
   "cell_type": "code",
   "execution_count": 83,
   "id": "660eb3be",
   "metadata": {},
   "outputs": [],
   "source": [
    "X_train , y_train = multiple_subsequences(df_train, 28)\n",
    "X_test , y_test = multiple_subsequences(df_test, 28)"
   ]
  },
  {
   "cell_type": "code",
   "execution_count": 84,
   "id": "28d78207",
   "metadata": {
    "scrolled": true
   },
   "outputs": [],
   "source": [
    "X_train = np.array(X_train)\n",
    "X_test = np.array(X_test)\n",
    "y_train = np.array(y_train)\n",
    "y_test = np.array(y_test)\n"
   ]
  },
  {
   "cell_type": "code",
   "execution_count": null,
   "id": "aa949430",
   "metadata": {},
   "outputs": [],
   "source": []
  },
  {
   "cell_type": "code",
   "execution_count": 85,
   "id": "73427a56",
   "metadata": {},
   "outputs": [],
   "source": [
    "# X_test = df_merged_test.to_numpy().reshape(1,7,14)\n",
    "# X_train = df_merged.to_numpy().reshape(35,7,14)\n",
    "# y_test = df_merged_test[\"poll\"].to_numpy().reshape(18,7)\n",
    "# y_train = y.to_numpy().reshape(4,7)"
   ]
  },
  {
   "cell_type": "code",
   "execution_count": 86,
   "id": "6bdb2e0f",
   "metadata": {
    "scrolled": true
   },
   "outputs": [],
   "source": [
    "# def subsequence(df, length):\n",
    "#     X = []\n",
    "#     y = []\n",
    "#     counter = 0\n",
    "#     counter_y = 21\n",
    "#     last_possible = len(df) - length\n",
    "#     subsequences = round(len(df) / (length) )\n",
    "    \n",
    "#     for num in range(subsequences - 1):\n",
    "#         X.append(df[counter: counter + length])\n",
    "#         y.append(df[\"poll\"][counter_y: (counter_y + 7)])\n",
    "#         counter = counter + 7\n",
    "#         counter_y = counter_y + 7\n",
    "    \n",
    "#     return (X, y)\n",
    "\n",
    "# X_train, y_train = subsequence(df_train, 3)\n",
    "# X_test, y_test = subsequence(df_test, 3)"
   ]
  },
  {
   "cell_type": "code",
   "execution_count": null,
   "id": "893f28fa",
   "metadata": {},
   "outputs": [],
   "source": []
  },
  {
   "cell_type": "code",
   "execution_count": 87,
   "id": "a88bb62b",
   "metadata": {},
   "outputs": [],
   "source": [
    "# pd.DataFrame(y_testing.groupby(by = y_testing.index).mean()).set_index(y_testing.columns)"
   ]
  },
  {
   "cell_type": "code",
   "execution_count": 88,
   "id": "3a93ef1c",
   "metadata": {
    "scrolled": true
   },
   "outputs": [],
   "source": [
    "# pd.DataFrame(y_testing.groupby(by = y_testing.index).mean().unstack()).set_index()"
   ]
  },
  {
   "cell_type": "code",
   "execution_count": 89,
   "id": "0149b04b",
   "metadata": {},
   "outputs": [],
   "source": [
    "# X_test = df_merged_test.to_numpy().reshape(1,7,14)\n",
    "# X_train = df_merged.to_numpy().reshape(35,7,14)\n",
    "# y_test = df_merged_test[\"poll\"].to_numpy().reshape(1,7,1)\n",
    "# y_train = y.to_numpy().reshape(93,7)"
   ]
  },
  {
   "cell_type": "code",
   "execution_count": 90,
   "id": "944c007e",
   "metadata": {},
   "outputs": [],
   "source": [
    "# X_test = df_merged_test.to_numpy().reshape(1,7,14)\n",
    "# X_train = df_merged.to_numpy().reshape(35,7,14)\n",
    "# y_test = df_merged_test[\"poll\"].to_numpy().reshape(1,7,1)\n",
    "# y_train = y.to_numpy().reshape(93,7)"
   ]
  },
  {
   "cell_type": "code",
   "execution_count": null,
   "id": "7098f404",
   "metadata": {},
   "outputs": [],
   "source": []
  },
  {
   "cell_type": "code",
   "execution_count": 100,
   "id": "a9c75107",
   "metadata": {
    "scrolled": true
   },
   "outputs": [],
   "source": [
    "model = Sequential()\n",
    "model.add(layers.Masking(mask_value=-9999., input_shape=(X_train[0].shape)))\n",
    "model.add(layers.LSTM(units=64, activation='tanh', return_sequences=True))\n",
    "model.add(layers.LSTM(units=32, activation='tanh', return_sequences=False))\n",
    "model.add(layers.Dense(50, activation='relu'))\n",
    "model.add(layers.Dense(7, activation='linear'))\n"
   ]
  },
  {
   "cell_type": "code",
   "execution_count": 101,
   "id": "30effe79",
   "metadata": {},
   "outputs": [
    {
     "name": "stdout",
     "output_type": "stream",
     "text": [
      "Model: \"sequential_4\"\n",
      "_________________________________________________________________\n",
      "Layer (type)                 Output Shape              Param #   \n",
      "=================================================================\n",
      "masking_4 (Masking)          (None, 28, 14)            0         \n",
      "_________________________________________________________________\n",
      "lstm_4 (LSTM)                (None, 28, 64)            20224     \n",
      "_________________________________________________________________\n",
      "lstm_5 (LSTM)                (None, 32)                12416     \n",
      "_________________________________________________________________\n",
      "dense_4 (Dense)              (None, 50)                1650      \n",
      "_________________________________________________________________\n",
      "dense_5 (Dense)              (None, 7)                 357       \n",
      "=================================================================\n",
      "Total params: 34,647\n",
      "Trainable params: 34,647\n",
      "Non-trainable params: 0\n",
      "_________________________________________________________________\n"
     ]
    }
   ],
   "source": [
    "model.summary()"
   ]
  },
  {
   "cell_type": "code",
   "execution_count": 102,
   "id": "73e02523",
   "metadata": {
    "scrolled": false
   },
   "outputs": [
    {
     "name": "stdout",
     "output_type": "stream",
     "text": [
      "Epoch 1/50\n",
      "12/12 [==============================] - 9s 337ms/step - loss: 250.2393 - mae: 14.1956 - val_loss: 243.6093 - val_mae: 14.0693\n",
      "Epoch 2/50\n",
      "12/12 [==============================] - 0s 34ms/step - loss: 240.2448 - mae: 13.9192 - val_loss: 230.3627 - val_mae: 13.6760\n",
      "Epoch 3/50\n",
      "12/12 [==============================] - 1s 50ms/step - loss: 223.2778 - mae: 13.3861 - val_loss: 208.8926 - val_mae: 12.9533\n",
      "Epoch 4/50\n",
      "12/12 [==============================] - 1s 56ms/step - loss: 196.7812 - mae: 12.4312 - val_loss: 176.7876 - val_mae: 11.7192\n",
      "Epoch 5/50\n",
      "12/12 [==============================] - 1s 51ms/step - loss: 159.5804 - mae: 10.8825 - val_loss: 133.0867 - val_mae: 9.7441\n",
      "Epoch 6/50\n",
      "12/12 [==============================] - 1s 62ms/step - loss: 114.6074 - mae: 8.6650 - val_loss: 88.2265 - val_mae: 7.5296\n",
      "Epoch 7/50\n",
      "12/12 [==============================] - 1s 44ms/step - loss: 73.3836 - mae: 6.9236 - val_loss: 52.0520 - val_mae: 6.0409\n",
      "Epoch 8/50\n",
      "12/12 [==============================] - 1s 47ms/step - loss: 41.2100 - mae: 5.2626 - val_loss: 25.3108 - val_mae: 4.1700\n",
      "Epoch 9/50\n",
      "12/12 [==============================] - 1s 49ms/step - loss: 18.9458 - mae: 3.4072 - val_loss: 9.1822 - val_mae: 2.3458\n",
      "Epoch 10/50\n",
      "12/12 [==============================] - 1s 43ms/step - loss: 6.8998 - mae: 1.8955 - val_loss: 2.3418 - val_mae: 1.1966\n",
      "Epoch 11/50\n",
      "12/12 [==============================] - 0s 41ms/step - loss: 2.2837 - mae: 1.0388 - val_loss: 0.6293 - val_mae: 0.6651\n",
      "Epoch 12/50\n",
      "12/12 [==============================] - 0s 40ms/step - loss: 1.0795 - mae: 0.7841 - val_loss: 0.5120 - val_mae: 0.5460\n",
      "Epoch 13/50\n",
      "12/12 [==============================] - 0s 40ms/step - loss: 0.8399 - mae: 0.7314 - val_loss: 0.5870 - val_mae: 0.6017\n",
      "Epoch 14/50\n",
      "12/12 [==============================] - 0s 40ms/step - loss: 0.7818 - mae: 0.7060 - val_loss: 0.6095 - val_mae: 0.6320\n",
      "Epoch 15/50\n",
      "12/12 [==============================] - 0s 38ms/step - loss: 0.7620 - mae: 0.6897 - val_loss: 0.6047 - val_mae: 0.6311\n",
      "Epoch 16/50\n",
      "12/12 [==============================] - 1s 45ms/step - loss: 0.7569 - mae: 0.6829 - val_loss: 0.5965 - val_mae: 0.6226\n",
      "Epoch 17/50\n",
      "12/12 [==============================] - 1s 47ms/step - loss: 0.7562 - mae: 0.6810 - val_loss: 0.5907 - val_mae: 0.6169\n",
      "Epoch 18/50\n",
      "12/12 [==============================] - 1s 47ms/step - loss: 0.7559 - mae: 0.6806 - val_loss: 0.5872 - val_mae: 0.6149\n",
      "Epoch 19/50\n",
      "12/12 [==============================] - 1s 52ms/step - loss: 0.7557 - mae: 0.6811 - val_loss: 0.5852 - val_mae: 0.6147\n",
      "Epoch 20/50\n",
      "12/12 [==============================] - 0s 40ms/step - loss: 0.7555 - mae: 0.6816 - val_loss: 0.5842 - val_mae: 0.6146\n",
      "Epoch 21/50\n",
      "12/12 [==============================] - 1s 43ms/step - loss: 0.7554 - mae: 0.6819 - val_loss: 0.5837 - val_mae: 0.6143\n",
      "Epoch 22/50\n",
      "12/12 [==============================] - 1s 46ms/step - loss: 0.7553 - mae: 0.6819 - val_loss: 0.5834 - val_mae: 0.6139\n",
      "Epoch 23/50\n",
      "12/12 [==============================] - 1s 52ms/step - loss: 0.7551 - mae: 0.6818 - val_loss: 0.5832 - val_mae: 0.6136\n",
      "Epoch 24/50\n",
      "12/12 [==============================] - 1s 56ms/step - loss: 0.7549 - mae: 0.6817 - val_loss: 0.5831 - val_mae: 0.6134\n",
      "Epoch 25/50\n",
      "12/12 [==============================] - 1s 47ms/step - loss: 0.7547 - mae: 0.6816 - val_loss: 0.5830 - val_mae: 0.6132\n",
      "Epoch 26/50\n",
      "12/12 [==============================] - 1s 52ms/step - loss: 0.7544 - mae: 0.6815 - val_loss: 0.5828 - val_mae: 0.6129\n",
      "Epoch 27/50\n",
      "12/12 [==============================] - 1s 44ms/step - loss: 0.7542 - mae: 0.6815 - val_loss: 0.5826 - val_mae: 0.6126\n",
      "Epoch 28/50\n",
      "12/12 [==============================] - 1s 45ms/step - loss: 0.7539 - mae: 0.6815 - val_loss: 0.5825 - val_mae: 0.6123\n",
      "Epoch 29/50\n",
      "12/12 [==============================] - 1s 44ms/step - loss: 0.7536 - mae: 0.6814 - val_loss: 0.5823 - val_mae: 0.6120\n",
      "Epoch 30/50\n",
      "12/12 [==============================] - 1s 48ms/step - loss: 0.7533 - mae: 0.6814 - val_loss: 0.5821 - val_mae: 0.6117\n",
      "Epoch 31/50\n",
      "12/12 [==============================] - 0s 40ms/step - loss: 0.7530 - mae: 0.6813 - val_loss: 0.5819 - val_mae: 0.6114\n",
      "Epoch 32/50\n",
      "12/12 [==============================] - 0s 40ms/step - loss: 0.7526 - mae: 0.6812 - val_loss: 0.5818 - val_mae: 0.6111\n",
      "Epoch 33/50\n",
      "12/12 [==============================] - 0s 38ms/step - loss: 0.7523 - mae: 0.6812 - val_loss: 0.5816 - val_mae: 0.6108\n",
      "Epoch 34/50\n",
      "12/12 [==============================] - 0s 40ms/step - loss: 0.7519 - mae: 0.6811 - val_loss: 0.5814 - val_mae: 0.6104\n",
      "Epoch 35/50\n",
      "12/12 [==============================] - 0s 40ms/step - loss: 0.7516 - mae: 0.6810 - val_loss: 0.5813 - val_mae: 0.6101\n",
      "Epoch 36/50\n",
      "12/12 [==============================] - 0s 38ms/step - loss: 0.7512 - mae: 0.6809 - val_loss: 0.5811 - val_mae: 0.6098\n",
      "Epoch 37/50\n",
      "12/12 [==============================] - 0s 39ms/step - loss: 0.7508 - mae: 0.6809 - val_loss: 0.5810 - val_mae: 0.6094\n",
      "Epoch 38/50\n",
      "12/12 [==============================] - 1s 47ms/step - loss: 0.7503 - mae: 0.6808 - val_loss: 0.5809 - val_mae: 0.6090\n",
      "Epoch 39/50\n",
      "12/12 [==============================] - 1s 43ms/step - loss: 0.7499 - mae: 0.6807 - val_loss: 0.5808 - val_mae: 0.6087\n",
      "Epoch 40/50\n",
      "12/12 [==============================] - 0s 39ms/step - loss: 0.7495 - mae: 0.6805 - val_loss: 0.5806 - val_mae: 0.6084\n",
      "Epoch 41/50\n",
      "12/12 [==============================] - 1s 44ms/step - loss: 0.7490 - mae: 0.6804 - val_loss: 0.5805 - val_mae: 0.6084\n",
      "Epoch 42/50\n",
      "12/12 [==============================] - 0s 40ms/step - loss: 0.7485 - mae: 0.6803 - val_loss: 0.5804 - val_mae: 0.6083\n",
      "Epoch 43/50\n",
      "12/12 [==============================] - 0s 41ms/step - loss: 0.7480 - mae: 0.6802 - val_loss: 0.5803 - val_mae: 0.6082\n",
      "Epoch 44/50\n",
      "12/12 [==============================] - 1s 47ms/step - loss: 0.7475 - mae: 0.6800 - val_loss: 0.5803 - val_mae: 0.6082\n",
      "Epoch 45/50\n",
      "12/12 [==============================] - 1s 48ms/step - loss: 0.7470 - mae: 0.6799 - val_loss: 0.5802 - val_mae: 0.6081\n",
      "Epoch 46/50\n",
      "12/12 [==============================] - 1s 46ms/step - loss: 0.7464 - mae: 0.6797 - val_loss: 0.5801 - val_mae: 0.6080\n",
      "Epoch 47/50\n",
      "12/12 [==============================] - 1s 46ms/step - loss: 0.7459 - mae: 0.6796 - val_loss: 0.5801 - val_mae: 0.6080\n",
      "Epoch 48/50\n",
      "12/12 [==============================] - 1s 45ms/step - loss: 0.7453 - mae: 0.6794 - val_loss: 0.5800 - val_mae: 0.6079\n",
      "Epoch 49/50\n",
      "12/12 [==============================] - 1s 49ms/step - loss: 0.7447 - mae: 0.6792 - val_loss: 0.5800 - val_mae: 0.6078\n",
      "Epoch 50/50\n",
      "12/12 [==============================] - 1s 48ms/step - loss: 0.7441 - mae: 0.6790 - val_loss: 0.5800 - val_mae: 0.6078\n",
      "CPU times: user 1min 22s, sys: 32.8 s, total: 1min 55s\n",
      "Wall time: 35.3 s\n"
     ]
    }
   ],
   "source": [
    "%%time\n",
    "\n",
    "model.compile(loss='mse', optimizer='adam', metrics=['mae'])\n",
    "\n",
    "history = model.fit(X_train, y_train ,\n",
    "          epochs=50, \n",
    "          batch_size=1, \n",
    "          verbose=1, \n",
    "          validation_split=0.2,\n",
    "          shuffle = False\n",
    "     )\n",
    "\n"
   ]
  },
  {
   "cell_type": "code",
   "execution_count": 103,
   "id": "b6a21204",
   "metadata": {},
   "outputs": [
    {
     "name": "stdout",
     "output_type": "stream",
     "text": [
      "1/1 [==============================] - 2s 2s/step - loss: 9.0431 - mae: 2.2143\n"
     ]
    },
    {
     "data": {
      "text/plain": [
       "[9.043123245239258, 2.214262008666992]"
      ]
     },
     "execution_count": 103,
     "metadata": {},
     "output_type": "execute_result"
    }
   ],
   "source": [
    "model.evaluate(x = X_test, y= y_test )"
   ]
  },
  {
   "cell_type": "code",
   "execution_count": 104,
   "id": "4e517da5",
   "metadata": {
    "scrolled": false
   },
   "outputs": [
    {
     "name": "stdout",
     "output_type": "stream",
     "text": [
      "WARNING:tensorflow:Model was constructed with shape (None, 28, 14) for input KerasTensor(type_spec=TensorSpec(shape=(None, 28, 14), dtype=tf.float32, name='masking_4_input'), name='masking_4_input', description=\"created by layer 'masking_4_input'\"), but it was called on an input with incompatible shape (None, 7, 14).\n"
     ]
    }
   ],
   "source": [
    "df_prediction = pd.DataFrame(model.predict(df_merged_final_day)).rename( \\\n",
    "                        columns = {0:'AFD',1:'CDU',2:'FDP',3: 'GRUENE',4: 'LINKE', 5:'OTHER', 6: 'SPD'}).round(2)"
   ]
  },
  {
   "cell_type": "code",
   "execution_count": 105,
   "id": "2a2cc35c",
   "metadata": {},
   "outputs": [
    {
     "data": {
      "text/html": [
       "<div>\n",
       "<style scoped>\n",
       "    .dataframe tbody tr th:only-of-type {\n",
       "        vertical-align: middle;\n",
       "    }\n",
       "\n",
       "    .dataframe tbody tr th {\n",
       "        vertical-align: top;\n",
       "    }\n",
       "\n",
       "    .dataframe thead th {\n",
       "        text-align: right;\n",
       "    }\n",
       "</style>\n",
       "<table border=\"1\" class=\"dataframe\">\n",
       "  <thead>\n",
       "    <tr style=\"text-align: right;\">\n",
       "      <th></th>\n",
       "      <th>AFD</th>\n",
       "      <th>CDU</th>\n",
       "      <th>FDP</th>\n",
       "      <th>GRUENE</th>\n",
       "      <th>LINKE</th>\n",
       "      <th>OTHER</th>\n",
       "      <th>SPD</th>\n",
       "    </tr>\n",
       "  </thead>\n",
       "  <tbody>\n",
       "    <tr>\n",
       "      <th>0</th>\n",
       "      <td>10.02</td>\n",
       "      <td>26.91</td>\n",
       "      <td>11.31</td>\n",
       "      <td>18.379999</td>\n",
       "      <td>6.5</td>\n",
       "      <td>7.38</td>\n",
       "      <td>15.92</td>\n",
       "    </tr>\n",
       "  </tbody>\n",
       "</table>\n",
       "</div>"
      ],
      "text/plain": [
       "     AFD    CDU    FDP     GRUENE  LINKE  OTHER    SPD\n",
       "0  10.02  26.91  11.31  18.379999    6.5   7.38  15.92"
      ]
     },
     "execution_count": 105,
     "metadata": {},
     "output_type": "execute_result"
    }
   ],
   "source": [
    "df_prediction"
   ]
  },
  {
   "cell_type": "code",
   "execution_count": 106,
   "id": "2c48195f",
   "metadata": {},
   "outputs": [],
   "source": [
    "df_prediction.index = [\"pred\"]"
   ]
  },
  {
   "cell_type": "code",
   "execution_count": 107,
   "id": "e7673036",
   "metadata": {},
   "outputs": [
    {
     "data": {
      "text/html": [
       "<div>\n",
       "<style scoped>\n",
       "    .dataframe tbody tr th:only-of-type {\n",
       "        vertical-align: middle;\n",
       "    }\n",
       "\n",
       "    .dataframe tbody tr th {\n",
       "        vertical-align: top;\n",
       "    }\n",
       "\n",
       "    .dataframe thead th {\n",
       "        text-align: right;\n",
       "    }\n",
       "</style>\n",
       "<table border=\"1\" class=\"dataframe\">\n",
       "  <thead>\n",
       "    <tr style=\"text-align: right;\">\n",
       "      <th></th>\n",
       "      <th>AFD</th>\n",
       "      <th>CDU</th>\n",
       "      <th>FDP</th>\n",
       "      <th>GRUENE</th>\n",
       "      <th>LINKE</th>\n",
       "      <th>OTHER</th>\n",
       "      <th>SPD</th>\n",
       "    </tr>\n",
       "  </thead>\n",
       "  <tbody>\n",
       "    <tr>\n",
       "      <th>pred</th>\n",
       "      <td>10.4</td>\n",
       "      <td>27.9</td>\n",
       "      <td>11.7</td>\n",
       "      <td>19.1</td>\n",
       "      <td>6.7</td>\n",
       "      <td>7.7</td>\n",
       "      <td>16.5</td>\n",
       "    </tr>\n",
       "  </tbody>\n",
       "</table>\n",
       "</div>"
      ],
      "text/plain": [
       "       AFD   CDU   FDP  GRUENE  LINKE  OTHER   SPD\n",
       "pred  10.4  27.9  11.7    19.1    6.7    7.7  16.5"
      ]
     },
     "execution_count": 107,
     "metadata": {},
     "output_type": "execute_result"
    }
   ],
   "source": [
    "pd.DataFrame((df_prediction.iloc[0] * 100) / np.sum(df_prediction.iloc[0])).T.round(1)"
   ]
  },
  {
   "cell_type": "code",
   "execution_count": null,
   "id": "33c3ce81",
   "metadata": {},
   "outputs": [],
   "source": []
  },
  {
   "cell_type": "code",
   "execution_count": 99,
   "id": "c16d4ec7",
   "metadata": {},
   "outputs": [],
   "source": [
    "def plot_loss_mae(history):\n",
    "\n",
    "# --- LOSS\n",
    "\n",
    "    plt.plot(history.history['loss'])\n",
    "    plt.plot(history.history['val_loss'])\n",
    "    plt.title('Model MAE')\n",
    "    plt.ylabel('Loss')\n",
    "    plt.xlabel('Epoch')\n",
    "    plt.legend(['Train', 'Test'], loc='best')\n",
    "    plt.show()\n",
    "    \n",
    "# --- MAE\n",
    "\n",
    "    plt.plot(history.history['mae'])\n",
    "    plt.plot(history.history['val_mae'])\n",
    "    plt.title('Model MAE')\n",
    "    plt.ylabel('MAE')\n",
    "    plt.xlabel('Epoch')\n",
    "    plt.legend(['Train', 'Test'], loc='best')\n",
    "    plt.show()"
   ]
  },
  {
   "cell_type": "code",
   "execution_count": 61,
   "id": "b7aec32f",
   "metadata": {},
   "outputs": [
    {
     "data": {
      "image/png": "[encoded data removed]",
      "text/plain": [
       "<Figure size 842.4x595.44 with 1 Axes>"
      ]
     },
     "metadata": {},
     "output_type": "display_data"
    },
    {
     "data": {
      "image/png": "[encoded data removed]",
      "text/plain": [
       "<Figure size 842.4x595.44 with 1 Axes>"
      ]
     },
     "metadata": {},
     "output_type": "display_data"
    }
   ],
   "source": [
    "plot_loss_mae(history)"
   ]
  },
  {
   "cell_type": "code",
   "execution_count": 62,
   "id": "7108d27a",
   "metadata": {},
   "outputs": [
    {
     "data": {
      "text/plain": [
       "<AxesSubplot:xlabel='tweet_date'>"
      ]
     },
     "execution_count": 62,
     "metadata": {},
     "output_type": "execute_result"
    },
    {
     "data": {
      "image/png": "[encoded data removed]",
      "text/plain": [
       "<Figure size 842.4x595.44 with 1 Axes>"
      ]
     },
     "metadata": {},
     "output_type": "display_data"
    }
   ],
   "source": [
    "sns.set(rc={'figure.figsize':(11.7,8.27)})\n",
    "sns.lineplot( data = df_merged[\"poll\"].unstack())\n"
   ]
  },
  {
   "cell_type": "code",
   "execution_count": null,
   "id": "9b40090a",
   "metadata": {},
   "outputs": [],
   "source": []
  },
  {
   "cell_type": "code",
   "execution_count": null,
   "id": "b71044aa",
   "metadata": {},
   "outputs": [],
   "source": []
  },
  {
   "cell_type": "code",
   "execution_count": null,
   "id": "f3847dbd",
   "metadata": {},
   "outputs": [],
   "source": []
  },
  {
   "cell_type": "code",
   "execution_count": null,
   "id": "547dcd85",
   "metadata": {},
   "outputs": [],
   "source": []
  },
  {
   "cell_type": "code",
   "execution_count": null,
   "id": "f3095dfd",
   "metadata": {},
   "outputs": [],
   "source": []
  },
  {
   "cell_type": "code",
   "execution_count": null,
   "id": "87d6ecc5",
   "metadata": {},
   "outputs": [],
   "source": []
  },
  {
   "cell_type": "code",
   "execution_count": null,
   "id": "548ee2e5",
   "metadata": {},
   "outputs": [],
   "source": []
  },
  {
   "cell_type": "code",
   "execution_count": null,
   "id": "07ff6d10",
   "metadata": {},
   "outputs": [],
   "source": []
  },
  {
   "cell_type": "code",
   "execution_count": null,
   "id": "b53990d3",
   "metadata": {},
   "outputs": [],
   "source": []
  },
  {
   "cell_type": "code",
   "execution_count": null,
   "id": "4dbcff43",
   "metadata": {},
   "outputs": [],
   "source": []
  },
  {
   "cell_type": "code",
   "execution_count": null,
   "id": "2e5fd573",
   "metadata": {},
   "outputs": [],
   "source": []
  },
  {
   "cell_type": "code",
   "execution_count": null,
   "id": "9178c877",
   "metadata": {},
   "outputs": [],
   "source": []
  },
  {
   "cell_type": "code",
   "execution_count": null,
   "id": "fe043e47",
   "metadata": {},
   "outputs": [],
   "source": []
  }
 ],
 "metadata": {
  "kernelspec": {
   "display_name": "Python 3 (ipykernel)",
   "language": "python",
   "name": "python3"
  },
  "language_info": {
   "codemirror_mode": {
    "name": "ipython",
    "version": 3
   },
   "file_extension": ".py",
   "mimetype": "text/x-python",
   "name": "python",
   "nbconvert_exporter": "python",
   "pygments_lexer": "ipython3",
   "version": "3.8.6"
  },
  "toc": {
   "base_numbering": 1,
   "nav_menu": {},
   "number_sections": true,
   "sideBar": true,
   "skip_h1_title": false,
   "title_cell": "Table of Contents",
   "title_sidebar": "Contents",
   "toc_cell": false,
   "toc_position": {},
   "toc_section_display": true,
   "toc_window_display": false
  }
 },
 "nbformat": 4,
 "nbformat_minor": 5
}
