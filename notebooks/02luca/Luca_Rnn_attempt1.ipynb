{
 "cells": [
  {
   "cell_type": "code",
   "execution_count": 313,
   "id": "109c5f4f",
   "metadata": {},
   "outputs": [],
   "source": [
    "from tensorflow import keras\n",
    "import numpy as np\n",
    "import pandas as pd\n",
    "import matplotlib.pyplot as plt\n",
    "import seaborn as sns\n",
    "from keras.layers import Normalization\n",
    "from keras.models import Sequential\n",
    "from keras.layers import Dense, SimpleRNN, Flatten\n",
    "from keras import layers\n",
    "pd.set_option('display.max_rows', 1000)\n"
   ]
  },
  {
   "cell_type": "code",
   "execution_count": null,
   "id": "1a22f586",
   "metadata": {},
   "outputs": [],
   "source": []
  },
  {
   "cell_type": "code",
   "execution_count": 314,
   "id": "dcfd2f1f",
   "metadata": {},
   "outputs": [
    {
     "data": {
      "text/plain": [
       "MultiIndex([('2021-04-26',              'AFD'),\n",
       "            ('2021-04-26',              'CDU'),\n",
       "            ('2021-04-26',              'FDP'),\n",
       "            ('2021-04-26',           'GRUENE'),\n",
       "            ('2021-04-26',            'LINKE'),\n",
       "            ('2021-04-26',              'SPD'),\n",
       "            ('2021-04-26', 'Surveyed_Persons'),\n",
       "            ('2021-04-26',            'other'),\n",
       "            ('2021-04-27',              'AFD'),\n",
       "            ('2021-04-27',              'CDU'),\n",
       "            ...\n",
       "            ('2021-08-23', 'Surveyed_Persons'),\n",
       "            ('2021-08-23',            'other'),\n",
       "            ('2021-08-24',              'AFD'),\n",
       "            ('2021-08-24',              'CDU'),\n",
       "            ('2021-08-24',              'FDP'),\n",
       "            ('2021-08-24',           'GRUENE'),\n",
       "            ('2021-08-24',            'LINKE'),\n",
       "            ('2021-08-24',              'SPD'),\n",
       "            ('2021-08-24', 'Surveyed_Persons'),\n",
       "            ('2021-08-24',            'other')],\n",
       "           names=['created_at', 'party'], length=968)"
      ]
     },
     "execution_count": 314,
     "metadata": {},
     "output_type": "execute_result"
    }
   ],
   "source": [
    "df_merged.index"
   ]
  },
  {
   "cell_type": "code",
   "execution_count": 328,
   "id": "db34ad25",
   "metadata": {},
   "outputs": [],
   "source": [
    "df_merged = pd.read_csv(\"final_2021_v3.csv\")"
   ]
  },
  {
   "cell_type": "code",
   "execution_count": 329,
   "id": "3ea8d49c",
   "metadata": {},
   "outputs": [],
   "source": [
    "df_merged[\"created_at\"] = pd.to_datetime(df_merged[\"created_at\"])"
   ]
  },
  {
   "cell_type": "code",
   "execution_count": 330,
   "id": "5a38b154",
   "metadata": {},
   "outputs": [],
   "source": [
    "df_merged = df_merged.groupby([pd.Grouper(key='created_at',freq='D'), \"party\"]).agg({\n",
    "    \"replies_count\": \"sum\", \n",
    "    \"retweets_count\": \"sum\",\n",
    "    \"likes_count\": \"sum\",\n",
    "    \"avg_len_of_tweet\": \"mean\" ,\n",
    "    \"share_of_tweets\" :\"mean\",\n",
    "    \"share_unique_users\": \"mean\",\n",
    "    \"weighted_sentiment\" : \"mean\",\n",
    "    \"share_of_positive_tweets\": \"mean\",\n",
    "    \"share_of_negative_tweets\" : \"mean\",\n",
    "    \"Polls\": \"mean\"}) "
   ]
  },
  {
   "cell_type": "code",
   "execution_count": 331,
   "id": "bcad93ec",
   "metadata": {},
   "outputs": [],
   "source": [
    "df_merged = df_merged.replace(np.nan, -9999)"
   ]
  },
  {
   "cell_type": "code",
   "execution_count": 359,
   "id": "1c88f9cf",
   "metadata": {
    "scrolled": true
   },
   "outputs": [],
   "source": [
    "model = Sequential()\n",
    "model.add(layers.Masking(mask_value=-9999., input_shape=(7,10)))\n",
    "model.add(layers.LSTM(units=20, activation='tanh', return_sequences=True))\n",
    "model.add(layers.LSTM(units=20, activation='tanh', return_sequences=False))\n",
    "model.add(layers.Dense(50, activation='relu'))\n",
    "model.add(layers.Dropout(0.3))\n",
    "model.add(layers.Dense(7, activation='linear'))\n"
   ]
  },
  {
   "cell_type": "code",
   "execution_count": 381,
   "id": "e3c06fd4",
   "metadata": {},
   "outputs": [
    {
     "name": "stdout",
     "output_type": "stream",
     "text": [
      "Model: \"sequential_23\"\n",
      "_________________________________________________________________\n",
      "Layer (type)                 Output Shape              Param #   \n",
      "=================================================================\n",
      "masking_16 (Masking)         (None, 7, 10)             0         \n",
      "_________________________________________________________________\n",
      "lstm_39 (LSTM)               (None, 7, 20)             2480      \n",
      "_________________________________________________________________\n",
      "lstm_40 (LSTM)               (None, 20)                3280      \n",
      "_________________________________________________________________\n",
      "dense_31 (Dense)             (None, 50)                1050      \n",
      "_________________________________________________________________\n",
      "dropout_16 (Dropout)         (None, 50)                0         \n",
      "_________________________________________________________________\n",
      "dense_32 (Dense)             (None, 7)                 357       \n",
      "=================================================================\n",
      "Total params: 7,167\n",
      "Trainable params: 7,167\n",
      "Non-trainable params: 0\n",
      "_________________________________________________________________\n"
     ]
    }
   ],
   "source": [
    "model.summary()"
   ]
  },
  {
   "cell_type": "code",
   "execution_count": 360,
   "id": "4d8ed0b6",
   "metadata": {},
   "outputs": [],
   "source": [
    "df_merged_test = df_merged.iloc[616:623]"
   ]
  },
  {
   "cell_type": "code",
   "execution_count": 361,
   "id": "944c007e",
   "metadata": {},
   "outputs": [],
   "source": [
    "df_merged_test_numpy = df_merged_test.to_numpy().reshape(1,7,10)"
   ]
  },
  {
   "cell_type": "code",
   "execution_count": 362,
   "id": "c52def63",
   "metadata": {},
   "outputs": [
    {
     "data": {
      "text/plain": [
       "(847, 10)"
      ]
     },
     "execution_count": 362,
     "metadata": {},
     "output_type": "execute_result"
    }
   ],
   "source": [
    "df_merged.shape"
   ]
  },
  {
   "cell_type": "code",
   "execution_count": 363,
   "id": "d6d43147",
   "metadata": {},
   "outputs": [],
   "source": [
    "df_merged_numpy = df_merged.to_numpy().reshape(121,7,10)"
   ]
  },
  {
   "cell_type": "code",
   "execution_count": 364,
   "id": "59c11dea",
   "metadata": {},
   "outputs": [],
   "source": [
    "y = df_merged[\"Polls\"]"
   ]
  },
  {
   "cell_type": "code",
   "execution_count": 365,
   "id": "03554a1e",
   "metadata": {},
   "outputs": [],
   "source": [
    "y_numpy = y.to_numpy().reshape(121,7)"
   ]
  },
  {
   "cell_type": "code",
   "execution_count": null,
   "id": "d07a5bd5",
   "metadata": {},
   "outputs": [],
   "source": []
  },
  {
   "cell_type": "code",
   "execution_count": 376,
   "id": "73e02523",
   "metadata": {
    "scrolled": true
   },
   "outputs": [
    {
     "name": "stdout",
     "output_type": "stream",
     "text": [
      "Epoch 1/25\n",
      "96/96 [==============================] - 10s 29ms/step - loss: 38.3990 - mae: 4.2157 - val_loss: 78.1912 - val_mae: 5.9295\n",
      "Epoch 2/25\n",
      "96/96 [==============================] - 1s 15ms/step - loss: 38.7092 - mae: 4.3831 - val_loss: 76.0582 - val_mae: 5.8241\n",
      "Epoch 3/25\n",
      "96/96 [==============================] - 1s 15ms/step - loss: 33.6408 - mae: 3.9679 - val_loss: 75.8722 - val_mae: 5.7814\n",
      "Epoch 4/25\n",
      "96/96 [==============================] - 1s 15ms/step - loss: 34.9774 - mae: 4.0526 - val_loss: 76.4030 - val_mae: 5.8386\n",
      "Epoch 5/25\n",
      "96/96 [==============================] - 1s 14ms/step - loss: 34.9209 - mae: 3.9880 - val_loss: 77.7269 - val_mae: 5.9102\n",
      "Epoch 6/25\n",
      "96/96 [==============================] - 1s 16ms/step - loss: 34.9146 - mae: 4.0270 - val_loss: 74.6004 - val_mae: 5.8046\n",
      "Epoch 7/25\n",
      "96/96 [==============================] - 1s 15ms/step - loss: 34.5969 - mae: 4.0009 - val_loss: 74.2310 - val_mae: 5.7386\n",
      "Epoch 8/25\n",
      "96/96 [==============================] - 1s 15ms/step - loss: 36.4334 - mae: 4.0845 - val_loss: 74.4199 - val_mae: 5.7555\n",
      "Epoch 9/25\n",
      "96/96 [==============================] - 1s 14ms/step - loss: 33.6867 - mae: 3.9719 - val_loss: 76.2383 - val_mae: 5.8504\n",
      "Epoch 10/25\n",
      "96/96 [==============================] - 2s 18ms/step - loss: 34.4075 - mae: 4.0594 - val_loss: 75.7785 - val_mae: 5.8481\n",
      "Epoch 11/25\n",
      "96/96 [==============================] - 2s 17ms/step - loss: 35.1418 - mae: 4.0177 - val_loss: 73.1456 - val_mae: 5.7066\n",
      "Epoch 12/25\n",
      "96/96 [==============================] - 2s 17ms/step - loss: 34.9460 - mae: 3.9368 - val_loss: 72.4982 - val_mae: 5.7053\n",
      "Epoch 13/25\n",
      "96/96 [==============================] - 2s 17ms/step - loss: 33.8359 - mae: 3.9340 - val_loss: 72.8942 - val_mae: 5.7384\n",
      "Epoch 14/25\n",
      "96/96 [==============================] - 1s 15ms/step - loss: 36.7476 - mae: 4.1862 - val_loss: 74.1214 - val_mae: 5.7831\n",
      "Epoch 15/25\n",
      "96/96 [==============================] - 1s 14ms/step - loss: 34.2539 - mae: 3.9879 - val_loss: 71.5826 - val_mae: 5.6435\n",
      "Epoch 16/25\n",
      "96/96 [==============================] - 1s 14ms/step - loss: 33.4145 - mae: 3.8927 - val_loss: 74.2867 - val_mae: 5.7853\n",
      "Epoch 17/25\n",
      "96/96 [==============================] - 1s 14ms/step - loss: 34.8758 - mae: 3.9740 - val_loss: 72.3646 - val_mae: 5.6994\n",
      "Epoch 18/25\n",
      "96/96 [==============================] - 1s 15ms/step - loss: 34.1158 - mae: 3.9292 - val_loss: 69.5687 - val_mae: 5.5560\n",
      "Epoch 19/25\n",
      "96/96 [==============================] - 2s 18ms/step - loss: 36.3097 - mae: 4.1433 - val_loss: 68.3371 - val_mae: 5.5154\n",
      "Epoch 20/25\n",
      "96/96 [==============================] - 1s 15ms/step - loss: 32.9363 - mae: 3.8504 - val_loss: 69.1334 - val_mae: 5.5314\n",
      "Epoch 21/25\n",
      "96/96 [==============================] - 2s 16ms/step - loss: 33.8344 - mae: 3.9455 - val_loss: 71.4868 - val_mae: 5.6494\n",
      "Epoch 22/25\n",
      "96/96 [==============================] - 2s 16ms/step - loss: 36.7243 - mae: 4.1252 - val_loss: 68.3999 - val_mae: 5.5184\n",
      "Epoch 23/25\n",
      "96/96 [==============================] - 2s 16ms/step - loss: 35.6010 - mae: 4.1284 - val_loss: 66.9402 - val_mae: 5.4588\n",
      "Epoch 24/25\n",
      "96/96 [==============================] - 2s 16ms/step - loss: 33.6617 - mae: 3.8780 - val_loss: 68.9936 - val_mae: 5.5428\n",
      "Epoch 25/25\n",
      "96/96 [==============================] - 1s 15ms/step - loss: 31.8881 - mae: 3.7913 - val_loss: 69.2525 - val_mae: 5.5505\n"
     ]
    },
    {
     "data": {
      "text/plain": [
       "<keras.callbacks.History at 0x7f20c3b31e50>"
      ]
     },
     "execution_count": 376,
     "metadata": {},
     "output_type": "execute_result"
    }
   ],
   "source": [
    "\n",
    "\n",
    "model.compile(loss='mse', optimizer='adam', metrics=['mae'])\n",
    "\n",
    "model.fit(df_merged_numpy, y_numpy ,\n",
    "              epochs=25, \n",
    "              batch_size=1, \n",
    "              verbose=1, \n",
    "              validation_split=0.2)\n",
    "\n"
   ]
  },
  {
   "cell_type": "code",
   "execution_count": null,
   "id": "b6a21204",
   "metadata": {},
   "outputs": [],
   "source": []
  },
  {
   "cell_type": "code",
   "execution_count": 379,
   "id": "4e517da5",
   "metadata": {},
   "outputs": [
    {
     "data": {
      "text/html": [
       "<div>\n",
       "<style scoped>\n",
       "    .dataframe tbody tr th:only-of-type {\n",
       "        vertical-align: middle;\n",
       "    }\n",
       "\n",
       "    .dataframe tbody tr th {\n",
       "        vertical-align: top;\n",
       "    }\n",
       "\n",
       "    .dataframe thead th {\n",
       "        text-align: right;\n",
       "    }\n",
       "</style>\n",
       "<table border=\"1\" class=\"dataframe\">\n",
       "  <thead>\n",
       "    <tr style=\"text-align: right;\">\n",
       "      <th></th>\n",
       "      <th>AFD</th>\n",
       "      <th>CDU</th>\n",
       "      <th>FDP</th>\n",
       "      <th>GRUENE</th>\n",
       "      <th>LINKE</th>\n",
       "      <th>SPD</th>\n",
       "      <th>other</th>\n",
       "    </tr>\n",
       "  </thead>\n",
       "  <tbody>\n",
       "    <tr>\n",
       "      <th>0</th>\n",
       "      <td>11.61</td>\n",
       "      <td>21.469999</td>\n",
       "      <td>10.83</td>\n",
       "      <td>19.190001</td>\n",
       "      <td>7.61</td>\n",
       "      <td>15.31</td>\n",
       "      <td>10.76</td>\n",
       "    </tr>\n",
       "  </tbody>\n",
       "</table>\n",
       "</div>"
      ],
      "text/plain": [
       "     AFD        CDU    FDP     GRUENE  LINKE    SPD  other\n",
       "0  11.61  21.469999  10.83  19.190001   7.61  15.31  10.76"
      ]
     },
     "execution_count": 379,
     "metadata": {},
     "output_type": "execute_result"
    }
   ],
   "source": [
    "pd.DataFrame(model.predict(df_merged_test_numpy)).rename( \\\n",
    "                        columns = {0:'AFD',1:'CDU',2:'FDP',3: 'GRUENE',4: 'LINKE', 5:'SPD', 6: 'other'}).round(2)"
   ]
  },
  {
   "cell_type": "code",
   "execution_count": null,
   "id": "7108d27a",
   "metadata": {},
   "outputs": [],
   "source": []
  },
  {
   "cell_type": "code",
   "execution_count": null,
   "id": "9b40090a",
   "metadata": {},
   "outputs": [],
   "source": []
  }
 ],
 "metadata": {
  "kernelspec": {
   "display_name": "Python 3 (ipykernel)",
   "language": "python",
   "name": "python3"
  },
  "language_info": {
   "codemirror_mode": {
    "name": "ipython",
    "version": 3
   },
   "file_extension": ".py",
   "mimetype": "text/x-python",
   "name": "python",
   "nbconvert_exporter": "python",
   "pygments_lexer": "ipython3",
   "version": "3.8.6"
  },
  "toc": {
   "base_numbering": 1,
   "nav_menu": {},
   "number_sections": true,
   "sideBar": true,
   "skip_h1_title": false,
   "title_cell": "Table of Contents",
   "title_sidebar": "Contents",
   "toc_cell": false,
   "toc_position": {},
   "toc_section_display": true,
   "toc_window_display": false
  }
 },
 "nbformat": 4,
 "nbformat_minor": 5
}
