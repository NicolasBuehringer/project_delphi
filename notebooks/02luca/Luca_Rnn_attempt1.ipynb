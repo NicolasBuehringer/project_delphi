{
 "cells": [
  {
   "cell_type": "code",
   "execution_count": 3,
   "id": "109c5f4f",
   "metadata": {},
   "outputs": [
    {
     "name": "stderr",
     "output_type": "stream",
     "text": [
      "2021-08-31 09:19:27.196319: W tensorflow/stream_executor/platform/default/dso_loader.cc:64] Could not load dynamic library 'libcudart.so.11.0'; dlerror: libcudart.so.11.0: cannot open shared object file: No such file or directory\n",
      "2021-08-31 09:19:27.196381: I tensorflow/stream_executor/cuda/cudart_stub.cc:29] Ignore above cudart dlerror if you do not have a GPU set up on your machine.\n"
     ]
    }
   ],
   "source": [
    "from tensorflow import keras\n",
    "import numpy as np\n",
    "import pandas as pd\n",
    "import matplotlib.pyplot as plt\n",
    "import seaborn as sns\n",
    "from keras.layers import Normalization\n",
    "from keras.models import Sequential\n",
    "from keras.layers import Dense, SimpleRNN, Flatten\n",
    "from keras import layers\n",
    "pd.set_option('display.max_rows', 50)\n",
    "from tensorflow.keras import optimizers\n"
   ]
  },
  {
   "cell_type": "code",
   "execution_count": null,
   "id": "1a22f586",
   "metadata": {},
   "outputs": [],
   "source": []
  },
  {
   "cell_type": "code",
   "execution_count": null,
   "id": "dcfd2f1f",
   "metadata": {},
   "outputs": [],
   "source": []
  },
  {
   "cell_type": "code",
   "execution_count": 4,
   "id": "db34ad25",
   "metadata": {},
   "outputs": [],
   "source": [
    "df_merged = pd.read_csv(\"data_final_20210826_v1.csv\")"
   ]
  },
  {
   "cell_type": "code",
   "execution_count": 5,
   "id": "dd24b0ad",
   "metadata": {},
   "outputs": [
    {
     "data": {
      "text/html": [
       "<div>\n",
       "<style scoped>\n",
       "    .dataframe tbody tr th:only-of-type {\n",
       "        vertical-align: middle;\n",
       "    }\n",
       "\n",
       "    .dataframe tbody tr th {\n",
       "        vertical-align: top;\n",
       "    }\n",
       "\n",
       "    .dataframe thead th {\n",
       "        text-align: right;\n",
       "    }\n",
       "</style>\n",
       "<table border=\"1\" class=\"dataframe\">\n",
       "  <thead>\n",
       "    <tr style=\"text-align: right;\">\n",
       "      <th></th>\n",
       "      <th>tweet_date</th>\n",
       "      <th>party</th>\n",
       "      <th>poll</th>\n",
       "      <th>reply_count</th>\n",
       "      <th>retweet_count</th>\n",
       "      <th>like_count</th>\n",
       "      <th>avg_len_of_tweet</th>\n",
       "      <th>avg_followers_count</th>\n",
       "      <th>avg_following_count</th>\n",
       "      <th>avg_user_tweet_count</th>\n",
       "      <th>avg_ff_ratio</th>\n",
       "      <th>share_of_tweets</th>\n",
       "      <th>share_unique_users</th>\n",
       "      <th>weighted_sentiment</th>\n",
       "      <th>share_of_positive_tweets</th>\n",
       "      <th>share_of_negative_tweets</th>\n",
       "    </tr>\n",
       "  </thead>\n",
       "  <tbody>\n",
       "    <tr>\n",
       "      <th>460</th>\n",
       "      <td>2021-07-30</td>\n",
       "      <td>OTHER</td>\n",
       "      <td>7.33</td>\n",
       "      <td>2635.0</td>\n",
       "      <td>3883.0</td>\n",
       "      <td>23901.0</td>\n",
       "      <td>167.194377</td>\n",
       "      <td>950.716381</td>\n",
       "      <td>691.559087</td>\n",
       "      <td>14127.194784</td>\n",
       "      <td>1.374744</td>\n",
       "      <td>0.073431</td>\n",
       "      <td>0.627139</td>\n",
       "      <td>0.147255</td>\n",
       "      <td>0.077832</td>\n",
       "      <td>0.328851</td>\n",
       "    </tr>\n",
       "    <tr>\n",
       "      <th>461</th>\n",
       "      <td>2021-07-30</td>\n",
       "      <td>SPD</td>\n",
       "      <td>16.33</td>\n",
       "      <td>4419.0</td>\n",
       "      <td>4506.0</td>\n",
       "      <td>41132.0</td>\n",
       "      <td>168.444372</td>\n",
       "      <td>3084.162186</td>\n",
       "      <td>915.753224</td>\n",
       "      <td>29096.511257</td>\n",
       "      <td>3.367897</td>\n",
       "      <td>0.136898</td>\n",
       "      <td>0.673880</td>\n",
       "      <td>-0.376827</td>\n",
       "      <td>0.051148</td>\n",
       "      <td>0.468634</td>\n",
       "    </tr>\n",
       "    <tr>\n",
       "      <th>462</th>\n",
       "      <td>2021-07-31</td>\n",
       "      <td>AFD</td>\n",
       "      <td>11.17</td>\n",
       "      <td>3656.0</td>\n",
       "      <td>4719.0</td>\n",
       "      <td>28514.0</td>\n",
       "      <td>175.035764</td>\n",
       "      <td>8991.022353</td>\n",
       "      <td>739.160659</td>\n",
       "      <td>21462.787091</td>\n",
       "      <td>12.163827</td>\n",
       "      <td>0.155150</td>\n",
       "      <td>0.654652</td>\n",
       "      <td>-0.658055</td>\n",
       "      <td>0.065940</td>\n",
       "      <td>0.551271</td>\n",
       "    </tr>\n",
       "    <tr>\n",
       "      <th>463</th>\n",
       "      <td>2021-07-31</td>\n",
       "      <td>CDU</td>\n",
       "      <td>27.33</td>\n",
       "      <td>5451.0</td>\n",
       "      <td>8435.0</td>\n",
       "      <td>61975.0</td>\n",
       "      <td>175.515379</td>\n",
       "      <td>5703.071670</td>\n",
       "      <td>847.149375</td>\n",
       "      <td>24929.225460</td>\n",
       "      <td>6.732073</td>\n",
       "      <td>0.294564</td>\n",
       "      <td>0.629875</td>\n",
       "      <td>-0.310445</td>\n",
       "      <td>0.040177</td>\n",
       "      <td>0.443561</td>\n",
       "    </tr>\n",
       "    <tr>\n",
       "      <th>464</th>\n",
       "      <td>2021-07-31</td>\n",
       "      <td>FDP</td>\n",
       "      <td>12.33</td>\n",
       "      <td>4611.0</td>\n",
       "      <td>8075.0</td>\n",
       "      <td>50840.0</td>\n",
       "      <td>189.091832</td>\n",
       "      <td>3687.603682</td>\n",
       "      <td>723.330512</td>\n",
       "      <td>23621.121244</td>\n",
       "      <td>5.098089</td>\n",
       "      <td>0.204873</td>\n",
       "      <td>0.637325</td>\n",
       "      <td>-0.103421</td>\n",
       "      <td>0.052264</td>\n",
       "      <td>0.392510</td>\n",
       "    </tr>\n",
       "    <tr>\n",
       "      <th>...</th>\n",
       "      <td>...</td>\n",
       "      <td>...</td>\n",
       "      <td>...</td>\n",
       "      <td>...</td>\n",
       "      <td>...</td>\n",
       "      <td>...</td>\n",
       "      <td>...</td>\n",
       "      <td>...</td>\n",
       "      <td>...</td>\n",
       "      <td>...</td>\n",
       "      <td>...</td>\n",
       "      <td>...</td>\n",
       "      <td>...</td>\n",
       "      <td>...</td>\n",
       "      <td>...</td>\n",
       "      <td>...</td>\n",
       "    </tr>\n",
       "    <tr>\n",
       "      <th>646</th>\n",
       "      <td>2021-08-26</td>\n",
       "      <td>FDP</td>\n",
       "      <td>12.00</td>\n",
       "      <td>7423.0</td>\n",
       "      <td>9063.0</td>\n",
       "      <td>63348.0</td>\n",
       "      <td>178.698807</td>\n",
       "      <td>4663.179284</td>\n",
       "      <td>690.310107</td>\n",
       "      <td>20607.243817</td>\n",
       "      <td>6.755195</td>\n",
       "      <td>0.193819</td>\n",
       "      <td>0.638167</td>\n",
       "      <td>-0.149995</td>\n",
       "      <td>0.062775</td>\n",
       "      <td>0.406026</td>\n",
       "    </tr>\n",
       "    <tr>\n",
       "      <th>647</th>\n",
       "      <td>2021-08-26</td>\n",
       "      <td>GRUENE</td>\n",
       "      <td>18.00</td>\n",
       "      <td>3976.0</td>\n",
       "      <td>3199.0</td>\n",
       "      <td>29066.0</td>\n",
       "      <td>155.032074</td>\n",
       "      <td>3785.480448</td>\n",
       "      <td>749.313049</td>\n",
       "      <td>17960.210457</td>\n",
       "      <td>5.051935</td>\n",
       "      <td>0.110768</td>\n",
       "      <td>0.716828</td>\n",
       "      <td>-0.577197</td>\n",
       "      <td>0.056459</td>\n",
       "      <td>0.527460</td>\n",
       "    </tr>\n",
       "    <tr>\n",
       "      <th>648</th>\n",
       "      <td>2021-08-26</td>\n",
       "      <td>LINKE</td>\n",
       "      <td>7.00</td>\n",
       "      <td>887.0</td>\n",
       "      <td>713.0</td>\n",
       "      <td>5282.0</td>\n",
       "      <td>190.801338</td>\n",
       "      <td>963.538462</td>\n",
       "      <td>684.646823</td>\n",
       "      <td>20400.862207</td>\n",
       "      <td>1.407351</td>\n",
       "      <td>0.036379</td>\n",
       "      <td>0.590635</td>\n",
       "      <td>-0.134164</td>\n",
       "      <td>0.060201</td>\n",
       "      <td>0.400669</td>\n",
       "    </tr>\n",
       "    <tr>\n",
       "      <th>649</th>\n",
       "      <td>2021-08-26</td>\n",
       "      <td>OTHER</td>\n",
       "      <td>6.00</td>\n",
       "      <td>1550.0</td>\n",
       "      <td>2166.0</td>\n",
       "      <td>11618.0</td>\n",
       "      <td>175.401146</td>\n",
       "      <td>1340.969436</td>\n",
       "      <td>638.417861</td>\n",
       "      <td>14171.402579</td>\n",
       "      <td>2.100457</td>\n",
       "      <td>0.050955</td>\n",
       "      <td>0.579752</td>\n",
       "      <td>-0.129097</td>\n",
       "      <td>0.087393</td>\n",
       "      <td>0.409742</td>\n",
       "    </tr>\n",
       "    <tr>\n",
       "      <th>650</th>\n",
       "      <td>2021-08-26</td>\n",
       "      <td>SPD</td>\n",
       "      <td>23.00</td>\n",
       "      <td>8877.0</td>\n",
       "      <td>10807.0</td>\n",
       "      <td>89094.0</td>\n",
       "      <td>171.685269</td>\n",
       "      <td>6223.901363</td>\n",
       "      <td>887.675427</td>\n",
       "      <td>25279.190893</td>\n",
       "      <td>7.011461</td>\n",
       "      <td>0.224991</td>\n",
       "      <td>0.617673</td>\n",
       "      <td>-0.255832</td>\n",
       "      <td>0.073221</td>\n",
       "      <td>0.443543</td>\n",
       "    </tr>\n",
       "  </tbody>\n",
       "</table>\n",
       "<p>191 rows × 16 columns</p>\n",
       "</div>"
      ],
      "text/plain": [
       "     tweet_date   party   poll  reply_count  retweet_count  like_count  \\\n",
       "460  2021-07-30   OTHER   7.33       2635.0         3883.0     23901.0   \n",
       "461  2021-07-30     SPD  16.33       4419.0         4506.0     41132.0   \n",
       "462  2021-07-31     AFD  11.17       3656.0         4719.0     28514.0   \n",
       "463  2021-07-31     CDU  27.33       5451.0         8435.0     61975.0   \n",
       "464  2021-07-31     FDP  12.33       4611.0         8075.0     50840.0   \n",
       "..          ...     ...    ...          ...            ...         ...   \n",
       "646  2021-08-26     FDP  12.00       7423.0         9063.0     63348.0   \n",
       "647  2021-08-26  GRUENE  18.00       3976.0         3199.0     29066.0   \n",
       "648  2021-08-26   LINKE   7.00        887.0          713.0      5282.0   \n",
       "649  2021-08-26   OTHER   6.00       1550.0         2166.0     11618.0   \n",
       "650  2021-08-26     SPD  23.00       8877.0        10807.0     89094.0   \n",
       "\n",
       "     avg_len_of_tweet  avg_followers_count  avg_following_count  \\\n",
       "460        167.194377           950.716381           691.559087   \n",
       "461        168.444372          3084.162186           915.753224   \n",
       "462        175.035764          8991.022353           739.160659   \n",
       "463        175.515379          5703.071670           847.149375   \n",
       "464        189.091832          3687.603682           723.330512   \n",
       "..                ...                  ...                  ...   \n",
       "646        178.698807          4663.179284           690.310107   \n",
       "647        155.032074          3785.480448           749.313049   \n",
       "648        190.801338           963.538462           684.646823   \n",
       "649        175.401146          1340.969436           638.417861   \n",
       "650        171.685269          6223.901363           887.675427   \n",
       "\n",
       "     avg_user_tweet_count  avg_ff_ratio  share_of_tweets  share_unique_users  \\\n",
       "460          14127.194784      1.374744         0.073431            0.627139   \n",
       "461          29096.511257      3.367897         0.136898            0.673880   \n",
       "462          21462.787091     12.163827         0.155150            0.654652   \n",
       "463          24929.225460      6.732073         0.294564            0.629875   \n",
       "464          23621.121244      5.098089         0.204873            0.637325   \n",
       "..                    ...           ...              ...                 ...   \n",
       "646          20607.243817      6.755195         0.193819            0.638167   \n",
       "647          17960.210457      5.051935         0.110768            0.716828   \n",
       "648          20400.862207      1.407351         0.036379            0.590635   \n",
       "649          14171.402579      2.100457         0.050955            0.579752   \n",
       "650          25279.190893      7.011461         0.224991            0.617673   \n",
       "\n",
       "     weighted_sentiment  share_of_positive_tweets  share_of_negative_tweets  \n",
       "460            0.147255                  0.077832                  0.328851  \n",
       "461           -0.376827                  0.051148                  0.468634  \n",
       "462           -0.658055                  0.065940                  0.551271  \n",
       "463           -0.310445                  0.040177                  0.443561  \n",
       "464           -0.103421                  0.052264                  0.392510  \n",
       "..                  ...                       ...                       ...  \n",
       "646           -0.149995                  0.062775                  0.406026  \n",
       "647           -0.577197                  0.056459                  0.527460  \n",
       "648           -0.134164                  0.060201                  0.400669  \n",
       "649           -0.129097                  0.087393                  0.409742  \n",
       "650           -0.255832                  0.073221                  0.443543  \n",
       "\n",
       "[191 rows x 16 columns]"
      ]
     },
     "execution_count": 5,
     "metadata": {},
     "output_type": "execute_result"
    }
   ],
   "source": [
    "df_merged.iloc[460:]"
   ]
  },
  {
   "cell_type": "code",
   "execution_count": 6,
   "id": "c7106edd",
   "metadata": {},
   "outputs": [
    {
     "data": {
      "text/plain": [
       "(651, 16)"
      ]
     },
     "execution_count": 6,
     "metadata": {},
     "output_type": "execute_result"
    }
   ],
   "source": [
    "df_merged.shape"
   ]
  },
  {
   "cell_type": "code",
   "execution_count": 7,
   "id": "3ea8d49c",
   "metadata": {},
   "outputs": [],
   "source": [
    "df_merged[\"tweet_date\"] = pd.to_datetime(df_merged[\"tweet_date\"])"
   ]
  },
  {
   "cell_type": "code",
   "execution_count": 8,
   "id": "5a38b154",
   "metadata": {},
   "outputs": [],
   "source": [
    "df_merged = df_merged.groupby([pd.Grouper(key='tweet_date',freq='D'), \"party\"]).agg({\n",
    "    \"reply_count\": \"sum\", \n",
    "    \"retweet_count\": \"sum\",\n",
    "    \"like_count\": \"sum\",\n",
    "    \"avg_len_of_tweet\": \"mean\" ,\n",
    "    \"avg_followers_count\": \"mean\" ,\n",
    "    \"avg_following_count\": \"mean\" ,\n",
    "    \"avg_user_tweet_count\" :\"mean\",\n",
    "    \"avg_ff_ratio\" :\"mean\",\n",
    "    \"share_of_tweets\" :\"mean\",\n",
    "    \"share_unique_users\": \"mean\",\n",
    "    \"weighted_sentiment\" : \"mean\",\n",
    "    \"share_of_positive_tweets\": \"mean\",\n",
    "    \"share_of_negative_tweets\" : \"mean\",\n",
    "    \"poll\": \"mean\"}) "
   ]
  },
  {
   "cell_type": "code",
   "execution_count": 9,
   "id": "d9b7cd46",
   "metadata": {},
   "outputs": [
    {
     "data": {
      "text/plain": [
       "(651, 14)"
      ]
     },
     "execution_count": 9,
     "metadata": {},
     "output_type": "execute_result"
    }
   ],
   "source": [
    "df_merged.shape"
   ]
  },
  {
   "cell_type": "code",
   "execution_count": 10,
   "id": "bcad93ec",
   "metadata": {},
   "outputs": [],
   "source": [
    "df_merged = df_merged.replace(np.nan, -9999)"
   ]
  },
  {
   "cell_type": "code",
   "execution_count": 11,
   "id": "1c88f9cf",
   "metadata": {
    "scrolled": true
   },
   "outputs": [
    {
     "name": "stderr",
     "output_type": "stream",
     "text": [
      "2021-08-31 09:19:41.021545: W tensorflow/stream_executor/platform/default/dso_loader.cc:64] Could not load dynamic library 'libcuda.so.1'; dlerror: libcuda.so.1: cannot open shared object file: No such file or directory\n",
      "2021-08-31 09:19:41.021627: W tensorflow/stream_executor/cuda/cuda_driver.cc:269] failed call to cuInit: UNKNOWN ERROR (303)\n",
      "2021-08-31 09:19:41.021646: I tensorflow/stream_executor/cuda/cuda_diagnostics.cc:156] kernel driver does not appear to be running on this host (LAPTOP-69AIGBNI): /proc/driver/nvidia/version does not exist\n",
      "2021-08-31 09:19:41.021958: I tensorflow/core/platform/cpu_feature_guard.cc:142] This TensorFlow binary is optimized with oneAPI Deep Neural Network Library (oneDNN) to use the following CPU instructions in performance-critical operations:  AVX2 AVX512F FMA\n",
      "To enable them in other operations, rebuild TensorFlow with the appropriate compiler flags.\n"
     ]
    }
   ],
   "source": [
    "model = Sequential()\n",
    "model.add(layers.Masking(mask_value=-9999., input_shape=(7,14)))\n",
    "model.add(layers.LSTM(units=64, activation='tanh', return_sequences=True))\n",
    "model.add(layers.LSTM(units=32, activation='tanh', return_sequences=False))\n",
    "model.add(layers.Dense(50, activation='relu'))\n",
    "model.add(layers.Dense(7, activation='linear'))\n"
   ]
  },
  {
   "cell_type": "code",
   "execution_count": 12,
   "id": "e3c06fd4",
   "metadata": {},
   "outputs": [
    {
     "name": "stdout",
     "output_type": "stream",
     "text": [
      "Model: \"sequential\"\n",
      "_________________________________________________________________\n",
      "Layer (type)                 Output Shape              Param #   \n",
      "=================================================================\n",
      "masking (Masking)            (None, 7, 14)             0         \n",
      "_________________________________________________________________\n",
      "lstm (LSTM)                  (None, 7, 64)             20224     \n",
      "_________________________________________________________________\n",
      "lstm_1 (LSTM)                (None, 32)                12416     \n",
      "_________________________________________________________________\n",
      "dense (Dense)                (None, 50)                1650      \n",
      "_________________________________________________________________\n",
      "dense_1 (Dense)              (None, 7)                 357       \n",
      "=================================================================\n",
      "Total params: 34,647\n",
      "Trainable params: 34,647\n",
      "Non-trainable params: 0\n",
      "_________________________________________________________________\n"
     ]
    }
   ],
   "source": [
    "model.summary()"
   ]
  },
  {
   "cell_type": "code",
   "execution_count": 13,
   "id": "4d8ed0b6",
   "metadata": {},
   "outputs": [],
   "source": [
    "df_merged = df_merged.iloc[:-7]"
   ]
  },
  {
   "cell_type": "code",
   "execution_count": 14,
   "id": "ee17a629",
   "metadata": {},
   "outputs": [
    {
     "data": {
      "text/plain": [
       "tweet_date  party \n",
       "2021-05-29  AFD       12.0\n",
       "            CDU       25.0\n",
       "            FDP       13.0\n",
       "            GRUENE    22.0\n",
       "            LINKE      7.0\n",
       "            OTHER      5.0\n",
       "            SPD       16.0\n",
       "Name: poll, dtype: float64"
      ]
     },
     "execution_count": 14,
     "metadata": {},
     "output_type": "execute_result"
    }
   ],
   "source": [
    "df_merged[\"poll\"][21:28]"
   ]
  },
  {
   "cell_type": "code",
   "execution_count": 15,
   "id": "3e78b1e8",
   "metadata": {
    "scrolled": false
   },
   "outputs": [
    {
     "data": {
      "text/plain": [
       "515"
      ]
     },
     "execution_count": 15,
     "metadata": {},
     "output_type": "execute_result"
    }
   ],
   "source": [
    "round(len(df_merged) * 0.80)"
   ]
  },
  {
   "cell_type": "code",
   "execution_count": 16,
   "id": "e85eacf1",
   "metadata": {},
   "outputs": [
    {
     "data": {
      "text/plain": [
       "Index(['reply_count', 'retweet_count', 'like_count', 'avg_len_of_tweet',\n",
       "       'avg_followers_count', 'avg_following_count', 'avg_user_tweet_count',\n",
       "       'avg_ff_ratio', 'share_of_tweets', 'share_unique_users',\n",
       "       'weighted_sentiment', 'share_of_positive_tweets',\n",
       "       'share_of_negative_tweets', 'poll'],\n",
       "      dtype='object')"
      ]
     },
     "execution_count": 16,
     "metadata": {},
     "output_type": "execute_result"
    }
   ],
   "source": [
    "df_merged.columns"
   ]
  },
  {
   "cell_type": "code",
   "execution_count": 17,
   "id": "6bdb2e0f",
   "metadata": {},
   "outputs": [
    {
     "data": {
      "text/plain": [
       "True"
      ]
     },
     "execution_count": 17,
     "metadata": {},
     "output_type": "execute_result"
    }
   ],
   "source": [
    "df_merged[8:9].index[0][1] == \"CDU\""
   ]
  },
  {
   "cell_type": "code",
   "execution_count": 22,
   "id": "f2d3a30d",
   "metadata": {},
   "outputs": [],
   "source": [
    "def splitting_data(df):\n",
    "    \n",
    "    split_percentage = 0.80\n",
    "    split_index = round(split_percentage * len(df)) \n",
    "    \n",
    "    for num in range(split_index, split_index + 7):\n",
    "        if df_merged[num:(num + 1)].index[0][1] == \"AFD\":\n",
    "            split_index = num\n",
    "        else:\n",
    "            pass\n",
    "    df_train = df[:split_index]\n",
    "    df_test = df[split_index:]\n",
    "    \n",
    "    return df_train, df_test"
   ]
  },
  {
   "cell_type": "code",
   "execution_count": 23,
   "id": "db2d306f",
   "metadata": {},
   "outputs": [],
   "source": [
    "df_train, df_test =  splitting_data(df_merged)"
   ]
  },
  {
   "cell_type": "code",
   "execution_count": 27,
   "id": "22e7cc9e",
   "metadata": {},
   "outputs": [
    {
     "data": {
      "text/plain": [
       "array([ 3,  3, 20,  4,  7, 19, 17])"
      ]
     },
     "execution_count": 27,
     "metadata": {},
     "output_type": "execute_result"
    }
   ],
   "source": [
    "np.random.randint(0, 21,)"
   ]
  },
  {
   "cell_type": "code",
   "execution_count": 24,
   "id": "78390171",
   "metadata": {
    "scrolled": true
   },
   "outputs": [],
   "source": [
    "def subsequence(df, days):\n",
    "    \n",
    "    last_possible_start = len(df) - days\n",
    "    days = days * 7\n",
    "    random_int = np.random.randint(0, last_possible_start)\n",
    "    X = df[count: days]\n",
    "    y = df[\"poll\"][days: (days+7)]\n",
    "    \n",
    "    return X, y"
   ]
  },
  {
   "cell_type": "code",
   "execution_count": null,
   "id": "3b6aa32f",
   "metadata": {},
   "outputs": [],
   "source": []
  },
  {
   "cell_type": "code",
   "execution_count": 25,
   "id": "2ab81f43",
   "metadata": {},
   "outputs": [],
   "source": [
    "def multiple_subsequences(df, days):\n",
    "    \n",
    "    lst_X = []\n",
    "    lst_y = []\n",
    "    \n",
    "    subsequences = round(days / len(df))\n",
    "    for _ in range(subsequences):\n",
    "        X_sequence, y_sequence = subsequence(df, days)\n",
    "        list_of_X.append(X_sequence)\n",
    "        list_of_y.append(y_sequence)\n",
    "        \n",
    "    \n",
    "    return lst_X, lst_y\n",
    "\n",
    "    \n",
    "    \n",
    "    "
   ]
  },
  {
   "cell_type": "code",
   "execution_count": 26,
   "id": "d184a0a0",
   "metadata": {},
   "outputs": [
    {
     "data": {
      "text/plain": [
       "([], [])"
      ]
     },
     "execution_count": 26,
     "metadata": {},
     "output_type": "execute_result"
    }
   ],
   "source": [
    "multiple_subsequences(df_train, 3)\n",
    "    "
   ]
  },
  {
   "cell_type": "code",
   "execution_count": null,
   "id": "f6682d64",
   "metadata": {},
   "outputs": [],
   "source": []
  },
  {
   "cell_type": "code",
   "execution_count": 251,
   "id": "944c007e",
   "metadata": {},
   "outputs": [],
   "source": [
    "X_test = df_merged_test.to_numpy().reshape(1,7,14)\n",
    "X_train = df_merged.to_numpy().reshape(35,7,14)\n",
    "y_test = df_merged_test[\"poll\"].to_numpy().reshape(1,7,1)\n",
    "y_train = y.to_numpy().reshape(93,7)"
   ]
  },
  {
   "cell_type": "code",
   "execution_count": 271,
   "id": "73e02523",
   "metadata": {
    "scrolled": false
   },
   "outputs": [
    {
     "name": "stdout",
     "output_type": "stream",
     "text": [
      "Epoch 1/50\n",
      "28/28 [==============================] - 17s 127ms/step - loss: 0.7875 - mae: 0.6965 - val_loss: 1.3689 - val_mae: 0.9430\n",
      "Epoch 2/50\n",
      "28/28 [==============================] - 0s 17ms/step - loss: 0.7234 - mae: 0.6699 - val_loss: 1.8078 - val_mae: 1.0628\n",
      "Epoch 3/50\n",
      "28/28 [==============================] - 0s 18ms/step - loss: 0.7369 - mae: 0.6852 - val_loss: 1.5429 - val_mae: 0.9943\n",
      "Epoch 4/50\n",
      "28/28 [==============================] - 0s 17ms/step - loss: 0.7258 - mae: 0.6698 - val_loss: 1.7489 - val_mae: 1.0449\n",
      "Epoch 5/50\n",
      "28/28 [==============================] - 1s 18ms/step - loss: 0.6969 - mae: 0.6595 - val_loss: 1.5634 - val_mae: 1.0090\n",
      "Epoch 6/50\n",
      "28/28 [==============================] - 1s 18ms/step - loss: 0.7023 - mae: 0.6606 - val_loss: 1.6743 - val_mae: 1.0298\n",
      "Epoch 7/50\n",
      "28/28 [==============================] - 0s 17ms/step - loss: 0.6752 - mae: 0.6482 - val_loss: 1.5538 - val_mae: 0.9961\n",
      "Epoch 8/50\n",
      "28/28 [==============================] - 0s 16ms/step - loss: 0.6777 - mae: 0.6572 - val_loss: 1.5593 - val_mae: 1.0022\n",
      "Epoch 9/50\n",
      "28/28 [==============================] - 0s 16ms/step - loss: 0.6792 - mae: 0.6641 - val_loss: 1.4989 - val_mae: 0.9868\n",
      "Epoch 10/50\n",
      "28/28 [==============================] - 0s 17ms/step - loss: 0.6749 - mae: 0.6448 - val_loss: 1.6464 - val_mae: 1.0185\n",
      "Epoch 11/50\n",
      "28/28 [==============================] - 1s 19ms/step - loss: 0.5990 - mae: 0.6196 - val_loss: 1.3767 - val_mae: 0.9355\n",
      "Epoch 12/50\n",
      "28/28 [==============================] - 0s 17ms/step - loss: 0.7854 - mae: 0.6810 - val_loss: 1.3906 - val_mae: 0.9243\n",
      "Epoch 13/50\n",
      "28/28 [==============================] - 1s 18ms/step - loss: 0.7101 - mae: 0.6762 - val_loss: 1.6327 - val_mae: 1.0165\n",
      "Epoch 14/50\n",
      "28/28 [==============================] - 0s 17ms/step - loss: 0.5869 - mae: 0.5992 - val_loss: 1.2909 - val_mae: 0.9166\n",
      "Epoch 15/50\n",
      "28/28 [==============================] - 0s 17ms/step - loss: 0.5767 - mae: 0.6055 - val_loss: 1.4691 - val_mae: 0.9798\n",
      "Epoch 16/50\n",
      "28/28 [==============================] - 1s 18ms/step - loss: 0.5801 - mae: 0.5949 - val_loss: 1.2229 - val_mae: 0.8966\n",
      "Epoch 17/50\n",
      "28/28 [==============================] - 1s 19ms/step - loss: 0.5474 - mae: 0.5763 - val_loss: 1.3962 - val_mae: 0.9581\n",
      "Epoch 18/50\n",
      "28/28 [==============================] - 1s 18ms/step - loss: 0.5832 - mae: 0.6008 - val_loss: 1.2101 - val_mae: 0.8998\n",
      "Epoch 19/50\n",
      "28/28 [==============================] - 1s 20ms/step - loss: 0.5294 - mae: 0.5800 - val_loss: 1.3776 - val_mae: 0.9628\n",
      "Epoch 20/50\n",
      "28/28 [==============================] - 1s 19ms/step - loss: 0.5315 - mae: 0.5744 - val_loss: 1.3156 - val_mae: 0.9236\n",
      "Epoch 21/50\n",
      "28/28 [==============================] - 1s 21ms/step - loss: 0.4815 - mae: 0.5397 - val_loss: 1.2666 - val_mae: 0.9159\n",
      "Epoch 22/50\n",
      "28/28 [==============================] - 1s 19ms/step - loss: 0.5110 - mae: 0.5455 - val_loss: 1.1816 - val_mae: 0.8631\n",
      "Epoch 23/50\n",
      "28/28 [==============================] - 1s 21ms/step - loss: 0.4949 - mae: 0.5431 - val_loss: 1.2124 - val_mae: 0.8940\n",
      "Epoch 24/50\n",
      "28/28 [==============================] - 1s 23ms/step - loss: 0.4956 - mae: 0.5457 - val_loss: 1.2311 - val_mae: 0.9013\n",
      "Epoch 25/50\n",
      "28/28 [==============================] - 1s 20ms/step - loss: 0.4970 - mae: 0.5399 - val_loss: 1.1683 - val_mae: 0.8783\n",
      "Epoch 26/50\n",
      "28/28 [==============================] - 0s 18ms/step - loss: 0.5019 - mae: 0.5545 - val_loss: 1.1378 - val_mae: 0.8649\n",
      "Epoch 27/50\n",
      "28/28 [==============================] - 1s 19ms/step - loss: 0.4643 - mae: 0.5297 - val_loss: 1.1894 - val_mae: 0.8730\n",
      "Epoch 28/50\n",
      "28/28 [==============================] - 1s 25ms/step - loss: 0.4854 - mae: 0.5507 - val_loss: 1.3365 - val_mae: 0.9424\n",
      "Epoch 29/50\n",
      "28/28 [==============================] - 1s 20ms/step - loss: 0.4480 - mae: 0.5311 - val_loss: 1.1652 - val_mae: 0.8576\n",
      "Epoch 30/50\n",
      "28/28 [==============================] - 1s 18ms/step - loss: 0.4461 - mae: 0.5257 - val_loss: 1.1573 - val_mae: 0.8730\n",
      "Epoch 31/50\n",
      "28/28 [==============================] - 1s 20ms/step - loss: 0.4227 - mae: 0.5102 - val_loss: 1.1852 - val_mae: 0.8617\n",
      "Epoch 32/50\n",
      "28/28 [==============================] - 1s 23ms/step - loss: 0.4480 - mae: 0.5193 - val_loss: 1.4577 - val_mae: 0.9561\n",
      "Epoch 33/50\n",
      "28/28 [==============================] - 1s 24ms/step - loss: 0.4253 - mae: 0.4965 - val_loss: 1.2042 - val_mae: 0.8761\n",
      "Epoch 34/50\n",
      "28/28 [==============================] - 1s 18ms/step - loss: 0.4478 - mae: 0.5217 - val_loss: 1.3489 - val_mae: 0.9079\n",
      "Epoch 35/50\n",
      "28/28 [==============================] - 0s 15ms/step - loss: 0.4410 - mae: 0.5129 - val_loss: 1.1872 - val_mae: 0.8495\n",
      "Epoch 36/50\n",
      "28/28 [==============================] - 0s 17ms/step - loss: 0.4248 - mae: 0.5218 - val_loss: 1.2223 - val_mae: 0.8904\n",
      "Epoch 37/50\n",
      "28/28 [==============================] - 0s 18ms/step - loss: 0.4327 - mae: 0.5071 - val_loss: 1.2177 - val_mae: 0.8701\n",
      "Epoch 38/50\n",
      "28/28 [==============================] - 1s 18ms/step - loss: 0.4275 - mae: 0.5134 - val_loss: 1.3389 - val_mae: 0.9184\n",
      "Epoch 39/50\n",
      "28/28 [==============================] - 0s 17ms/step - loss: 0.4364 - mae: 0.5235 - val_loss: 1.2403 - val_mae: 0.8807\n",
      "Epoch 40/50\n",
      "28/28 [==============================] - 1s 19ms/step - loss: 0.4165 - mae: 0.5116 - val_loss: 1.2601 - val_mae: 0.8676\n",
      "Epoch 41/50\n",
      "28/28 [==============================] - 1s 21ms/step - loss: 0.3910 - mae: 0.4900 - val_loss: 1.1228 - val_mae: 0.8219\n",
      "Epoch 42/50\n",
      "28/28 [==============================] - 0s 16ms/step - loss: 0.4028 - mae: 0.5063 - val_loss: 1.2383 - val_mae: 0.8763\n",
      "Epoch 43/50\n",
      "28/28 [==============================] - 0s 15ms/step - loss: 0.4058 - mae: 0.5047 - val_loss: 1.0377 - val_mae: 0.7793\n",
      "Epoch 44/50\n",
      "28/28 [==============================] - 0s 14ms/step - loss: 0.3959 - mae: 0.4845 - val_loss: 1.1856 - val_mae: 0.8541\n",
      "Epoch 45/50\n",
      "28/28 [==============================] - 0s 16ms/step - loss: 0.3869 - mae: 0.4820 - val_loss: 1.2240 - val_mae: 0.8585\n",
      "Epoch 46/50\n",
      "28/28 [==============================] - 0s 16ms/step - loss: 0.4033 - mae: 0.4904 - val_loss: 1.3951 - val_mae: 0.8996\n",
      "Epoch 47/50\n",
      "28/28 [==============================] - 1s 20ms/step - loss: 0.4061 - mae: 0.4951 - val_loss: 1.3123 - val_mae: 0.8933\n",
      "Epoch 48/50\n",
      "28/28 [==============================] - 1s 18ms/step - loss: 0.3759 - mae: 0.4691 - val_loss: 1.2281 - val_mae: 0.8647\n",
      "Epoch 49/50\n",
      "28/28 [==============================] - 1s 19ms/step - loss: 0.3655 - mae: 0.4775 - val_loss: 1.4155 - val_mae: 0.8967\n",
      "Epoch 50/50\n",
      "28/28 [==============================] - 0s 18ms/step - loss: 0.3548 - mae: 0.4631 - val_loss: 1.3262 - val_mae: 0.8612\n",
      "CPU times: user 1min 21s, sys: 29.2 s, total: 1min 50s\n",
      "Wall time: 42.3 s\n"
     ]
    }
   ],
   "source": [
    "%%time\n",
    "\n",
    "model.compile(loss='mse', optimizer='adam', metrics=['mae'])\n",
    "\n",
    "history = model.fit(X_train, y_train ,\n",
    "          epochs=50, \n",
    "          batch_size=1, \n",
    "          verbose=1, \n",
    "          validation_split=0.2,\n",
    "          shuffle = False\n",
    "     )\n",
    "\n"
   ]
  },
  {
   "cell_type": "code",
   "execution_count": 272,
   "id": "b6a21204",
   "metadata": {},
   "outputs": [
    {
     "name": "stdout",
     "output_type": "stream",
     "text": [
      "1/1 [==============================] - 3s 3s/step - loss: 10.5910 - mae: 2.1697\n"
     ]
    },
    {
     "data": {
      "text/plain": [
       "[10.591023445129395, 2.169748544692993]"
      ]
     },
     "execution_count": 272,
     "metadata": {},
     "output_type": "execute_result"
    }
   ],
   "source": [
    "model.evaluate(x = X_test, y= y_test )"
   ]
  },
  {
   "cell_type": "code",
   "execution_count": 284,
   "id": "4e517da5",
   "metadata": {
    "scrolled": false
   },
   "outputs": [
    {
     "data": {
      "text/plain": [
       "AFD       10.200000\n",
       "CDU       28.120001\n",
       "FDP       13.040000\n",
       "GRUENE    20.090000\n",
       "LINKE      6.500000\n",
       "OTHER      5.990000\n",
       "SPD       15.710000\n",
       "dtype: float32"
      ]
     },
     "execution_count": 284,
     "metadata": {},
     "output_type": "execute_result"
    }
   ],
   "source": [
    "np.sum(pd.DataFrame(model.predict(df_merged_test_numpy)).rename( \\\n",
    "                        columns = {0:'AFD',1:'CDU',2:'FDP',3: 'GRUENE',4: 'LINKE', 5:'OTHER', 6: 'SPD'}).round(2))"
   ]
  },
  {
   "cell_type": "code",
   "execution_count": null,
   "id": "33c3ce81",
   "metadata": {},
   "outputs": [],
   "source": []
  },
  {
   "cell_type": "code",
   "execution_count": 269,
   "id": "c16d4ec7",
   "metadata": {},
   "outputs": [],
   "source": [
    "def plot_loss_mae(history):\n",
    "\n",
    "# --- LOSS\n",
    "\n",
    "    plt.plot(history.history['loss'])\n",
    "    plt.plot(history.history['val_loss'])\n",
    "    plt.title('Model MAE')\n",
    "    plt.ylabel('Loss')\n",
    "    plt.xlabel('Epoch')\n",
    "    plt.legend(['Train', 'Test'], loc='best')\n",
    "    plt.show()\n",
    "    \n",
    "# --- MAE\n",
    "\n",
    "    plt.plot(history.history['mae'])\n",
    "    plt.plot(history.history['val_mae'])\n",
    "    plt.title('Model MAE')\n",
    "    plt.ylabel('MAE')\n",
    "    plt.xlabel('Epoch')\n",
    "    plt.legend(['Train', 'Test'], loc='best')\n",
    "    plt.show()"
   ]
  },
  {
   "cell_type": "code",
   "execution_count": 270,
   "id": "b7aec32f",
   "metadata": {},
   "outputs": [
    {
     "data": {
      "image/png": "[encoded data removed]",
      "text/plain": [
       "<Figure size 842.4x595.44 with 1 Axes>"
      ]
     },
     "metadata": {},
     "output_type": "display_data"
    },
    {
     "data": {
      "image/png": "[encoded data removed]",
      "text/plain": [
       "<Figure size 842.4x595.44 with 1 Axes>"
      ]
     },
     "metadata": {},
     "output_type": "display_data"
    }
   ],
   "source": [
    "plot_loss_mae(history)"
   ]
  },
  {
   "cell_type": "code",
   "execution_count": 262,
   "id": "7108d27a",
   "metadata": {},
   "outputs": [
    {
     "data": {
      "text/plain": [
       "<AxesSubplot:xlabel='tweet_date'>"
      ]
     },
     "execution_count": 262,
     "metadata": {},
     "output_type": "execute_result"
    },
    {
     "data": {
      "image/png": "[encoded data removed]",
      "text/plain": [
       "<Figure size 842.4x595.44 with 1 Axes>"
      ]
     },
     "metadata": {},
     "output_type": "display_data"
    }
   ],
   "source": [
    "sns.set(rc={'figure.figsize':(11.7,8.27)})\n",
    "sns.lineplot( data = df_merged[\"poll\"].unstack())\n"
   ]
  },
  {
   "cell_type": "code",
   "execution_count": null,
   "id": "9b40090a",
   "metadata": {},
   "outputs": [],
   "source": []
  }
 ],
 "metadata": {
  "kernelspec": {
   "display_name": "Python 3 (ipykernel)",
   "language": "python",
   "name": "python3"
  },
  "language_info": {
   "codemirror_mode": {
    "name": "ipython",
    "version": 3
   },
   "file_extension": ".py",
   "mimetype": "text/x-python",
   "name": "python",
   "nbconvert_exporter": "python",
   "pygments_lexer": "ipython3",
   "version": "3.8.6"
  },
  "toc": {
   "base_numbering": 1,
   "nav_menu": {},
   "number_sections": true,
   "sideBar": true,
   "skip_h1_title": false,
   "title_cell": "Table of Contents",
   "title_sidebar": "Contents",
   "toc_cell": false,
   "toc_position": {},
   "toc_section_display": true,
   "toc_window_display": false
  }
 },
 "nbformat": 4,
 "nbformat_minor": 5
}
