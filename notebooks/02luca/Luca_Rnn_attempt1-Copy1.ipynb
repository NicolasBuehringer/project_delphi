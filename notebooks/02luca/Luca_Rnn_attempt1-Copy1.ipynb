{
 "cells": [
  {
   "cell_type": "code",
   "execution_count": 1,
   "id": "109c5f4f",
   "metadata": {},
   "outputs": [
    {
     "name": "stderr",
     "output_type": "stream",
     "text": [
      "2021-08-31 23:11:03.468868: W tensorflow/stream_executor/platform/default/dso_loader.cc:64] Could not load dynamic library 'libcudart.so.11.0'; dlerror: libcudart.so.11.0: cannot open shared object file: No such file or directory\n",
      "2021-08-31 23:11:03.468930: I tensorflow/stream_executor/cuda/cudart_stub.cc:29] Ignore above cudart dlerror if you do not have a GPU set up on your machine.\n"
     ]
    }
   ],
   "source": [
    "from tensorflow import keras\n",
    "import numpy as np\n",
    "import pandas as pd\n",
    "import matplotlib.pyplot as plt\n",
    "import seaborn as sns\n",
    "from keras.layers import Normalization\n",
    "from keras.models import Sequential\n",
    "from keras.layers import Dense, SimpleRNN, Flatten\n",
    "from keras import layers\n",
    "pd.set_option('display.max_rows', 50)\n",
    "from tensorflow.keras import optimizers\n",
    "import random\n"
   ]
  },
  {
   "cell_type": "code",
   "execution_count": null,
   "id": "1a22f586",
   "metadata": {},
   "outputs": [],
   "source": []
  },
  {
   "cell_type": "code",
   "execution_count": null,
   "id": "dcfd2f1f",
   "metadata": {},
   "outputs": [],
   "source": []
  },
  {
   "cell_type": "code",
   "execution_count": 2,
   "id": "db34ad25",
   "metadata": {},
   "outputs": [],
   "source": [
    "df_merged = pd.read_csv(\"data_final_20210826_v3.csv\")"
   ]
  },
  {
   "cell_type": "code",
   "execution_count": 3,
   "id": "1b488d76",
   "metadata": {},
   "outputs": [],
   "source": [
    "# df_merged = df_merged.iloc[200:]"
   ]
  },
  {
   "cell_type": "code",
   "execution_count": 4,
   "id": "c0f4c176",
   "metadata": {},
   "outputs": [
    {
     "data": {
      "text/plain": [
       "Index(['tweet_date', 'party', 'poll', 'reply_count', 'retweet_count',\n",
       "       'like_count', 'avg_len_of_tweet', 'avg_followers_count',\n",
       "       'avg_following_count', 'avg_user_tweet_count', 'avg_ff_ratio',\n",
       "       'share_of_tweets', 'share_unique_users', 'weighted_sentiment',\n",
       "       'share_of_positive_tweets', 'share_of_negative_tweets'],\n",
       "      dtype='object')"
      ]
     },
     "execution_count": 4,
     "metadata": {},
     "output_type": "execute_result"
    }
   ],
   "source": [
    "df_merged.columns"
   ]
  },
  {
   "cell_type": "code",
   "execution_count": 5,
   "id": "5e746ac9",
   "metadata": {},
   "outputs": [],
   "source": [
    "selected_columns = ['tweet_date', 'party', 'poll', 'retweet_count',\n",
    "       'like_count', 'avg_user_tweet_count', 'avg_ff_ratio',\n",
    "       'share_of_tweets', 'share_unique_users', 'weighted_sentiment',\n",
    "       'share_of_positive_tweets', 'share_of_negative_tweets']"
   ]
  },
  {
   "cell_type": "code",
   "execution_count": 6,
   "id": "dd2ebb10",
   "metadata": {},
   "outputs": [],
   "source": [
    "df_merged = df_merged[selected_columns]"
   ]
  },
  {
   "cell_type": "code",
   "execution_count": 7,
   "id": "e1396f5f",
   "metadata": {},
   "outputs": [],
   "source": [
    "df_merged = df_merged.replace(np.nan, 0)"
   ]
  },
  {
   "cell_type": "code",
   "execution_count": 8,
   "id": "81c66397",
   "metadata": {
    "scrolled": true
   },
   "outputs": [
    {
     "data": {
      "text/plain": [
       "tweet_date                  0.0\n",
       "party                       0.0\n",
       "poll                        0.0\n",
       "retweet_count               0.0\n",
       "like_count                  0.0\n",
       "avg_user_tweet_count        0.0\n",
       "avg_ff_ratio                0.0\n",
       "share_of_tweets             0.0\n",
       "share_unique_users          0.0\n",
       "weighted_sentiment          0.0\n",
       "share_of_positive_tweets    0.0\n",
       "share_of_negative_tweets    0.0\n",
       "dtype: float64"
      ]
     },
     "execution_count": 8,
     "metadata": {},
     "output_type": "execute_result"
    }
   ],
   "source": [
    "df_merged.isna().sum() / len(df_merged)"
   ]
  },
  {
   "cell_type": "code",
   "execution_count": 9,
   "id": "2c83942c",
   "metadata": {},
   "outputs": [],
   "source": [
    "df_merged = df_merged.replace(np.nan, 0)"
   ]
  },
  {
   "cell_type": "code",
   "execution_count": 10,
   "id": "9c288f2c",
   "metadata": {},
   "outputs": [],
   "source": [
    "num_features = [ \"retweet_count\", \"like_count\", \"avg_user_tweet_count\",\"avg_ff_ratio\"]\n",
    "remaing_columns = [\"share_of_tweets\",\"share_unique_users\",\"weighted_sentiment\",\"share_of_positive_tweets\",\"share_of_negative_tweets\"]"
   ]
  },
  {
   "cell_type": "code",
   "execution_count": 11,
   "id": "dd24b0ad",
   "metadata": {},
   "outputs": [
    {
     "name": "stderr",
     "output_type": "stream",
     "text": [
      "/home/lucab/.pyenv/versions/3.8.6/envs/project_delphi/lib/python3.8/site-packages/seaborn/_decorators.py:36: FutureWarning: Pass the following variable as a keyword arg: x. From version 0.12, the only valid positional argument will be `data`, and passing other arguments without an explicit keyword will result in an error or misinterpretation.\n",
      "  warnings.warn(\n",
      "/home/lucab/.pyenv/versions/3.8.6/envs/project_delphi/lib/python3.8/site-packages/seaborn/_decorators.py:36: FutureWarning: Pass the following variable as a keyword arg: x. From version 0.12, the only valid positional argument will be `data`, and passing other arguments without an explicit keyword will result in an error or misinterpretation.\n",
      "  warnings.warn(\n",
      "/home/lucab/.pyenv/versions/3.8.6/envs/project_delphi/lib/python3.8/site-packages/seaborn/_decorators.py:36: FutureWarning: Pass the following variable as a keyword arg: x. From version 0.12, the only valid positional argument will be `data`, and passing other arguments without an explicit keyword will result in an error or misinterpretation.\n",
      "  warnings.warn(\n",
      "/home/lucab/.pyenv/versions/3.8.6/envs/project_delphi/lib/python3.8/site-packages/seaborn/_decorators.py:36: FutureWarning: Pass the following variable as a keyword arg: x. From version 0.12, the only valid positional argument will be `data`, and passing other arguments without an explicit keyword will result in an error or misinterpretation.\n",
      "  warnings.warn(\n"
     ]
    },
    {
     "data": {
      "image/png": "[encoded data removed]",
      "text/plain": [
       "<Figure size 1440x576 with 2 Axes>"
      ]
     },
     "metadata": {
      "needs_background": "light"
     },
     "output_type": "display_data"
    },
    {
     "data": {
      "image/png": "[encoded data removed]",
      "text/plain": [
       "<Figure size 1440x576 with 2 Axes>"
      ]
     },
     "metadata": {
      "needs_background": "light"
     },
     "output_type": "display_data"
    },
    {
     "data": {
      "image/png": "[encoded data removed]",
      "text/plain": [
       "<Figure size 1440x576 with 2 Axes>"
      ]
     },
     "metadata": {
      "needs_background": "light"
     },
     "output_type": "display_data"
    },
    {
     "data": {
      "image/png": "[encoded data removed]",
      "text/plain": [
       "<Figure size 1440x576 with 2 Axes>"
      ]
     },
     "metadata": {
      "needs_background": "light"
     },
     "output_type": "display_data"
    }
   ],
   "source": [
    "for _ in num_features:\n",
    "    fig, ax =plt.subplots(1,2,figsize=(20,8))\n",
    "    ax[0].set_title(f\"Distribution of: {_}\")\n",
    "    sns.histplot(data = df_merged[_], kde = True, ax = ax[0])\n",
    "    ax[1].set_title(f\"Boxplot of: {_}\")\n",
    "    sns.boxplot(df_merged[_], ax=ax[1])\n",
    "    fig.show()"
   ]
  },
  {
   "cell_type": "code",
   "execution_count": null,
   "id": "c7106edd",
   "metadata": {},
   "outputs": [],
   "source": []
  },
  {
   "cell_type": "code",
   "execution_count": 12,
   "id": "3ea8d49c",
   "metadata": {},
   "outputs": [],
   "source": [
    "df_merged[\"tweet_date\"] = pd.to_datetime(df_merged[\"tweet_date\"])"
   ]
  },
  {
   "cell_type": "code",
   "execution_count": 13,
   "id": "5a38b154",
   "metadata": {},
   "outputs": [],
   "source": [
    "df_merged = df_merged.groupby([pd.Grouper(key='tweet_date',freq='D'), \"party\"]).agg({\n",
    "#     \"reply_count\": \"sum\", \n",
    "    \"retweet_count\": \"sum\",\n",
    "    \"like_count\": \"sum\",\n",
    "#     \"avg_len_of_tweet\": \"mean\" ,\n",
    "#     \"avg_followers_count\": \"mean\" ,\n",
    "#     \"avg_following_count\": \"mean\" ,\n",
    "    \"avg_user_tweet_count\" :\"mean\",\n",
    "    \"avg_ff_ratio\" :\"mean\",\n",
    "    \"share_of_tweets\" :\"mean\",\n",
    "    \"share_unique_users\": \"mean\",\n",
    "    \"weighted_sentiment\" : \"mean\",\n",
    "    \"share_of_positive_tweets\": \"mean\",\n",
    "    \"share_of_negative_tweets\" : \"mean\",\n",
    "    \"poll\": \"mean\"}) "
   ]
  },
  {
   "cell_type": "code",
   "execution_count": null,
   "id": "bcad93ec",
   "metadata": {},
   "outputs": [],
   "source": []
  },
  {
   "cell_type": "code",
   "execution_count": null,
   "id": "88b34400",
   "metadata": {},
   "outputs": [],
   "source": []
  },
  {
   "cell_type": "code",
   "execution_count": null,
   "id": "4d8ed0b6",
   "metadata": {},
   "outputs": [],
   "source": []
  },
  {
   "cell_type": "code",
   "execution_count": null,
   "id": "e85eacf1",
   "metadata": {
    "scrolled": true
   },
   "outputs": [],
   "source": []
  },
  {
   "cell_type": "code",
   "execution_count": 14,
   "id": "faafc2f3",
   "metadata": {},
   "outputs": [],
   "source": [
    "df_merged = df_merged.iloc[:-14]"
   ]
  },
  {
   "cell_type": "code",
   "execution_count": 15,
   "id": "b7297099",
   "metadata": {},
   "outputs": [],
   "source": [
    "def splitting_data(df):\n",
    "    \n",
    "    split_percentage = 0.98\n",
    "    split_index = round(split_percentage * len(df)) \n",
    "    \n",
    "    for num in range(split_index, split_index + 7):\n",
    "        if df_merged[num:(num + 1)].index[0][1] == \"AFD\":\n",
    "            split_index = num\n",
    "        else:\n",
    "            pass\n",
    "    df_train = df[:split_index]\n",
    "    df_test = df[split_index:]\n",
    "    \n",
    "    return df_train, df_test"
   ]
  },
  {
   "cell_type": "code",
   "execution_count": 16,
   "id": "bb5f2358",
   "metadata": {},
   "outputs": [],
   "source": [
    "df_train, df_test = splitting_data(df_merged)"
   ]
  },
  {
   "cell_type": "code",
   "execution_count": 17,
   "id": "1ab47573",
   "metadata": {},
   "outputs": [],
   "source": [
    "from sklearn.preprocessing import MinMaxScaler\n",
    "\n",
    "mm_scaler = MinMaxScaler()\n",
    "\n",
    "mm_scaler.fit(df_train[num_features])\n",
    "\n",
    "numerical_train_scaled = mm_scaler.transform(df_train[num_features])\n",
    "numerical_test_scaled = mm_scaler.transform(df_test[num_features])"
   ]
  },
  {
   "cell_type": "code",
   "execution_count": 18,
   "id": "d2e1c616",
   "metadata": {},
   "outputs": [],
   "source": [
    "df_train_poll = df_train[\"poll\"] / 100\n",
    "df_test_poll = df_test[\"poll\"] / 100"
   ]
  },
  {
   "cell_type": "code",
   "execution_count": 19,
   "id": "94e6ca08",
   "metadata": {},
   "outputs": [
    {
     "data": {
      "text/html": [
       "<div>\n",
       "<style scoped>\n",
       "    .dataframe tbody tr th:only-of-type {\n",
       "        vertical-align: middle;\n",
       "    }\n",
       "\n",
       "    .dataframe tbody tr th {\n",
       "        vertical-align: top;\n",
       "    }\n",
       "\n",
       "    .dataframe thead th {\n",
       "        text-align: right;\n",
       "    }\n",
       "</style>\n",
       "<table border=\"1\" class=\"dataframe\">\n",
       "  <thead>\n",
       "    <tr style=\"text-align: right;\">\n",
       "      <th></th>\n",
       "      <th></th>\n",
       "      <th>retweet_count</th>\n",
       "      <th>like_count</th>\n",
       "      <th>avg_user_tweet_count</th>\n",
       "      <th>avg_ff_ratio</th>\n",
       "    </tr>\n",
       "    <tr>\n",
       "      <th>tweet_date</th>\n",
       "      <th>party</th>\n",
       "      <th></th>\n",
       "      <th></th>\n",
       "      <th></th>\n",
       "      <th></th>\n",
       "    </tr>\n",
       "  </thead>\n",
       "  <tbody>\n",
       "    <tr>\n",
       "      <th rowspan=\"5\" valign=\"top\">2021-05-26</th>\n",
       "      <th>AFD</th>\n",
       "      <td>0.000000</td>\n",
       "      <td>0.000000</td>\n",
       "      <td>0.000000</td>\n",
       "      <td>0.000000</td>\n",
       "    </tr>\n",
       "    <tr>\n",
       "      <th>CDU</th>\n",
       "      <td>0.000000</td>\n",
       "      <td>0.000000</td>\n",
       "      <td>0.000000</td>\n",
       "      <td>0.000000</td>\n",
       "    </tr>\n",
       "    <tr>\n",
       "      <th>FDP</th>\n",
       "      <td>0.000000</td>\n",
       "      <td>0.000000</td>\n",
       "      <td>0.000000</td>\n",
       "      <td>0.000000</td>\n",
       "    </tr>\n",
       "    <tr>\n",
       "      <th>GRUENE</th>\n",
       "      <td>0.000000</td>\n",
       "      <td>0.000000</td>\n",
       "      <td>0.000000</td>\n",
       "      <td>0.000000</td>\n",
       "    </tr>\n",
       "    <tr>\n",
       "      <th>LINKE</th>\n",
       "      <td>0.000000</td>\n",
       "      <td>0.000000</td>\n",
       "      <td>0.000000</td>\n",
       "      <td>0.000000</td>\n",
       "    </tr>\n",
       "    <tr>\n",
       "      <th>...</th>\n",
       "      <th>...</th>\n",
       "      <td>...</td>\n",
       "      <td>...</td>\n",
       "      <td>...</td>\n",
       "      <td>...</td>\n",
       "    </tr>\n",
       "    <tr>\n",
       "      <th rowspan=\"5\" valign=\"top\">2021-08-23</th>\n",
       "      <th>FDP</th>\n",
       "      <td>0.058780</td>\n",
       "      <td>0.065651</td>\n",
       "      <td>0.373746</td>\n",
       "      <td>0.347957</td>\n",
       "    </tr>\n",
       "    <tr>\n",
       "      <th>GRUENE</th>\n",
       "      <td>0.344522</td>\n",
       "      <td>0.280436</td>\n",
       "      <td>0.371575</td>\n",
       "      <td>0.356309</td>\n",
       "    </tr>\n",
       "    <tr>\n",
       "      <th>LINKE</th>\n",
       "      <td>0.033891</td>\n",
       "      <td>0.027093</td>\n",
       "      <td>0.406994</td>\n",
       "      <td>0.360115</td>\n",
       "    </tr>\n",
       "    <tr>\n",
       "      <th>OTHER</th>\n",
       "      <td>0.043068</td>\n",
       "      <td>0.024327</td>\n",
       "      <td>0.348279</td>\n",
       "      <td>0.085154</td>\n",
       "    </tr>\n",
       "    <tr>\n",
       "      <th>SPD</th>\n",
       "      <td>0.223771</td>\n",
       "      <td>0.277553</td>\n",
       "      <td>0.397906</td>\n",
       "      <td>0.461581</td>\n",
       "    </tr>\n",
       "  </tbody>\n",
       "</table>\n",
       "<p>630 rows × 4 columns</p>\n",
       "</div>"
      ],
      "text/plain": [
       "                   retweet_count  like_count  avg_user_tweet_count  \\\n",
       "tweet_date party                                                     \n",
       "2021-05-26 AFD          0.000000    0.000000              0.000000   \n",
       "           CDU          0.000000    0.000000              0.000000   \n",
       "           FDP          0.000000    0.000000              0.000000   \n",
       "           GRUENE       0.000000    0.000000              0.000000   \n",
       "           LINKE        0.000000    0.000000              0.000000   \n",
       "...                          ...         ...                   ...   \n",
       "2021-08-23 FDP          0.058780    0.065651              0.373746   \n",
       "           GRUENE       0.344522    0.280436              0.371575   \n",
       "           LINKE        0.033891    0.027093              0.406994   \n",
       "           OTHER        0.043068    0.024327              0.348279   \n",
       "           SPD          0.223771    0.277553              0.397906   \n",
       "\n",
       "                   avg_ff_ratio  \n",
       "tweet_date party                 \n",
       "2021-05-26 AFD         0.000000  \n",
       "           CDU         0.000000  \n",
       "           FDP         0.000000  \n",
       "           GRUENE      0.000000  \n",
       "           LINKE       0.000000  \n",
       "...                         ...  \n",
       "2021-08-23 FDP         0.347957  \n",
       "           GRUENE      0.356309  \n",
       "           LINKE       0.360115  \n",
       "           OTHER       0.085154  \n",
       "           SPD         0.461581  \n",
       "\n",
       "[630 rows x 4 columns]"
      ]
     },
     "execution_count": 19,
     "metadata": {},
     "output_type": "execute_result"
    }
   ],
   "source": [
    "pd.DataFrame(numerical_train_scaled, columns = num_features, index = df_train.index)"
   ]
  },
  {
   "cell_type": "code",
   "execution_count": 20,
   "id": "72e2ab09",
   "metadata": {},
   "outputs": [],
   "source": [
    "df_train_scaled = pd.concat([pd.DataFrame(numerical_train_scaled, columns = num_features, index = df_train.index),df_train[remaing_columns], pd.DataFrame(df_train_poll, columns = [\"poll\"], index = df_train.index)] , axis = 1)"
   ]
  },
  {
   "cell_type": "code",
   "execution_count": 21,
   "id": "fe1ffc95",
   "metadata": {},
   "outputs": [
    {
     "data": {
      "text/html": [
       "<div>\n",
       "<style scoped>\n",
       "    .dataframe tbody tr th:only-of-type {\n",
       "        vertical-align: middle;\n",
       "    }\n",
       "\n",
       "    .dataframe tbody tr th {\n",
       "        vertical-align: top;\n",
       "    }\n",
       "\n",
       "    .dataframe thead th {\n",
       "        text-align: right;\n",
       "    }\n",
       "</style>\n",
       "<table border=\"1\" class=\"dataframe\">\n",
       "  <thead>\n",
       "    <tr style=\"text-align: right;\">\n",
       "      <th></th>\n",
       "      <th></th>\n",
       "      <th>retweet_count</th>\n",
       "      <th>like_count</th>\n",
       "      <th>avg_user_tweet_count</th>\n",
       "      <th>avg_ff_ratio</th>\n",
       "      <th>share_of_tweets</th>\n",
       "      <th>share_unique_users</th>\n",
       "      <th>weighted_sentiment</th>\n",
       "      <th>share_of_positive_tweets</th>\n",
       "      <th>share_of_negative_tweets</th>\n",
       "      <th>poll</th>\n",
       "    </tr>\n",
       "    <tr>\n",
       "      <th>tweet_date</th>\n",
       "      <th>party</th>\n",
       "      <th></th>\n",
       "      <th></th>\n",
       "      <th></th>\n",
       "      <th></th>\n",
       "      <th></th>\n",
       "      <th></th>\n",
       "      <th></th>\n",
       "      <th></th>\n",
       "      <th></th>\n",
       "      <th></th>\n",
       "    </tr>\n",
       "  </thead>\n",
       "  <tbody>\n",
       "    <tr>\n",
       "      <th rowspan=\"5\" valign=\"top\">2021-05-26</th>\n",
       "      <th>AFD</th>\n",
       "      <td>0.000000</td>\n",
       "      <td>0.000000</td>\n",
       "      <td>0.000000</td>\n",
       "      <td>0.000000</td>\n",
       "      <td>0.000000</td>\n",
       "      <td>0.000000</td>\n",
       "      <td>0.000000</td>\n",
       "      <td>0.000000</td>\n",
       "      <td>0.000000</td>\n",
       "      <td>0.1050</td>\n",
       "    </tr>\n",
       "    <tr>\n",
       "      <th>CDU</th>\n",
       "      <td>0.000000</td>\n",
       "      <td>0.000000</td>\n",
       "      <td>0.000000</td>\n",
       "      <td>0.000000</td>\n",
       "      <td>0.000000</td>\n",
       "      <td>0.000000</td>\n",
       "      <td>0.000000</td>\n",
       "      <td>0.000000</td>\n",
       "      <td>0.000000</td>\n",
       "      <td>0.2567</td>\n",
       "    </tr>\n",
       "    <tr>\n",
       "      <th>FDP</th>\n",
       "      <td>0.000000</td>\n",
       "      <td>0.000000</td>\n",
       "      <td>0.000000</td>\n",
       "      <td>0.000000</td>\n",
       "      <td>0.000000</td>\n",
       "      <td>0.000000</td>\n",
       "      <td>0.000000</td>\n",
       "      <td>0.000000</td>\n",
       "      <td>0.000000</td>\n",
       "      <td>0.1283</td>\n",
       "    </tr>\n",
       "    <tr>\n",
       "      <th>GRUENE</th>\n",
       "      <td>0.000000</td>\n",
       "      <td>0.000000</td>\n",
       "      <td>0.000000</td>\n",
       "      <td>0.000000</td>\n",
       "      <td>0.000000</td>\n",
       "      <td>0.000000</td>\n",
       "      <td>0.000000</td>\n",
       "      <td>0.000000</td>\n",
       "      <td>0.000000</td>\n",
       "      <td>0.2333</td>\n",
       "    </tr>\n",
       "    <tr>\n",
       "      <th>LINKE</th>\n",
       "      <td>0.000000</td>\n",
       "      <td>0.000000</td>\n",
       "      <td>0.000000</td>\n",
       "      <td>0.000000</td>\n",
       "      <td>0.000000</td>\n",
       "      <td>0.000000</td>\n",
       "      <td>0.000000</td>\n",
       "      <td>0.000000</td>\n",
       "      <td>0.000000</td>\n",
       "      <td>0.0617</td>\n",
       "    </tr>\n",
       "    <tr>\n",
       "      <th>...</th>\n",
       "      <th>...</th>\n",
       "      <td>...</td>\n",
       "      <td>...</td>\n",
       "      <td>...</td>\n",
       "      <td>...</td>\n",
       "      <td>...</td>\n",
       "      <td>...</td>\n",
       "      <td>...</td>\n",
       "      <td>...</td>\n",
       "      <td>...</td>\n",
       "      <td>...</td>\n",
       "    </tr>\n",
       "    <tr>\n",
       "      <th rowspan=\"5\" valign=\"top\">2021-08-23</th>\n",
       "      <th>FDP</th>\n",
       "      <td>0.058780</td>\n",
       "      <td>0.065651</td>\n",
       "      <td>0.373746</td>\n",
       "      <td>0.347957</td>\n",
       "      <td>0.074285</td>\n",
       "      <td>0.730539</td>\n",
       "      <td>-0.530588</td>\n",
       "      <td>0.056614</td>\n",
       "      <td>0.520142</td>\n",
       "      <td>0.1300</td>\n",
       "    </tr>\n",
       "    <tr>\n",
       "      <th>GRUENE</th>\n",
       "      <td>0.344522</td>\n",
       "      <td>0.280436</td>\n",
       "      <td>0.371575</td>\n",
       "      <td>0.356309</td>\n",
       "      <td>0.225808</td>\n",
       "      <td>0.577812</td>\n",
       "      <td>-0.140617</td>\n",
       "      <td>0.056053</td>\n",
       "      <td>0.399266</td>\n",
       "      <td>0.1700</td>\n",
       "    </tr>\n",
       "    <tr>\n",
       "      <th>LINKE</th>\n",
       "      <td>0.033891</td>\n",
       "      <td>0.027093</td>\n",
       "      <td>0.406994</td>\n",
       "      <td>0.360115</td>\n",
       "      <td>0.027255</td>\n",
       "      <td>0.594214</td>\n",
       "      <td>0.017403</td>\n",
       "      <td>0.054154</td>\n",
       "      <td>0.354599</td>\n",
       "      <td>0.0700</td>\n",
       "    </tr>\n",
       "    <tr>\n",
       "      <th>OTHER</th>\n",
       "      <td>0.043068</td>\n",
       "      <td>0.024327</td>\n",
       "      <td>0.348279</td>\n",
       "      <td>0.085154</td>\n",
       "      <td>0.035424</td>\n",
       "      <td>0.569064</td>\n",
       "      <td>-0.028883</td>\n",
       "      <td>0.088470</td>\n",
       "      <td>0.378425</td>\n",
       "      <td>0.0600</td>\n",
       "    </tr>\n",
       "    <tr>\n",
       "      <th>SPD</th>\n",
       "      <td>0.223771</td>\n",
       "      <td>0.277553</td>\n",
       "      <td>0.397906</td>\n",
       "      <td>0.461581</td>\n",
       "      <td>0.153747</td>\n",
       "      <td>0.633745</td>\n",
       "      <td>-0.342489</td>\n",
       "      <td>0.049842</td>\n",
       "      <td>0.457654</td>\n",
       "      <td>0.2300</td>\n",
       "    </tr>\n",
       "  </tbody>\n",
       "</table>\n",
       "<p>630 rows × 10 columns</p>\n",
       "</div>"
      ],
      "text/plain": [
       "                   retweet_count  like_count  avg_user_tweet_count  \\\n",
       "tweet_date party                                                     \n",
       "2021-05-26 AFD          0.000000    0.000000              0.000000   \n",
       "           CDU          0.000000    0.000000              0.000000   \n",
       "           FDP          0.000000    0.000000              0.000000   \n",
       "           GRUENE       0.000000    0.000000              0.000000   \n",
       "           LINKE        0.000000    0.000000              0.000000   \n",
       "...                          ...         ...                   ...   \n",
       "2021-08-23 FDP          0.058780    0.065651              0.373746   \n",
       "           GRUENE       0.344522    0.280436              0.371575   \n",
       "           LINKE        0.033891    0.027093              0.406994   \n",
       "           OTHER        0.043068    0.024327              0.348279   \n",
       "           SPD          0.223771    0.277553              0.397906   \n",
       "\n",
       "                   avg_ff_ratio  share_of_tweets  share_unique_users  \\\n",
       "tweet_date party                                                       \n",
       "2021-05-26 AFD         0.000000         0.000000            0.000000   \n",
       "           CDU         0.000000         0.000000            0.000000   \n",
       "           FDP         0.000000         0.000000            0.000000   \n",
       "           GRUENE      0.000000         0.000000            0.000000   \n",
       "           LINKE       0.000000         0.000000            0.000000   \n",
       "...                         ...              ...                 ...   \n",
       "2021-08-23 FDP         0.347957         0.074285            0.730539   \n",
       "           GRUENE      0.356309         0.225808            0.577812   \n",
       "           LINKE       0.360115         0.027255            0.594214   \n",
       "           OTHER       0.085154         0.035424            0.569064   \n",
       "           SPD         0.461581         0.153747            0.633745   \n",
       "\n",
       "                   weighted_sentiment  share_of_positive_tweets  \\\n",
       "tweet_date party                                                  \n",
       "2021-05-26 AFD               0.000000                  0.000000   \n",
       "           CDU               0.000000                  0.000000   \n",
       "           FDP               0.000000                  0.000000   \n",
       "           GRUENE            0.000000                  0.000000   \n",
       "           LINKE             0.000000                  0.000000   \n",
       "...                               ...                       ...   \n",
       "2021-08-23 FDP              -0.530588                  0.056614   \n",
       "           GRUENE           -0.140617                  0.056053   \n",
       "           LINKE             0.017403                  0.054154   \n",
       "           OTHER            -0.028883                  0.088470   \n",
       "           SPD              -0.342489                  0.049842   \n",
       "\n",
       "                   share_of_negative_tweets    poll  \n",
       "tweet_date party                                     \n",
       "2021-05-26 AFD                     0.000000  0.1050  \n",
       "           CDU                     0.000000  0.2567  \n",
       "           FDP                     0.000000  0.1283  \n",
       "           GRUENE                  0.000000  0.2333  \n",
       "           LINKE                   0.000000  0.0617  \n",
       "...                                     ...     ...  \n",
       "2021-08-23 FDP                     0.520142  0.1300  \n",
       "           GRUENE                  0.399266  0.1700  \n",
       "           LINKE                   0.354599  0.0700  \n",
       "           OTHER                   0.378425  0.0600  \n",
       "           SPD                     0.457654  0.2300  \n",
       "\n",
       "[630 rows x 10 columns]"
      ]
     },
     "execution_count": 21,
     "metadata": {},
     "output_type": "execute_result"
    }
   ],
   "source": [
    "df_train_scaled"
   ]
  },
  {
   "cell_type": "code",
   "execution_count": 22,
   "id": "2e24bee0",
   "metadata": {},
   "outputs": [],
   "source": [
    "df_test_scaled = pd.concat([pd.DataFrame(numerical_test_scaled, columns = num_features, index = df_test.index),df_test[remaing_columns], pd.DataFrame(df_test_poll, columns = [\"poll\"], index = df_test.index)] , axis = 1)"
   ]
  },
  {
   "cell_type": "code",
   "execution_count": 23,
   "id": "2ff802f8",
   "metadata": {},
   "outputs": [],
   "source": [
    "def subsequence(df, length, start = 0):\n",
    "    last_possible_start = len(df) - length \n",
    "    X = df[start:start + length]\n",
    "    y = df[\"poll\"][(start + length ) : (start + length + 7)]\n",
    "    \n",
    "    return X, y"
   ]
  },
  {
   "cell_type": "code",
   "execution_count": null,
   "id": "776cb8c1",
   "metadata": {},
   "outputs": [],
   "source": []
  },
  {
   "cell_type": "code",
   "execution_count": 24,
   "id": "478897c4",
   "metadata": {},
   "outputs": [],
   "source": [
    "def multiple_subsequences(df, length):\n",
    "    \n",
    "    list_of_X = []\n",
    "    list_of_y = []\n",
    "    \n",
    "    number_of_subsequences = round(len(df) / length)\n",
    "    start = 0\n",
    "    for num in range(number_of_subsequences):\n",
    "        temporary_X, temporary_y = subsequence(df, length, start)\n",
    "        list_of_X.append(temporary_X)\n",
    "        list_of_y.append(temporary_y)\n",
    "        start = start + 7\n",
    "    \n",
    "    return list_of_X, list_of_y\n",
    "\n",
    "    \n",
    "    \n",
    "    "
   ]
  },
  {
   "cell_type": "code",
   "execution_count": 25,
   "id": "c264d1ea",
   "metadata": {},
   "outputs": [
    {
     "data": {
      "text/html": [
       "<div>\n",
       "<style scoped>\n",
       "    .dataframe tbody tr th:only-of-type {\n",
       "        vertical-align: middle;\n",
       "    }\n",
       "\n",
       "    .dataframe tbody tr th {\n",
       "        vertical-align: top;\n",
       "    }\n",
       "\n",
       "    .dataframe thead th {\n",
       "        text-align: right;\n",
       "    }\n",
       "</style>\n",
       "<table border=\"1\" class=\"dataframe\">\n",
       "  <thead>\n",
       "    <tr style=\"text-align: right;\">\n",
       "      <th></th>\n",
       "      <th></th>\n",
       "      <th>retweet_count</th>\n",
       "      <th>like_count</th>\n",
       "      <th>avg_user_tweet_count</th>\n",
       "      <th>avg_ff_ratio</th>\n",
       "      <th>share_of_tweets</th>\n",
       "      <th>share_unique_users</th>\n",
       "      <th>weighted_sentiment</th>\n",
       "      <th>share_of_positive_tweets</th>\n",
       "      <th>share_of_negative_tweets</th>\n",
       "      <th>poll</th>\n",
       "    </tr>\n",
       "    <tr>\n",
       "      <th>tweet_date</th>\n",
       "      <th>party</th>\n",
       "      <th></th>\n",
       "      <th></th>\n",
       "      <th></th>\n",
       "      <th></th>\n",
       "      <th></th>\n",
       "      <th></th>\n",
       "      <th></th>\n",
       "      <th></th>\n",
       "      <th></th>\n",
       "      <th></th>\n",
       "    </tr>\n",
       "  </thead>\n",
       "  <tbody>\n",
       "    <tr>\n",
       "      <th rowspan=\"5\" valign=\"top\">2021-05-26</th>\n",
       "      <th>AFD</th>\n",
       "      <td>0.000000</td>\n",
       "      <td>0.000000</td>\n",
       "      <td>0.000000</td>\n",
       "      <td>0.000000</td>\n",
       "      <td>0.000000</td>\n",
       "      <td>0.000000</td>\n",
       "      <td>0.000000</td>\n",
       "      <td>0.000000</td>\n",
       "      <td>0.000000</td>\n",
       "      <td>0.1050</td>\n",
       "    </tr>\n",
       "    <tr>\n",
       "      <th>CDU</th>\n",
       "      <td>0.000000</td>\n",
       "      <td>0.000000</td>\n",
       "      <td>0.000000</td>\n",
       "      <td>0.000000</td>\n",
       "      <td>0.000000</td>\n",
       "      <td>0.000000</td>\n",
       "      <td>0.000000</td>\n",
       "      <td>0.000000</td>\n",
       "      <td>0.000000</td>\n",
       "      <td>0.2567</td>\n",
       "    </tr>\n",
       "    <tr>\n",
       "      <th>FDP</th>\n",
       "      <td>0.000000</td>\n",
       "      <td>0.000000</td>\n",
       "      <td>0.000000</td>\n",
       "      <td>0.000000</td>\n",
       "      <td>0.000000</td>\n",
       "      <td>0.000000</td>\n",
       "      <td>0.000000</td>\n",
       "      <td>0.000000</td>\n",
       "      <td>0.000000</td>\n",
       "      <td>0.1283</td>\n",
       "    </tr>\n",
       "    <tr>\n",
       "      <th>GRUENE</th>\n",
       "      <td>0.000000</td>\n",
       "      <td>0.000000</td>\n",
       "      <td>0.000000</td>\n",
       "      <td>0.000000</td>\n",
       "      <td>0.000000</td>\n",
       "      <td>0.000000</td>\n",
       "      <td>0.000000</td>\n",
       "      <td>0.000000</td>\n",
       "      <td>0.000000</td>\n",
       "      <td>0.2333</td>\n",
       "    </tr>\n",
       "    <tr>\n",
       "      <th>LINKE</th>\n",
       "      <td>0.000000</td>\n",
       "      <td>0.000000</td>\n",
       "      <td>0.000000</td>\n",
       "      <td>0.000000</td>\n",
       "      <td>0.000000</td>\n",
       "      <td>0.000000</td>\n",
       "      <td>0.000000</td>\n",
       "      <td>0.000000</td>\n",
       "      <td>0.000000</td>\n",
       "      <td>0.0617</td>\n",
       "    </tr>\n",
       "    <tr>\n",
       "      <th>...</th>\n",
       "      <th>...</th>\n",
       "      <td>...</td>\n",
       "      <td>...</td>\n",
       "      <td>...</td>\n",
       "      <td>...</td>\n",
       "      <td>...</td>\n",
       "      <td>...</td>\n",
       "      <td>...</td>\n",
       "      <td>...</td>\n",
       "      <td>...</td>\n",
       "      <td>...</td>\n",
       "    </tr>\n",
       "    <tr>\n",
       "      <th rowspan=\"5\" valign=\"top\">2021-08-23</th>\n",
       "      <th>FDP</th>\n",
       "      <td>0.058780</td>\n",
       "      <td>0.065651</td>\n",
       "      <td>0.373746</td>\n",
       "      <td>0.347957</td>\n",
       "      <td>0.074285</td>\n",
       "      <td>0.730539</td>\n",
       "      <td>-0.530588</td>\n",
       "      <td>0.056614</td>\n",
       "      <td>0.520142</td>\n",
       "      <td>0.1300</td>\n",
       "    </tr>\n",
       "    <tr>\n",
       "      <th>GRUENE</th>\n",
       "      <td>0.344522</td>\n",
       "      <td>0.280436</td>\n",
       "      <td>0.371575</td>\n",
       "      <td>0.356309</td>\n",
       "      <td>0.225808</td>\n",
       "      <td>0.577812</td>\n",
       "      <td>-0.140617</td>\n",
       "      <td>0.056053</td>\n",
       "      <td>0.399266</td>\n",
       "      <td>0.1700</td>\n",
       "    </tr>\n",
       "    <tr>\n",
       "      <th>LINKE</th>\n",
       "      <td>0.033891</td>\n",
       "      <td>0.027093</td>\n",
       "      <td>0.406994</td>\n",
       "      <td>0.360115</td>\n",
       "      <td>0.027255</td>\n",
       "      <td>0.594214</td>\n",
       "      <td>0.017403</td>\n",
       "      <td>0.054154</td>\n",
       "      <td>0.354599</td>\n",
       "      <td>0.0700</td>\n",
       "    </tr>\n",
       "    <tr>\n",
       "      <th>OTHER</th>\n",
       "      <td>0.043068</td>\n",
       "      <td>0.024327</td>\n",
       "      <td>0.348279</td>\n",
       "      <td>0.085154</td>\n",
       "      <td>0.035424</td>\n",
       "      <td>0.569064</td>\n",
       "      <td>-0.028883</td>\n",
       "      <td>0.088470</td>\n",
       "      <td>0.378425</td>\n",
       "      <td>0.0600</td>\n",
       "    </tr>\n",
       "    <tr>\n",
       "      <th>SPD</th>\n",
       "      <td>0.223771</td>\n",
       "      <td>0.277553</td>\n",
       "      <td>0.397906</td>\n",
       "      <td>0.461581</td>\n",
       "      <td>0.153747</td>\n",
       "      <td>0.633745</td>\n",
       "      <td>-0.342489</td>\n",
       "      <td>0.049842</td>\n",
       "      <td>0.457654</td>\n",
       "      <td>0.2300</td>\n",
       "    </tr>\n",
       "  </tbody>\n",
       "</table>\n",
       "<p>630 rows × 10 columns</p>\n",
       "</div>"
      ],
      "text/plain": [
       "                   retweet_count  like_count  avg_user_tweet_count  \\\n",
       "tweet_date party                                                     \n",
       "2021-05-26 AFD          0.000000    0.000000              0.000000   \n",
       "           CDU          0.000000    0.000000              0.000000   \n",
       "           FDP          0.000000    0.000000              0.000000   \n",
       "           GRUENE       0.000000    0.000000              0.000000   \n",
       "           LINKE        0.000000    0.000000              0.000000   \n",
       "...                          ...         ...                   ...   \n",
       "2021-08-23 FDP          0.058780    0.065651              0.373746   \n",
       "           GRUENE       0.344522    0.280436              0.371575   \n",
       "           LINKE        0.033891    0.027093              0.406994   \n",
       "           OTHER        0.043068    0.024327              0.348279   \n",
       "           SPD          0.223771    0.277553              0.397906   \n",
       "\n",
       "                   avg_ff_ratio  share_of_tweets  share_unique_users  \\\n",
       "tweet_date party                                                       \n",
       "2021-05-26 AFD         0.000000         0.000000            0.000000   \n",
       "           CDU         0.000000         0.000000            0.000000   \n",
       "           FDP         0.000000         0.000000            0.000000   \n",
       "           GRUENE      0.000000         0.000000            0.000000   \n",
       "           LINKE       0.000000         0.000000            0.000000   \n",
       "...                         ...              ...                 ...   \n",
       "2021-08-23 FDP         0.347957         0.074285            0.730539   \n",
       "           GRUENE      0.356309         0.225808            0.577812   \n",
       "           LINKE       0.360115         0.027255            0.594214   \n",
       "           OTHER       0.085154         0.035424            0.569064   \n",
       "           SPD         0.461581         0.153747            0.633745   \n",
       "\n",
       "                   weighted_sentiment  share_of_positive_tweets  \\\n",
       "tweet_date party                                                  \n",
       "2021-05-26 AFD               0.000000                  0.000000   \n",
       "           CDU               0.000000                  0.000000   \n",
       "           FDP               0.000000                  0.000000   \n",
       "           GRUENE            0.000000                  0.000000   \n",
       "           LINKE             0.000000                  0.000000   \n",
       "...                               ...                       ...   \n",
       "2021-08-23 FDP              -0.530588                  0.056614   \n",
       "           GRUENE           -0.140617                  0.056053   \n",
       "           LINKE             0.017403                  0.054154   \n",
       "           OTHER            -0.028883                  0.088470   \n",
       "           SPD              -0.342489                  0.049842   \n",
       "\n",
       "                   share_of_negative_tweets    poll  \n",
       "tweet_date party                                     \n",
       "2021-05-26 AFD                     0.000000  0.1050  \n",
       "           CDU                     0.000000  0.2567  \n",
       "           FDP                     0.000000  0.1283  \n",
       "           GRUENE                  0.000000  0.2333  \n",
       "           LINKE                   0.000000  0.0617  \n",
       "...                                     ...     ...  \n",
       "2021-08-23 FDP                     0.520142  0.1300  \n",
       "           GRUENE                  0.399266  0.1700  \n",
       "           LINKE                   0.354599  0.0700  \n",
       "           OTHER                   0.378425  0.0600  \n",
       "           SPD                     0.457654  0.2300  \n",
       "\n",
       "[630 rows x 10 columns]"
      ]
     },
     "execution_count": 25,
     "metadata": {},
     "output_type": "execute_result"
    }
   ],
   "source": [
    "df_train_scaled"
   ]
  },
  {
   "cell_type": "code",
   "execution_count": 26,
   "id": "d7df0799",
   "metadata": {},
   "outputs": [],
   "source": [
    "X_train , y_train = multiple_subsequences(pd.DataFrame(df_train_scaled), 35 )\n",
    "X_test , y_test = multiple_subsequences(df_test_scaled, 35)"
   ]
  },
  {
   "cell_type": "code",
   "execution_count": 28,
   "id": "6355e1a8",
   "metadata": {},
   "outputs": [
    {
     "data": {
      "text/plain": [
       "18"
      ]
     },
     "execution_count": 28,
     "metadata": {},
     "output_type": "execute_result"
    }
   ],
   "source": [
    "len(X_train)"
   ]
  },
  {
   "cell_type": "code",
   "execution_count": 29,
   "id": "7ddee989",
   "metadata": {
    "scrolled": true
   },
   "outputs": [],
   "source": [
    "X_train = np.array(X_train)\n",
    "X_test = np.array(X_test)\n",
    "y_train = np.array(y_train)\n",
    "y_test = np.array(y_test)\n"
   ]
  },
  {
   "cell_type": "code",
   "execution_count": 30,
   "id": "528e8abb",
   "metadata": {},
   "outputs": [
    {
     "data": {
      "text/plain": [
       "((18, 35, 10), (18, 7), (0,), (0,))"
      ]
     },
     "execution_count": 30,
     "metadata": {},
     "output_type": "execute_result"
    }
   ],
   "source": [
    "X_train.shape , y_train.shape, X_test.shape , y_test.shape"
   ]
  },
  {
   "cell_type": "code",
   "execution_count": null,
   "id": "93d52d95",
   "metadata": {},
   "outputs": [],
   "source": [
    "# X_test = df_merged_test.to_numpy().reshape(1,7,14)\n",
    "# X_train = df_merged.to_numpy().reshape(35,7,14)\n",
    "# y_test = df_merged_test[\"poll\"].to_numpy().reshape(18,7)\n",
    "# y_train = y.to_numpy().reshape(4,7)"
   ]
  },
  {
   "cell_type": "code",
   "execution_count": null,
   "id": "6bdb2e0f",
   "metadata": {
    "scrolled": true
   },
   "outputs": [],
   "source": [
    "# def subsequence(df, length):\n",
    "#     X = []\n",
    "#     y = []\n",
    "#     counter = 0\n",
    "#     counter_y = 21\n",
    "#     last_possible = len(df) - length\n",
    "#     subsequences = round(len(df) / (length) )\n",
    "    \n",
    "#     for num in range(subsequences - 1):\n",
    "#         X.append(df[counter: counter + length])\n",
    "#         y.append(df[\"poll\"][counter_y: (counter_y + 7)])\n",
    "#         counter = counter + 7\n",
    "#         counter_y = counter_y + 7\n",
    "    \n",
    "#     return (X, y)\n",
    "\n",
    "# X_train, y_train = subsequence(df_train, 3)\n",
    "# X_test, y_test = subsequence(df_test, 3)"
   ]
  },
  {
   "cell_type": "code",
   "execution_count": null,
   "id": "c56c8c35",
   "metadata": {},
   "outputs": [],
   "source": []
  },
  {
   "cell_type": "code",
   "execution_count": null,
   "id": "c2112af9",
   "metadata": {},
   "outputs": [],
   "source": [
    "# pd.DataFrame(y_testing.groupby(by = y_testing.index).mean()).set_index(y_testing.columns)"
   ]
  },
  {
   "cell_type": "code",
   "execution_count": null,
   "id": "ac2478f9",
   "metadata": {
    "scrolled": true
   },
   "outputs": [],
   "source": [
    "# pd.DataFrame(y_testing.groupby(by = y_testing.index).mean().unstack()).set_index()"
   ]
  },
  {
   "cell_type": "code",
   "execution_count": null,
   "id": "e66bc063",
   "metadata": {},
   "outputs": [],
   "source": [
    "# X_test = df_merged_test.to_numpy().reshape(1,7,14)\n",
    "# X_train = df_merged.to_numpy().reshape(35,7,14)\n",
    "# y_test = df_merged_test[\"poll\"].to_numpy().reshape(1,7,1)\n",
    "# y_train = y.to_numpy().reshape(93,7)"
   ]
  },
  {
   "cell_type": "code",
   "execution_count": null,
   "id": "944c007e",
   "metadata": {},
   "outputs": [],
   "source": [
    "# X_test = df_merged_test.to_numpy().reshape(1,7,14)\n",
    "# X_train = df_merged.to_numpy().reshape(35,7,14)\n",
    "# y_test = df_merged_test[\"poll\"].to_numpy().reshape(1,7,1)\n",
    "# y_train = y.to_numpy().reshape(93,7)"
   ]
  },
  {
   "cell_type": "code",
   "execution_count": null,
   "id": "72eca254",
   "metadata": {},
   "outputs": [],
   "source": []
  },
  {
   "cell_type": "code",
   "execution_count": null,
   "id": "9cbe3faa",
   "metadata": {
    "scrolled": true
   },
   "outputs": [],
   "source": [
    "model = Sequential()\n",
    "model.add(layers.LSTM(units=18, activation='tanh', return_sequences=True))\n",
    "model.add(layers.LSTM(units=64, activation='tanh', return_sequences=False))\n",
    "model.add(layers.Dense(10, activation='relu'))\n",
    "model.add(layers.Dense(7, activation='relu'))\n"
   ]
  },
  {
   "cell_type": "code",
   "execution_count": null,
   "id": "27da8d45",
   "metadata": {},
   "outputs": [],
   "source": []
  },
  {
   "cell_type": "code",
   "execution_count": null,
   "id": "73e02523",
   "metadata": {
    "scrolled": false
   },
   "outputs": [],
   "source": [
    "%%time\n",
    "\n",
    "model.compile(loss='mse', optimizer='adam', metrics=['mae'])\n",
    "\n",
    "history = model.fit(X_train, y_train ,\n",
    "          epochs=30, \n",
    "          batch_size=1, \n",
    "          verbose=1, \n",
    "          validation_split=0.2,\n",
    "          shuffle = False\n",
    "     )\n",
    "\n"
   ]
  },
  {
   "cell_type": "code",
   "execution_count": null,
   "id": "b6a21204",
   "metadata": {},
   "outputs": [],
   "source": [
    "model.evaluate(X_test, y_test )"
   ]
  },
  {
   "cell_type": "code",
   "execution_count": null,
   "id": "0572bfbb",
   "metadata": {},
   "outputs": [],
   "source": [
    "df_merged_final_day = np.array(df_test_scaled.iloc[-28:])\n",
    "df_merged_final_day = np.expand_dims(df_merged_final_day, axis = 0)"
   ]
  },
  {
   "cell_type": "code",
   "execution_count": null,
   "id": "4cb92f98",
   "metadata": {},
   "outputs": [],
   "source": []
  },
  {
   "cell_type": "code",
   "execution_count": null,
   "id": "4e517da5",
   "metadata": {
    "scrolled": false
   },
   "outputs": [],
   "source": [
    "df_prediction = pd.DataFrame(model.predict(df_merged_final_day)).rename( \\\n",
    "                        columns = {0:'AFD',1:'CDU',2:'FDP',3: 'GRUENE',4: 'LINKE', 5:'OTHER', 6: 'SPD'}).round(3)\n",
    "df_prediction.index = [\"pred\"]\n",
    "\n",
    "df_prediction"
   ]
  },
  {
   "cell_type": "code",
   "execution_count": null,
   "id": "7b2e82cd",
   "metadata": {},
   "outputs": [],
   "source": [
    "np.sum(df_prediction, axis = 1)"
   ]
  },
  {
   "cell_type": "code",
   "execution_count": null,
   "id": "00c9c277",
   "metadata": {},
   "outputs": [],
   "source": [
    "df_prediction_2 = pd.DataFrame((df_prediction.iloc[0]) / np.sum(df_prediction.iloc[0])).T\n",
    "df_prediction_2"
   ]
  },
  {
   "cell_type": "code",
   "execution_count": null,
   "id": "e4724e31",
   "metadata": {},
   "outputs": [],
   "source": [
    "np.sum(df_prediction_2, axis = 1)"
   ]
  },
  {
   "cell_type": "code",
   "execution_count": null,
   "id": "33c3ce81",
   "metadata": {},
   "outputs": [],
   "source": [
    "df_true = pd.DataFrame(y_test[-1].reshape(1,-1)).rename( \\\n",
    "                        columns = {0:'AFD',1:'CDU',2:'FDP',3: 'GRUENE',4: 'LINKE', 5:'OTHER', 6: 'SPD'})\n",
    "\n",
    "df_true.index = [\"true\"]\n",
    "\n",
    "df_true"
   ]
  },
  {
   "cell_type": "code",
   "execution_count": null,
   "id": "098f7858",
   "metadata": {},
   "outputs": [],
   "source": [
    "np.sum(df_true, axis = 1)"
   ]
  },
  {
   "cell_type": "code",
   "execution_count": null,
   "id": "bb96278d",
   "metadata": {},
   "outputs": [],
   "source": [
    "round(pd.concat([df_true,df_prediction_2],axis=0),2)"
   ]
  },
  {
   "cell_type": "code",
   "execution_count": null,
   "id": "c16d4ec7",
   "metadata": {},
   "outputs": [],
   "source": [
    "def plot_loss_mae(history):\n",
    "\n",
    "# --- LOSS\n",
    "\n",
    "    plt.plot(history.history['loss'])\n",
    "    plt.plot(history.history['val_loss'])\n",
    "    plt.title('Model MAE')\n",
    "    plt.ylabel('Loss')\n",
    "    plt.xlabel('Epoch')\n",
    "    plt.legend(['Train', 'Test'], loc='best')\n",
    "    plt.show()\n",
    "    \n",
    "# --- MAE\n",
    "\n",
    "    plt.plot(history.history['mae'])\n",
    "    plt.plot(history.history['val_mae'])\n",
    "    plt.title('Model MAE')\n",
    "    plt.ylabel('MAE')\n",
    "    plt.xlabel('Epoch')\n",
    "    plt.legend(['Train', 'Test'], loc='best')\n",
    "    plt.show()"
   ]
  },
  {
   "cell_type": "code",
   "execution_count": null,
   "id": "b7aec32f",
   "metadata": {},
   "outputs": [],
   "source": [
    "plot_loss_mae(history)"
   ]
  },
  {
   "cell_type": "code",
   "execution_count": null,
   "id": "7108d27a",
   "metadata": {},
   "outputs": [],
   "source": [
    "sns.set(rc={'figure.figsize':(11.7,8.27)})\n",
    "sns.lineplot( data = df_merged[\"poll\"].unstack())\n"
   ]
  },
  {
   "cell_type": "code",
   "execution_count": null,
   "id": "9b40090a",
   "metadata": {},
   "outputs": [],
   "source": []
  },
  {
   "cell_type": "code",
   "execution_count": null,
   "id": "dcc85764",
   "metadata": {
    "scrolled": true
   },
   "outputs": [],
   "source": [
    "df_train.reset_index()[\"party\"]"
   ]
  },
  {
   "cell_type": "code",
   "execution_count": null,
   "id": "850fb51e",
   "metadata": {},
   "outputs": [],
   "source": [
    "df_train"
   ]
  },
  {
   "cell_type": "code",
   "execution_count": null,
   "id": "ef31dc4e",
   "metadata": {},
   "outputs": [],
   "source": [
    "df_plotting_spd = df_train_scaled.reset_index().loc[df_train_scaled.reset_index()[\"party\"] == \"SPD\"].drop(columns = \"party\")\n",
    "df_plotting_cdu = df_train_scaled.reset_index().loc[df_train_scaled.reset_index()[\"party\"] == \"CDU\"].drop(columns = \"party\")"
   ]
  },
  {
   "cell_type": "code",
   "execution_count": null,
   "id": "26a17818",
   "metadata": {},
   "outputs": [],
   "source": [
    "df_plotting_spd"
   ]
  },
  {
   "cell_type": "code",
   "execution_count": null,
   "id": "5ddb8667",
   "metadata": {
    "scrolled": true
   },
   "outputs": [],
   "source": [
    "new_df = df_plotting_spd.melt(id_vars='tweet_date', \n",
    "                 value_name='val', \n",
    "                 var_name='type')\n",
    "\n",
    "sns.lineplot(x='tweet_date', y='val', hue='type', data=new_df)"
   ]
  },
  {
   "cell_type": "code",
   "execution_count": null,
   "id": "04a98aec",
   "metadata": {},
   "outputs": [],
   "source": [
    "new_df = df_plotting_cdu.melt(id_vars='tweet_date', \n",
    "                 value_name='val', \n",
    "                 var_name='type')\n",
    "\n",
    "sns.lineplot(x='tweet_date', y='val', hue='type', data=new_df)"
   ]
  },
  {
   "cell_type": "code",
   "execution_count": null,
   "id": "b1744cda",
   "metadata": {},
   "outputs": [],
   "source": []
  },
  {
   "cell_type": "code",
   "execution_count": null,
   "id": "da7fcf61",
   "metadata": {},
   "outputs": [],
   "source": []
  },
  {
   "cell_type": "code",
   "execution_count": null,
   "id": "ac8aa140",
   "metadata": {},
   "outputs": [],
   "source": []
  },
  {
   "cell_type": "code",
   "execution_count": null,
   "id": "19e0b0cf",
   "metadata": {},
   "outputs": [],
   "source": []
  },
  {
   "cell_type": "code",
   "execution_count": null,
   "id": "17c14240",
   "metadata": {},
   "outputs": [],
   "source": [
    "def create_model():\n",
    "    \n",
    "    # Define architecture without input shape yet, as we don't know the shape post preprocessing\n",
    "    model = Sequential()\n",
    "    model.add(layers.Dense(32, activation='relu'))\n",
    "    model.add(layers.Dropout(0.2))\n",
    "    model.add(layers.Dense(15, activation='relu'))\n",
    "    model.add(layers.Dropout(0.3))\n",
    "    model.add(layers.Dense(1, activation='sigmoid'))\n",
    "    \n",
    "    # Compile model\n",
    "    model.compile(loss='binary_crossentropy', \n",
    "                  optimizer='adam', \n",
    "                  metrics=['accuracy'])\n",
    "    return model\n",
    "​\n",
    "'''\n",
    "Then, let's apply a \"mask\" to disguise this model as a Scikit Learn estimator\n",
    "'''\n",
    "from tensorflow.keras.wrappers.scikit_learn import KerasClassifier\n",
    "​\n",
    "model = KerasClassifier(build_fn=create_model, \n",
    "                        epochs=10, \n",
    "                        batch_size=32, \n",
    "                        verbose=0)\n",
    "​\n",
    "'''\n",
    "Now, your deep learning model is seen as SKLearn estimator\n",
    "You can **cross_validate** it and even **cross_val_score** it.\n",
    "'''\n",
    "​\n",
    "from sklearn.model_selection import cross_val_score\n",
    "​\n",
    "​\n",
    "cross_val_score(model, X_train_preproc, y_train, cv=3, n_jobs=-1)\n",
    "​\n",
    "'''\n",
    "You can even include your deep learning model within a pipeline\n",
    "'''\n",
    "​\n",
    "from sklearn.pipeline import make_pipeline\n",
    "​\n",
    "​\n",
    "pipelined_model = make_pipeline(preproc, model)\n",
    "cross_val_score(pipelined_model, X_train, y_train, cv=3)"
   ]
  },
  {
   "cell_type": "code",
   "execution_count": null,
   "id": "002dbced",
   "metadata": {},
   "outputs": [],
   "source": []
  },
  {
   "cell_type": "code",
   "execution_count": null,
   "id": "82389caf",
   "metadata": {},
   "outputs": [],
   "source": []
  },
  {
   "cell_type": "code",
   "execution_count": null,
   "id": "d26196ec",
   "metadata": {},
   "outputs": [],
   "source": []
  },
  {
   "cell_type": "code",
   "execution_count": null,
   "id": "923e0a9e",
   "metadata": {},
   "outputs": [],
   "source": []
  },
  {
   "cell_type": "code",
   "execution_count": null,
   "id": "e6b39292",
   "metadata": {},
   "outputs": [],
   "source": []
  },
  {
   "cell_type": "code",
   "execution_count": null,
   "id": "f65e6f8e",
   "metadata": {},
   "outputs": [],
   "source": []
  },
  {
   "cell_type": "code",
   "execution_count": null,
   "id": "a4eb7f46",
   "metadata": {},
   "outputs": [],
   "source": []
  },
  {
   "cell_type": "code",
   "execution_count": null,
   "id": "20be146f",
   "metadata": {},
   "outputs": [],
   "source": []
  },
  {
   "cell_type": "code",
   "execution_count": null,
   "id": "f8afecee",
   "metadata": {},
   "outputs": [],
   "source": []
  },
  {
   "cell_type": "code",
   "execution_count": null,
   "id": "d06ffd75",
   "metadata": {},
   "outputs": [],
   "source": []
  },
  {
   "cell_type": "code",
   "execution_count": null,
   "id": "59b05d2e",
   "metadata": {},
   "outputs": [],
   "source": []
  },
  {
   "cell_type": "code",
   "execution_count": null,
   "id": "7a9d9b5c",
   "metadata": {},
   "outputs": [],
   "source": []
  },
  {
   "cell_type": "code",
   "execution_count": null,
   "id": "2e7cd942",
   "metadata": {},
   "outputs": [],
   "source": []
  }
 ],
 "metadata": {
  "kernelspec": {
   "display_name": "Python 3 (ipykernel)",
   "language": "python",
   "name": "python3"
  },
  "language_info": {
   "codemirror_mode": {
    "name": "ipython",
    "version": 3
   },
   "file_extension": ".py",
   "mimetype": "text/x-python",
   "name": "python",
   "nbconvert_exporter": "python",
   "pygments_lexer": "ipython3",
   "version": "3.8.6"
  },
  "toc": {
   "base_numbering": 1,
   "nav_menu": {},
   "number_sections": true,
   "sideBar": true,
   "skip_h1_title": false,
   "title_cell": "Table of Contents",
   "title_sidebar": "Contents",
   "toc_cell": false,
   "toc_position": {},
   "toc_section_display": true,
   "toc_window_display": false
  }
 },
 "nbformat": 4,
 "nbformat_minor": 5
}
