{
 "cells": [
  {
   "cell_type": "code",
   "execution_count": 1,
   "id": "d098dc5d",
   "metadata": {},
   "outputs": [
    {
     "name": "stderr",
     "output_type": "stream",
     "text": [
      "2021-09-02 09:44:35.719280: W tensorflow/stream_executor/platform/default/dso_loader.cc:64] Could not load dynamic library 'libcudart.so.11.0'; dlerror: libcudart.so.11.0: cannot open shared object file: No such file or directory\n",
      "2021-09-02 09:44:35.719330: I tensorflow/stream_executor/cuda/cudart_stub.cc:29] Ignore above cudart dlerror if you do not have a GPU set up on your machine.\n"
     ]
    }
   ],
   "source": [
    "from tensorflow import keras\n",
    "import numpy as np\n",
    "import pandas as pd\n",
    "import matplotlib.pyplot as plt\n",
    "import seaborn as sns\n",
    "from keras.layers import Normalization\n",
    "from keras.models import Sequential\n",
    "from keras.layers import Dense, SimpleRNN, Flatten\n",
    "from keras import layers\n",
    "pd.set_option('display.max_rows', 50)\n",
    "from tensorflow.keras import optimizers\n",
    "from tensorflow.keras.callbacks import EarlyStopping \n",
    "\n",
    "import random\n"
   ]
  },
  {
   "cell_type": "code",
   "execution_count": 2,
   "id": "9fde10c7",
   "metadata": {},
   "outputs": [],
   "source": [
    "df_merged = pd.read_csv(\"rnn_model_df_31.csv\")"
   ]
  },
  {
   "cell_type": "code",
   "execution_count": null,
   "id": "33198d5c",
   "metadata": {},
   "outputs": [],
   "source": []
  },
  {
   "cell_type": "code",
   "execution_count": 3,
   "id": "f661bcee",
   "metadata": {},
   "outputs": [],
   "source": [
    "df_merged = df_merged[df_merged[\"reply_count\"].notna()].drop(columns = [\"reply_count\", \"avg_followers_count\", \"avg_following_count\" ] )"
   ]
  },
  {
   "cell_type": "code",
   "execution_count": 4,
   "id": "ccc26e86",
   "metadata": {},
   "outputs": [
    {
     "data": {
      "text/html": [
       "<div>\n",
       "<style scoped>\n",
       "    .dataframe tbody tr th:only-of-type {\n",
       "        vertical-align: middle;\n",
       "    }\n",
       "\n",
       "    .dataframe tbody tr th {\n",
       "        vertical-align: top;\n",
       "    }\n",
       "\n",
       "    .dataframe thead th {\n",
       "        text-align: right;\n",
       "    }\n",
       "</style>\n",
       "<table border=\"1\" class=\"dataframe\">\n",
       "  <thead>\n",
       "    <tr style=\"text-align: right;\">\n",
       "      <th></th>\n",
       "      <th>tweet_date</th>\n",
       "      <th>party</th>\n",
       "      <th>poll</th>\n",
       "      <th>retweet_count</th>\n",
       "      <th>like_count</th>\n",
       "      <th>avg_len_of_tweet</th>\n",
       "      <th>avg_user_tweet_count</th>\n",
       "      <th>avg_ff_ratio</th>\n",
       "      <th>share_of_tweets</th>\n",
       "      <th>share_unique_users</th>\n",
       "      <th>weighted_sentiment</th>\n",
       "      <th>share_of_positive_tweets</th>\n",
       "      <th>share_of_negative_tweets</th>\n",
       "    </tr>\n",
       "  </thead>\n",
       "  <tbody>\n",
       "    <tr>\n",
       "      <th>420</th>\n",
       "      <td>2021-07-23</td>\n",
       "      <td>AFD</td>\n",
       "      <td>11.00</td>\n",
       "      <td>7430.0</td>\n",
       "      <td>50589.0</td>\n",
       "      <td>183.483988</td>\n",
       "      <td>30258.523792</td>\n",
       "      <td>11.717405</td>\n",
       "      <td>0.241723</td>\n",
       "      <td>0.599421</td>\n",
       "      <td>-0.822698</td>\n",
       "      <td>0.028768</td>\n",
       "      <td>0.587842</td>\n",
       "    </tr>\n",
       "    <tr>\n",
       "      <th>421</th>\n",
       "      <td>2021-07-23</td>\n",
       "      <td>CDU</td>\n",
       "      <td>28.00</td>\n",
       "      <td>8987.0</td>\n",
       "      <td>53965.0</td>\n",
       "      <td>191.227455</td>\n",
       "      <td>26716.583105</td>\n",
       "      <td>5.530039</td>\n",
       "      <td>0.207085</td>\n",
       "      <td>0.673073</td>\n",
       "      <td>-0.466696</td>\n",
       "      <td>0.035058</td>\n",
       "      <td>0.480465</td>\n",
       "    </tr>\n",
       "    <tr>\n",
       "      <th>422</th>\n",
       "      <td>2021-07-23</td>\n",
       "      <td>FDP</td>\n",
       "      <td>12.00</td>\n",
       "      <td>1854.0</td>\n",
       "      <td>15224.0</td>\n",
       "      <td>171.541570</td>\n",
       "      <td>26521.715935</td>\n",
       "      <td>5.561241</td>\n",
       "      <td>0.113623</td>\n",
       "      <td>0.675905</td>\n",
       "      <td>-0.385271</td>\n",
       "      <td>0.061971</td>\n",
       "      <td>0.476905</td>\n",
       "    </tr>\n",
       "    <tr>\n",
       "      <th>423</th>\n",
       "      <td>2021-07-23</td>\n",
       "      <td>GRUENE</td>\n",
       "      <td>19.00</td>\n",
       "      <td>7621.0</td>\n",
       "      <td>60041.0</td>\n",
       "      <td>182.306444</td>\n",
       "      <td>24578.680470</td>\n",
       "      <td>4.759415</td>\n",
       "      <td>0.264028</td>\n",
       "      <td>0.619016</td>\n",
       "      <td>-0.267626</td>\n",
       "      <td>0.060460</td>\n",
       "      <td>0.439125</td>\n",
       "    </tr>\n",
       "    <tr>\n",
       "      <th>424</th>\n",
       "      <td>2021-07-23</td>\n",
       "      <td>LINKE</td>\n",
       "      <td>7.00</td>\n",
       "      <td>268.0</td>\n",
       "      <td>1625.0</td>\n",
       "      <td>181.312292</td>\n",
       "      <td>36722.935216</td>\n",
       "      <td>2.647902</td>\n",
       "      <td>0.026328</td>\n",
       "      <td>0.616279</td>\n",
       "      <td>-0.050804</td>\n",
       "      <td>0.061462</td>\n",
       "      <td>0.373754</td>\n",
       "    </tr>\n",
       "    <tr>\n",
       "      <th>...</th>\n",
       "      <td>...</td>\n",
       "      <td>...</td>\n",
       "      <td>...</td>\n",
       "      <td>...</td>\n",
       "      <td>...</td>\n",
       "      <td>...</td>\n",
       "      <td>...</td>\n",
       "      <td>...</td>\n",
       "      <td>...</td>\n",
       "      <td>...</td>\n",
       "      <td>...</td>\n",
       "      <td>...</td>\n",
       "      <td>...</td>\n",
       "    </tr>\n",
       "    <tr>\n",
       "      <th>695</th>\n",
       "      <td>2021-08-31</td>\n",
       "      <td>FDP</td>\n",
       "      <td>12.00</td>\n",
       "      <td>2626.0</td>\n",
       "      <td>30829.0</td>\n",
       "      <td>148.846072</td>\n",
       "      <td>20007.450027</td>\n",
       "      <td>3.306954</td>\n",
       "      <td>0.112983</td>\n",
       "      <td>0.721005</td>\n",
       "      <td>-0.545316</td>\n",
       "      <td>0.051131</td>\n",
       "      <td>0.523784</td>\n",
       "    </tr>\n",
       "    <tr>\n",
       "      <th>696</th>\n",
       "      <td>2021-08-31</td>\n",
       "      <td>GRUENE</td>\n",
       "      <td>17.50</td>\n",
       "      <td>4733.0</td>\n",
       "      <td>38891.0</td>\n",
       "      <td>180.245516</td>\n",
       "      <td>23105.896824</td>\n",
       "      <td>6.798644</td>\n",
       "      <td>0.122323</td>\n",
       "      <td>0.688827</td>\n",
       "      <td>-0.115527</td>\n",
       "      <td>0.063847</td>\n",
       "      <td>0.393780</td>\n",
       "    </tr>\n",
       "    <tr>\n",
       "      <th>697</th>\n",
       "      <td>2021-08-31</td>\n",
       "      <td>LINKE</td>\n",
       "      <td>6.50</td>\n",
       "      <td>1411.0</td>\n",
       "      <td>10948.0</td>\n",
       "      <td>176.158121</td>\n",
       "      <td>27386.891000</td>\n",
       "      <td>2.613547</td>\n",
       "      <td>0.056139</td>\n",
       "      <td>0.547508</td>\n",
       "      <td>-0.117520</td>\n",
       "      <td>0.057727</td>\n",
       "      <td>0.389745</td>\n",
       "    </tr>\n",
       "    <tr>\n",
       "      <th>698</th>\n",
       "      <td>2021-08-31</td>\n",
       "      <td>OTHER</td>\n",
       "      <td>7.67</td>\n",
       "      <td>1580.0</td>\n",
       "      <td>9130.0</td>\n",
       "      <td>164.704657</td>\n",
       "      <td>16861.637255</td>\n",
       "      <td>2.676769</td>\n",
       "      <td>0.032850</td>\n",
       "      <td>0.670343</td>\n",
       "      <td>0.000828</td>\n",
       "      <td>0.088848</td>\n",
       "      <td>0.371936</td>\n",
       "    </tr>\n",
       "    <tr>\n",
       "      <th>699</th>\n",
       "      <td>2021-08-31</td>\n",
       "      <td>SPD</td>\n",
       "      <td>25.00</td>\n",
       "      <td>9995.0</td>\n",
       "      <td>78096.0</td>\n",
       "      <td>167.257987</td>\n",
       "      <td>26919.105258</td>\n",
       "      <td>11.783600</td>\n",
       "      <td>0.200986</td>\n",
       "      <td>0.634151</td>\n",
       "      <td>-0.308160</td>\n",
       "      <td>0.047571</td>\n",
       "      <td>0.445568</td>\n",
       "    </tr>\n",
       "  </tbody>\n",
       "</table>\n",
       "<p>280 rows × 13 columns</p>\n",
       "</div>"
      ],
      "text/plain": [
       "     tweet_date   party   poll  retweet_count  like_count  avg_len_of_tweet  \\\n",
       "420  2021-07-23     AFD  11.00         7430.0     50589.0        183.483988   \n",
       "421  2021-07-23     CDU  28.00         8987.0     53965.0        191.227455   \n",
       "422  2021-07-23     FDP  12.00         1854.0     15224.0        171.541570   \n",
       "423  2021-07-23  GRUENE  19.00         7621.0     60041.0        182.306444   \n",
       "424  2021-07-23   LINKE   7.00          268.0      1625.0        181.312292   \n",
       "..          ...     ...    ...            ...         ...               ...   \n",
       "695  2021-08-31     FDP  12.00         2626.0     30829.0        148.846072   \n",
       "696  2021-08-31  GRUENE  17.50         4733.0     38891.0        180.245516   \n",
       "697  2021-08-31   LINKE   6.50         1411.0     10948.0        176.158121   \n",
       "698  2021-08-31   OTHER   7.67         1580.0      9130.0        164.704657   \n",
       "699  2021-08-31     SPD  25.00         9995.0     78096.0        167.257987   \n",
       "\n",
       "     avg_user_tweet_count  avg_ff_ratio  share_of_tweets  share_unique_users  \\\n",
       "420          30258.523792     11.717405         0.241723            0.599421   \n",
       "421          26716.583105      5.530039         0.207085            0.673073   \n",
       "422          26521.715935      5.561241         0.113623            0.675905   \n",
       "423          24578.680470      4.759415         0.264028            0.619016   \n",
       "424          36722.935216      2.647902         0.026328            0.616279   \n",
       "..                    ...           ...              ...                 ...   \n",
       "695          20007.450027      3.306954         0.112983            0.721005   \n",
       "696          23105.896824      6.798644         0.122323            0.688827   \n",
       "697          27386.891000      2.613547         0.056139            0.547508   \n",
       "698          16861.637255      2.676769         0.032850            0.670343   \n",
       "699          26919.105258     11.783600         0.200986            0.634151   \n",
       "\n",
       "     weighted_sentiment  share_of_positive_tweets  share_of_negative_tweets  \n",
       "420           -0.822698                  0.028768                  0.587842  \n",
       "421           -0.466696                  0.035058                  0.480465  \n",
       "422           -0.385271                  0.061971                  0.476905  \n",
       "423           -0.267626                  0.060460                  0.439125  \n",
       "424           -0.050804                  0.061462                  0.373754  \n",
       "..                  ...                       ...                       ...  \n",
       "695           -0.545316                  0.051131                  0.523784  \n",
       "696           -0.115527                  0.063847                  0.393780  \n",
       "697           -0.117520                  0.057727                  0.389745  \n",
       "698            0.000828                  0.088848                  0.371936  \n",
       "699           -0.308160                  0.047571                  0.445568  \n",
       "\n",
       "[280 rows x 13 columns]"
      ]
     },
     "execution_count": 4,
     "metadata": {},
     "output_type": "execute_result"
    }
   ],
   "source": [
    "df_merged"
   ]
  },
  {
   "cell_type": "code",
   "execution_count": 5,
   "id": "89ac5526",
   "metadata": {},
   "outputs": [],
   "source": [
    "df_merged = df_merged.replace(np.nan, 0)"
   ]
  },
  {
   "cell_type": "code",
   "execution_count": 7,
   "id": "2101c88d",
   "metadata": {},
   "outputs": [],
   "source": [
    "df_merged[\"tweet_date\"] = pd.to_datetime(df_merged[\"tweet_date\"])\n",
    "\n",
    "df_merged = df_merged.groupby([pd.Grouper(key='tweet_date',freq='D'), \"party\"]).agg({\n",
    "#     \"reply_count\": \"sum\", \n",
    "    \"retweet_count\": \"sum\",\n",
    "    \"like_count\": \"sum\",\n",
    "#     \"avg_len_of_tweet\": \"mean\" ,\n",
    "#     \"avg_followers_count\": \"mean\" ,\n",
    "#     \"avg_following_count\": \"mean\" ,\n",
    "    \"avg_user_tweet_count\" : \"mean\",\n",
    "    \"avg_ff_ratio\" :\"mean\",\n",
    "    \"share_of_tweets\" :\"mean\",\n",
    "    \"share_unique_users\": \"mean\",\n",
    "    \"weighted_sentiment\" : \"mean\",\n",
    "    \"share_of_positive_tweets\": \"mean\",\n",
    "    \"share_of_negative_tweets\" : \"mean\",\n",
    "    \"poll\": \"mean\"}) "
   ]
  },
  {
   "cell_type": "code",
   "execution_count": 8,
   "id": "ed214bba",
   "metadata": {},
   "outputs": [],
   "source": [
    "df_real_true = df_merged.iloc[-7:]"
   ]
  },
  {
   "cell_type": "code",
   "execution_count": null,
   "id": "cbd10255",
   "metadata": {},
   "outputs": [],
   "source": []
  },
  {
   "cell_type": "code",
   "execution_count": 9,
   "id": "97eb8322",
   "metadata": {},
   "outputs": [],
   "source": [
    "df_merged = df_merged.iloc[:-7]"
   ]
  },
  {
   "cell_type": "code",
   "execution_count": 10,
   "id": "1e49f617",
   "metadata": {},
   "outputs": [],
   "source": [
    "df_merged_final_test = df_merged.iloc[-7:]"
   ]
  },
  {
   "cell_type": "code",
   "execution_count": 11,
   "id": "0996c8ba",
   "metadata": {},
   "outputs": [],
   "source": [
    "df_merged_final = df_merged.iloc[:-7]"
   ]
  },
  {
   "cell_type": "code",
   "execution_count": null,
   "id": "a830e310",
   "metadata": {},
   "outputs": [],
   "source": []
  },
  {
   "cell_type": "code",
   "execution_count": 12,
   "id": "cb214f41",
   "metadata": {},
   "outputs": [],
   "source": [
    "num_features = [ \"retweet_count\", \"like_count\", \"avg_user_tweet_count\",\"avg_ff_ratio\"]\n",
    "remaing_columns = [\"share_of_tweets\",\"share_unique_users\",\"weighted_sentiment\",\"share_of_positive_tweets\",\"share_of_negative_tweets\"]"
   ]
  },
  {
   "cell_type": "code",
   "execution_count": 13,
   "id": "cd65b9b4",
   "metadata": {},
   "outputs": [],
   "source": [
    "from sklearn.preprocessing import MinMaxScaler\n",
    "\n",
    "mm_scaler = MinMaxScaler()\n",
    "\n",
    "mm_scaler.fit(df_merged_final[num_features])\n",
    "\n",
    "numerical_train_scaled = mm_scaler.transform(df_merged_final[num_features])\n",
    "numerical_test_scaled = mm_scaler.transform(df_merged_final_test[num_features])"
   ]
  },
  {
   "cell_type": "code",
   "execution_count": 14,
   "id": "7d1d5a3c",
   "metadata": {},
   "outputs": [],
   "source": [
    "df_merged_poll = df_merged_final[\"poll\"] / 100\n",
    "df_merged_poll_test = df_merged_final_test[\"poll\"] / 100"
   ]
  },
  {
   "cell_type": "code",
   "execution_count": 15,
   "id": "31360ef4",
   "metadata": {},
   "outputs": [],
   "source": [
    "df_numerical_train_scaled = pd.DataFrame(numerical_train_scaled, columns = num_features, index = df_merged_final.index)\n"
   ]
  },
  {
   "cell_type": "code",
   "execution_count": 16,
   "id": "0ec54b49",
   "metadata": {},
   "outputs": [],
   "source": [
    "df_train_scaled = pd.concat([df_numerical_train_scaled,df_merged_final[remaing_columns], pd.DataFrame(df_merged_poll, columns = [\"poll\"], index = df_merged_final.index)] , axis = 1)"
   ]
  },
  {
   "cell_type": "code",
   "execution_count": null,
   "id": "f30d615e",
   "metadata": {},
   "outputs": [],
   "source": []
  },
  {
   "cell_type": "code",
   "execution_count": 17,
   "id": "87d8cee6",
   "metadata": {},
   "outputs": [],
   "source": [
    "df_test_scaled = pd.concat([pd.DataFrame(numerical_test_scaled, columns = num_features, index = df_merged_final_test.index),df_merged_final_test[remaing_columns], pd.DataFrame(df_merged_poll_test, columns = [\"poll\"], index = df_merged_final_test.index)] , axis = 1)"
   ]
  },
  {
   "cell_type": "code",
   "execution_count": 18,
   "id": "cfee585c",
   "metadata": {},
   "outputs": [],
   "source": [
    "def subsequence(df, length, start = 0):\n",
    "    last_possible_start = len(df) - length \n",
    "    X = df[start:start + length]\n",
    "    y = df[\"poll\"][(start + length ) : (start + length + 7)]\n",
    "    \n",
    "    return X, y"
   ]
  },
  {
   "cell_type": "code",
   "execution_count": 19,
   "id": "deccfa2c",
   "metadata": {},
   "outputs": [],
   "source": [
    "def multiple_subsequences(df, length):\n",
    "    \n",
    "    list_of_X = []\n",
    "    list_of_y = []\n",
    "    \n",
    "    number_of_subsequences = round(len(df) /  7 - (length/7))\n",
    "    print(number_of_subsequences)\n",
    "    start = 0\n",
    "    for num in range(number_of_subsequences):\n",
    "        temporary_X, temporary_y = subsequence(df, length, start)\n",
    "        list_of_X.append(temporary_X)\n",
    "        list_of_y.append(temporary_y)\n",
    "        start = start + 7\n",
    "    \n",
    "    return list_of_X, list_of_y\n",
    "\n",
    "    \n",
    "    \n",
    "    "
   ]
  },
  {
   "cell_type": "code",
   "execution_count": 20,
   "id": "b482b9c8",
   "metadata": {},
   "outputs": [
    {
     "name": "stdout",
     "output_type": "stream",
     "text": [
      "34\n"
     ]
    }
   ],
   "source": [
    "X_train , y_train = multiple_subsequences(pd.DataFrame(df_train_scaled), 28 )\n",
    "# X_test , y_test = multiple_subsequences(df_test_scaled, 35)"
   ]
  },
  {
   "cell_type": "code",
   "execution_count": 21,
   "id": "9a30b20b",
   "metadata": {},
   "outputs": [
    {
     "data": {
      "text/plain": [
       "38.0"
      ]
     },
     "execution_count": 21,
     "metadata": {},
     "output_type": "execute_result"
    }
   ],
   "source": [
    "(df_train_scaled.shape[0]/ 7)"
   ]
  },
  {
   "cell_type": "code",
   "execution_count": null,
   "id": "9ad891ff",
   "metadata": {},
   "outputs": [],
   "source": []
  },
  {
   "cell_type": "code",
   "execution_count": null,
   "id": "620c08fe",
   "metadata": {
    "scrolled": true
   },
   "outputs": [],
   "source": []
  },
  {
   "cell_type": "code",
   "execution_count": null,
   "id": "6e4abc69",
   "metadata": {},
   "outputs": [],
   "source": []
  },
  {
   "cell_type": "code",
   "execution_count": 22,
   "id": "0793a1be",
   "metadata": {
    "scrolled": true
   },
   "outputs": [],
   "source": [
    "X_train = np.array(X_train)\n",
    "# X_test = np.array(X_test)\n",
    "y_train = np.array(y_train)\n",
    "# y_test = np.array(y_test)\n"
   ]
  },
  {
   "cell_type": "code",
   "execution_count": 23,
   "id": "d775188c",
   "metadata": {},
   "outputs": [],
   "source": [
    "from keras.layers import BatchNormalization\n"
   ]
  },
  {
   "cell_type": "code",
   "execution_count": 24,
   "id": "883db39d",
   "metadata": {},
   "outputs": [
    {
     "name": "stderr",
     "output_type": "stream",
     "text": [
      "2021-09-02 09:44:57.450069: W tensorflow/stream_executor/platform/default/dso_loader.cc:64] Could not load dynamic library 'libcuda.so.1'; dlerror: libcuda.so.1: cannot open shared object file: No such file or directory\n",
      "2021-09-02 09:44:57.450133: W tensorflow/stream_executor/cuda/cuda_driver.cc:269] failed call to cuInit: UNKNOWN ERROR (303)\n",
      "2021-09-02 09:44:57.450151: I tensorflow/stream_executor/cuda/cuda_diagnostics.cc:156] kernel driver does not appear to be running on this host (LAPTOP-69AIGBNI): /proc/driver/nvidia/version does not exist\n",
      "2021-09-02 09:44:57.450411: I tensorflow/core/platform/cpu_feature_guard.cc:142] This TensorFlow binary is optimized with oneAPI Deep Neural Network Library (oneDNN) to use the following CPU instructions in performance-critical operations:  AVX2 AVX512F FMA\n",
      "To enable them in other operations, rebuild TensorFlow with the appropriate compiler flags.\n"
     ]
    }
   ],
   "source": [
    "model = Sequential()\n",
    "# model.add(layers.Masking(mask_value=-9999, input_shape=X_train[0].shape))\n",
    "model.add(layers.LSTM(units=128, activation='tanh', return_sequences=True))\n",
    "model.add(layers.LSTM(units=64, activation='tanh', return_sequences=False))\n",
    "model.add(layers.Dense(32, activation='relu'))\n",
    "model.add(layers.Dense(7, activation='linear'))\n"
   ]
  },
  {
   "cell_type": "code",
   "execution_count": 25,
   "id": "79659774",
   "metadata": {},
   "outputs": [
    {
     "name": "stderr",
     "output_type": "stream",
     "text": [
      "2021-09-02 09:44:57.667755: I tensorflow/compiler/mlir/mlir_graph_optimization_pass.cc:185] None of the MLIR Optimization Passes are enabled (registered 2)\n"
     ]
    },
    {
     "name": "stdout",
     "output_type": "stream",
     "text": [
      "Epoch 1/100\n",
      "27/27 [==============================] - 3s 36ms/step - loss: 0.0039 - mae: 0.0397 - val_loss: 5.3867e-04 - val_mae: 0.0179\n",
      "Epoch 2/100\n",
      "27/27 [==============================] - 0s 17ms/step - loss: 2.8434e-04 - mae: 0.0135 - val_loss: 3.2018e-04 - val_mae: 0.0147\n",
      "Epoch 3/100\n",
      "27/27 [==============================] - 0s 16ms/step - loss: 4.3327e-04 - mae: 0.0165 - val_loss: 3.9596e-04 - val_mae: 0.0126\n",
      "Epoch 4/100\n",
      "27/27 [==============================] - 0s 16ms/step - loss: 2.3938e-04 - mae: 0.0120 - val_loss: 3.4601e-04 - val_mae: 0.0130\n",
      "Epoch 5/100\n",
      "27/27 [==============================] - 0s 16ms/step - loss: 1.9823e-04 - mae: 0.0112 - val_loss: 3.4258e-04 - val_mae: 0.0129\n",
      "Epoch 6/100\n",
      "27/27 [==============================] - 0s 15ms/step - loss: 1.9521e-04 - mae: 0.0113 - val_loss: 3.3611e-04 - val_mae: 0.0127\n",
      "Epoch 7/100\n",
      "27/27 [==============================] - 0s 16ms/step - loss: 1.9450e-04 - mae: 0.0113 - val_loss: 3.3165e-04 - val_mae: 0.0126\n",
      "Epoch 8/100\n",
      "27/27 [==============================] - 0s 16ms/step - loss: 1.9234e-04 - mae: 0.0112 - val_loss: 3.2876e-04 - val_mae: 0.0125\n",
      "Epoch 9/100\n",
      "27/27 [==============================] - 0s 17ms/step - loss: 1.8973e-04 - mae: 0.0112 - val_loss: 3.2619e-04 - val_mae: 0.0124\n",
      "Epoch 10/100\n",
      "27/27 [==============================] - 0s 17ms/step - loss: 1.8715e-04 - mae: 0.0112 - val_loss: 3.2348e-04 - val_mae: 0.0123\n",
      "Epoch 11/100\n",
      "27/27 [==============================] - 0s 18ms/step - loss: 1.8484e-04 - mae: 0.0111 - val_loss: 3.2020e-04 - val_mae: 0.0122\n",
      "Epoch 12/100\n",
      "27/27 [==============================] - 1s 19ms/step - loss: 1.8292e-04 - mae: 0.0111 - val_loss: 3.1622e-04 - val_mae: 0.0120\n",
      "Epoch 13/100\n",
      "27/27 [==============================] - 0s 16ms/step - loss: 1.8136e-04 - mae: 0.0110 - val_loss: 3.1170e-04 - val_mae: 0.0119\n",
      "Epoch 14/100\n",
      "27/27 [==============================] - 0s 17ms/step - loss: 1.8003e-04 - mae: 0.0110 - val_loss: 3.0721e-04 - val_mae: 0.0118\n",
      "Epoch 15/100\n",
      "27/27 [==============================] - 0s 18ms/step - loss: 1.7869e-04 - mae: 0.0109 - val_loss: 3.0439e-04 - val_mae: 0.0119\n",
      "Epoch 16/100\n",
      "27/27 [==============================] - 1s 20ms/step - loss: 1.7701e-04 - mae: 0.0109 - val_loss: 3.0634e-04 - val_mae: 0.0122\n",
      "Epoch 17/100\n",
      "27/27 [==============================] - 0s 18ms/step - loss: 1.7352e-04 - mae: 0.0107 - val_loss: 3.3026e-04 - val_mae: 0.0130\n",
      "Epoch 18/100\n",
      "27/27 [==============================] - 1s 19ms/step - loss: 1.7218e-04 - mae: 0.0107 - val_loss: 3.3434e-04 - val_mae: 0.0129\n",
      "Epoch 19/100\n",
      "27/27 [==============================] - 0s 17ms/step - loss: 1.7636e-04 - mae: 0.0107 - val_loss: 3.3603e-04 - val_mae: 0.0124\n",
      "Epoch 20/100\n",
      "27/27 [==============================] - 0s 17ms/step - loss: 1.8320e-04 - mae: 0.0110 - val_loss: 3.2794e-04 - val_mae: 0.0124\n",
      "Epoch 21/100\n",
      "27/27 [==============================] - 0s 17ms/step - loss: 1.7914e-04 - mae: 0.0109 - val_loss: 3.1733e-04 - val_mae: 0.0123\n",
      "Epoch 22/100\n",
      "27/27 [==============================] - 1s 23ms/step - loss: 1.7543e-04 - mae: 0.0108 - val_loss: 3.1612e-04 - val_mae: 0.0124\n",
      "Epoch 23/100\n",
      "27/27 [==============================] - 1s 24ms/step - loss: 1.7328e-04 - mae: 0.0107 - val_loss: 3.0903e-04 - val_mae: 0.0125\n",
      "Epoch 24/100\n",
      "27/27 [==============================] - 1s 23ms/step - loss: 1.6981e-04 - mae: 0.0105 - val_loss: 2.9749e-04 - val_mae: 0.0123\n",
      "Epoch 25/100\n",
      "27/27 [==============================] - 1s 23ms/step - loss: 1.6333e-04 - mae: 0.0102 - val_loss: 2.7857e-04 - val_mae: 0.0117\n",
      "Epoch 26/100\n",
      "27/27 [==============================] - 1s 24ms/step - loss: 1.5038e-04 - mae: 0.0097 - val_loss: 2.1230e-04 - val_mae: 0.0114\n",
      "Epoch 27/100\n",
      "27/27 [==============================] - 1s 27ms/step - loss: 1.4352e-04 - mae: 0.0094 - val_loss: 2.2213e-04 - val_mae: 0.0102\n",
      "Epoch 28/100\n",
      "27/27 [==============================] - 1s 28ms/step - loss: 1.2065e-04 - mae: 0.0083 - val_loss: 3.2810e-04 - val_mae: 0.0139\n",
      "Epoch 29/100\n",
      "27/27 [==============================] - 1s 24ms/step - loss: 1.4068e-04 - mae: 0.0091 - val_loss: 4.3132e-04 - val_mae: 0.0159\n",
      "Epoch 30/100\n",
      "27/27 [==============================] - 1s 23ms/step - loss: 1.8687e-04 - mae: 0.0109 - val_loss: 2.1563e-04 - val_mae: 0.0108\n",
      "Epoch 31/100\n",
      "27/27 [==============================] - 1s 23ms/step - loss: 2.5437e-04 - mae: 0.0128 - val_loss: 3.1855e-04 - val_mae: 0.0143\n",
      "Epoch 32/100\n",
      "27/27 [==============================] - 1s 24ms/step - loss: 2.0736e-04 - mae: 0.0115 - val_loss: 1.8193e-04 - val_mae: 0.0093\n",
      "Epoch 33/100\n",
      "27/27 [==============================] - 1s 21ms/step - loss: 1.8080e-04 - mae: 0.0103 - val_loss: 2.8542e-04 - val_mae: 0.0117\n",
      "Epoch 34/100\n",
      "27/27 [==============================] - 1s 22ms/step - loss: 1.2914e-04 - mae: 0.0087 - val_loss: 1.6980e-04 - val_mae: 0.0103\n",
      "Epoch 35/100\n",
      "27/27 [==============================] - 1s 21ms/step - loss: 1.1384e-04 - mae: 0.0086 - val_loss: 2.1584e-04 - val_mae: 0.0106\n",
      "Epoch 36/100\n",
      "27/27 [==============================] - 1s 23ms/step - loss: 1.7028e-04 - mae: 0.0105 - val_loss: 3.3069e-04 - val_mae: 0.0129\n",
      "Epoch 37/100\n",
      "27/27 [==============================] - 1s 24ms/step - loss: 1.8096e-04 - mae: 0.0110 - val_loss: 3.0511e-04 - val_mae: 0.0129\n",
      "Epoch 38/100\n",
      "27/27 [==============================] - 1s 22ms/step - loss: 1.5859e-04 - mae: 0.0102 - val_loss: 2.9032e-04 - val_mae: 0.0131\n",
      "Epoch 39/100\n",
      "27/27 [==============================] - 1s 29ms/step - loss: 2.0703e-04 - mae: 0.0112 - val_loss: 1.5069e-04 - val_mae: 0.0103\n",
      "Epoch 40/100\n",
      "27/27 [==============================] - 1s 28ms/step - loss: 1.7370e-04 - mae: 0.0103 - val_loss: 1.9070e-04 - val_mae: 0.0102\n",
      "Epoch 41/100\n",
      "27/27 [==============================] - 1s 26ms/step - loss: 1.3039e-04 - mae: 0.0092 - val_loss: 2.0470e-04 - val_mae: 0.0108\n",
      "Epoch 42/100\n",
      "27/27 [==============================] - 1s 23ms/step - loss: 1.6900e-04 - mae: 0.0103 - val_loss: 2.9712e-04 - val_mae: 0.0143\n",
      "Epoch 43/100\n",
      "27/27 [==============================] - 1s 27ms/step - loss: 2.7093e-04 - mae: 0.0128 - val_loss: 2.1132e-04 - val_mae: 0.0107\n",
      "Epoch 44/100\n",
      "27/27 [==============================] - 1s 29ms/step - loss: 2.3729e-04 - mae: 0.0117 - val_loss: 2.2084e-04 - val_mae: 0.0115\n",
      "Epoch 45/100\n",
      "27/27 [==============================] - 1s 25ms/step - loss: 2.3094e-04 - mae: 0.0115 - val_loss: 2.6665e-04 - val_mae: 0.0132\n",
      "Epoch 46/100\n",
      "27/27 [==============================] - 1s 24ms/step - loss: 1.9569e-04 - mae: 0.0103 - val_loss: 1.9850e-04 - val_mae: 0.0113\n",
      "Epoch 47/100\n",
      "27/27 [==============================] - 1s 25ms/step - loss: 1.6706e-04 - mae: 0.0099 - val_loss: 2.6501e-04 - val_mae: 0.0118\n",
      "Epoch 48/100\n",
      "27/27 [==============================] - 1s 26ms/step - loss: 1.4245e-04 - mae: 0.0089 - val_loss: 2.0846e-04 - val_mae: 0.0107\n",
      "Epoch 49/100\n",
      "27/27 [==============================] - 1s 24ms/step - loss: 1.9804e-04 - mae: 0.0105 - val_loss: 2.0510e-04 - val_mae: 0.0117\n",
      "Epoch 50/100\n",
      "27/27 [==============================] - 1s 26ms/step - loss: 1.8351e-04 - mae: 0.0105 - val_loss: 2.6006e-04 - val_mae: 0.0130\n",
      "Epoch 51/100\n",
      "27/27 [==============================] - 1s 22ms/step - loss: 1.4588e-04 - mae: 0.0091 - val_loss: 1.5842e-04 - val_mae: 0.0092\n",
      "Epoch 52/100\n",
      "27/27 [==============================] - 1s 22ms/step - loss: 1.9122e-04 - mae: 0.0107 - val_loss: 1.8749e-04 - val_mae: 0.0108\n",
      "Epoch 53/100\n",
      "27/27 [==============================] - 1s 20ms/step - loss: 2.2168e-04 - mae: 0.0114 - val_loss: 2.0583e-04 - val_mae: 0.0110\n",
      "Epoch 54/100\n",
      "27/27 [==============================] - 1s 21ms/step - loss: 1.7946e-04 - mae: 0.0099 - val_loss: 1.9668e-04 - val_mae: 0.0103\n",
      "Epoch 55/100\n",
      "27/27 [==============================] - 1s 22ms/step - loss: 1.7227e-04 - mae: 0.0094 - val_loss: 3.0690e-04 - val_mae: 0.0134\n",
      "Epoch 56/100\n",
      "27/27 [==============================] - 1s 25ms/step - loss: 9.8909e-05 - mae: 0.0073 - val_loss: 2.5422e-04 - val_mae: 0.0124\n",
      "Epoch 57/100\n",
      "27/27 [==============================] - 1s 31ms/step - loss: 8.8057e-05 - mae: 0.0072 - val_loss: 1.9591e-04 - val_mae: 0.0106\n",
      "Epoch 58/100\n",
      "27/27 [==============================] - 1s 23ms/step - loss: 8.0072e-05 - mae: 0.0069 - val_loss: 1.7911e-04 - val_mae: 0.0106\n",
      "Epoch 59/100\n"
     ]
    },
    {
     "name": "stdout",
     "output_type": "stream",
     "text": [
      "27/27 [==============================] - 1s 27ms/step - loss: 9.1393e-05 - mae: 0.0073 - val_loss: 1.7185e-04 - val_mae: 0.0106\n",
      "Epoch 60/100\n",
      "27/27 [==============================] - 1s 29ms/step - loss: 1.0627e-04 - mae: 0.0078 - val_loss: 1.7897e-04 - val_mae: 0.0109\n",
      "Epoch 61/100\n",
      "27/27 [==============================] - 1s 29ms/step - loss: 1.0982e-04 - mae: 0.0079 - val_loss: 1.8429e-04 - val_mae: 0.0110\n",
      "Epoch 62/100\n",
      "27/27 [==============================] - 1s 30ms/step - loss: 1.0753e-04 - mae: 0.0078 - val_loss: 1.6241e-04 - val_mae: 0.0099\n",
      "Epoch 63/100\n",
      "27/27 [==============================] - 1s 29ms/step - loss: 1.1230e-04 - mae: 0.0079 - val_loss: 1.9114e-04 - val_mae: 0.0110\n",
      "Epoch 64/100\n",
      "27/27 [==============================] - 1s 37ms/step - loss: 1.1588e-04 - mae: 0.0081 - val_loss: 2.8172e-04 - val_mae: 0.0121\n",
      "Epoch 65/100\n",
      "27/27 [==============================] - 1s 37ms/step - loss: 8.2112e-05 - mae: 0.0067 - val_loss: 2.6892e-04 - val_mae: 0.0122\n",
      "Epoch 66/100\n",
      "27/27 [==============================] - 1s 36ms/step - loss: 7.4145e-05 - mae: 0.0064 - val_loss: 2.0959e-04 - val_mae: 0.0110\n",
      "Epoch 67/100\n",
      "27/27 [==============================] - 1s 35ms/step - loss: 9.9028e-05 - mae: 0.0074 - val_loss: 1.9421e-04 - val_mae: 0.0107\n",
      "Epoch 68/100\n",
      "27/27 [==============================] - 1s 33ms/step - loss: 1.2430e-04 - mae: 0.0083 - val_loss: 2.1270e-04 - val_mae: 0.0110\n",
      "Epoch 69/100\n",
      "27/27 [==============================] - 1s 35ms/step - loss: 1.1686e-04 - mae: 0.0080 - val_loss: 2.2240e-04 - val_mae: 0.0118\n",
      "Epoch 70/100\n",
      "27/27 [==============================] - 1s 37ms/step - loss: 1.0782e-04 - mae: 0.0079 - val_loss: 2.7682e-04 - val_mae: 0.0121\n",
      "Epoch 71/100\n",
      "27/27 [==============================] - 1s 31ms/step - loss: 1.0215e-04 - mae: 0.0078 - val_loss: 2.5094e-04 - val_mae: 0.0115\n",
      "Epoch 72/100\n",
      "27/27 [==============================] - 1s 31ms/step - loss: 1.3877e-04 - mae: 0.0091 - val_loss: 1.8964e-04 - val_mae: 0.0108\n",
      "Epoch 73/100\n",
      "27/27 [==============================] - 1s 34ms/step - loss: 1.4091e-04 - mae: 0.0092 - val_loss: 2.1911e-04 - val_mae: 0.0108\n",
      "Epoch 74/100\n",
      "27/27 [==============================] - 1s 35ms/step - loss: 1.6316e-04 - mae: 0.0097 - val_loss: 1.6124e-04 - val_mae: 0.0102\n",
      "Epoch 75/100\n",
      "27/27 [==============================] - 1s 36ms/step - loss: 1.1727e-04 - mae: 0.0080 - val_loss: 1.7214e-04 - val_mae: 0.0103\n",
      "Epoch 76/100\n",
      "27/27 [==============================] - 1s 35ms/step - loss: 1.2339e-04 - mae: 0.0088 - val_loss: 1.9032e-04 - val_mae: 0.0107\n",
      "Epoch 77/100\n",
      "27/27 [==============================] - 1s 35ms/step - loss: 1.1049e-04 - mae: 0.0084 - val_loss: 1.9893e-04 - val_mae: 0.0107\n",
      "Epoch 78/100\n",
      "27/27 [==============================] - 1s 36ms/step - loss: 1.1723e-04 - mae: 0.0084 - val_loss: 2.7104e-04 - val_mae: 0.0122\n",
      "Epoch 79/100\n",
      "27/27 [==============================] - 1s 35ms/step - loss: 9.9442e-05 - mae: 0.0075 - val_loss: 3.2718e-04 - val_mae: 0.0133\n",
      "Epoch 80/100\n",
      "27/27 [==============================] - 1s 35ms/step - loss: 6.9102e-05 - mae: 0.0062 - val_loss: 1.9800e-04 - val_mae: 0.0108\n",
      "Epoch 81/100\n",
      "27/27 [==============================] - 1s 38ms/step - loss: 9.1599e-05 - mae: 0.0071 - val_loss: 1.6559e-04 - val_mae: 0.0101\n",
      "Epoch 82/100\n",
      "27/27 [==============================] - 1s 35ms/step - loss: 9.1572e-05 - mae: 0.0073 - val_loss: 1.7174e-04 - val_mae: 0.0100\n",
      "Epoch 83/100\n",
      "27/27 [==============================] - 1s 36ms/step - loss: 8.3719e-05 - mae: 0.0071 - val_loss: 1.6227e-04 - val_mae: 0.0097\n",
      "Epoch 84/100\n",
      "27/27 [==============================] - 1s 35ms/step - loss: 9.7943e-05 - mae: 0.0076 - val_loss: 1.8538e-04 - val_mae: 0.0106\n",
      "Epoch 85/100\n",
      "27/27 [==============================] - 1s 39ms/step - loss: 1.0193e-04 - mae: 0.0078 - val_loss: 1.8330e-04 - val_mae: 0.0106\n",
      "Epoch 86/100\n",
      "27/27 [==============================] - 1s 38ms/step - loss: 9.3273e-05 - mae: 0.0075 - val_loss: 1.8600e-04 - val_mae: 0.0104\n",
      "Epoch 87/100\n",
      "27/27 [==============================] - 1s 39ms/step - loss: 9.1145e-05 - mae: 0.0072 - val_loss: 1.9051e-04 - val_mae: 0.0104\n",
      "Epoch 88/100\n",
      "27/27 [==============================] - 1s 40ms/step - loss: 1.0379e-04 - mae: 0.0077 - val_loss: 2.2888e-04 - val_mae: 0.0120\n",
      "Epoch 89/100\n",
      "27/27 [==============================] - 1s 38ms/step - loss: 9.8616e-05 - mae: 0.0073 - val_loss: 2.0111e-04 - val_mae: 0.0108\n",
      "Epoch 90/100\n",
      "27/27 [==============================] - 1s 40ms/step - loss: 1.1066e-04 - mae: 0.0078 - val_loss: 2.1111e-04 - val_mae: 0.0111\n",
      "Epoch 91/100\n",
      "27/27 [==============================] - 1s 39ms/step - loss: 1.0308e-04 - mae: 0.0076 - val_loss: 2.1237e-04 - val_mae: 0.0107\n",
      "Epoch 92/100\n",
      "27/27 [==============================] - 1s 39ms/step - loss: 1.1397e-04 - mae: 0.0080 - val_loss: 2.3503e-04 - val_mae: 0.0114\n",
      "Epoch 93/100\n",
      "27/27 [==============================] - 1s 36ms/step - loss: 9.5346e-05 - mae: 0.0075 - val_loss: 2.2295e-04 - val_mae: 0.0109\n",
      "Epoch 94/100\n",
      "27/27 [==============================] - 1s 36ms/step - loss: 1.0504e-04 - mae: 0.0078 - val_loss: 2.6170e-04 - val_mae: 0.0121\n",
      "Epoch 95/100\n",
      "27/27 [==============================] - 1s 36ms/step - loss: 1.0338e-04 - mae: 0.0078 - val_loss: 2.8303e-04 - val_mae: 0.0126\n",
      "Epoch 96/100\n",
      "27/27 [==============================] - 1s 38ms/step - loss: 9.0000e-05 - mae: 0.0071 - val_loss: 2.7683e-04 - val_mae: 0.0118\n",
      "Epoch 97/100\n",
      "27/27 [==============================] - 1s 37ms/step - loss: 8.3428e-05 - mae: 0.0067 - val_loss: 3.1511e-04 - val_mae: 0.0120\n",
      "Epoch 98/100\n",
      "27/27 [==============================] - 1s 37ms/step - loss: 6.8800e-05 - mae: 0.0061 - val_loss: 2.3998e-04 - val_mae: 0.0113\n",
      "Epoch 99/100\n",
      "27/27 [==============================] - 1s 36ms/step - loss: 8.6698e-05 - mae: 0.0067 - val_loss: 1.9519e-04 - val_mae: 0.0103\n",
      "Epoch 100/100\n",
      "27/27 [==============================] - 1s 39ms/step - loss: 7.0933e-05 - mae: 0.0063 - val_loss: 1.7492e-04 - val_mae: 0.0101\n",
      "CPU times: user 2min 44s, sys: 58.3 s, total: 3min 42s\n",
      "Wall time: 1min 16s\n"
     ]
    }
   ],
   "source": [
    "%%time\n",
    "\n",
    "es = EarlyStopping(  monitor='val_mae', patience = 50, restore_best_weights=True)\n",
    "\n",
    "\n",
    "model.compile(loss='mse', optimizer='adam', metrics=['mae'])\n",
    "\n",
    "history = model.fit(X_train, y_train ,\n",
    "          epochs=100, \n",
    "          batch_size=1, \n",
    "          verbose=1, \n",
    "          validation_split=0.2,\n",
    "          shuffle = False,\n",
    "          callbacks=[es]\n",
    "     )\n",
    "\n"
   ]
  },
  {
   "cell_type": "code",
   "execution_count": null,
   "id": "5e9727d4",
   "metadata": {},
   "outputs": [],
   "source": []
  },
  {
   "cell_type": "code",
   "execution_count": 26,
   "id": "da93a8b1",
   "metadata": {},
   "outputs": [],
   "source": [
    "df_merged_final_day = np.array(df_test_scaled)\n",
    "df_merged_final_day = np.expand_dims(df_merged_final_day, axis = 0)"
   ]
  },
  {
   "cell_type": "code",
   "execution_count": 27,
   "id": "e41b7b8d",
   "metadata": {},
   "outputs": [
    {
     "data": {
      "text/html": [
       "<div>\n",
       "<style scoped>\n",
       "    .dataframe tbody tr th:only-of-type {\n",
       "        vertical-align: middle;\n",
       "    }\n",
       "\n",
       "    .dataframe tbody tr th {\n",
       "        vertical-align: top;\n",
       "    }\n",
       "\n",
       "    .dataframe thead th {\n",
       "        text-align: right;\n",
       "    }\n",
       "</style>\n",
       "<table border=\"1\" class=\"dataframe\">\n",
       "  <thead>\n",
       "    <tr style=\"text-align: right;\">\n",
       "      <th></th>\n",
       "      <th>AFD</th>\n",
       "      <th>CDU</th>\n",
       "      <th>FDP</th>\n",
       "      <th>GRUENE</th>\n",
       "      <th>LINKE</th>\n",
       "      <th>OTHER</th>\n",
       "      <th>SPD</th>\n",
       "    </tr>\n",
       "  </thead>\n",
       "  <tbody>\n",
       "    <tr>\n",
       "      <th>2021-08-31</th>\n",
       "      <td>0.107</td>\n",
       "      <td>0.237</td>\n",
       "      <td>0.111</td>\n",
       "      <td>0.179</td>\n",
       "      <td>0.065</td>\n",
       "      <td>0.074</td>\n",
       "      <td>0.193</td>\n",
       "    </tr>\n",
       "  </tbody>\n",
       "</table>\n",
       "</div>"
      ],
      "text/plain": [
       "              AFD    CDU    FDP  GRUENE  LINKE  OTHER    SPD\n",
       "2021-08-31  0.107  0.237  0.111   0.179  0.065  0.074  0.193"
      ]
     },
     "execution_count": 27,
     "metadata": {},
     "output_type": "execute_result"
    }
   ],
   "source": [
    "df_prediction = pd.DataFrame(model.predict(df_merged_final_day)).rename( \\\n",
    "                        columns = {0:'AFD',1:'CDU',2:'FDP',3: 'GRUENE',4: 'LINKE', 5:'OTHER', 6: 'SPD'}).round(3)\n",
    "df_prediction.index = [df_real_true.index[0][0]]\n",
    "\n",
    "df_prediction"
   ]
  },
  {
   "cell_type": "code",
   "execution_count": null,
   "id": "8eb3d8e2",
   "metadata": {},
   "outputs": [],
   "source": [
    "df_merged_final_test.index"
   ]
  },
  {
   "cell_type": "code",
   "execution_count": null,
   "id": "11c04814",
   "metadata": {},
   "outputs": [],
   "source": [
    "df_prediction_2 = pd.DataFrame((df_prediction.iloc[0]) / np.sum(df_prediction.iloc[0])).T\n",
    "df_prediction_2 = df_prediction_2.round(2)"
   ]
  },
  {
   "cell_type": "code",
   "execution_count": null,
   "id": "dde5f254",
   "metadata": {
    "scrolled": true
   },
   "outputs": [],
   "source": [
    "df_prediction_2"
   ]
  },
  {
   "cell_type": "code",
   "execution_count": null,
   "id": "cc30b560",
   "metadata": {},
   "outputs": [],
   "source": [
    "df_prediction_2.to_csv(\"final_real_dataframe_for_philip.csv\")"
   ]
  },
  {
   "cell_type": "code",
   "execution_count": null,
   "id": "a7be0306",
   "metadata": {},
   "outputs": [],
   "source": [
    "df_true = pd.DataFrame(df_real_true[\"poll\"]).T/100"
   ]
  },
  {
   "cell_type": "code",
   "execution_count": null,
   "id": "64083bad",
   "metadata": {},
   "outputs": [],
   "source": [
    "df_true = pd.DataFrame(df_true.iloc[0]).reset_index().groupby(by = \"party\").mean().T"
   ]
  },
  {
   "cell_type": "code",
   "execution_count": null,
   "id": "ff76c491",
   "metadata": {},
   "outputs": [],
   "source": [
    "df_true"
   ]
  },
  {
   "cell_type": "code",
   "execution_count": null,
   "id": "1bd86a56",
   "metadata": {},
   "outputs": [],
   "source": []
  },
  {
   "cell_type": "code",
   "execution_count": null,
   "id": "32d63618",
   "metadata": {},
   "outputs": [],
   "source": [
    "df_plotting_spd = df_train_scaled.reset_index().loc[df_train_scaled.reset_index()[\"party\"] == \"SPD\"].drop(columns = \"party\")\\\n",
    "[[\"tweet_date\",\"share_of_tweets\", \"weighted_sentiment\", \"share_of_positive_tweets\", \"share_of_negative_tweets\", \"poll\"]]\n",
    "df_plotting_cdu = df_train_scaled.reset_index().loc[df_train_scaled.reset_index()[\"party\"] == \"CDU\"].drop(columns = \"party\")\\\n",
    "[[\"tweet_date\",\"share_of_tweets\", \"weighted_sentiment\", \"share_of_positive_tweets\", \"share_of_negative_tweets\", \"poll\"]]\n"
   ]
  },
  {
   "cell_type": "code",
   "execution_count": null,
   "id": "6914ca69",
   "metadata": {},
   "outputs": [],
   "source": [
    "sns.set(rc={'figure.figsize':(15,10)})\n",
    "\n",
    "new_df = df_plotting_spd.melt(id_vars='tweet_date', \n",
    "                 value_name='val', \n",
    "                 var_name='type')\n",
    "\n",
    "sns.lineplot(x='tweet_date', y='val', hue='type', data=new_df)"
   ]
  },
  {
   "cell_type": "code",
   "execution_count": null,
   "id": "67c44d1a",
   "metadata": {},
   "outputs": [],
   "source": [
    "new_df = df_plotting_cdu.melt(id_vars='tweet_date', \n",
    "                 value_name='val', \n",
    "                 var_name='type')\n",
    "\n",
    "sns.lineplot(x='tweet_date', y='val', hue='type', data=new_df)"
   ]
  },
  {
   "cell_type": "code",
   "execution_count": null,
   "id": "5050f624",
   "metadata": {},
   "outputs": [],
   "source": [
    "df_merged_final_test"
   ]
  },
  {
   "cell_type": "code",
   "execution_count": null,
   "id": "4a8e56fe",
   "metadata": {},
   "outputs": [],
   "source": [
    "5+5"
   ]
  },
  {
   "cell_type": "code",
   "execution_count": null,
   "id": "b6b16f22",
   "metadata": {},
   "outputs": [],
   "source": []
  }
 ],
 "metadata": {
  "kernelspec": {
   "display_name": "Python 3 (ipykernel)",
   "language": "python",
   "name": "python3"
  },
  "language_info": {
   "codemirror_mode": {
    "name": "ipython",
    "version": 3
   },
   "file_extension": ".py",
   "mimetype": "text/x-python",
   "name": "python",
   "nbconvert_exporter": "python",
   "pygments_lexer": "ipython3",
   "version": "3.8.6"
  },
  "toc": {
   "base_numbering": 1,
   "nav_menu": {},
   "number_sections": true,
   "sideBar": true,
   "skip_h1_title": false,
   "title_cell": "Table of Contents",
   "title_sidebar": "Contents",
   "toc_cell": false,
   "toc_position": {},
   "toc_section_display": true,
   "toc_window_display": false
  }
 },
 "nbformat": 4,
 "nbformat_minor": 5
}
